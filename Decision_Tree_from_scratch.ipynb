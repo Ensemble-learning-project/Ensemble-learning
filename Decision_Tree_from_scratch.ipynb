{
  "nbformat": 4,
  "nbformat_minor": 0,
  "metadata": {
    "colab": {
      "provenance": []
    },
    "kernelspec": {
      "name": "python3",
      "display_name": "Python 3"
    },
    "language_info": {
      "name": "python"
    }
  },
  "cells": [
    {
      "cell_type": "markdown",
      "source": [
        "To implement a Decision Tree from scratch in Python using pandas and numpy, we'll start by defining a class DecisionTree and its associated methods. This implementation will support both classification and regression tasks, which will be determined by the task parameter when creating an instance of the Decision Tree."
      ],
      "metadata": {
        "id": "cdzsUTBPg2Jp"
      }
    },
    {
      "cell_type": "code",
      "source": [
        "import numpy as np\n",
        "import pandas as pd\n",
        "\n",
        "class DecisionNode:\n",
        "    def __init__(self, feature=None, threshold=None, value=None, left=None, right=None):\n",
        "        self.feature = feature\n",
        "        self.threshold = threshold\n",
        "        self.value = value\n",
        "        self.left = left\n",
        "        self.right = right\n",
        "\n",
        "class DecisionTree:\n",
        "    def __init__(self, task='classification', min_samples_split=2, max_depth=None):\n",
        "        self.task = task\n",
        "        self.min_samples_split = min_samples_split\n",
        "        self.max_depth = max_depth\n",
        "        self.root = None\n",
        "\n",
        "    def _split(self, X, y, feature, threshold):\n",
        "        mask = X[:, feature] <= threshold\n",
        "        return X[mask], y[mask], X[~mask], y[~mask]\n",
        "\n",
        "    def _calculate_impurity(self, y):\n",
        "        if self.task == 'classification':\n",
        "            _, counts = np.unique(y, return_counts=True)\n",
        "            probabilities = counts / y.shape[0]\n",
        "            return 1 - np.sum(probabilities ** 2)\n",
        "        else:  # regression\n",
        "            return np.var(y)\n",
        "\n",
        "    def _calculate_information_gain(self, y, left_y, right_y):\n",
        "        parent_impurity = self._calculate_impurity(y)\n",
        "        left_impurity = self._calculate_impurity(left_y)\n",
        "        right_impurity = self._calculate_impurity(right_y)\n",
        "        return parent_impurity - len(left_y) / len(y) * left_impurity - len(right_y) / len(y) * right_impurity\n",
        "\n",
        "    def _find_best_split(self, X, y):\n",
        "        best_gain = -np.inf\n",
        "        best_feature = None\n",
        "        best_threshold = None\n",
        "\n",
        "        for feature in range(X.shape[1]):\n",
        "            for threshold in np.unique(X[:, feature]):\n",
        "                left_y, right_y = self._split(X, y, feature, threshold)[1::2]\n",
        "                if len(left_y) == 0 or len(right_y) == 0:\n",
        "                    continue\n",
        "                gain = self._calculate_information_gain(y, left_y, right_y)\n",
        "                if gain > best_gain:\n",
        "                    best_gain = gain\n",
        "                    best_feature = feature\n",
        "                    best_threshold = threshold\n",
        "\n",
        "        return best_feature, best_threshold\n",
        "\n",
        "    def _build_tree(self, X, y, depth=0):\n",
        "        if len(y) < self.min_samples_split or (self.max_depth is not None and depth == self.max_depth):\n",
        "            if self.task == 'classification':\n",
        "                return DecisionNode(value=np.argmax(np.bincount(y)))\n",
        "            else:  # regression\n",
        "                return DecisionNode(value=np.mean(y))\n",
        "\n",
        "        feature, threshold = self._find_best_split(X, y)\n",
        "        if feature is None:\n",
        "            if self.task == 'classification':\n",
        "                return DecisionNode(value=np.argmax(np.bincount(y)))\n",
        "            else:  # regression\n",
        "                return DecisionNode(value=np.mean(y))\n",
        "\n",
        "        left_X, left_y, right_X, right_y = self._split(X, y, feature, threshold)\n",
        "        left = self._build_tree(left_X, left_y, depth + 1)\n",
        "        right = self._build_tree(right_X, right_y, depth + 1)\n",
        "        return DecisionNode(feature=feature, threshold=threshold, left=left, right=right)\n",
        "\n",
        "    def fit(self, X, y):\n",
        "        self.root = self._build_tree(X, y)\n",
        "       \n"
      ],
      "metadata": {
        "id": "pkKHY9m8g2oh"
      },
      "execution_count": 1,
      "outputs": []
    }
  ]
}