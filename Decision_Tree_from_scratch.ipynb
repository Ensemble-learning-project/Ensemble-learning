{
  "nbformat": 4,
  "nbformat_minor": 0,
  "metadata": {
    "colab": {
      "provenance": []
    },
    "kernelspec": {
      "name": "python3",
      "display_name": "Python 3"
    },
    "language_info": {
      "name": "python"
    }
  },
  "cells": [
    {
      "cell_type": "markdown",
      "source": [
        "To implement a Decision Tree from scratch in Python using pandas and numpy, we'll start by defining a class DecisionTree and its associated methods. This implementation will support both classification and regression tasks, which will be determined by the task parameter when creating an instance of the Decision Tree."
      ],
      "metadata": {
        "id": "cdzsUTBPg2Jp"
      }
    },
    {
      "cell_type": "code",
      "source": [
        "import numpy as np\n",
        "import pandas as pd\n",
        "\n",
        "class DecisionNode:\n",
        "    def __init__(self, feature=None, threshold=None, value=None, left=None, right=None):\n",
        "        self.feature = feature\n",
        "        self.threshold = threshold\n",
        "        self.value = value\n",
        "        self.left = left\n",
        "        self.right = right\n",
        "\n",
        "class DecisionTree:\n",
        "    def __init__(self, task='classification', min_samples_split=2, max_depth=None):\n",
        "        self.task = task\n",
        "        self.min_samples_split = min_samples_split\n",
        "        self.max_depth = max_depth\n",
        "        self.root = None\n",
        "\n",
        "    def _split(self, X, y, feature, threshold):\n",
        "        mask = X[:, feature] <= threshold\n",
        "        return X[mask], y[mask], X[~mask], y[~mask]\n",
        "\n",
        "    def _calculate_impurity(self, y):\n",
        "        if self.task == 'classification':\n",
        "            _, counts = np.unique(y, return_counts=True)\n",
        "            probabilities = counts / y.shape[0]\n",
        "            return 1 - np.sum(probabilities ** 2)\n",
        "        else:  # regression\n",
        "            return np.var(y)\n",
        "\n",
        "    def _calculate_information_gain(self, y, left_y, right_y):\n",
        "        parent_impurity = self._calculate_impurity(y)\n",
        "        left_impurity = self._calculate_impurity(left_y)\n",
        "        right_impurity = self._calculate_impurity(right_y)\n",
        "        return parent_impurity - len(left_y) / len(y) * left_impurity - len(right_y) / len(y) * right_impurity\n",
        "\n",
        "    def _find_best_split(self, X, y):\n",
        "        best_gain = -np.inf\n",
        "        best_feature = None\n",
        "        best_threshold = None\n",
        "\n",
        "        for feature in range(X.shape[1]):\n",
        "            for threshold in np.unique(X[:, feature]):\n",
        "                left_y, right_y = self._split(X, y, feature, threshold)[1::2]\n",
        "                if len(left_y) == 0 or len(right_y) == 0:\n",
        "                    continue\n",
        "                gain = self._calculate_information_gain(y, left_y, right_y)\n",
        "                if gain > best_gain:\n",
        "                    best_gain = gain\n",
        "                    best_feature = feature\n",
        "                    best_threshold = threshold\n",
        "\n",
        "        return best_feature, best_threshold\n",
        "\n",
        "    def _build_tree(self, X, y, depth=0):\n",
        "        if len(y) < self.min_samples_split or (self.max_depth is not None and depth == self.max_depth):\n",
        "            if self.task == 'classification':\n",
        "                return DecisionNode(value=np.argmax(np.bincount(y)))\n",
        "            else:  # regression\n",
        "                return DecisionNode(value=np.mean(y))\n",
        "\n",
        "        feature, threshold = self._find_best_split(X, y)\n",
        "        if feature is None:\n",
        "            if self.task == 'classification':\n",
        "                return DecisionNode(value=np.argmax(np.bincount(y)))\n",
        "            else:  # regression\n",
        "                return DecisionNode(value=np.mean(y))\n",
        "\n",
        "        left_X, left_y, right_X, right_y = self._split(X, y, feature, threshold)\n",
        "        left = self._build_tree(left_X, left_y, depth + 1)\n",
        "        right = self._build_tree(right_X, right_y, depth + 1)\n",
        "        return DecisionNode(feature=feature, threshold=threshold, left=left, right=right)\n",
        "\n",
        "    def fit(self, X, y):\n",
        "        self.root = self._build_tree(X, y)\n",
        "\n",
        "    def _predict_sample(self, x, node=None):\n",
        "        if node is None:\n",
        "            node = self.root\n",
        "\n",
        "        if node.value is not None:\n",
        "            return node.value\n",
        "\n",
        "        if x[node.feature] <= node.threshold:\n",
        "            return self._predict_sample(x, node.left)\n",
        "        else:\n",
        "            return self._predict_sample(x, node.right)\n",
        "\n",
        "    def predict(self, X):\n",
        "        return np.array([self._predict_sample(x) for x in X])\n",
        "        if node is None:\n",
        "            node = self.root\n",
        "\n",
        "        if node.value is not None:\n",
        "            return node.value\n",
        "\n",
        "        if x[node.feature] <= node.threshold:\n",
        "            return self._predict_sample(x, node.left)\n",
        "        else:\n",
        "            return self._predict_sample(x, node.right)\n",
        "\n",
        "    def predict(self, X):\n",
        "        return np.array([self._predict_sample(x) for x in X])\n",
        "\n"
      ],
      "metadata": {
        "id": "pkKHY9m8g2oh"
      },
      "execution_count": 3,
      "outputs": []
    },
    {
      "cell_type": "code",
      "source": [
        "# Usage example\n",
        "if __name__ == '__main__':\n",
        "    from sklearn.datasets import load_iris\n",
        "    from sklearn.model_selection import train_test_split\n",
        "    from sklearn.metrics import accuracy_score, mean_squared_error\n",
        "\n",
        "    # Classification\n",
        "    data = load_iris()\n",
        "    X, y = data.data, data.target\n",
        "    X_train, X_test, y_train, y_test = train_test_split(X, y, test_size=0.2, random_state=42)\n",
        "\n",
        "    tree = DecisionTree(task='classification', min_samples_split=5, max_depth=3)\n",
        "    tree.fit(X_train, y_train)\n",
        "    y_pred = tree.predict(X_test)\n",
        "    print(\"Classification accuracy:\", accuracy_score(y_test, y_pred))\n",
        "\n",
        "    # Regression\n",
        "    from sklearn.datasets import load_boston\n",
        "\n",
        "    data = load_boston()\n",
        "    X, y = data.data, data.target\n",
        "    X_train, X_test, y_train, y_test = train_test_split(X, y, test_size=0.2, random_state=42)\n",
        "\n",
        "    tree = DecisionTree(task='regression', min_samples_split=10, max_depth=5)\n",
        "    tree.fit(X_train, y_train)\n",
        "    y_pred = tree.predict(X_test)\n",
        "    print(\"Regression mean squared error:\", mean_squared_error(y_test, y_pred))"
      ],
      "metadata": {
        "colab": {
          "base_uri": "https://localhost:8080/",
          "height": 1000
        },
        "id": "El-vZ8URi77i",
        "outputId": "ecd3d1e0-ab0e-460a-ae65-513bbedff210"
      },
      "execution_count": 4,
      "outputs": [
        {
          "output_type": "stream",
          "name": "stdout",
          "text": [
            "Classification accuracy: 1.0\n"
          ]
        },
        {
          "output_type": "error",
          "ename": "ImportError",
          "evalue": "ignored",
          "traceback": [
            "\u001b[0;31m---------------------------------------------------------------------------\u001b[0m",
            "\u001b[0;31mImportError\u001b[0m                               Traceback (most recent call last)",
            "\u001b[0;32m<ipython-input-4-ca4ecea0d0e9>\u001b[0m in \u001b[0;36m<module>\u001b[0;34m\u001b[0m\n\u001b[1;32m     16\u001b[0m \u001b[0;34m\u001b[0m\u001b[0m\n\u001b[1;32m     17\u001b[0m     \u001b[0;31m# Regression\u001b[0m\u001b[0;34m\u001b[0m\u001b[0;34m\u001b[0m\u001b[0m\n\u001b[0;32m---> 18\u001b[0;31m     \u001b[0;32mfrom\u001b[0m \u001b[0msklearn\u001b[0m\u001b[0;34m.\u001b[0m\u001b[0mdatasets\u001b[0m \u001b[0;32mimport\u001b[0m \u001b[0mload_boston\u001b[0m\u001b[0;34m\u001b[0m\u001b[0;34m\u001b[0m\u001b[0m\n\u001b[0m\u001b[1;32m     19\u001b[0m \u001b[0;34m\u001b[0m\u001b[0m\n\u001b[1;32m     20\u001b[0m     \u001b[0mdata\u001b[0m \u001b[0;34m=\u001b[0m \u001b[0mload_boston\u001b[0m\u001b[0;34m(\u001b[0m\u001b[0;34m)\u001b[0m\u001b[0;34m\u001b[0m\u001b[0;34m\u001b[0m\u001b[0m\n",
            "\u001b[0;32m/usr/local/lib/python3.9/dist-packages/sklearn/datasets/__init__.py\u001b[0m in \u001b[0;36m__getattr__\u001b[0;34m(name)\u001b[0m\n\u001b[1;32m    154\u001b[0m             \"\"\"\n\u001b[1;32m    155\u001b[0m         )\n\u001b[0;32m--> 156\u001b[0;31m         \u001b[0;32mraise\u001b[0m \u001b[0mImportError\u001b[0m\u001b[0;34m(\u001b[0m\u001b[0mmsg\u001b[0m\u001b[0;34m)\u001b[0m\u001b[0;34m\u001b[0m\u001b[0;34m\u001b[0m\u001b[0m\n\u001b[0m\u001b[1;32m    157\u001b[0m     \u001b[0;32mtry\u001b[0m\u001b[0;34m:\u001b[0m\u001b[0;34m\u001b[0m\u001b[0;34m\u001b[0m\u001b[0m\n\u001b[1;32m    158\u001b[0m         \u001b[0;32mreturn\u001b[0m \u001b[0mglobals\u001b[0m\u001b[0;34m(\u001b[0m\u001b[0;34m)\u001b[0m\u001b[0;34m[\u001b[0m\u001b[0mname\u001b[0m\u001b[0;34m]\u001b[0m\u001b[0;34m\u001b[0m\u001b[0;34m\u001b[0m\u001b[0m\n",
            "\u001b[0;31mImportError\u001b[0m: \n`load_boston` has been removed from scikit-learn since version 1.2.\n\nThe Boston housing prices dataset has an ethical problem: as\ninvestigated in [1], the authors of this dataset engineered a\nnon-invertible variable \"B\" assuming that racial self-segregation had a\npositive impact on house prices [2]. Furthermore the goal of the\nresearch that led to the creation of this dataset was to study the\nimpact of air quality but it did not give adequate demonstration of the\nvalidity of this assumption.\n\nThe scikit-learn maintainers therefore strongly discourage the use of\nthis dataset unless the purpose of the code is to study and educate\nabout ethical issues in data science and machine learning.\n\nIn this special case, you can fetch the dataset from the original\nsource::\n\n    import pandas as pd\n    import numpy as np\n\n    data_url = \"http://lib.stat.cmu.edu/datasets/boston\"\n    raw_df = pd.read_csv(data_url, sep=\"\\s+\", skiprows=22, header=None)\n    data = np.hstack([raw_df.values[::2, :], raw_df.values[1::2, :2]])\n    target = raw_df.values[1::2, 2]\n\nAlternative datasets include the California housing dataset and the\nAmes housing dataset. You can load the datasets as follows::\n\n    from sklearn.datasets import fetch_california_housing\n    housing = fetch_california_housing()\n\nfor the California housing dataset and::\n\n    from sklearn.datasets import fetch_openml\n    housing = fetch_openml(name=\"house_prices\", as_frame=True)\n\nfor the Ames housing dataset.\n\n[1] M Carlisle.\n\"Racist data destruction?\"\n<https://medium.com/@docintangible/racist-data-destruction-113e3eff54a8>\n\n[2] Harrison Jr, David, and Daniel L. Rubinfeld.\n\"Hedonic housing prices and the demand for clean air.\"\nJournal of environmental economics and management 5.1 (1978): 81-102.\n<https://www.researchgate.net/publication/4974606_Hedonic_housing_prices_and_the_demand_for_clean_air>\n",
            "",
            "\u001b[0;31m---------------------------------------------------------------------------\u001b[0;32m\nNOTE: If your import is failing due to a missing package, you can\nmanually install dependencies using either !pip or !apt.\n\nTo view examples of installing some common dependencies, click the\n\"Open Examples\" button below.\n\u001b[0;31m---------------------------------------------------------------------------\u001b[0m\n"
          ],
          "errorDetails": {
            "actions": [
              {
                "action": "open_url",
                "actionText": "Open Examples",
                "url": "/notebooks/snippets/importing_libraries.ipynb"
              }
            ]
          }
        }
      ]
    },
    {
      "cell_type": "code",
      "source": [],
      "metadata": {
        "id": "eb2b3RXKjPM4"
      },
      "execution_count": null,
      "outputs": []
    },
    {
      "cell_type": "code",
      "source": [],
      "metadata": {
        "id": "2M8Eihh7iNfR"
      },
      "execution_count": null,
      "outputs": []
    }
  ]
}