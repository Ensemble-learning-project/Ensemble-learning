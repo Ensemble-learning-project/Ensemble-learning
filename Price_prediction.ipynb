{
  "metadata": {
    "kernelspec": {
      "language": "python",
      "display_name": "Python 3",
      "name": "python3"
    },
    "language_info": {
      "name": "python",
      "version": "3.7.12",
      "mimetype": "text/x-python",
      "codemirror_mode": {
        "name": "ipython",
        "version": 3
      },
      "pygments_lexer": "ipython3",
      "nbconvert_exporter": "python",
      "file_extension": ".py"
    },
    "colab": {
      "provenance": [],
      "collapsed_sections": [
        "ElBJZBfxgUb0",
        "MG7aGz50gUb1",
        "PbZmkn4-gUb2"
      ]
    }
  },
  "nbformat_minor": 0,
  "nbformat": 4,
  "cells": [
    {
      "cell_type": "code",
      "source": [
        "import numpy as np\n",
        "import pandas as pd \n",
        "import seaborn as sns\n",
        "import matplotlib.pyplot as plt\n"
      ],
      "metadata": {
        "_uuid": "8f2839f25d086af736a60e9eeb907d3b93b6e0e5",
        "_cell_guid": "b1076dfc-b9ad-4769-8c92-a6c4dae69d19",
        "execution": {
          "iopub.status.busy": "2022-08-02T09:02:56.700901Z",
          "iopub.execute_input": "2022-08-02T09:02:56.701558Z",
          "iopub.status.idle": "2022-08-02T09:02:56.712940Z",
          "shell.execute_reply.started": "2022-08-02T09:02:56.701506Z",
          "shell.execute_reply": "2022-08-02T09:02:56.711989Z"
        },
        "trusted": true,
        "id": "zfzW9qnAgUbl"
      },
      "execution_count": 1,
      "outputs": []
    },
    {
      "cell_type": "markdown",
      "source": [
        "# Importing Data and Packages"
      ],
      "metadata": {
        "id": "Jz-dIMpUgUbp"
      }
    },
    {
      "cell_type": "code",
      "source": [
        "import os\n",
        "n_cpu = os.cpu_count()\n",
        "n_thread = n_cpu*2\n"
      ],
      "metadata": {
        "execution": {
          "iopub.status.busy": "2022-08-02T09:02:56.714138Z",
          "iopub.execute_input": "2022-08-02T09:02:56.715000Z",
          "iopub.status.idle": "2022-08-02T09:02:56.721681Z",
          "shell.execute_reply.started": "2022-08-02T09:02:56.714964Z",
          "shell.execute_reply": "2022-08-02T09:02:56.720346Z"
        },
        "trusted": true,
        "id": "Zx5LcvG6gUbr"
      },
      "execution_count": null,
      "outputs": []
    },
    {
      "cell_type": "code",
      "source": [
        " df =pd.read_csv('AB_NYC_2019.csv')"
      ],
      "metadata": {
        "execution": {
          "iopub.status.busy": "2022-08-02T09:02:56.723274Z",
          "iopub.execute_input": "2022-08-02T09:02:56.723958Z",
          "iopub.status.idle": "2022-08-02T09:02:56.894511Z",
          "shell.execute_reply.started": "2022-08-02T09:02:56.723893Z",
          "shell.execute_reply": "2022-08-02T09:02:56.893353Z"
        },
        "trusted": true,
        "id": "lsApugm4gUbr"
      },
      "execution_count": null,
      "outputs": []
    },
    {
      "cell_type": "code",
      "source": [
        "df.head()"
      ],
      "metadata": {
        "execution": {
          "iopub.status.busy": "2022-08-02T09:02:56.895727Z",
          "iopub.execute_input": "2022-08-02T09:02:56.896069Z",
          "iopub.status.idle": "2022-08-02T09:02:56.915527Z",
          "shell.execute_reply.started": "2022-08-02T09:02:56.896040Z",
          "shell.execute_reply": "2022-08-02T09:02:56.914521Z"
        },
        "trusted": true,
        "colab": {
          "base_uri": "https://localhost:8080/",
          "height": 461
        },
        "id": "U5i8cRM_gUbs",
        "outputId": "bfc0179f-6d69-4b59-8125-eb63a0aa2c12"
      },
      "execution_count": null,
      "outputs": [
        {
          "output_type": "execute_result",
          "data": {
            "text/plain": [
              "     id                                              name  host_id  \\\n",
              "0  2539                Clean & quiet apt home by the park     2787   \n",
              "1  2595                             Skylit Midtown Castle     2845   \n",
              "2  3647               THE VILLAGE OF HARLEM....NEW YORK !     4632   \n",
              "3  3831                   Cozy Entire Floor of Brownstone     4869   \n",
              "4  5022  Entire Apt: Spacious Studio/Loft by central park     7192   \n",
              "\n",
              "     host_name neighbourhood_group neighbourhood  latitude  longitude  \\\n",
              "0         John            Brooklyn    Kensington  40.64749  -73.97237   \n",
              "1     Jennifer           Manhattan       Midtown  40.75362  -73.98377   \n",
              "2    Elisabeth           Manhattan        Harlem  40.80902  -73.94190   \n",
              "3  LisaRoxanne            Brooklyn  Clinton Hill  40.68514  -73.95976   \n",
              "4        Laura           Manhattan   East Harlem  40.79851  -73.94399   \n",
              "\n",
              "         room_type  price  minimum_nights  number_of_reviews last_review  \\\n",
              "0     Private room    149               1                  9  2018-10-19   \n",
              "1  Entire home/apt    225               1                 45  2019-05-21   \n",
              "2     Private room    150               3                  0         NaN   \n",
              "3  Entire home/apt     89               1                270  2019-07-05   \n",
              "4  Entire home/apt     80              10                  9  2018-11-19   \n",
              "\n",
              "   reviews_per_month  calculated_host_listings_count  availability_365  \n",
              "0               0.21                               6               365  \n",
              "1               0.38                               2               355  \n",
              "2                NaN                               1               365  \n",
              "3               4.64                               1               194  \n",
              "4               0.10                               1                 0  "
            ],
            "text/html": [
              "\n",
              "  <div id=\"df-ba619428-967b-4b49-af30-5e24f1cfa5bf\">\n",
              "    <div class=\"colab-df-container\">\n",
              "      <div>\n",
              "<style scoped>\n",
              "    .dataframe tbody tr th:only-of-type {\n",
              "        vertical-align: middle;\n",
              "    }\n",
              "\n",
              "    .dataframe tbody tr th {\n",
              "        vertical-align: top;\n",
              "    }\n",
              "\n",
              "    .dataframe thead th {\n",
              "        text-align: right;\n",
              "    }\n",
              "</style>\n",
              "<table border=\"1\" class=\"dataframe\">\n",
              "  <thead>\n",
              "    <tr style=\"text-align: right;\">\n",
              "      <th></th>\n",
              "      <th>id</th>\n",
              "      <th>name</th>\n",
              "      <th>host_id</th>\n",
              "      <th>host_name</th>\n",
              "      <th>neighbourhood_group</th>\n",
              "      <th>neighbourhood</th>\n",
              "      <th>latitude</th>\n",
              "      <th>longitude</th>\n",
              "      <th>room_type</th>\n",
              "      <th>price</th>\n",
              "      <th>minimum_nights</th>\n",
              "      <th>number_of_reviews</th>\n",
              "      <th>last_review</th>\n",
              "      <th>reviews_per_month</th>\n",
              "      <th>calculated_host_listings_count</th>\n",
              "      <th>availability_365</th>\n",
              "    </tr>\n",
              "  </thead>\n",
              "  <tbody>\n",
              "    <tr>\n",
              "      <th>0</th>\n",
              "      <td>2539</td>\n",
              "      <td>Clean &amp; quiet apt home by the park</td>\n",
              "      <td>2787</td>\n",
              "      <td>John</td>\n",
              "      <td>Brooklyn</td>\n",
              "      <td>Kensington</td>\n",
              "      <td>40.64749</td>\n",
              "      <td>-73.97237</td>\n",
              "      <td>Private room</td>\n",
              "      <td>149</td>\n",
              "      <td>1</td>\n",
              "      <td>9</td>\n",
              "      <td>2018-10-19</td>\n",
              "      <td>0.21</td>\n",
              "      <td>6</td>\n",
              "      <td>365</td>\n",
              "    </tr>\n",
              "    <tr>\n",
              "      <th>1</th>\n",
              "      <td>2595</td>\n",
              "      <td>Skylit Midtown Castle</td>\n",
              "      <td>2845</td>\n",
              "      <td>Jennifer</td>\n",
              "      <td>Manhattan</td>\n",
              "      <td>Midtown</td>\n",
              "      <td>40.75362</td>\n",
              "      <td>-73.98377</td>\n",
              "      <td>Entire home/apt</td>\n",
              "      <td>225</td>\n",
              "      <td>1</td>\n",
              "      <td>45</td>\n",
              "      <td>2019-05-21</td>\n",
              "      <td>0.38</td>\n",
              "      <td>2</td>\n",
              "      <td>355</td>\n",
              "    </tr>\n",
              "    <tr>\n",
              "      <th>2</th>\n",
              "      <td>3647</td>\n",
              "      <td>THE VILLAGE OF HARLEM....NEW YORK !</td>\n",
              "      <td>4632</td>\n",
              "      <td>Elisabeth</td>\n",
              "      <td>Manhattan</td>\n",
              "      <td>Harlem</td>\n",
              "      <td>40.80902</td>\n",
              "      <td>-73.94190</td>\n",
              "      <td>Private room</td>\n",
              "      <td>150</td>\n",
              "      <td>3</td>\n",
              "      <td>0</td>\n",
              "      <td>NaN</td>\n",
              "      <td>NaN</td>\n",
              "      <td>1</td>\n",
              "      <td>365</td>\n",
              "    </tr>\n",
              "    <tr>\n",
              "      <th>3</th>\n",
              "      <td>3831</td>\n",
              "      <td>Cozy Entire Floor of Brownstone</td>\n",
              "      <td>4869</td>\n",
              "      <td>LisaRoxanne</td>\n",
              "      <td>Brooklyn</td>\n",
              "      <td>Clinton Hill</td>\n",
              "      <td>40.68514</td>\n",
              "      <td>-73.95976</td>\n",
              "      <td>Entire home/apt</td>\n",
              "      <td>89</td>\n",
              "      <td>1</td>\n",
              "      <td>270</td>\n",
              "      <td>2019-07-05</td>\n",
              "      <td>4.64</td>\n",
              "      <td>1</td>\n",
              "      <td>194</td>\n",
              "    </tr>\n",
              "    <tr>\n",
              "      <th>4</th>\n",
              "      <td>5022</td>\n",
              "      <td>Entire Apt: Spacious Studio/Loft by central park</td>\n",
              "      <td>7192</td>\n",
              "      <td>Laura</td>\n",
              "      <td>Manhattan</td>\n",
              "      <td>East Harlem</td>\n",
              "      <td>40.79851</td>\n",
              "      <td>-73.94399</td>\n",
              "      <td>Entire home/apt</td>\n",
              "      <td>80</td>\n",
              "      <td>10</td>\n",
              "      <td>9</td>\n",
              "      <td>2018-11-19</td>\n",
              "      <td>0.10</td>\n",
              "      <td>1</td>\n",
              "      <td>0</td>\n",
              "    </tr>\n",
              "  </tbody>\n",
              "</table>\n",
              "</div>\n",
              "      <button class=\"colab-df-convert\" onclick=\"convertToInteractive('df-ba619428-967b-4b49-af30-5e24f1cfa5bf')\"\n",
              "              title=\"Convert this dataframe to an interactive table.\"\n",
              "              style=\"display:none;\">\n",
              "        \n",
              "  <svg xmlns=\"http://www.w3.org/2000/svg\" height=\"24px\"viewBox=\"0 0 24 24\"\n",
              "       width=\"24px\">\n",
              "    <path d=\"M0 0h24v24H0V0z\" fill=\"none\"/>\n",
              "    <path d=\"M18.56 5.44l.94 2.06.94-2.06 2.06-.94-2.06-.94-.94-2.06-.94 2.06-2.06.94zm-11 1L8.5 8.5l.94-2.06 2.06-.94-2.06-.94L8.5 2.5l-.94 2.06-2.06.94zm10 10l.94 2.06.94-2.06 2.06-.94-2.06-.94-.94-2.06-.94 2.06-2.06.94z\"/><path d=\"M17.41 7.96l-1.37-1.37c-.4-.4-.92-.59-1.43-.59-.52 0-1.04.2-1.43.59L10.3 9.45l-7.72 7.72c-.78.78-.78 2.05 0 2.83L4 21.41c.39.39.9.59 1.41.59.51 0 1.02-.2 1.41-.59l7.78-7.78 2.81-2.81c.8-.78.8-2.07 0-2.86zM5.41 20L4 18.59l7.72-7.72 1.47 1.35L5.41 20z\"/>\n",
              "  </svg>\n",
              "      </button>\n",
              "      \n",
              "  <style>\n",
              "    .colab-df-container {\n",
              "      display:flex;\n",
              "      flex-wrap:wrap;\n",
              "      gap: 12px;\n",
              "    }\n",
              "\n",
              "    .colab-df-convert {\n",
              "      background-color: #E8F0FE;\n",
              "      border: none;\n",
              "      border-radius: 50%;\n",
              "      cursor: pointer;\n",
              "      display: none;\n",
              "      fill: #1967D2;\n",
              "      height: 32px;\n",
              "      padding: 0 0 0 0;\n",
              "      width: 32px;\n",
              "    }\n",
              "\n",
              "    .colab-df-convert:hover {\n",
              "      background-color: #E2EBFA;\n",
              "      box-shadow: 0px 1px 2px rgba(60, 64, 67, 0.3), 0px 1px 3px 1px rgba(60, 64, 67, 0.15);\n",
              "      fill: #174EA6;\n",
              "    }\n",
              "\n",
              "    [theme=dark] .colab-df-convert {\n",
              "      background-color: #3B4455;\n",
              "      fill: #D2E3FC;\n",
              "    }\n",
              "\n",
              "    [theme=dark] .colab-df-convert:hover {\n",
              "      background-color: #434B5C;\n",
              "      box-shadow: 0px 1px 3px 1px rgba(0, 0, 0, 0.15);\n",
              "      filter: drop-shadow(0px 1px 2px rgba(0, 0, 0, 0.3));\n",
              "      fill: #FFFFFF;\n",
              "    }\n",
              "  </style>\n",
              "\n",
              "      <script>\n",
              "        const buttonEl =\n",
              "          document.querySelector('#df-ba619428-967b-4b49-af30-5e24f1cfa5bf button.colab-df-convert');\n",
              "        buttonEl.style.display =\n",
              "          google.colab.kernel.accessAllowed ? 'block' : 'none';\n",
              "\n",
              "        async function convertToInteractive(key) {\n",
              "          const element = document.querySelector('#df-ba619428-967b-4b49-af30-5e24f1cfa5bf');\n",
              "          const dataTable =\n",
              "            await google.colab.kernel.invokeFunction('convertToInteractive',\n",
              "                                                     [key], {});\n",
              "          if (!dataTable) return;\n",
              "\n",
              "          const docLinkHtml = 'Like what you see? Visit the ' +\n",
              "            '<a target=\"_blank\" href=https://colab.research.google.com/notebooks/data_table.ipynb>data table notebook</a>'\n",
              "            + ' to learn more about interactive tables.';\n",
              "          element.innerHTML = '';\n",
              "          dataTable['output_type'] = 'display_data';\n",
              "          await google.colab.output.renderOutput(dataTable, element);\n",
              "          const docLink = document.createElement('div');\n",
              "          docLink.innerHTML = docLinkHtml;\n",
              "          element.appendChild(docLink);\n",
              "        }\n",
              "      </script>\n",
              "    </div>\n",
              "  </div>\n",
              "  "
            ]
          },
          "metadata": {},
          "execution_count": 4
        }
      ]
    },
    {
      "cell_type": "markdown",
      "source": [
        "# Data Visualization and Exploratory Data Analysis (EDA)"
      ],
      "metadata": {
        "id": "6zCDbGaiu5hP"
      }
    },
    {
      "cell_type": "code",
      "source": [
        "df.info()"
      ],
      "metadata": {
        "execution": {
          "iopub.status.busy": "2022-08-02T09:02:56.917022Z",
          "iopub.execute_input": "2022-08-02T09:02:56.917587Z",
          "iopub.status.idle": "2022-08-02T09:02:56.948796Z",
          "shell.execute_reply.started": "2022-08-02T09:02:56.917555Z",
          "shell.execute_reply": "2022-08-02T09:02:56.947800Z"
        },
        "trusted": true,
        "colab": {
          "base_uri": "https://localhost:8080/"
        },
        "id": "I2ovpIjLgUbs",
        "outputId": "16a3aad2-218f-40b4-e3bc-b708d2dfa989"
      },
      "execution_count": null,
      "outputs": [
        {
          "output_type": "stream",
          "name": "stdout",
          "text": [
            "<class 'pandas.core.frame.DataFrame'>\n",
            "RangeIndex: 48895 entries, 0 to 48894\n",
            "Data columns (total 16 columns):\n",
            " #   Column                          Non-Null Count  Dtype  \n",
            "---  ------                          --------------  -----  \n",
            " 0   id                              48895 non-null  int64  \n",
            " 1   name                            48879 non-null  object \n",
            " 2   host_id                         48895 non-null  int64  \n",
            " 3   host_name                       48874 non-null  object \n",
            " 4   neighbourhood_group             48895 non-null  object \n",
            " 5   neighbourhood                   48895 non-null  object \n",
            " 6   latitude                        48895 non-null  float64\n",
            " 7   longitude                       48895 non-null  float64\n",
            " 8   room_type                       48895 non-null  object \n",
            " 9   price                           48895 non-null  int64  \n",
            " 10  minimum_nights                  48895 non-null  int64  \n",
            " 11  number_of_reviews               48895 non-null  int64  \n",
            " 12  last_review                     38843 non-null  object \n",
            " 13  reviews_per_month               38843 non-null  float64\n",
            " 14  calculated_host_listings_count  48895 non-null  int64  \n",
            " 15  availability_365                48895 non-null  int64  \n",
            "dtypes: float64(3), int64(7), object(6)\n",
            "memory usage: 6.0+ MB\n"
          ]
        }
      ]
    },
    {
      "cell_type": "code",
      "source": [
        "df.shape()"
      ],
      "metadata": {
        "id": "0XsxTkQqvDVw"
      },
      "execution_count": null,
      "outputs": []
    },
    {
      "cell_type": "code",
      "source": [
        "df.describe()"
      ],
      "metadata": {
        "execution": {
          "iopub.status.busy": "2022-08-02T09:02:56.950129Z",
          "iopub.execute_input": "2022-08-02T09:02:56.950718Z",
          "iopub.status.idle": "2022-08-02T09:02:57.014543Z",
          "shell.execute_reply.started": "2022-08-02T09:02:56.950681Z",
          "shell.execute_reply": "2022-08-02T09:02:57.013597Z"
        },
        "trusted": true,
        "colab": {
          "base_uri": "https://localhost:8080/",
          "height": 300
        },
        "id": "Fb-gsYESgUbs",
        "outputId": "93046809-807a-41d2-de25-d7e73e0b6244"
      },
      "execution_count": null,
      "outputs": [
        {
          "output_type": "execute_result",
          "data": {
            "text/plain": [
              "                 id       host_id      latitude     longitude         price  \\\n",
              "count  4.889500e+04  4.889500e+04  48895.000000  48895.000000  48895.000000   \n",
              "mean   1.901714e+07  6.762001e+07     40.728949    -73.952170    152.720687   \n",
              "std    1.098311e+07  7.861097e+07      0.054530      0.046157    240.154170   \n",
              "min    2.539000e+03  2.438000e+03     40.499790    -74.244420      0.000000   \n",
              "25%    9.471945e+06  7.822033e+06     40.690100    -73.983070     69.000000   \n",
              "50%    1.967728e+07  3.079382e+07     40.723070    -73.955680    106.000000   \n",
              "75%    2.915218e+07  1.074344e+08     40.763115    -73.936275    175.000000   \n",
              "max    3.648724e+07  2.743213e+08     40.913060    -73.712990  10000.000000   \n",
              "\n",
              "       minimum_nights  number_of_reviews  reviews_per_month  \\\n",
              "count    48895.000000       48895.000000       38843.000000   \n",
              "mean         7.029962          23.274466           1.373221   \n",
              "std         20.510550          44.550582           1.680442   \n",
              "min          1.000000           0.000000           0.010000   \n",
              "25%          1.000000           1.000000           0.190000   \n",
              "50%          3.000000           5.000000           0.720000   \n",
              "75%          5.000000          24.000000           2.020000   \n",
              "max       1250.000000         629.000000          58.500000   \n",
              "\n",
              "       calculated_host_listings_count  availability_365  \n",
              "count                    48895.000000      48895.000000  \n",
              "mean                         7.143982        112.781327  \n",
              "std                         32.952519        131.622289  \n",
              "min                          1.000000          0.000000  \n",
              "25%                          1.000000          0.000000  \n",
              "50%                          1.000000         45.000000  \n",
              "75%                          2.000000        227.000000  \n",
              "max                        327.000000        365.000000  "
            ],
            "text/html": [
              "\n",
              "  <div id=\"df-25731913-1135-4f7b-ba7c-e2f15071b669\">\n",
              "    <div class=\"colab-df-container\">\n",
              "      <div>\n",
              "<style scoped>\n",
              "    .dataframe tbody tr th:only-of-type {\n",
              "        vertical-align: middle;\n",
              "    }\n",
              "\n",
              "    .dataframe tbody tr th {\n",
              "        vertical-align: top;\n",
              "    }\n",
              "\n",
              "    .dataframe thead th {\n",
              "        text-align: right;\n",
              "    }\n",
              "</style>\n",
              "<table border=\"1\" class=\"dataframe\">\n",
              "  <thead>\n",
              "    <tr style=\"text-align: right;\">\n",
              "      <th></th>\n",
              "      <th>id</th>\n",
              "      <th>host_id</th>\n",
              "      <th>latitude</th>\n",
              "      <th>longitude</th>\n",
              "      <th>price</th>\n",
              "      <th>minimum_nights</th>\n",
              "      <th>number_of_reviews</th>\n",
              "      <th>reviews_per_month</th>\n",
              "      <th>calculated_host_listings_count</th>\n",
              "      <th>availability_365</th>\n",
              "    </tr>\n",
              "  </thead>\n",
              "  <tbody>\n",
              "    <tr>\n",
              "      <th>count</th>\n",
              "      <td>4.889500e+04</td>\n",
              "      <td>4.889500e+04</td>\n",
              "      <td>48895.000000</td>\n",
              "      <td>48895.000000</td>\n",
              "      <td>48895.000000</td>\n",
              "      <td>48895.000000</td>\n",
              "      <td>48895.000000</td>\n",
              "      <td>38843.000000</td>\n",
              "      <td>48895.000000</td>\n",
              "      <td>48895.000000</td>\n",
              "    </tr>\n",
              "    <tr>\n",
              "      <th>mean</th>\n",
              "      <td>1.901714e+07</td>\n",
              "      <td>6.762001e+07</td>\n",
              "      <td>40.728949</td>\n",
              "      <td>-73.952170</td>\n",
              "      <td>152.720687</td>\n",
              "      <td>7.029962</td>\n",
              "      <td>23.274466</td>\n",
              "      <td>1.373221</td>\n",
              "      <td>7.143982</td>\n",
              "      <td>112.781327</td>\n",
              "    </tr>\n",
              "    <tr>\n",
              "      <th>std</th>\n",
              "      <td>1.098311e+07</td>\n",
              "      <td>7.861097e+07</td>\n",
              "      <td>0.054530</td>\n",
              "      <td>0.046157</td>\n",
              "      <td>240.154170</td>\n",
              "      <td>20.510550</td>\n",
              "      <td>44.550582</td>\n",
              "      <td>1.680442</td>\n",
              "      <td>32.952519</td>\n",
              "      <td>131.622289</td>\n",
              "    </tr>\n",
              "    <tr>\n",
              "      <th>min</th>\n",
              "      <td>2.539000e+03</td>\n",
              "      <td>2.438000e+03</td>\n",
              "      <td>40.499790</td>\n",
              "      <td>-74.244420</td>\n",
              "      <td>0.000000</td>\n",
              "      <td>1.000000</td>\n",
              "      <td>0.000000</td>\n",
              "      <td>0.010000</td>\n",
              "      <td>1.000000</td>\n",
              "      <td>0.000000</td>\n",
              "    </tr>\n",
              "    <tr>\n",
              "      <th>25%</th>\n",
              "      <td>9.471945e+06</td>\n",
              "      <td>7.822033e+06</td>\n",
              "      <td>40.690100</td>\n",
              "      <td>-73.983070</td>\n",
              "      <td>69.000000</td>\n",
              "      <td>1.000000</td>\n",
              "      <td>1.000000</td>\n",
              "      <td>0.190000</td>\n",
              "      <td>1.000000</td>\n",
              "      <td>0.000000</td>\n",
              "    </tr>\n",
              "    <tr>\n",
              "      <th>50%</th>\n",
              "      <td>1.967728e+07</td>\n",
              "      <td>3.079382e+07</td>\n",
              "      <td>40.723070</td>\n",
              "      <td>-73.955680</td>\n",
              "      <td>106.000000</td>\n",
              "      <td>3.000000</td>\n",
              "      <td>5.000000</td>\n",
              "      <td>0.720000</td>\n",
              "      <td>1.000000</td>\n",
              "      <td>45.000000</td>\n",
              "    </tr>\n",
              "    <tr>\n",
              "      <th>75%</th>\n",
              "      <td>2.915218e+07</td>\n",
              "      <td>1.074344e+08</td>\n",
              "      <td>40.763115</td>\n",
              "      <td>-73.936275</td>\n",
              "      <td>175.000000</td>\n",
              "      <td>5.000000</td>\n",
              "      <td>24.000000</td>\n",
              "      <td>2.020000</td>\n",
              "      <td>2.000000</td>\n",
              "      <td>227.000000</td>\n",
              "    </tr>\n",
              "    <tr>\n",
              "      <th>max</th>\n",
              "      <td>3.648724e+07</td>\n",
              "      <td>2.743213e+08</td>\n",
              "      <td>40.913060</td>\n",
              "      <td>-73.712990</td>\n",
              "      <td>10000.000000</td>\n",
              "      <td>1250.000000</td>\n",
              "      <td>629.000000</td>\n",
              "      <td>58.500000</td>\n",
              "      <td>327.000000</td>\n",
              "      <td>365.000000</td>\n",
              "    </tr>\n",
              "  </tbody>\n",
              "</table>\n",
              "</div>\n",
              "      <button class=\"colab-df-convert\" onclick=\"convertToInteractive('df-25731913-1135-4f7b-ba7c-e2f15071b669')\"\n",
              "              title=\"Convert this dataframe to an interactive table.\"\n",
              "              style=\"display:none;\">\n",
              "        \n",
              "  <svg xmlns=\"http://www.w3.org/2000/svg\" height=\"24px\"viewBox=\"0 0 24 24\"\n",
              "       width=\"24px\">\n",
              "    <path d=\"M0 0h24v24H0V0z\" fill=\"none\"/>\n",
              "    <path d=\"M18.56 5.44l.94 2.06.94-2.06 2.06-.94-2.06-.94-.94-2.06-.94 2.06-2.06.94zm-11 1L8.5 8.5l.94-2.06 2.06-.94-2.06-.94L8.5 2.5l-.94 2.06-2.06.94zm10 10l.94 2.06.94-2.06 2.06-.94-2.06-.94-.94-2.06-.94 2.06-2.06.94z\"/><path d=\"M17.41 7.96l-1.37-1.37c-.4-.4-.92-.59-1.43-.59-.52 0-1.04.2-1.43.59L10.3 9.45l-7.72 7.72c-.78.78-.78 2.05 0 2.83L4 21.41c.39.39.9.59 1.41.59.51 0 1.02-.2 1.41-.59l7.78-7.78 2.81-2.81c.8-.78.8-2.07 0-2.86zM5.41 20L4 18.59l7.72-7.72 1.47 1.35L5.41 20z\"/>\n",
              "  </svg>\n",
              "      </button>\n",
              "      \n",
              "  <style>\n",
              "    .colab-df-container {\n",
              "      display:flex;\n",
              "      flex-wrap:wrap;\n",
              "      gap: 12px;\n",
              "    }\n",
              "\n",
              "    .colab-df-convert {\n",
              "      background-color: #E8F0FE;\n",
              "      border: none;\n",
              "      border-radius: 50%;\n",
              "      cursor: pointer;\n",
              "      display: none;\n",
              "      fill: #1967D2;\n",
              "      height: 32px;\n",
              "      padding: 0 0 0 0;\n",
              "      width: 32px;\n",
              "    }\n",
              "\n",
              "    .colab-df-convert:hover {\n",
              "      background-color: #E2EBFA;\n",
              "      box-shadow: 0px 1px 2px rgba(60, 64, 67, 0.3), 0px 1px 3px 1px rgba(60, 64, 67, 0.15);\n",
              "      fill: #174EA6;\n",
              "    }\n",
              "\n",
              "    [theme=dark] .colab-df-convert {\n",
              "      background-color: #3B4455;\n",
              "      fill: #D2E3FC;\n",
              "    }\n",
              "\n",
              "    [theme=dark] .colab-df-convert:hover {\n",
              "      background-color: #434B5C;\n",
              "      box-shadow: 0px 1px 3px 1px rgba(0, 0, 0, 0.15);\n",
              "      filter: drop-shadow(0px 1px 2px rgba(0, 0, 0, 0.3));\n",
              "      fill: #FFFFFF;\n",
              "    }\n",
              "  </style>\n",
              "\n",
              "      <script>\n",
              "        const buttonEl =\n",
              "          document.querySelector('#df-25731913-1135-4f7b-ba7c-e2f15071b669 button.colab-df-convert');\n",
              "        buttonEl.style.display =\n",
              "          google.colab.kernel.accessAllowed ? 'block' : 'none';\n",
              "\n",
              "        async function convertToInteractive(key) {\n",
              "          const element = document.querySelector('#df-25731913-1135-4f7b-ba7c-e2f15071b669');\n",
              "          const dataTable =\n",
              "            await google.colab.kernel.invokeFunction('convertToInteractive',\n",
              "                                                     [key], {});\n",
              "          if (!dataTable) return;\n",
              "\n",
              "          const docLinkHtml = 'Like what you see? Visit the ' +\n",
              "            '<a target=\"_blank\" href=https://colab.research.google.com/notebooks/data_table.ipynb>data table notebook</a>'\n",
              "            + ' to learn more about interactive tables.';\n",
              "          element.innerHTML = '';\n",
              "          dataTable['output_type'] = 'display_data';\n",
              "          await google.colab.output.renderOutput(dataTable, element);\n",
              "          const docLink = document.createElement('div');\n",
              "          docLink.innerHTML = docLinkHtml;\n",
              "          element.appendChild(docLink);\n",
              "        }\n",
              "      </script>\n",
              "    </div>\n",
              "  </div>\n",
              "  "
            ]
          },
          "metadata": {},
          "execution_count": 6
        }
      ]
    },
    {
      "cell_type": "code",
      "source": [
        "df.columns"
      ],
      "metadata": {
        "execution": {
          "iopub.status.busy": "2022-08-02T09:02:57.015904Z",
          "iopub.execute_input": "2022-08-02T09:02:57.016651Z",
          "iopub.status.idle": "2022-08-02T09:02:57.023558Z",
          "shell.execute_reply.started": "2022-08-02T09:02:57.016614Z",
          "shell.execute_reply": "2022-08-02T09:02:57.022678Z"
        },
        "trusted": true,
        "colab": {
          "base_uri": "https://localhost:8080/"
        },
        "id": "5lp48fWUgUbt",
        "outputId": "4aa8ca58-f4ad-4ad8-ecf0-c60f73969bef"
      },
      "execution_count": null,
      "outputs": [
        {
          "output_type": "execute_result",
          "data": {
            "text/plain": [
              "Index(['id', 'name', 'host_id', 'host_name', 'neighbourhood_group',\n",
              "       'neighbourhood', 'latitude', 'longitude', 'room_type', 'price',\n",
              "       'minimum_nights', 'number_of_reviews', 'last_review',\n",
              "       'reviews_per_month', 'calculated_host_listings_count',\n",
              "       'availability_365'],\n",
              "      dtype='object')"
            ]
          },
          "metadata": {},
          "execution_count": 7
        }
      ]
    },
    {
      "cell_type": "code",
      "source": [],
      "metadata": {
        "id": "PXbSPeQ5vTZq"
      },
      "execution_count": null,
      "outputs": []
    },
    {
      "cell_type": "markdown",
      "source": [
        "# Missing Value"
      ],
      "metadata": {
        "id": "Bs5BmTsfvUDn"
      }
    },
    {
      "cell_type": "code",
      "source": [
        "df.isna().sum()"
      ],
      "metadata": {
        "execution": {
          "iopub.status.busy": "2022-08-02T09:02:57.039329Z",
          "iopub.execute_input": "2022-08-02T09:02:57.039668Z",
          "iopub.status.idle": "2022-08-02T09:02:57.062289Z",
          "shell.execute_reply.started": "2022-08-02T09:02:57.039639Z",
          "shell.execute_reply": "2022-08-02T09:02:57.060824Z"
        },
        "trusted": true,
        "colab": {
          "base_uri": "https://localhost:8080/"
        },
        "id": "qC_4lHw4gUbu",
        "outputId": "c0e19ee1-db4c-4fa9-812e-c77c5812b485"
      },
      "execution_count": null,
      "outputs": [
        {
          "output_type": "execute_result",
          "data": {
            "text/plain": [
              "neighbourhood_group                   0\n",
              "neighbourhood                         0\n",
              "room_type                             0\n",
              "price                                 0\n",
              "minimum_nights                        0\n",
              "number_of_reviews                     0\n",
              "last_review                       10052\n",
              "reviews_per_month                 10052\n",
              "calculated_host_listings_count        0\n",
              "availability_365                      0\n",
              "dtype: int64"
            ]
          },
          "metadata": {},
          "execution_count": 9
        }
      ]
    },
    {
      "cell_type": "code",
      "source": [
        "# assuming the dataset is stored in a variable called \"data\"\n",
        "\n",
        "# count the number of null values in each column\n",
        "null_counts = df.isnull().sum()\n",
        "\n",
        "# sort the columns by the number of null values (in descending order)\n",
        "null_counts = null_counts.sort_values(ascending=False)\n",
        "\n",
        "# print the null value counts\n",
        "print(null_counts)\n"
      ],
      "metadata": {
        "colab": {
          "base_uri": "https://localhost:8080/"
        },
        "id": "1q6DkmcWvZyI",
        "outputId": "f05c3b6d-77c3-4040-bbf0-9b9a42627230"
      },
      "execution_count": null,
      "outputs": [
        {
          "output_type": "stream",
          "name": "stdout",
          "text": [
            "neighbourhood_group               0\n",
            "neighbourhood                     0\n",
            "room_type                         0\n",
            "price                             0\n",
            "minimum_nights                    0\n",
            "number_of_reviews                 0\n",
            "reviews_per_month                 0\n",
            "calculated_host_listings_count    0\n",
            "availability_365                  0\n",
            "is_zero                           0\n",
            "dtype: int64\n"
          ]
        }
      ]
    },
    {
      "cell_type": "code",
      "source": [
        "df.drop(['id', 'name', 'host_id', 'host_name', 'latitude', 'longitude', 'last_review'], axis=1, inplace=True)"
      ],
      "metadata": {
        "execution": {
          "iopub.status.busy": "2022-08-02T09:02:57.024756Z",
          "iopub.execute_input": "2022-08-02T09:02:57.025432Z",
          "iopub.status.idle": "2022-08-02T09:02:57.037954Z",
          "shell.execute_reply.started": "2022-08-02T09:02:57.025400Z",
          "shell.execute_reply": "2022-08-02T09:02:57.036881Z"
        },
        "trusted": true,
        "id": "m5Qob_0kgUbt"
      },
      "execution_count": null,
      "outputs": []
    },
    {
      "cell_type": "markdown",
      "source": [
        "columns such as name, host_id, host_name, latitude, longitude are not pertinent to our analysis."
      ],
      "metadata": {
        "id": "Y_C5MmDowHwI"
      }
    },
    {
      "cell_type": "code",
      "source": [
        "df.fillna('0', inplace=True)"
      ],
      "metadata": {
        "execution": {
          "iopub.status.busy": "2022-08-02T09:02:57.076660Z",
          "iopub.execute_input": "2022-08-02T09:02:57.077100Z",
          "iopub.status.idle": "2022-08-02T09:02:57.098849Z",
          "shell.execute_reply.started": "2022-08-02T09:02:57.077050Z",
          "shell.execute_reply": "2022-08-02T09:02:57.097850Z"
        },
        "trusted": true,
        "id": "6zIJgsylgUbv"
      },
      "execution_count": null,
      "outputs": []
    },
    {
      "cell_type": "code",
      "source": [
        "df.shape"
      ],
      "metadata": {
        "execution": {
          "iopub.status.busy": "2022-08-02T09:02:57.169014Z",
          "iopub.execute_input": "2022-08-02T09:02:57.169716Z",
          "iopub.status.idle": "2022-08-02T09:02:57.175831Z",
          "shell.execute_reply.started": "2022-08-02T09:02:57.169681Z",
          "shell.execute_reply": "2022-08-02T09:02:57.174987Z"
        },
        "trusted": true,
        "colab": {
          "base_uri": "https://localhost:8080/"
        },
        "id": "SOB-GGGCgUbw",
        "outputId": "2519ad57-74ba-4776-bdd4-c29858dd5e09"
      },
      "execution_count": null,
      "outputs": [
        {
          "output_type": "execute_result",
          "data": {
            "text/plain": [
              "(48895, 9)"
            ]
          },
          "metadata": {},
          "execution_count": 16
        }
      ]
    },
    {
      "cell_type": "markdown",
      "source": [
        "## Outliers"
      ],
      "metadata": {
        "id": "PJM359FvneQ3"
      }
    },
    {
      "cell_type": "code",
      "source": [
        "df.describe()"
      ],
      "metadata": {
        "execution": {
          "iopub.status.busy": "2022-08-02T09:02:57.177085Z",
          "iopub.execute_input": "2022-08-02T09:02:57.177760Z",
          "iopub.status.idle": "2022-08-02T09:02:57.215360Z",
          "shell.execute_reply.started": "2022-08-02T09:02:57.177728Z",
          "shell.execute_reply": "2022-08-02T09:02:57.214256Z"
        },
        "trusted": true,
        "colab": {
          "base_uri": "https://localhost:8080/",
          "height": 300
        },
        "id": "-EVXq8GegUbw",
        "outputId": "10442e06-6ff3-4b08-f024-d07b0209d3cd"
      },
      "execution_count": null,
      "outputs": [
        {
          "output_type": "execute_result",
          "data": {
            "text/plain": [
              "              price  minimum_nights  number_of_reviews  \\\n",
              "count  48895.000000    48895.000000       48895.000000   \n",
              "mean     152.720687        7.029962          23.274466   \n",
              "std      240.154170       20.510550          44.550582   \n",
              "min        0.000000        1.000000           0.000000   \n",
              "25%       69.000000        1.000000           1.000000   \n",
              "50%      106.000000        3.000000           5.000000   \n",
              "75%      175.000000        5.000000          24.000000   \n",
              "max    10000.000000     1250.000000         629.000000   \n",
              "\n",
              "       calculated_host_listings_count  availability_365  \n",
              "count                    48895.000000      48895.000000  \n",
              "mean                         7.143982        112.781327  \n",
              "std                         32.952519        131.622289  \n",
              "min                          1.000000          0.000000  \n",
              "25%                          1.000000          0.000000  \n",
              "50%                          1.000000         45.000000  \n",
              "75%                          2.000000        227.000000  \n",
              "max                        327.000000        365.000000  "
            ],
            "text/html": [
              "\n",
              "  <div id=\"df-016ac821-4a7d-4d1e-b83f-b86de5da4679\">\n",
              "    <div class=\"colab-df-container\">\n",
              "      <div>\n",
              "<style scoped>\n",
              "    .dataframe tbody tr th:only-of-type {\n",
              "        vertical-align: middle;\n",
              "    }\n",
              "\n",
              "    .dataframe tbody tr th {\n",
              "        vertical-align: top;\n",
              "    }\n",
              "\n",
              "    .dataframe thead th {\n",
              "        text-align: right;\n",
              "    }\n",
              "</style>\n",
              "<table border=\"1\" class=\"dataframe\">\n",
              "  <thead>\n",
              "    <tr style=\"text-align: right;\">\n",
              "      <th></th>\n",
              "      <th>price</th>\n",
              "      <th>minimum_nights</th>\n",
              "      <th>number_of_reviews</th>\n",
              "      <th>calculated_host_listings_count</th>\n",
              "      <th>availability_365</th>\n",
              "    </tr>\n",
              "  </thead>\n",
              "  <tbody>\n",
              "    <tr>\n",
              "      <th>count</th>\n",
              "      <td>48895.000000</td>\n",
              "      <td>48895.000000</td>\n",
              "      <td>48895.000000</td>\n",
              "      <td>48895.000000</td>\n",
              "      <td>48895.000000</td>\n",
              "    </tr>\n",
              "    <tr>\n",
              "      <th>mean</th>\n",
              "      <td>152.720687</td>\n",
              "      <td>7.029962</td>\n",
              "      <td>23.274466</td>\n",
              "      <td>7.143982</td>\n",
              "      <td>112.781327</td>\n",
              "    </tr>\n",
              "    <tr>\n",
              "      <th>std</th>\n",
              "      <td>240.154170</td>\n",
              "      <td>20.510550</td>\n",
              "      <td>44.550582</td>\n",
              "      <td>32.952519</td>\n",
              "      <td>131.622289</td>\n",
              "    </tr>\n",
              "    <tr>\n",
              "      <th>min</th>\n",
              "      <td>0.000000</td>\n",
              "      <td>1.000000</td>\n",
              "      <td>0.000000</td>\n",
              "      <td>1.000000</td>\n",
              "      <td>0.000000</td>\n",
              "    </tr>\n",
              "    <tr>\n",
              "      <th>25%</th>\n",
              "      <td>69.000000</td>\n",
              "      <td>1.000000</td>\n",
              "      <td>1.000000</td>\n",
              "      <td>1.000000</td>\n",
              "      <td>0.000000</td>\n",
              "    </tr>\n",
              "    <tr>\n",
              "      <th>50%</th>\n",
              "      <td>106.000000</td>\n",
              "      <td>3.000000</td>\n",
              "      <td>5.000000</td>\n",
              "      <td>1.000000</td>\n",
              "      <td>45.000000</td>\n",
              "    </tr>\n",
              "    <tr>\n",
              "      <th>75%</th>\n",
              "      <td>175.000000</td>\n",
              "      <td>5.000000</td>\n",
              "      <td>24.000000</td>\n",
              "      <td>2.000000</td>\n",
              "      <td>227.000000</td>\n",
              "    </tr>\n",
              "    <tr>\n",
              "      <th>max</th>\n",
              "      <td>10000.000000</td>\n",
              "      <td>1250.000000</td>\n",
              "      <td>629.000000</td>\n",
              "      <td>327.000000</td>\n",
              "      <td>365.000000</td>\n",
              "    </tr>\n",
              "  </tbody>\n",
              "</table>\n",
              "</div>\n",
              "      <button class=\"colab-df-convert\" onclick=\"convertToInteractive('df-016ac821-4a7d-4d1e-b83f-b86de5da4679')\"\n",
              "              title=\"Convert this dataframe to an interactive table.\"\n",
              "              style=\"display:none;\">\n",
              "        \n",
              "  <svg xmlns=\"http://www.w3.org/2000/svg\" height=\"24px\"viewBox=\"0 0 24 24\"\n",
              "       width=\"24px\">\n",
              "    <path d=\"M0 0h24v24H0V0z\" fill=\"none\"/>\n",
              "    <path d=\"M18.56 5.44l.94 2.06.94-2.06 2.06-.94-2.06-.94-.94-2.06-.94 2.06-2.06.94zm-11 1L8.5 8.5l.94-2.06 2.06-.94-2.06-.94L8.5 2.5l-.94 2.06-2.06.94zm10 10l.94 2.06.94-2.06 2.06-.94-2.06-.94-.94-2.06-.94 2.06-2.06.94z\"/><path d=\"M17.41 7.96l-1.37-1.37c-.4-.4-.92-.59-1.43-.59-.52 0-1.04.2-1.43.59L10.3 9.45l-7.72 7.72c-.78.78-.78 2.05 0 2.83L4 21.41c.39.39.9.59 1.41.59.51 0 1.02-.2 1.41-.59l7.78-7.78 2.81-2.81c.8-.78.8-2.07 0-2.86zM5.41 20L4 18.59l7.72-7.72 1.47 1.35L5.41 20z\"/>\n",
              "  </svg>\n",
              "      </button>\n",
              "      \n",
              "  <style>\n",
              "    .colab-df-container {\n",
              "      display:flex;\n",
              "      flex-wrap:wrap;\n",
              "      gap: 12px;\n",
              "    }\n",
              "\n",
              "    .colab-df-convert {\n",
              "      background-color: #E8F0FE;\n",
              "      border: none;\n",
              "      border-radius: 50%;\n",
              "      cursor: pointer;\n",
              "      display: none;\n",
              "      fill: #1967D2;\n",
              "      height: 32px;\n",
              "      padding: 0 0 0 0;\n",
              "      width: 32px;\n",
              "    }\n",
              "\n",
              "    .colab-df-convert:hover {\n",
              "      background-color: #E2EBFA;\n",
              "      box-shadow: 0px 1px 2px rgba(60, 64, 67, 0.3), 0px 1px 3px 1px rgba(60, 64, 67, 0.15);\n",
              "      fill: #174EA6;\n",
              "    }\n",
              "\n",
              "    [theme=dark] .colab-df-convert {\n",
              "      background-color: #3B4455;\n",
              "      fill: #D2E3FC;\n",
              "    }\n",
              "\n",
              "    [theme=dark] .colab-df-convert:hover {\n",
              "      background-color: #434B5C;\n",
              "      box-shadow: 0px 1px 3px 1px rgba(0, 0, 0, 0.15);\n",
              "      filter: drop-shadow(0px 1px 2px rgba(0, 0, 0, 0.3));\n",
              "      fill: #FFFFFF;\n",
              "    }\n",
              "  </style>\n",
              "\n",
              "      <script>\n",
              "        const buttonEl =\n",
              "          document.querySelector('#df-016ac821-4a7d-4d1e-b83f-b86de5da4679 button.colab-df-convert');\n",
              "        buttonEl.style.display =\n",
              "          google.colab.kernel.accessAllowed ? 'block' : 'none';\n",
              "\n",
              "        async function convertToInteractive(key) {\n",
              "          const element = document.querySelector('#df-016ac821-4a7d-4d1e-b83f-b86de5da4679');\n",
              "          const dataTable =\n",
              "            await google.colab.kernel.invokeFunction('convertToInteractive',\n",
              "                                                     [key], {});\n",
              "          if (!dataTable) return;\n",
              "\n",
              "          const docLinkHtml = 'Like what you see? Visit the ' +\n",
              "            '<a target=\"_blank\" href=https://colab.research.google.com/notebooks/data_table.ipynb>data table notebook</a>'\n",
              "            + ' to learn more about interactive tables.';\n",
              "          element.innerHTML = '';\n",
              "          dataTable['output_type'] = 'display_data';\n",
              "          await google.colab.output.renderOutput(dataTable, element);\n",
              "          const docLink = document.createElement('div');\n",
              "          docLink.innerHTML = docLinkHtml;\n",
              "          element.appendChild(docLink);\n",
              "        }\n",
              "      </script>\n",
              "    </div>\n",
              "  </div>\n",
              "  "
            ]
          },
          "metadata": {},
          "execution_count": 17
        }
      ]
    },
    {
      "cell_type": "code",
      "source": [
        "plt.figure(figsize=(6,6))\n",
        "sns.boxplot(y=df['price'])\n",
        "plt.title(\"Distribution of Price\")\n",
        "plt.show()"
      ],
      "metadata": {
        "id": "tUwoqcHPw09c"
      },
      "execution_count": null,
      "outputs": []
    },
    {
      "cell_type": "code",
      "source": [
        "sns.rugplot(data=df, x='price', height=1)"
      ],
      "metadata": {
        "execution": {
          "iopub.status.busy": "2022-08-02T09:02:57.219243Z",
          "iopub.execute_input": "2022-08-02T09:02:57.219824Z",
          "iopub.status.idle": "2022-08-02T09:02:58.671789Z",
          "shell.execute_reply.started": "2022-08-02T09:02:57.219772Z",
          "shell.execute_reply": "2022-08-02T09:02:58.670660Z"
        },
        "trusted": true,
        "colab": {
          "base_uri": "https://localhost:8080/",
          "height": 297
        },
        "id": "0bO5-OyWgUbx",
        "outputId": "af150c30-7d20-4c59-ed09-f408f5da6af4"
      },
      "execution_count": null,
      "outputs": [
        {
          "output_type": "execute_result",
          "data": {
            "text/plain": [
              "<AxesSubplot:xlabel='price'>"
            ]
          },
          "metadata": {},
          "execution_count": 18
        },
        {
          "output_type": "display_data",
          "data": {
            "text/plain": [
              "<Figure size 432x288 with 1 Axes>"
            ],
            "image/png": "[encoded data removed]"
          },
          "metadata": {
            "needs_background": "light"
          }
        }
      ]
    },
    {
      "cell_type": "markdown",
      "source": [
        "There are so many outlier in the price. Let's drop them."
      ],
      "metadata": {
        "id": "TyUaLIx_w4gg"
      }
    },
    {
      "cell_type": "code",
      "source": [
        "p1 = df['price'].quantile(0.99)\n",
        "p2 = df['price'].quantile(0.01)\n",
        "print(p1, p2)"
      ],
      "metadata": {
        "execution": {
          "iopub.status.busy": "2022-08-02T09:02:58.674341Z",
          "iopub.execute_input": "2022-08-02T09:02:58.674801Z",
          "iopub.status.idle": "2022-08-02T09:02:58.684357Z",
          "shell.execute_reply.started": "2022-08-02T09:02:58.674756Z",
          "shell.execute_reply": "2022-08-02T09:02:58.683338Z"
        },
        "trusted": true,
        "colab": {
          "base_uri": "https://localhost:8080/"
        },
        "id": "8i8_SUZmgUbx",
        "outputId": "7e0436ab-5cd1-4e82-adc9-a3d6258715fc"
      },
      "execution_count": null,
      "outputs": [
        {
          "output_type": "stream",
          "name": "stdout",
          "text": [
            "799.0 30.0\n"
          ]
        }
      ]
    },
    {
      "cell_type": "code",
      "source": [
        "df = df[(df['price']<p1) & (df['price']>p2)]"
      ],
      "metadata": {
        "execution": {
          "iopub.status.busy": "2022-08-02T09:02:58.685770Z",
          "iopub.execute_input": "2022-08-02T09:02:58.686389Z",
          "iopub.status.idle": "2022-08-02T09:02:58.698839Z",
          "shell.execute_reply.started": "2022-08-02T09:02:58.686356Z",
          "shell.execute_reply": "2022-08-02T09:02:58.697605Z"
        },
        "trusted": true,
        "id": "ZbG35oaHgUbx"
      },
      "execution_count": null,
      "outputs": []
    },
    {
      "cell_type": "code",
      "source": [
        "plt.figure(figsize=(6,6))\n",
        "sns.boxplot(y=data['price'])\n",
        "plt.title(\"Distribution of Price\")\n",
        "plt.show()"
      ],
      "metadata": {
        "id": "e_HQRiYnxH-Y"
      },
      "execution_count": null,
      "outputs": []
    },
    {
      "cell_type": "code",
      "source": [],
      "metadata": {
        "id": "MrqiiYMJyB4P"
      },
      "execution_count": null,
      "outputs": []
    },
    {
      "cell_type": "markdown",
      "source": [
        "we can see the minimum nights here"
      ],
      "metadata": {
        "id": "ng1Qe7D-yDDY"
      }
    },
    {
      "cell_type": "code",
      "source": [
        "plt.figure(figsize=(6,6))\n",
        "sns.boxplot(y=data['minimum_nights'])\n",
        "plt.title(\"Distribution of Price\")\n",
        "plt.show()"
      ],
      "metadata": {
        "id": "Vykk08zhyG2f"
      },
      "execution_count": null,
      "outputs": []
    },
    {
      "cell_type": "code",
      "source": [
        "m1 = df['minimum_nights'].quantile(0.99)\n",
        "print(m1)"
      ],
      "metadata": {
        "execution": {
          "iopub.status.busy": "2022-08-02T09:03:00.141781Z",
          "iopub.execute_input": "2022-08-02T09:03:00.142170Z",
          "iopub.status.idle": "2022-08-02T09:03:00.152339Z",
          "shell.execute_reply.started": "2022-08-02T09:03:00.142135Z",
          "shell.execute_reply": "2022-08-02T09:03:00.150965Z"
        },
        "trusted": true,
        "colab": {
          "base_uri": "https://localhost:8080/"
        },
        "id": "nmOHEdsFgUbx",
        "outputId": "8ba422c9-4e50-4cd2-8b0d-4c7f77f4ac7d"
      },
      "execution_count": null,
      "outputs": [
        {
          "output_type": "stream",
          "name": "stdout",
          "text": [
            "40.0\n"
          ]
        }
      ]
    },
    {
      "cell_type": "code",
      "source": [
        "df = df[(df['minimum_nights']<m1)]"
      ],
      "metadata": {
        "execution": {
          "iopub.status.busy": "2022-08-02T09:03:00.153955Z",
          "iopub.execute_input": "2022-08-02T09:03:00.154324Z",
          "iopub.status.idle": "2022-08-02T09:03:00.168045Z",
          "shell.execute_reply.started": "2022-08-02T09:03:00.154292Z",
          "shell.execute_reply": "2022-08-02T09:03:00.166996Z"
        },
        "trusted": true,
        "id": "TAEd31kwgUby"
      },
      "execution_count": null,
      "outputs": []
    },
    {
      "cell_type": "code",
      "source": [
        "plt.figure(figsize=(6,6))\n",
        "sns.boxplot(y=data['minimum_nights'])\n",
        "plt.title(\"Distribution of Price\")\n",
        "plt.show()"
      ],
      "metadata": {
        "id": "VF3bqKsZx50Q"
      },
      "execution_count": null,
      "outputs": []
    },
    {
      "cell_type": "code",
      "source": [
        "df['reviews_per_month']"
      ],
      "metadata": {
        "execution": {
          "iopub.status.busy": "2022-08-02T09:03:00.169209Z",
          "iopub.execute_input": "2022-08-02T09:03:00.173427Z",
          "iopub.status.idle": "2022-08-02T09:03:00.183309Z",
          "shell.execute_reply.started": "2022-08-02T09:03:00.173385Z",
          "shell.execute_reply": "2022-08-02T09:03:00.182012Z"
        },
        "trusted": true,
        "colab": {
          "base_uri": "https://localhost:8080/"
        },
        "id": "5tLDYDi0gUby",
        "outputId": "8515cc1c-9725-4dc6-83d3-f23aa91b1c7a"
      },
      "execution_count": null,
      "outputs": [
        {
          "output_type": "execute_result",
          "data": {
            "text/plain": [
              "0        0.21\n",
              "1        0.38\n",
              "2           0\n",
              "3        4.64\n",
              "4         0.1\n",
              "         ... \n",
              "48890       0\n",
              "48891       0\n",
              "48892       0\n",
              "48893       0\n",
              "48894       0\n",
              "Name: reviews_per_month, Length: 47262, dtype: object"
            ]
          },
          "metadata": {},
          "execution_count": 24
        }
      ]
    },
    {
      "cell_type": "markdown",
      "source": [
        "# CATEGORICAL DATA ANALYZING AND CLEANING"
      ],
      "metadata": {
        "id": "NdvJj0m2gUbz"
      }
    },
    {
      "cell_type": "code",
      "source": [
        "df['reviews_per_month'] = df['reviews_per_month'].apply(lambda s: 'No' if s == '0' else 'yes')"
      ],
      "metadata": {
        "execution": {
          "iopub.status.busy": "2022-08-02T09:03:00.185020Z",
          "iopub.execute_input": "2022-08-02T09:03:00.185423Z",
          "iopub.status.idle": "2022-08-02T09:03:00.204546Z",
          "shell.execute_reply.started": "2022-08-02T09:03:00.185390Z",
          "shell.execute_reply": "2022-08-02T09:03:00.203346Z"
        },
        "trusted": true,
        "colab": {
          "base_uri": "https://localhost:8080/"
        },
        "id": "uaXlgmhogUby",
        "outputId": "0c6a2f76-6ae5-4b98-c232-b2761767bbe7"
      },
      "execution_count": null,
      "outputs": [
        {
          "output_type": "stream",
          "name": "stderr",
          "text": [
            "<ipython-input-25-1718ed29624c>:1: SettingWithCopyWarning: \n",
            "A value is trying to be set on a copy of a slice from a DataFrame.\n",
            "Try using .loc[row_indexer,col_indexer] = value instead\n",
            "\n",
            "See the caveats in the documentation: https://pandas.pydata.org/pandas-docs/stable/user_guide/indexing.html#returning-a-view-versus-a-copy\n",
            "  df['reviews_per_month'] = df['reviews_per_month'].apply(lambda s: 'No' if s == '0' else 'yes')\n"
          ]
        }
      ]
    },
    {
      "cell_type": "code",
      "source": [
        "df['is_zero'] = df['availability_365'].apply(lambda s: 'zero' if s == 0 else 'nonzero')"
      ],
      "metadata": {
        "execution": {
          "iopub.status.busy": "2022-08-02T09:03:00.218565Z",
          "iopub.execute_input": "2022-08-02T09:03:00.218982Z",
          "iopub.status.idle": "2022-08-02T09:03:00.238871Z",
          "shell.execute_reply.started": "2022-08-02T09:03:00.218938Z",
          "shell.execute_reply": "2022-08-02T09:03:00.237941Z"
        },
        "trusted": true,
        "colab": {
          "base_uri": "https://localhost:8080/"
        },
        "id": "F7w2jMUFgUby",
        "outputId": "50fcc70c-94bc-4f5e-a9f7-24c049dc984f"
      },
      "execution_count": null,
      "outputs": [
        {
          "output_type": "stream",
          "name": "stderr",
          "text": [
            "<ipython-input-27-4acfbb3032d7>:1: SettingWithCopyWarning: \n",
            "A value is trying to be set on a copy of a slice from a DataFrame.\n",
            "Try using .loc[row_indexer,col_indexer] = value instead\n",
            "\n",
            "See the caveats in the documentation: https://pandas.pydata.org/pandas-docs/stable/user_guide/indexing.html#returning-a-view-versus-a-copy\n",
            "  df['is_zero'] = df['availability_365'].apply(lambda s: 'zero' if s == 0 else 'nonzero')\n"
          ]
        }
      ]
    },
    {
      "cell_type": "code",
      "source": [
        "df.head()"
      ],
      "metadata": {
        "execution": {
          "iopub.status.busy": "2022-08-02T09:03:00.240174Z",
          "iopub.execute_input": "2022-08-02T09:03:00.240789Z",
          "iopub.status.idle": "2022-08-02T09:03:00.258961Z",
          "shell.execute_reply.started": "2022-08-02T09:03:00.240756Z",
          "shell.execute_reply": "2022-08-02T09:03:00.257501Z"
        },
        "trusted": true,
        "colab": {
          "base_uri": "https://localhost:8080/",
          "height": 206
        },
        "id": "CsVzwx6IgUby",
        "outputId": "29024a5d-96c5-4343-c43c-6bcef5674fd4"
      },
      "execution_count": null,
      "outputs": [
        {
          "output_type": "execute_result",
          "data": {
            "text/plain": [
              "  neighbourhood_group neighbourhood        room_type  price  minimum_nights  \\\n",
              "0            Brooklyn    Kensington     Private room    149               1   \n",
              "1           Manhattan       Midtown  Entire home/apt    225               1   \n",
              "2           Manhattan        Harlem     Private room    150               3   \n",
              "3            Brooklyn  Clinton Hill  Entire home/apt     89               1   \n",
              "4           Manhattan   East Harlem  Entire home/apt     80              10   \n",
              "\n",
              "   number_of_reviews reviews_per_month  calculated_host_listings_count  \\\n",
              "0                  9               yes                               6   \n",
              "1                 45               yes                               2   \n",
              "2                  0                No                               1   \n",
              "3                270               yes                               1   \n",
              "4                  9               yes                               1   \n",
              "\n",
              "   availability_365  is_zero  \n",
              "0               365  nonzero  \n",
              "1               355  nonzero  \n",
              "2               365  nonzero  \n",
              "3               194  nonzero  \n",
              "4                 0     zero  "
            ],
            "text/html": [
              "\n",
              "  <div id=\"df-6b705a24-ca77-439d-afc0-4dc83dedff88\">\n",
              "    <div class=\"colab-df-container\">\n",
              "      <div>\n",
              "<style scoped>\n",
              "    .dataframe tbody tr th:only-of-type {\n",
              "        vertical-align: middle;\n",
              "    }\n",
              "\n",
              "    .dataframe tbody tr th {\n",
              "        vertical-align: top;\n",
              "    }\n",
              "\n",
              "    .dataframe thead th {\n",
              "        text-align: right;\n",
              "    }\n",
              "</style>\n",
              "<table border=\"1\" class=\"dataframe\">\n",
              "  <thead>\n",
              "    <tr style=\"text-align: right;\">\n",
              "      <th></th>\n",
              "      <th>neighbourhood_group</th>\n",
              "      <th>neighbourhood</th>\n",
              "      <th>room_type</th>\n",
              "      <th>price</th>\n",
              "      <th>minimum_nights</th>\n",
              "      <th>number_of_reviews</th>\n",
              "      <th>reviews_per_month</th>\n",
              "      <th>calculated_host_listings_count</th>\n",
              "      <th>availability_365</th>\n",
              "      <th>is_zero</th>\n",
              "    </tr>\n",
              "  </thead>\n",
              "  <tbody>\n",
              "    <tr>\n",
              "      <th>0</th>\n",
              "      <td>Brooklyn</td>\n",
              "      <td>Kensington</td>\n",
              "      <td>Private room</td>\n",
              "      <td>149</td>\n",
              "      <td>1</td>\n",
              "      <td>9</td>\n",
              "      <td>yes</td>\n",
              "      <td>6</td>\n",
              "      <td>365</td>\n",
              "      <td>nonzero</td>\n",
              "    </tr>\n",
              "    <tr>\n",
              "      <th>1</th>\n",
              "      <td>Manhattan</td>\n",
              "      <td>Midtown</td>\n",
              "      <td>Entire home/apt</td>\n",
              "      <td>225</td>\n",
              "      <td>1</td>\n",
              "      <td>45</td>\n",
              "      <td>yes</td>\n",
              "      <td>2</td>\n",
              "      <td>355</td>\n",
              "      <td>nonzero</td>\n",
              "    </tr>\n",
              "    <tr>\n",
              "      <th>2</th>\n",
              "      <td>Manhattan</td>\n",
              "      <td>Harlem</td>\n",
              "      <td>Private room</td>\n",
              "      <td>150</td>\n",
              "      <td>3</td>\n",
              "      <td>0</td>\n",
              "      <td>No</td>\n",
              "      <td>1</td>\n",
              "      <td>365</td>\n",
              "      <td>nonzero</td>\n",
              "    </tr>\n",
              "    <tr>\n",
              "      <th>3</th>\n",
              "      <td>Brooklyn</td>\n",
              "      <td>Clinton Hill</td>\n",
              "      <td>Entire home/apt</td>\n",
              "      <td>89</td>\n",
              "      <td>1</td>\n",
              "      <td>270</td>\n",
              "      <td>yes</td>\n",
              "      <td>1</td>\n",
              "      <td>194</td>\n",
              "      <td>nonzero</td>\n",
              "    </tr>\n",
              "    <tr>\n",
              "      <th>4</th>\n",
              "      <td>Manhattan</td>\n",
              "      <td>East Harlem</td>\n",
              "      <td>Entire home/apt</td>\n",
              "      <td>80</td>\n",
              "      <td>10</td>\n",
              "      <td>9</td>\n",
              "      <td>yes</td>\n",
              "      <td>1</td>\n",
              "      <td>0</td>\n",
              "      <td>zero</td>\n",
              "    </tr>\n",
              "  </tbody>\n",
              "</table>\n",
              "</div>\n",
              "      <button class=\"colab-df-convert\" onclick=\"convertToInteractive('df-6b705a24-ca77-439d-afc0-4dc83dedff88')\"\n",
              "              title=\"Convert this dataframe to an interactive table.\"\n",
              "              style=\"display:none;\">\n",
              "        \n",
              "  <svg xmlns=\"http://www.w3.org/2000/svg\" height=\"24px\"viewBox=\"0 0 24 24\"\n",
              "       width=\"24px\">\n",
              "    <path d=\"M0 0h24v24H0V0z\" fill=\"none\"/>\n",
              "    <path d=\"M18.56 5.44l.94 2.06.94-2.06 2.06-.94-2.06-.94-.94-2.06-.94 2.06-2.06.94zm-11 1L8.5 8.5l.94-2.06 2.06-.94-2.06-.94L8.5 2.5l-.94 2.06-2.06.94zm10 10l.94 2.06.94-2.06 2.06-.94-2.06-.94-.94-2.06-.94 2.06-2.06.94z\"/><path d=\"M17.41 7.96l-1.37-1.37c-.4-.4-.92-.59-1.43-.59-.52 0-1.04.2-1.43.59L10.3 9.45l-7.72 7.72c-.78.78-.78 2.05 0 2.83L4 21.41c.39.39.9.59 1.41.59.51 0 1.02-.2 1.41-.59l7.78-7.78 2.81-2.81c.8-.78.8-2.07 0-2.86zM5.41 20L4 18.59l7.72-7.72 1.47 1.35L5.41 20z\"/>\n",
              "  </svg>\n",
              "      </button>\n",
              "      \n",
              "  <style>\n",
              "    .colab-df-container {\n",
              "      display:flex;\n",
              "      flex-wrap:wrap;\n",
              "      gap: 12px;\n",
              "    }\n",
              "\n",
              "    .colab-df-convert {\n",
              "      background-color: #E8F0FE;\n",
              "      border: none;\n",
              "      border-radius: 50%;\n",
              "      cursor: pointer;\n",
              "      display: none;\n",
              "      fill: #1967D2;\n",
              "      height: 32px;\n",
              "      padding: 0 0 0 0;\n",
              "      width: 32px;\n",
              "    }\n",
              "\n",
              "    .colab-df-convert:hover {\n",
              "      background-color: #E2EBFA;\n",
              "      box-shadow: 0px 1px 2px rgba(60, 64, 67, 0.3), 0px 1px 3px 1px rgba(60, 64, 67, 0.15);\n",
              "      fill: #174EA6;\n",
              "    }\n",
              "\n",
              "    [theme=dark] .colab-df-convert {\n",
              "      background-color: #3B4455;\n",
              "      fill: #D2E3FC;\n",
              "    }\n",
              "\n",
              "    [theme=dark] .colab-df-convert:hover {\n",
              "      background-color: #434B5C;\n",
              "      box-shadow: 0px 1px 3px 1px rgba(0, 0, 0, 0.15);\n",
              "      filter: drop-shadow(0px 1px 2px rgba(0, 0, 0, 0.3));\n",
              "      fill: #FFFFFF;\n",
              "    }\n",
              "  </style>\n",
              "\n",
              "      <script>\n",
              "        const buttonEl =\n",
              "          document.querySelector('#df-6b705a24-ca77-439d-afc0-4dc83dedff88 button.colab-df-convert');\n",
              "        buttonEl.style.display =\n",
              "          google.colab.kernel.accessAllowed ? 'block' : 'none';\n",
              "\n",
              "        async function convertToInteractive(key) {\n",
              "          const element = document.querySelector('#df-6b705a24-ca77-439d-afc0-4dc83dedff88');\n",
              "          const dataTable =\n",
              "            await google.colab.kernel.invokeFunction('convertToInteractive',\n",
              "                                                     [key], {});\n",
              "          if (!dataTable) return;\n",
              "\n",
              "          const docLinkHtml = 'Like what you see? Visit the ' +\n",
              "            '<a target=\"_blank\" href=https://colab.research.google.com/notebooks/data_table.ipynb>data table notebook</a>'\n",
              "            + ' to learn more about interactive tables.';\n",
              "          element.innerHTML = '';\n",
              "          dataTable['output_type'] = 'display_data';\n",
              "          await google.colab.output.renderOutput(dataTable, element);\n",
              "          const docLink = document.createElement('div');\n",
              "          docLink.innerHTML = docLinkHtml;\n",
              "          element.appendChild(docLink);\n",
              "        }\n",
              "      </script>\n",
              "    </div>\n",
              "  </div>\n",
              "  "
            ]
          },
          "metadata": {},
          "execution_count": 28
        }
      ]
    },
    {
      "cell_type": "code",
      "source": [
        "df.columns"
      ],
      "metadata": {
        "execution": {
          "iopub.status.busy": "2022-08-02T09:03:00.260971Z",
          "iopub.execute_input": "2022-08-02T09:03:00.261744Z",
          "iopub.status.idle": "2022-08-02T09:03:00.270379Z",
          "shell.execute_reply.started": "2022-08-02T09:03:00.261695Z",
          "shell.execute_reply": "2022-08-02T09:03:00.269086Z"
        },
        "trusted": true,
        "colab": {
          "base_uri": "https://localhost:8080/"
        },
        "id": "nzwrOulzgUbz",
        "outputId": "16b07013-774f-405e-d320-776bd0be1911"
      },
      "execution_count": null,
      "outputs": [
        {
          "output_type": "execute_result",
          "data": {
            "text/plain": [
              "Index(['neighbourhood_group', 'neighbourhood', 'room_type', 'price',\n",
              "       'minimum_nights', 'number_of_reviews', 'reviews_per_month',\n",
              "       'calculated_host_listings_count', 'availability_365', 'is_zero'],\n",
              "      dtype='object')"
            ]
          },
          "metadata": {},
          "execution_count": 29
        }
      ]
    },
    {
      "cell_type": "code",
      "source": [
        "df['neighbourhood'].value_counts()"
      ],
      "metadata": {
        "execution": {
          "iopub.status.busy": "2022-08-02T09:03:00.272959Z",
          "iopub.execute_input": "2022-08-02T09:03:00.273745Z",
          "iopub.status.idle": "2022-08-02T09:03:00.287623Z",
          "shell.execute_reply.started": "2022-08-02T09:03:00.273681Z",
          "shell.execute_reply": "2022-08-02T09:03:00.286364Z"
        },
        "trusted": true,
        "colab": {
          "base_uri": "https://localhost:8080/"
        },
        "id": "UXwf2hOggUbz",
        "outputId": "0ef8c0aa-4747-439e-d00a-0ca80a758e42"
      },
      "execution_count": null,
      "outputs": [
        {
          "output_type": "execute_result",
          "data": {
            "text/plain": [
              "Williamsburg          3855\n",
              "Bedford-Stuyvesant    3602\n",
              "Harlem                2597\n",
              "Bushwick              2380\n",
              "Hell's Kitchen        1916\n",
              "                      ... \n",
              "Richmondtown             1\n",
              "Woodrow                  1\n",
              "New Dorp                 1\n",
              "Rossville                1\n",
              "Willowbrook              1\n",
              "Name: neighbourhood, Length: 220, dtype: int64"
            ]
          },
          "metadata": {},
          "execution_count": 30
        }
      ]
    },
    {
      "cell_type": "code",
      "source": [
        "nb = df['neighbourhood'].value_counts()"
      ],
      "metadata": {
        "execution": {
          "iopub.status.busy": "2022-08-02T09:03:00.289364Z",
          "iopub.execute_input": "2022-08-02T09:03:00.290162Z",
          "iopub.status.idle": "2022-08-02T09:03:00.301086Z",
          "shell.execute_reply.started": "2022-08-02T09:03:00.290118Z",
          "shell.execute_reply": "2022-08-02T09:03:00.299972Z"
        },
        "trusted": true,
        "id": "37pHw6V-gUbz"
      },
      "execution_count": null,
      "outputs": []
    },
    {
      "cell_type": "code",
      "source": [
        "plt.plot(range(len(nb)), nb)"
      ],
      "metadata": {
        "execution": {
          "iopub.status.busy": "2022-08-02T09:03:00.302239Z",
          "iopub.execute_input": "2022-08-02T09:03:00.302535Z",
          "iopub.status.idle": "2022-08-02T09:03:00.504787Z",
          "shell.execute_reply.started": "2022-08-02T09:03:00.302508Z",
          "shell.execute_reply": "2022-08-02T09:03:00.503869Z"
        },
        "trusted": true,
        "colab": {
          "base_uri": "https://localhost:8080/",
          "height": 285
        },
        "id": "DhhdhNqQgUbz",
        "outputId": "09d14429-3025-41d0-90e0-02bccf530614"
      },
      "execution_count": null,
      "outputs": [
        {
          "output_type": "execute_result",
          "data": {
            "text/plain": [
              "[<matplotlib.lines.Line2D at 0x7f54f5675d60>]"
            ]
          },
          "metadata": {},
          "execution_count": 32
        },
        {
          "output_type": "display_data",
          "data": {
            "text/plain": [
              "<Figure size 432x288 with 1 Axes>"
            ],
            "image/png": "[encoded data removed]"
          },
          "metadata": {
            "needs_background": "light"
          }
        }
      ]
    },
    {
      "cell_type": "code",
      "source": [
        "df['neighbourhood'] = df['neighbourhood'].apply(lambda s: s if str(s) in nb[:25] else 'others')"
      ],
      "metadata": {
        "execution": {
          "iopub.status.busy": "2022-08-02T09:03:00.505883Z",
          "iopub.execute_input": "2022-08-02T09:03:00.506964Z",
          "iopub.status.idle": "2022-08-02T09:03:02.329310Z",
          "shell.execute_reply.started": "2022-08-02T09:03:00.506930Z",
          "shell.execute_reply": "2022-08-02T09:03:02.328008Z"
        },
        "trusted": true,
        "id": "BWKkJU7LgUbz"
      },
      "execution_count": null,
      "outputs": []
    },
    {
      "cell_type": "code",
      "source": [
        "nb"
      ],
      "metadata": {
        "execution": {
          "iopub.status.busy": "2022-08-02T09:03:02.331064Z",
          "iopub.execute_input": "2022-08-02T09:03:02.331821Z",
          "iopub.status.idle": "2022-08-02T09:03:02.340406Z",
          "shell.execute_reply.started": "2022-08-02T09:03:02.331774Z",
          "shell.execute_reply": "2022-08-02T09:03:02.339483Z"
        },
        "trusted": true,
        "colab": {
          "base_uri": "https://localhost:8080/"
        },
        "id": "vFwVLFCpgUb0",
        "outputId": "b072868a-6789-4c99-c075-3e6a3982f7ed"
      },
      "execution_count": null,
      "outputs": [
        {
          "output_type": "execute_result",
          "data": {
            "text/plain": [
              "Williamsburg          3855\n",
              "Bedford-Stuyvesant    3602\n",
              "Harlem                2597\n",
              "Bushwick              2380\n",
              "Hell's Kitchen        1916\n",
              "                      ... \n",
              "Richmondtown             1\n",
              "Woodrow                  1\n",
              "New Dorp                 1\n",
              "Rossville                1\n",
              "Willowbrook              1\n",
              "Name: neighbourhood, Length: 220, dtype: int64"
            ]
          },
          "metadata": {},
          "execution_count": 34
        }
      ]
    },
    {
      "cell_type": "code",
      "source": [
        "df['neighbourhood_group'].value_counts()"
      ],
      "metadata": {
        "execution": {
          "iopub.status.busy": "2022-08-02T09:03:02.341702Z",
          "iopub.execute_input": "2022-08-02T09:03:02.342822Z",
          "iopub.status.idle": "2022-08-02T09:03:02.357486Z",
          "shell.execute_reply.started": "2022-08-02T09:03:02.342786Z",
          "shell.execute_reply": "2022-08-02T09:03:02.356501Z"
        },
        "trusted": true,
        "colab": {
          "base_uri": "https://localhost:8080/"
        },
        "id": "OfOIg7dlgUb0",
        "outputId": "d2792146-5753-4eb5-ada1-09d6a7d5c839"
      },
      "execution_count": null,
      "outputs": [
        {
          "output_type": "execute_result",
          "data": {
            "text/plain": [
              "Manhattan        20955\n",
              "Brooklyn         19488\n",
              "Queens            5458\n",
              "Bronx             1009\n",
              "Staten Island      352\n",
              "Name: neighbourhood_group, dtype: int64"
            ]
          },
          "metadata": {},
          "execution_count": 35
        }
      ]
    },
    {
      "cell_type": "code",
      "source": [
        "df['room_type'].value_counts()"
      ],
      "metadata": {
        "execution": {
          "iopub.status.busy": "2022-08-02T09:03:02.358571Z",
          "iopub.execute_input": "2022-08-02T09:03:02.359252Z",
          "iopub.status.idle": "2022-08-02T09:03:02.372015Z",
          "shell.execute_reply.started": "2022-08-02T09:03:02.359220Z",
          "shell.execute_reply": "2022-08-02T09:03:02.370712Z"
        },
        "trusted": true,
        "colab": {
          "base_uri": "https://localhost:8080/"
        },
        "id": "DrofHFKxgUb0",
        "outputId": "cc166c97-90a0-4586-d6fe-a89178168836"
      },
      "execution_count": null,
      "outputs": [
        {
          "output_type": "execute_result",
          "data": {
            "text/plain": [
              "Entire home/apt    24666\n",
              "Private room       21703\n",
              "Shared room          893\n",
              "Name: room_type, dtype: int64"
            ]
          },
          "metadata": {},
          "execution_count": 36
        }
      ]
    },
    {
      "cell_type": "markdown",
      "source": [
        "# NUMERICAL DATA VISUALIZATION"
      ],
      "metadata": {
        "id": "ElBJZBfxgUb0"
      }
    },
    {
      "cell_type": "code",
      "source": [
        "sns.heatmap(data=df.corr(), annot=True)"
      ],
      "metadata": {
        "execution": {
          "iopub.status.busy": "2022-08-02T09:03:02.373770Z",
          "iopub.execute_input": "2022-08-02T09:03:02.374777Z",
          "iopub.status.idle": "2022-08-02T09:03:02.721238Z",
          "shell.execute_reply.started": "2022-08-02T09:03:02.374741Z",
          "shell.execute_reply": "2022-08-02T09:03:02.720121Z"
        },
        "trusted": true,
        "colab": {
          "base_uri": "https://localhost:8080/"
        },
        "id": "T9ssUlyDgUb0",
        "outputId": "68efef4b-eed3-4597-ce0c-26a1dca43c3e"
      },
      "execution_count": null,
      "outputs": [
        {
          "output_type": "execute_result",
          "data": {
            "text/plain": [
              "<AxesSubplot:>"
            ]
          },
          "metadata": {},
          "execution_count": 37
        },
        {
          "output_type": "display_data",
          "data": {
            "text/plain": [
              "<Figure size 432x288 with 2 Axes>"
            ],
            "image/png": "[encoded data removed]"
          },
          "metadata": {
            "needs_background": "light"
          }
        }
      ]
    },
    {
      "cell_type": "markdown",
      "source": [
        "# CATEGORICAL DATA VISUALIZATION"
      ],
      "metadata": {
        "id": "MG7aGz50gUb1"
      }
    },
    {
      "cell_type": "code",
      "source": [
        "sns.boxplot(data=df, x='room_type', y='price')"
      ],
      "metadata": {
        "execution": {
          "iopub.status.busy": "2022-08-02T09:03:17.617443Z",
          "iopub.execute_input": "2022-08-02T09:03:17.617840Z",
          "iopub.status.idle": "2022-08-02T09:03:17.871948Z",
          "shell.execute_reply.started": "2022-08-02T09:03:17.617810Z",
          "shell.execute_reply": "2022-08-02T09:03:17.870655Z"
        },
        "trusted": true,
        "colab": {
          "base_uri": "https://localhost:8080/"
        },
        "id": "vugDEn4_gUb1",
        "outputId": "ee2c195b-acd4-4ef4-b6ab-69c525a7a00c"
      },
      "execution_count": null,
      "outputs": [
        {
          "output_type": "execute_result",
          "data": {
            "text/plain": [
              "<AxesSubplot:xlabel='room_type', ylabel='price'>"
            ]
          },
          "metadata": {},
          "execution_count": 38
        },
        {
          "output_type": "display_data",
          "data": {
            "text/plain": [
              "<Figure size 432x288 with 1 Axes>"
            ],
            "image/png": "[encoded data removed]"
          },
          "metadata": {
            "needs_background": "light"
          }
        }
      ]
    },
    {
      "cell_type": "code",
      "source": [
        "sns.boxplot(data=df, x='neighbourhood_group', y='price')"
      ],
      "metadata": {
        "execution": {
          "iopub.status.busy": "2022-08-02T09:03:17.873721Z",
          "iopub.execute_input": "2022-08-02T09:03:17.874975Z",
          "iopub.status.idle": "2022-08-02T09:03:18.114962Z",
          "shell.execute_reply.started": "2022-08-02T09:03:17.874896Z",
          "shell.execute_reply": "2022-08-02T09:03:18.113653Z"
        },
        "trusted": true,
        "colab": {
          "base_uri": "https://localhost:8080/"
        },
        "id": "Nc2Y0UPXgUb1",
        "outputId": "d525a170-32e5-4f17-f904-6d155a170d14"
      },
      "execution_count": null,
      "outputs": [
        {
          "output_type": "execute_result",
          "data": {
            "text/plain": [
              "<AxesSubplot:xlabel='neighbourhood_group', ylabel='price'>"
            ]
          },
          "metadata": {},
          "execution_count": 39
        },
        {
          "output_type": "display_data",
          "data": {
            "text/plain": [
              "<Figure size 432x288 with 1 Axes>"
            ],
            "image/png": "[encoded data removed]"
          },
          "metadata": {
            "needs_background": "light"
          }
        }
      ]
    },
    {
      "cell_type": "code",
      "source": [
        "sns.boxplot(data=df, x='is_zero', y='price')"
      ],
      "metadata": {
        "execution": {
          "iopub.status.busy": "2022-08-02T09:03:18.116527Z",
          "iopub.execute_input": "2022-08-02T09:03:18.117020Z",
          "iopub.status.idle": "2022-08-02T09:03:18.296427Z",
          "shell.execute_reply.started": "2022-08-02T09:03:18.116985Z",
          "shell.execute_reply": "2022-08-02T09:03:18.295458Z"
        },
        "trusted": true,
        "colab": {
          "base_uri": "https://localhost:8080/"
        },
        "id": "wfgunYQVgUb2",
        "outputId": "a7e5cde4-a13f-4f92-a623-da291cede972"
      },
      "execution_count": null,
      "outputs": [
        {
          "output_type": "execute_result",
          "data": {
            "text/plain": [
              "<AxesSubplot:xlabel='is_zero', ylabel='price'>"
            ]
          },
          "metadata": {},
          "execution_count": 40
        },
        {
          "output_type": "display_data",
          "data": {
            "text/plain": [
              "<Figure size 432x288 with 1 Axes>"
            ],
            "image/png": "[encoded data removed]"
          },
          "metadata": {
            "needs_background": "light"
          }
        }
      ]
    },
    {
      "cell_type": "code",
      "source": [
        "sns.boxplot(data=df, x='reviews_per_month', y='price')"
      ],
      "metadata": {
        "execution": {
          "iopub.status.busy": "2022-08-02T09:03:18.298244Z",
          "iopub.execute_input": "2022-08-02T09:03:18.299074Z",
          "iopub.status.idle": "2022-08-02T09:03:18.470810Z",
          "shell.execute_reply.started": "2022-08-02T09:03:18.299024Z",
          "shell.execute_reply": "2022-08-02T09:03:18.469398Z"
        },
        "trusted": true,
        "colab": {
          "base_uri": "https://localhost:8080/"
        },
        "id": "lhfYONcLgUb2",
        "outputId": "a990effe-1a59-4cfd-b40f-5d693ea99b3f"
      },
      "execution_count": null,
      "outputs": [
        {
          "output_type": "execute_result",
          "data": {
            "text/plain": [
              "<AxesSubplot:xlabel='reviews_per_month', ylabel='price'>"
            ]
          },
          "metadata": {},
          "execution_count": 41
        },
        {
          "output_type": "display_data",
          "data": {
            "text/plain": [
              "<Figure size 432x288 with 1 Axes>"
            ],
            "image/png": "[encoded data removed]"
          },
          "metadata": {
            "needs_background": "light"
          }
        }
      ]
    },
    {
      "cell_type": "code",
      "source": [
        "fig = plt.figure(figsize=(15, 8))\n",
        "sns.boxplot(data=df, x='neighbourhood', y='price')\n",
        "plt.xticks(rotation=90)\n",
        "plt.show()"
      ],
      "metadata": {
        "execution": {
          "iopub.status.busy": "2022-08-02T09:03:18.472539Z",
          "iopub.execute_input": "2022-08-02T09:03:18.473710Z",
          "iopub.status.idle": "2022-08-02T09:03:19.074468Z",
          "shell.execute_reply.started": "2022-08-02T09:03:18.473660Z",
          "shell.execute_reply": "2022-08-02T09:03:19.073234Z"
        },
        "trusted": true,
        "colab": {
          "base_uri": "https://localhost:8080/"
        },
        "id": "oAqGeH-dgUb2",
        "outputId": "c8ec74f2-910f-475c-d53f-85fcfe937e82"
      },
      "execution_count": null,
      "outputs": [
        {
          "output_type": "display_data",
          "data": {
            "text/plain": [
              "<Figure size 1080x576 with 1 Axes>"
            ],
            "image/png": "[encoded data removed]"
          },
          "metadata": {
            "needs_background": "light"
          }
        }
      ]
    },
    {
      "cell_type": "markdown",
      "source": [
        "# DATA PREPROCESSING"
      ],
      "metadata": {
        "id": "PbZmkn4-gUb2"
      }
    },
    {
      "cell_type": "code",
      "source": [
        "df = df.sample(n=10000, random_state=42)"
      ],
      "metadata": {
        "id": "ZjBq26VclGcf"
      },
      "execution_count": null,
      "outputs": []
    },
    {
      "cell_type": "code",
      "source": [
        "df.head()"
      ],
      "metadata": {
        "execution": {
          "iopub.status.busy": "2022-08-02T09:03:19.076101Z",
          "iopub.execute_input": "2022-08-02T09:03:19.076841Z",
          "iopub.status.idle": "2022-08-02T09:03:19.093379Z",
          "shell.execute_reply.started": "2022-08-02T09:03:19.076793Z",
          "shell.execute_reply": "2022-08-02T09:03:19.091995Z"
        },
        "trusted": true,
        "colab": {
          "base_uri": "https://localhost:8080/",
          "height": 206
        },
        "id": "lgpYyLwWgUb2",
        "outputId": "215acbf8-2f4b-462e-ea6c-5907bc4daecd"
      },
      "execution_count": null,
      "outputs": [
        {
          "output_type": "execute_result",
          "data": {
            "text/plain": [
              "      neighbourhood_group       neighbourhood        room_type  price  \\\n",
              "5431            Manhattan  Financial District  Entire home/apt    275   \n",
              "8197            Manhattan     Upper East Side  Entire home/apt    175   \n",
              "23318            Brooklyn              others  Entire home/apt    105   \n",
              "31398            Brooklyn            Bushwick     Private room     35   \n",
              "19113              Queens              others     Private room     43   \n",
              "\n",
              "       minimum_nights  number_of_reviews reviews_per_month  \\\n",
              "5431                3                  9               yes   \n",
              "8197                3                  0                No   \n",
              "23318               2                 22               yes   \n",
              "31398              14                  4               yes   \n",
              "19113               3                 69               yes   \n",
              "\n",
              "       calculated_host_listings_count  availability_365  is_zero  \n",
              "5431                                1                 0     zero  \n",
              "8197                                1                 0     zero  \n",
              "23318                               1                 0     zero  \n",
              "31398                               1                 0     zero  \n",
              "19113                               1               283  nonzero  "
            ],
            "text/html": [
              "\n",
              "  <div id=\"df-a484a241-f2c4-4a9b-b6ab-fe1be8a08d6f\">\n",
              "    <div class=\"colab-df-container\">\n",
              "      <div>\n",
              "<style scoped>\n",
              "    .dataframe tbody tr th:only-of-type {\n",
              "        vertical-align: middle;\n",
              "    }\n",
              "\n",
              "    .dataframe tbody tr th {\n",
              "        vertical-align: top;\n",
              "    }\n",
              "\n",
              "    .dataframe thead th {\n",
              "        text-align: right;\n",
              "    }\n",
              "</style>\n",
              "<table border=\"1\" class=\"dataframe\">\n",
              "  <thead>\n",
              "    <tr style=\"text-align: right;\">\n",
              "      <th></th>\n",
              "      <th>neighbourhood_group</th>\n",
              "      <th>neighbourhood</th>\n",
              "      <th>room_type</th>\n",
              "      <th>price</th>\n",
              "      <th>minimum_nights</th>\n",
              "      <th>number_of_reviews</th>\n",
              "      <th>reviews_per_month</th>\n",
              "      <th>calculated_host_listings_count</th>\n",
              "      <th>availability_365</th>\n",
              "      <th>is_zero</th>\n",
              "    </tr>\n",
              "  </thead>\n",
              "  <tbody>\n",
              "    <tr>\n",
              "      <th>5431</th>\n",
              "      <td>Manhattan</td>\n",
              "      <td>Financial District</td>\n",
              "      <td>Entire home/apt</td>\n",
              "      <td>275</td>\n",
              "      <td>3</td>\n",
              "      <td>9</td>\n",
              "      <td>yes</td>\n",
              "      <td>1</td>\n",
              "      <td>0</td>\n",
              "      <td>zero</td>\n",
              "    </tr>\n",
              "    <tr>\n",
              "      <th>8197</th>\n",
              "      <td>Manhattan</td>\n",
              "      <td>Upper East Side</td>\n",
              "      <td>Entire home/apt</td>\n",
              "      <td>175</td>\n",
              "      <td>3</td>\n",
              "      <td>0</td>\n",
              "      <td>No</td>\n",
              "      <td>1</td>\n",
              "      <td>0</td>\n",
              "      <td>zero</td>\n",
              "    </tr>\n",
              "    <tr>\n",
              "      <th>23318</th>\n",
              "      <td>Brooklyn</td>\n",
              "      <td>others</td>\n",
              "      <td>Entire home/apt</td>\n",
              "      <td>105</td>\n",
              "      <td>2</td>\n",
              "      <td>22</td>\n",
              "      <td>yes</td>\n",
              "      <td>1</td>\n",
              "      <td>0</td>\n",
              "      <td>zero</td>\n",
              "    </tr>\n",
              "    <tr>\n",
              "      <th>31398</th>\n",
              "      <td>Brooklyn</td>\n",
              "      <td>Bushwick</td>\n",
              "      <td>Private room</td>\n",
              "      <td>35</td>\n",
              "      <td>14</td>\n",
              "      <td>4</td>\n",
              "      <td>yes</td>\n",
              "      <td>1</td>\n",
              "      <td>0</td>\n",
              "      <td>zero</td>\n",
              "    </tr>\n",
              "    <tr>\n",
              "      <th>19113</th>\n",
              "      <td>Queens</td>\n",
              "      <td>others</td>\n",
              "      <td>Private room</td>\n",
              "      <td>43</td>\n",
              "      <td>3</td>\n",
              "      <td>69</td>\n",
              "      <td>yes</td>\n",
              "      <td>1</td>\n",
              "      <td>283</td>\n",
              "      <td>nonzero</td>\n",
              "    </tr>\n",
              "  </tbody>\n",
              "</table>\n",
              "</div>\n",
              "      <button class=\"colab-df-convert\" onclick=\"convertToInteractive('df-a484a241-f2c4-4a9b-b6ab-fe1be8a08d6f')\"\n",
              "              title=\"Convert this dataframe to an interactive table.\"\n",
              "              style=\"display:none;\">\n",
              "        \n",
              "  <svg xmlns=\"http://www.w3.org/2000/svg\" height=\"24px\"viewBox=\"0 0 24 24\"\n",
              "       width=\"24px\">\n",
              "    <path d=\"M0 0h24v24H0V0z\" fill=\"none\"/>\n",
              "    <path d=\"M18.56 5.44l.94 2.06.94-2.06 2.06-.94-2.06-.94-.94-2.06-.94 2.06-2.06.94zm-11 1L8.5 8.5l.94-2.06 2.06-.94-2.06-.94L8.5 2.5l-.94 2.06-2.06.94zm10 10l.94 2.06.94-2.06 2.06-.94-2.06-.94-.94-2.06-.94 2.06-2.06.94z\"/><path d=\"M17.41 7.96l-1.37-1.37c-.4-.4-.92-.59-1.43-.59-.52 0-1.04.2-1.43.59L10.3 9.45l-7.72 7.72c-.78.78-.78 2.05 0 2.83L4 21.41c.39.39.9.59 1.41.59.51 0 1.02-.2 1.41-.59l7.78-7.78 2.81-2.81c.8-.78.8-2.07 0-2.86zM5.41 20L4 18.59l7.72-7.72 1.47 1.35L5.41 20z\"/>\n",
              "  </svg>\n",
              "      </button>\n",
              "      \n",
              "  <style>\n",
              "    .colab-df-container {\n",
              "      display:flex;\n",
              "      flex-wrap:wrap;\n",
              "      gap: 12px;\n",
              "    }\n",
              "\n",
              "    .colab-df-convert {\n",
              "      background-color: #E8F0FE;\n",
              "      border: none;\n",
              "      border-radius: 50%;\n",
              "      cursor: pointer;\n",
              "      display: none;\n",
              "      fill: #1967D2;\n",
              "      height: 32px;\n",
              "      padding: 0 0 0 0;\n",
              "      width: 32px;\n",
              "    }\n",
              "\n",
              "    .colab-df-convert:hover {\n",
              "      background-color: #E2EBFA;\n",
              "      box-shadow: 0px 1px 2px rgba(60, 64, 67, 0.3), 0px 1px 3px 1px rgba(60, 64, 67, 0.15);\n",
              "      fill: #174EA6;\n",
              "    }\n",
              "\n",
              "    [theme=dark] .colab-df-convert {\n",
              "      background-color: #3B4455;\n",
              "      fill: #D2E3FC;\n",
              "    }\n",
              "\n",
              "    [theme=dark] .colab-df-convert:hover {\n",
              "      background-color: #434B5C;\n",
              "      box-shadow: 0px 1px 3px 1px rgba(0, 0, 0, 0.15);\n",
              "      filter: drop-shadow(0px 1px 2px rgba(0, 0, 0, 0.3));\n",
              "      fill: #FFFFFF;\n",
              "    }\n",
              "  </style>\n",
              "\n",
              "      <script>\n",
              "        const buttonEl =\n",
              "          document.querySelector('#df-a484a241-f2c4-4a9b-b6ab-fe1be8a08d6f button.colab-df-convert');\n",
              "        buttonEl.style.display =\n",
              "          google.colab.kernel.accessAllowed ? 'block' : 'none';\n",
              "\n",
              "        async function convertToInteractive(key) {\n",
              "          const element = document.querySelector('#df-a484a241-f2c4-4a9b-b6ab-fe1be8a08d6f');\n",
              "          const dataTable =\n",
              "            await google.colab.kernel.invokeFunction('convertToInteractive',\n",
              "                                                     [key], {});\n",
              "          if (!dataTable) return;\n",
              "\n",
              "          const docLinkHtml = 'Like what you see? Visit the ' +\n",
              "            '<a target=\"_blank\" href=https://colab.research.google.com/notebooks/data_table.ipynb>data table notebook</a>'\n",
              "            + ' to learn more about interactive tables.';\n",
              "          element.innerHTML = '';\n",
              "          dataTable['output_type'] = 'display_data';\n",
              "          await google.colab.output.renderOutput(dataTable, element);\n",
              "          const docLink = document.createElement('div');\n",
              "          docLink.innerHTML = docLinkHtml;\n",
              "          element.appendChild(docLink);\n",
              "        }\n",
              "      </script>\n",
              "    </div>\n",
              "  </div>\n",
              "  "
            ]
          },
          "metadata": {},
          "execution_count": 45
        }
      ]
    },
    {
      "cell_type": "code",
      "source": [
        "df.isna().sum()"
      ],
      "metadata": {
        "execution": {
          "iopub.status.busy": "2022-08-02T09:03:19.094636Z",
          "iopub.execute_input": "2022-08-02T09:03:19.094981Z",
          "iopub.status.idle": "2022-08-02T09:03:19.115862Z",
          "shell.execute_reply.started": "2022-08-02T09:03:19.094936Z",
          "shell.execute_reply": "2022-08-02T09:03:19.114912Z"
        },
        "trusted": true,
        "colab": {
          "base_uri": "https://localhost:8080/"
        },
        "id": "GqMj9EVRgUb2",
        "outputId": "ace5239c-f29a-41ca-98c3-81b5eb0dfa60"
      },
      "execution_count": null,
      "outputs": [
        {
          "output_type": "execute_result",
          "data": {
            "text/plain": [
              "neighbourhood_group               0\n",
              "neighbourhood                     0\n",
              "room_type                         0\n",
              "price                             0\n",
              "minimum_nights                    0\n",
              "number_of_reviews                 0\n",
              "reviews_per_month                 0\n",
              "calculated_host_listings_count    0\n",
              "availability_365                  0\n",
              "is_zero                           0\n",
              "dtype: int64"
            ]
          },
          "metadata": {},
          "execution_count": 46
        }
      ]
    },
    {
      "cell_type": "code",
      "source": [
        "X_num = df[['minimum_nights', 'number_of_reviews', 'calculated_host_listings_count', 'availability_365']]\n",
        "X_cat = df.drop(['minimum_nights', 'minimum_nights', 'number_of_reviews', 'calculated_host_listings_count', 'availability_365', 'price'], axis=1)"
      ],
      "metadata": {
        "execution": {
          "iopub.status.busy": "2022-08-02T09:03:19.117064Z",
          "iopub.execute_input": "2022-08-02T09:03:19.117823Z",
          "iopub.status.idle": "2022-08-02T09:03:19.132779Z",
          "shell.execute_reply.started": "2022-08-02T09:03:19.117789Z",
          "shell.execute_reply": "2022-08-02T09:03:19.131792Z"
        },
        "trusted": true,
        "id": "tqlBbI57gUb3"
      },
      "execution_count": null,
      "outputs": []
    },
    {
      "cell_type": "code",
      "source": [
        "from sklearn.preprocessing import LabelEncoder, StandardScaler"
      ],
      "metadata": {
        "execution": {
          "iopub.status.busy": "2022-08-02T09:03:19.134534Z",
          "iopub.execute_input": "2022-08-02T09:03:19.134997Z",
          "iopub.status.idle": "2022-08-02T09:03:19.141095Z",
          "shell.execute_reply.started": "2022-08-02T09:03:19.134958Z",
          "shell.execute_reply": "2022-08-02T09:03:19.139490Z"
        },
        "trusted": true,
        "id": "uZBAu-psgUb3"
      },
      "execution_count": null,
      "outputs": []
    },
    {
      "cell_type": "code",
      "source": [
        "le = LabelEncoder()\n",
        "for i in X_cat.columns:\n",
        "  X_cat[i] = le.fit_transform(X_cat[i])"
      ],
      "metadata": {
        "execution": {
          "iopub.status.busy": "2022-08-02T09:03:19.142843Z",
          "iopub.execute_input": "2022-08-02T09:03:19.143449Z",
          "iopub.status.idle": "2022-08-02T09:03:19.214578Z",
          "shell.execute_reply.started": "2022-08-02T09:03:19.143415Z",
          "shell.execute_reply": "2022-08-02T09:03:19.213390Z"
        },
        "trusted": true,
        "id": "CNjAFpaIgUb3"
      },
      "execution_count": null,
      "outputs": []
    },
    {
      "cell_type": "code",
      "source": [
        "scaler = StandardScaler()\n",
        "scaler.fit(X_num)\n",
        "X_scaled = scaler.transform(X_num)\n",
        "X_scaled = pd.DataFrame(X_scaled, index=X_num.index, columns=X_num.columns)\n",
        "X = pd.concat([X_scaled, X_cat], axis=1)\n",
        "y=df['price']"
      ],
      "metadata": {
        "execution": {
          "iopub.status.busy": "2022-08-02T09:03:19.215857Z",
          "iopub.execute_input": "2022-08-02T09:03:19.216550Z",
          "iopub.status.idle": "2022-08-02T09:03:19.230351Z",
          "shell.execute_reply.started": "2022-08-02T09:03:19.216512Z",
          "shell.execute_reply": "2022-08-02T09:03:19.229270Z"
        },
        "trusted": true,
        "id": "jMcN1z7IgUb3"
      },
      "execution_count": null,
      "outputs": []
    },
    {
      "cell_type": "code",
      "source": [
        "X.head()"
      ],
      "metadata": {
        "execution": {
          "iopub.status.busy": "2022-08-02T09:03:19.233110Z",
          "iopub.execute_input": "2022-08-02T09:03:19.233443Z",
          "iopub.status.idle": "2022-08-02T09:03:19.249212Z",
          "shell.execute_reply.started": "2022-08-02T09:03:19.233413Z",
          "shell.execute_reply": "2022-08-02T09:03:19.247978Z"
        },
        "trusted": true,
        "colab": {
          "base_uri": "https://localhost:8080/",
          "height": 206
        },
        "id": "TkA93hc3gUb3",
        "outputId": "cf690a20-27b3-4085-face-eb37f18541ae"
      },
      "execution_count": null,
      "outputs": [
        {
          "output_type": "execute_result",
          "data": {
            "text/plain": [
              "       minimum_nights  number_of_reviews  calculated_host_listings_count  \\\n",
              "5431        -0.313973          -0.334785                       -0.182844   \n",
              "8197        -0.313973          -0.535346                       -0.182844   \n",
              "23318       -0.435119          -0.045086                       -0.182844   \n",
              "31398        1.018629          -0.446207                       -0.182844   \n",
              "19113       -0.313973           1.002287                       -0.182844   \n",
              "\n",
              "       availability_365  neighbourhood_group  neighbourhood  room_type  \\\n",
              "5431          -0.858443                    2              9          0   \n",
              "8197          -0.858443                    2             20          0   \n",
              "23318         -0.858443                    1             25          0   \n",
              "31398         -0.858443                    1              2          1   \n",
              "19113          1.300122                    3             25          1   \n",
              "\n",
              "       reviews_per_month  is_zero  \n",
              "5431                   1        1  \n",
              "8197                   0        1  \n",
              "23318                  1        1  \n",
              "31398                  1        1  \n",
              "19113                  1        0  "
            ],
            "text/html": [
              "\n",
              "  <div id=\"df-f64355ae-2d7c-43dd-b22e-67b1df720849\">\n",
              "    <div class=\"colab-df-container\">\n",
              "      <div>\n",
              "<style scoped>\n",
              "    .dataframe tbody tr th:only-of-type {\n",
              "        vertical-align: middle;\n",
              "    }\n",
              "\n",
              "    .dataframe tbody tr th {\n",
              "        vertical-align: top;\n",
              "    }\n",
              "\n",
              "    .dataframe thead th {\n",
              "        text-align: right;\n",
              "    }\n",
              "</style>\n",
              "<table border=\"1\" class=\"dataframe\">\n",
              "  <thead>\n",
              "    <tr style=\"text-align: right;\">\n",
              "      <th></th>\n",
              "      <th>minimum_nights</th>\n",
              "      <th>number_of_reviews</th>\n",
              "      <th>calculated_host_listings_count</th>\n",
              "      <th>availability_365</th>\n",
              "      <th>neighbourhood_group</th>\n",
              "      <th>neighbourhood</th>\n",
              "      <th>room_type</th>\n",
              "      <th>reviews_per_month</th>\n",
              "      <th>is_zero</th>\n",
              "    </tr>\n",
              "  </thead>\n",
              "  <tbody>\n",
              "    <tr>\n",
              "      <th>5431</th>\n",
              "      <td>-0.313973</td>\n",
              "      <td>-0.334785</td>\n",
              "      <td>-0.182844</td>\n",
              "      <td>-0.858443</td>\n",
              "      <td>2</td>\n",
              "      <td>9</td>\n",
              "      <td>0</td>\n",
              "      <td>1</td>\n",
              "      <td>1</td>\n",
              "    </tr>\n",
              "    <tr>\n",
              "      <th>8197</th>\n",
              "      <td>-0.313973</td>\n",
              "      <td>-0.535346</td>\n",
              "      <td>-0.182844</td>\n",
              "      <td>-0.858443</td>\n",
              "      <td>2</td>\n",
              "      <td>20</td>\n",
              "      <td>0</td>\n",
              "      <td>0</td>\n",
              "      <td>1</td>\n",
              "    </tr>\n",
              "    <tr>\n",
              "      <th>23318</th>\n",
              "      <td>-0.435119</td>\n",
              "      <td>-0.045086</td>\n",
              "      <td>-0.182844</td>\n",
              "      <td>-0.858443</td>\n",
              "      <td>1</td>\n",
              "      <td>25</td>\n",
              "      <td>0</td>\n",
              "      <td>1</td>\n",
              "      <td>1</td>\n",
              "    </tr>\n",
              "    <tr>\n",
              "      <th>31398</th>\n",
              "      <td>1.018629</td>\n",
              "      <td>-0.446207</td>\n",
              "      <td>-0.182844</td>\n",
              "      <td>-0.858443</td>\n",
              "      <td>1</td>\n",
              "      <td>2</td>\n",
              "      <td>1</td>\n",
              "      <td>1</td>\n",
              "      <td>1</td>\n",
              "    </tr>\n",
              "    <tr>\n",
              "      <th>19113</th>\n",
              "      <td>-0.313973</td>\n",
              "      <td>1.002287</td>\n",
              "      <td>-0.182844</td>\n",
              "      <td>1.300122</td>\n",
              "      <td>3</td>\n",
              "      <td>25</td>\n",
              "      <td>1</td>\n",
              "      <td>1</td>\n",
              "      <td>0</td>\n",
              "    </tr>\n",
              "  </tbody>\n",
              "</table>\n",
              "</div>\n",
              "      <button class=\"colab-df-convert\" onclick=\"convertToInteractive('df-f64355ae-2d7c-43dd-b22e-67b1df720849')\"\n",
              "              title=\"Convert this dataframe to an interactive table.\"\n",
              "              style=\"display:none;\">\n",
              "        \n",
              "  <svg xmlns=\"http://www.w3.org/2000/svg\" height=\"24px\"viewBox=\"0 0 24 24\"\n",
              "       width=\"24px\">\n",
              "    <path d=\"M0 0h24v24H0V0z\" fill=\"none\"/>\n",
              "    <path d=\"M18.56 5.44l.94 2.06.94-2.06 2.06-.94-2.06-.94-.94-2.06-.94 2.06-2.06.94zm-11 1L8.5 8.5l.94-2.06 2.06-.94-2.06-.94L8.5 2.5l-.94 2.06-2.06.94zm10 10l.94 2.06.94-2.06 2.06-.94-2.06-.94-.94-2.06-.94 2.06-2.06.94z\"/><path d=\"M17.41 7.96l-1.37-1.37c-.4-.4-.92-.59-1.43-.59-.52 0-1.04.2-1.43.59L10.3 9.45l-7.72 7.72c-.78.78-.78 2.05 0 2.83L4 21.41c.39.39.9.59 1.41.59.51 0 1.02-.2 1.41-.59l7.78-7.78 2.81-2.81c.8-.78.8-2.07 0-2.86zM5.41 20L4 18.59l7.72-7.72 1.47 1.35L5.41 20z\"/>\n",
              "  </svg>\n",
              "      </button>\n",
              "      \n",
              "  <style>\n",
              "    .colab-df-container {\n",
              "      display:flex;\n",
              "      flex-wrap:wrap;\n",
              "      gap: 12px;\n",
              "    }\n",
              "\n",
              "    .colab-df-convert {\n",
              "      background-color: #E8F0FE;\n",
              "      border: none;\n",
              "      border-radius: 50%;\n",
              "      cursor: pointer;\n",
              "      display: none;\n",
              "      fill: #1967D2;\n",
              "      height: 32px;\n",
              "      padding: 0 0 0 0;\n",
              "      width: 32px;\n",
              "    }\n",
              "\n",
              "    .colab-df-convert:hover {\n",
              "      background-color: #E2EBFA;\n",
              "      box-shadow: 0px 1px 2px rgba(60, 64, 67, 0.3), 0px 1px 3px 1px rgba(60, 64, 67, 0.15);\n",
              "      fill: #174EA6;\n",
              "    }\n",
              "\n",
              "    [theme=dark] .colab-df-convert {\n",
              "      background-color: #3B4455;\n",
              "      fill: #D2E3FC;\n",
              "    }\n",
              "\n",
              "    [theme=dark] .colab-df-convert:hover {\n",
              "      background-color: #434B5C;\n",
              "      box-shadow: 0px 1px 3px 1px rgba(0, 0, 0, 0.15);\n",
              "      filter: drop-shadow(0px 1px 2px rgba(0, 0, 0, 0.3));\n",
              "      fill: #FFFFFF;\n",
              "    }\n",
              "  </style>\n",
              "\n",
              "      <script>\n",
              "        const buttonEl =\n",
              "          document.querySelector('#df-f64355ae-2d7c-43dd-b22e-67b1df720849 button.colab-df-convert');\n",
              "        buttonEl.style.display =\n",
              "          google.colab.kernel.accessAllowed ? 'block' : 'none';\n",
              "\n",
              "        async function convertToInteractive(key) {\n",
              "          const element = document.querySelector('#df-f64355ae-2d7c-43dd-b22e-67b1df720849');\n",
              "          const dataTable =\n",
              "            await google.colab.kernel.invokeFunction('convertToInteractive',\n",
              "                                                     [key], {});\n",
              "          if (!dataTable) return;\n",
              "\n",
              "          const docLinkHtml = 'Like what you see? Visit the ' +\n",
              "            '<a target=\"_blank\" href=https://colab.research.google.com/notebooks/data_table.ipynb>data table notebook</a>'\n",
              "            + ' to learn more about interactive tables.';\n",
              "          element.innerHTML = '';\n",
              "          dataTable['output_type'] = 'display_data';\n",
              "          await google.colab.output.renderOutput(dataTable, element);\n",
              "          const docLink = document.createElement('div');\n",
              "          docLink.innerHTML = docLinkHtml;\n",
              "          element.appendChild(docLink);\n",
              "        }\n",
              "      </script>\n",
              "    </div>\n",
              "  </div>\n",
              "  "
            ]
          },
          "metadata": {},
          "execution_count": 51
        }
      ]
    },
    {
      "cell_type": "code",
      "source": [
        "X.shape"
      ],
      "metadata": {
        "colab": {
          "base_uri": "https://localhost:8080/"
        },
        "id": "gugOfgPLkcSt",
        "outputId": "713e7fe8-9466-4239-93c6-d9f323355c9a"
      },
      "execution_count": null,
      "outputs": [
        {
          "output_type": "execute_result",
          "data": {
            "text/plain": [
              "(10000, 9)"
            ]
          },
          "metadata": {},
          "execution_count": 52
        }
      ]
    },
    {
      "cell_type": "markdown",
      "source": [
        "# MODEL LEARNING"
      ],
      "metadata": {
        "id": "wOrg_K9ugUb3"
      }
    },
    {
      "cell_type": "code",
      "source": [
        "from sklearn.model_selection import train_test_split"
      ],
      "metadata": {
        "execution": {
          "iopub.status.busy": "2022-08-02T09:03:19.250736Z",
          "iopub.execute_input": "2022-08-02T09:03:19.251562Z",
          "iopub.status.idle": "2022-08-02T09:03:19.255908Z",
          "shell.execute_reply.started": "2022-08-02T09:03:19.251524Z",
          "shell.execute_reply": "2022-08-02T09:03:19.255116Z"
        },
        "trusted": true,
        "id": "zX9dCSoPgUb3"
      },
      "execution_count": null,
      "outputs": []
    },
    {
      "cell_type": "code",
      "source": [
        "X_train, X_test, y_train, y_test = train_test_split(X, y, test_size=0.3, random_state=1)"
      ],
      "metadata": {
        "execution": {
          "iopub.status.busy": "2022-08-02T09:03:19.257283Z",
          "iopub.execute_input": "2022-08-02T09:03:19.258225Z",
          "iopub.status.idle": "2022-08-02T09:03:19.280873Z",
          "shell.execute_reply.started": "2022-08-02T09:03:19.258190Z",
          "shell.execute_reply": "2022-08-02T09:03:19.279734Z"
        },
        "trusted": true,
        "id": "kMrty4FBgUb4"
      },
      "execution_count": null,
      "outputs": []
    },
    {
      "cell_type": "code",
      "source": [
        "from sklearn.ensemble import RandomForestRegressor, GradientBoostingRegressor\n",
        "from xgboost import XGBRegressor\n",
        "import lightgbm as lgb\n",
        "from sklearn.metrics import mean_absolute_error, mean_squared_error\n",
        "from math import sqrt"
      ],
      "metadata": {
        "execution": {
          "iopub.status.busy": "2022-08-02T09:03:19.283897Z",
          "iopub.execute_input": "2022-08-02T09:03:19.284322Z",
          "iopub.status.idle": "2022-08-02T09:03:19.289754Z",
          "shell.execute_reply.started": "2022-08-02T09:03:19.284287Z",
          "shell.execute_reply": "2022-08-02T09:03:19.288745Z"
        },
        "trusted": true,
        "id": "SJGn1mExgUb4"
      },
      "execution_count": null,
      "outputs": []
    },
    {
      "cell_type": "code",
      "source": [
        "from sklearn.tree import DecisionTreeRegressor\n",
        "from sklearn.metrics import mean_squared_error, r2_score, explained_variance_score, max_error, mean_absolute_error\n",
        "\n",
        "# Créer un modèle d'arbre de décision\n",
        "dt = DecisionTreeRegressor()\n",
        "\n",
        "# Entraîner le modèle sur les données d'apprentissage\n",
        "dt.fit(X_train, y_train)\n",
        "\n",
        "# Faire des prédictions sur les données de test\n",
        "y_pred = dt.predict(X_test)\n",
        "\n",
        "# Calculer les métriques de performance\n",
        "mse = mean_squared_error(y_test, y_pred)\n",
        "r2 = r2_score(y_test, y_pred)\n",
        "evs = explained_variance_score(y_test, y_pred)\n",
        "me = max_error(y_test, y_pred)\n",
        "mae = mean_absolute_error(y_test, y_pred)\n",
        "\n",
        "# Afficher les résultats\n",
        "print(\"Erreur quadratique moyenne : \", mse)\n",
        "print(\"Coefficient de détermination (R²) : \", r2)\n",
        "print(\"Score de variance expliquée : \", evs)\n",
        "print(\"Erreur maximale : \", me)\n",
        "print(\"Erreur absolue moyenne : \", mae)"
      ],
      "metadata": {
        "colab": {
          "base_uri": "https://localhost:8080/"
        },
        "id": "_o5G3iyMhw6G",
        "outputId": "43b22c32-2ec3-4f46-b1da-0761e1411e84"
      },
      "execution_count": null,
      "outputs": [
        {
          "output_type": "stream",
          "name": "stdout",
          "text": [
            "Mean Squared Error: 10312.600389193072\n",
            "Mean Absolute Error: 60.565986110657526\n",
            "Root Mean Absolute Error: 101.55097433896472\n",
            "R2 score: 0.06101088883104766\n"
          ]
        }
      ]
    },
    {
      "cell_type": "code",
      "source": [
        "from sklearn.ensemble import RandomForestRegressor\n",
        "from sklearn.metrics import mean_squared_error, r2_score, explained_variance_score, max_error, mean_absolute_error\n",
        "\n",
        "# Créer un modèle de forêt aléatoire avec 100 arbres\n",
        "rf = RandomForestRegressor()\n",
        "\n",
        "# Entraîner le modèle sur les données d'apprentissage\n",
        "rf.fit(X_train, y_train)\n",
        "\n",
        "# Faire des prédictions sur les données de test\n",
        "y_pred = rf.predict(X_test)\n",
        "\n",
        "# Calculer les métriques de performance\n",
        "mse = mean_squared_error(y_test, y_pred)\n",
        "r2 = r2_score(y_test, y_pred)\n",
        "evs = explained_variance_score(y_test, y_pred)\n",
        "me = max_error(y_test, y_pred)\n",
        "mae = mean_absolute_error(y_test, y_pred)\n",
        "\n",
        "# Afficher les résultats\n",
        "print(\"Erreur quadratique moyenne : \", mse)\n",
        "print(\"Coefficient de détermination (R²) : \", r2)\n",
        "print(\"Score de variance expliquée : \", evs)\n",
        "print(\"Erreur maximale : \", me)\n",
        "print(\"Erreur absolue moyenne : \", mae)\n"
      ],
      "metadata": {
        "colab": {
          "base_uri": "https://localhost:8080/"
        },
        "id": "59AwOZW1lur-",
        "outputId": "9d9abe8a-f386-4a69-abae-ae63af8f7c51"
      },
      "execution_count": null,
      "outputs": [
        {
          "output_type": "stream",
          "name": "stdout",
          "text": [
            "Erreur quadratique moyenne :  6476.7696705438175\n",
            "Coefficient de détermination (R²) :  0.4044885595197183\n",
            "Score de variance expliquée :  0.40572164887250783\n",
            "Erreur maximale :  638.18\n",
            "Erreur absolue moyenne :  50.85103331798579\n"
          ]
        }
      ]
    },
    {
      "cell_type": "code",
      "source": [
        "from sklearn.model_selection import GridSearchCV\n",
        "from sklearn.ensemble import RandomForestRegressor\n",
        "\n",
        "# Définir les hyperparamètres à tester avec la grille de recherche\n",
        "param_grid = {\n",
        "    'n_estimators': [50, 100, 200],\n",
        "    'max_depth': [None, 10, 20],\n",
        "    'min_samples_split': [2, 5, 10],\n",
        "    'min_samples_leaf': [1, 2, 4]\n",
        "}\n",
        "\n",
        "# Créer un modèle de forêt aléatoire\n",
        "rf = RandomForestRegressor(random_state=1)\n",
        "\n",
        "# Créer un objet GridSearchCV pour faire la recherche de grille sans validation croisée\n",
        "grid_search = GridSearchCV(rf, param_grid)\n",
        "\n",
        "# Entraîner le modèle sur les données avec la recherche de grille sans validation croisée\n",
        "grid_search.fit(X, y)\n",
        "\n",
        "# Afficher les meilleurs hyperparamètres trouvés\n",
        "print(\"Meilleurs hyperparamètres : \", grid_search.best_params_)\n",
        "\n",
        "# Entraîner le modèle de forêt aléatoire sur les données avec les meilleurs hyperparamètres trouvés\n",
        "best_rf = RandomForestRegressor(random_state=1, **grid_search.best_params_)\n",
        "best_rf.fit(X, y)\n",
        "\n",
        "predictions = best_rf.predict(X_test)\n",
        "\n",
        "# Calculer le MSE et le R2 des prédictions\n",
        "mse = mean_squared_error(y_test, predictions)\n",
        "r2 = r2_score(y_test, predictions)\n",
        "\n",
        "# Calculer les métriques de performance avec le meilleur modèle\n",
        "mse = mean_squared_error(y_test, predictions)\n",
        "r2 = r2_score(y_test, predictions)\n",
        "evs = explained_variance_score(y_test, predictions)\n",
        "me = max_error(y_test, predictions)\n",
        "mae = mean_absolute_error(y_test, predictions)\n",
        "\n",
        "# Afficher les résultats avec le meilleur modèle\n",
        "print(\"Erreur quadratique moyenne : \", mse)\n",
        "print(\"Coefficient de détermination (R²) : \", r2)\n",
        "print(\"Score de variance expliquée : \", evs)\n",
        "print(\"Erreur maximale : \", me)\n",
        "print(\"Erreur absolue moyenne : \", mae)\n"
      ],
      "metadata": {
        "colab": {
          "base_uri": "https://localhost:8080/"
        },
        "id": "8m1PfaoHm9-C",
        "outputId": "8a124496-be7f-4645-aee4-793dfccba2a1"
      },
      "execution_count": null,
      "outputs": [
        {
          "output_type": "stream",
          "name": "stdout",
          "text": [
            "Meilleurs hyperparamètres :  {'max_depth': 10, 'min_samples_leaf': 2, 'min_samples_split': 10, 'n_estimators': 200}\n",
            "Erreur quadratique moyenne :  4314.091228266287\n",
            "Coefficient de détermination (R²) :  0.6033376494161338\n",
            "Score de variance expliquée :  0.60333978731576\n",
            "Erreur maximale :  529.8420622583523\n",
            "Erreur absolue moyenne :  40.81921709995759\n"
          ]
        }
      ]
    },
    {
      "cell_type": "markdown",
      "source": [
        "## random forest avec Kfold et Grid search"
      ],
      "metadata": {
        "id": "Cf2L945dvqsB"
      }
    },
    {
      "cell_type": "code",
      "source": [
        "from sklearn.model_selection import GridSearchCV, KFold\n",
        "from sklearn.ensemble import RandomForestRegressor\n",
        "from sklearn.metrics import mean_squared_error, r2_score, explained_variance_score, max_error, mean_absolute_error\n",
        "\n",
        "# Définir les hyperparamètres à tester avec la grille de recherche\n",
        "param_grid = {\n",
        "    'n_estimators': [50, 100, 200],\n",
        "    'max_depth': [None, 10, 20],\n",
        "    'min_samples_split': [2, 5, 10],\n",
        "    'min_samples_leaf': [1, 2, 4]\n",
        "}\n",
        "\n",
        "# Créer un modèle de forêt aléatoire\n",
        "rf = RandomForestRegressor(random_state=1) # pour avoir un résultat cohérents si on exécute plusieurs fois le même code\n",
        "\n",
        "# Créer un objet GridSearchCV pour faire la recherche de grille avec validation croisée\n",
        "kf = KFold(n_splits=5, shuffle=True, random_state=1)\n",
        "grid_search = GridSearchCV(rf, param_grid, cv=kf)\n",
        "\n",
        "# Entraîner le modèle sur les données avec la recherche de grille avec validation croisée\n",
        "grid_search.fit(X, y)\n",
        "\n",
        "# Afficher les meilleurs hyperparamètres trouvés\n",
        "print(\"Meilleurs hyperparamètres : \", grid_search.best_params_)\n",
        "\n",
        "# Entraîner le modèle de forêt aléatoire sur les données avec les meilleurs hyperparamètres trouvés\n",
        "best_rf = RandomForestRegressor(random_state=1, **grid_search.best_params_)\n",
        "best_rf.fit(X, y)\n",
        "\n",
        "predictions = best_rf.predict(X_test)\n",
        "\n",
        "# Calculer le MSE et le R2 des prédictions\n",
        "mse = mean_squared_error(y_test, predictions)\n",
        "r2 = r2_score(y_test, predictions)\n",
        "\n",
        "# Calculer les métriques de performance avec le meilleur modèle\n",
        "mse = mean_squared_error(y_test, predictions)\n",
        "r2 = r2_score(y_test, predictions)\n",
        "evs = explained_variance_score(y_test, predictions)\n",
        "me = max_error(y_test, predictions)\n",
        "mae = mean_absolute_error(y_test, predictions)\n",
        "\n",
        "# Afficher les résultats avec le meilleur modèle\n",
        "print(\"Erreur quadratique moyenne : \", mse)\n",
        "print(\"Coefficient de détermination (R²) : \", r2)\n",
        "print(\"Score de variance expliquée : \", evs)\n",
        "print(\"Erreur maximale : \", me)\n",
        "print(\"Erreur absolue moyenne : \", mae)\n"
      ],
      "metadata": {
        "colab": {
          "base_uri": "https://localhost:8080/"
        },
        "id": "6blL4c-OrBRB",
        "outputId": "b9e4dd17-1a17-4092-88e3-9d21a80222b3"
      },
      "execution_count": null,
      "outputs": [
        {
          "output_type": "stream",
          "name": "stdout",
          "text": [
            "Meilleurs hyperparamètres :  {'max_depth': 10, 'min_samples_leaf': 2, 'min_samples_split': 10, 'n_estimators': 200}\n",
            "Erreur quadratique moyenne :  4314.091228266287\n",
            "Coefficient de détermination (R²) :  0.6033376494161338\n",
            "Score de variance expliquée :  0.60333978731576\n",
            "Erreur maximale :  529.8420622583523\n",
            "Erreur absolue moyenne :  40.81921709995759\n"
          ]
        }
      ]
    },
    {
      "cell_type": "code",
      "source": [
        "from sklearn.ensemble import AdaBoostRegressor\n",
        "from sklearn.metrics import mean_squared_error, r2_score, explained_variance_score, max_error, mean_absolute_error\n",
        "\n",
        "# Créer un modèle Adaboost avec 100 arbres de décision\n",
        "ada = AdaBoostRegressor()\n",
        "\n",
        "# Entraîner le modèle sur les données d'apprentissage\n",
        "ada.fit(X_train, y_train)\n",
        "\n",
        "# Faire des prédictions sur les données de test\n",
        "y_pred = ada.predict(X_test)\n",
        "\n",
        "# Calculer les métriques de performance\n",
        "mse = mean_squared_error(y_test, y_pred)\n",
        "r2 = r2_score(y_test, y_pred)\n",
        "evs = explained_variance_score(y_test, y_pred)\n",
        "me = max_error(y_test, y_pred)\n",
        "mae = mean_absolute_error(y_test, y_pred)\n",
        "\n",
        "# Afficher les résultats\n",
        "print(\"Erreur quadratique moyenne : \", mse)\n",
        "print(\"Coefficient de détermination (R²) : \", r2)\n",
        "print(\"Score de variance expliquée : \", evs)\n",
        "print(\"Erreur maximale : \", me)\n",
        "print(\"Erreur absolue moyenne : \", mae)\n"
      ],
      "metadata": {
        "colab": {
          "base_uri": "https://localhost:8080/"
        },
        "id": "3yRKMSTbmN0X",
        "outputId": "b6179407-3de3-4454-a0b6-99918642c8a8"
      },
      "execution_count": null,
      "outputs": [
        {
          "output_type": "stream",
          "name": "stdout",
          "text": [
            "Erreur quadratique moyenne :  9172.43623456643\n",
            "Coefficient de détermination (R²) :  0.15663347739498223\n",
            "Score de variance expliquée :  0.3164347652880263\n",
            "Erreur maximale :  616.4219178082192\n",
            "Erreur absolue moyenne :  72.07016835909123\n"
          ]
        }
      ]
    },
    {
      "cell_type": "code",
      "source": [
        "import xgboost as xgb\n",
        "from sklearn.metrics import mean_squared_error, r2_score, explained_variance_score, max_error, mean_absolute_error\n",
        "\n",
        "# Convertir les données en format spécifique pour XGBoost\n",
        "dtrain = xgb.DMatrix(X_train, label=y_train)\n",
        "dtest = xgb.DMatrix(X_test, label=y_test)\n",
        "\n",
        "# Définir les paramètres du modèle\n",
        "params = {'objective':'reg:squarederror', 'eval_metric':'rmse', 'seed':1}\n",
        "\n",
        "# Entraîner le modèle sur les données d'apprentissage\n",
        "xgb_model = xgb.train(params, dtrain)\n",
        "\n",
        "# Faire des prédictions sur les données de test\n",
        "y_pred = xgb_model.predict(dtest)\n",
        "\n",
        "# Calculer les métriques de performance\n",
        "mse = mean_squared_error(y_test, y_pred)\n",
        "r2 = r2_score(y_test, y_pred)\n",
        "evs = explained_variance_score(y_test, y_pred)\n",
        "me = max_error(y_test, y_pred)\n",
        "mae = mean_absolute_error(y_test, y_pred)\n",
        "\n",
        "# Afficher les résultats\n",
        "print(\"Erreur quadratique moyenne : \", mse)\n",
        "print(\"Coefficient de détermination (R²) : \", r2)\n",
        "print(\"Score de variance expliquée : \", evs)\n",
        "print(\"Erreur maximale : \", me)\n",
        "print(\"Erreur absolue moyenne : \", mae)\n"
      ],
      "metadata": {
        "colab": {
          "base_uri": "https://localhost:8080/"
        },
        "id": "w_KHOBDhmbUu",
        "outputId": "ad54d51e-b990-43f7-9c72-b01137bf1098"
      },
      "execution_count": null,
      "outputs": [
        {
          "output_type": "stream",
          "name": "stdout",
          "text": [
            "Erreur quadratique moyenne :  6143.192398517417\n",
            "Coefficient de détermination (R²) :  0.43515957174968456\n",
            "Score de variance expliquée :  0.4366007168009327\n",
            "Erreur maximale :  642.7522048950195\n",
            "Erreur absolue moyenne :  47.404398782730105\n"
          ]
        }
      ]
    },
    {
      "cell_type": "markdown",
      "source": [
        "* Gradient Boosting Regressor"
      ],
      "metadata": {
        "id": "OfbmWK_DgUb4"
      }
    },
    {
      "cell_type": "code",
      "source": [
        "from sklearn.ensemble import GradientBoostingRegressor\n",
        "from sklearn.metrics import mean_squared_error, r2_score, explained_variance_score, max_error, mean_absolute_error\n",
        "from sklearn.model_selection import train_test_split\n",
        "\n",
        "# Diviser les données en ensembles d'apprentissage et de test\n",
        "X_train, X_test, y_train, y_test = train_test_split(X, y, test_size=0.2, random_state=1)\n",
        "\n",
        "# Définir le modèle de Gradient Boosting Regressor avec des hyperparamètres par défaut\n",
        "gbr = GradientBoostingRegressor(random_state=1)\n",
        "\n",
        "# Entraîner le modèle sur les données d'apprentissage\n",
        "gbr.fit(X_train, y_train)\n",
        "\n",
        "# Faire des prédictions sur les données de test\n",
        "y_pred = gbr.predict(X_test)\n",
        "\n",
        "# Calculer les métriques de performance\n",
        "mse = mean_squared_error(y_test, y_pred)\n",
        "r2 = r2_score(y_test, y_pred)\n",
        "evs = explained_variance_score(y_test, y_pred)\n",
        "me = max_error(y_test, y_pred)\n",
        "mae = mean_absolute_error(y_test, y_pred)\n",
        "\n",
        "# Afficher les résultats\n",
        "print(\"Erreur quadratique moyenne : \", mse)\n",
        "print(\"Coefficient de détermination (R²) : \", r2)\n",
        "print(\"Score de variance expliquée : \", evs)\n",
        "print(\"Erreur maximale : \", me)\n",
        "print(\"Erreur absolue moyenne : \", mae)\n"
      ],
      "metadata": {
        "colab": {
          "base_uri": "https://localhost:8080/"
        },
        "id": "d0xvllDd0VkZ",
        "outputId": "5d9fcae9-06d9-4068-fff0-205da73f020a"
      },
      "execution_count": null,
      "outputs": [
        {
          "output_type": "stream",
          "name": "stdout",
          "text": [
            "Erreur quadratique moyenne :  6261.87756168091\n",
            "Coefficient de détermination (R²) :  0.42847760416890834\n",
            "Score de variance expliquée :  0.42853086452947364\n",
            "Erreur maximale :  649.8447512701152\n",
            "Erreur absolue moyenne :  48.342658779729284\n"
          ]
        }
      ]
    },
    {
      "cell_type": "markdown",
      "source": [
        "* LGBM Regressor"
      ],
      "metadata": {
        "id": "hTu_WFgrgUb5"
      }
    },
    {
      "cell_type": "code",
      "source": [
        "from lightgbm import LGBMRegressor\n",
        "from sklearn.metrics import mean_squared_error, r2_score, explained_variance_score, max_error, mean_absolute_error\n",
        "from sklearn.model_selection import train_test_split\n",
        "\n",
        "# Diviser les données en ensembles d'apprentissage et de test\n",
        "X_train, X_test, y_train, y_test = train_test_split(X, y, test_size=0.2, random_state=1)\n",
        "\n",
        "# Définir le modèle de LGBM Regressor avec des hyperparamètres par défaut\n",
        "lgbm = LGBMRegressor(random_state=1)\n",
        "\n",
        "# Entraîner le modèle sur les données d'apprentissage\n",
        "lgbm.fit(X_train, y_train)\n",
        "\n",
        "# Faire des prédictions sur les données de test\n",
        "y_pred = lgbm.predict(X_test)\n",
        "\n",
        "# Calculer les métriques de performance\n",
        "mse = mean_squared_error(y_test, y_pred)\n",
        "r2 = r2_score(y_test, y_pred)\n",
        "evs = explained_variance_score(y_test, y_pred)\n",
        "me = max_error(y_test, y_pred)\n",
        "mae = mean_absolute_error(y_test, y_pred)\n",
        "\n",
        "# Afficher les résultats\n",
        "print(\"Erreur quadratique moyenne : \", mse)\n",
        "print(\"Coefficient de détermination (R²) : \", r2)\n",
        "print(\"Score de variance expliquée : \", evs)\n",
        "print(\"Erreur maximale : \", me)\n",
        "print(\"Erreur absolue moyenne : \", mae)\n"
      ],
      "metadata": {
        "colab": {
          "base_uri": "https://localhost:8080/"
        },
        "id": "q7zQjl870iZY",
        "outputId": "67b01457-f5dd-4d02-8962-9c58ddda4a40"
      },
      "execution_count": null,
      "outputs": [
        {
          "output_type": "stream",
          "name": "stdout",
          "text": [
            "Erreur quadratique moyenne :  6088.698464147912\n",
            "Coefficient de détermination (R²) :  0.44428368337678037\n",
            "Score de variance expliquée :  0.4442875295841836\n",
            "Erreur maximale :  636.913646881294\n",
            "Erreur absolue moyenne :  46.856258502529776\n"
          ]
        }
      ]
    },
    {
      "cell_type": "markdown",
      "source": [
        "# MODEL ANALYZING"
      ],
      "metadata": {
        "id": "sb_Qw98vgUb6"
      }
    }
  ]
}