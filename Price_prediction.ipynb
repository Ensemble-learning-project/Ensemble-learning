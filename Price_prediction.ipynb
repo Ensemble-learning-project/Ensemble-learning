{
 "cells": [
  {
   "cell_type": "code",
   "execution_count": 1,
   "metadata": {
    "_cell_guid": "b1076dfc-b9ad-4769-8c92-a6c4dae69d19",
    "_uuid": "8f2839f25d086af736a60e9eeb907d3b93b6e0e5",
    "colab": {
     "base_uri": "https://localhost:8080/"
    },
    "execution": {
     "iopub.execute_input": "2022-08-02T09:02:56.701558Z",
     "iopub.status.busy": "2022-08-02T09:02:56.700901Z",
     "iopub.status.idle": "2022-08-02T09:02:56.712940Z",
     "shell.execute_reply": "2022-08-02T09:02:56.711989Z",
     "shell.execute_reply.started": "2022-08-02T09:02:56.701506Z"
    },
    "id": "zfzW9qnAgUbl",
    "outputId": "cad7226d-90cb-4bb7-ba67-544a65e8923a"
   },
   "outputs": [
    {
     "name": "stdout",
     "output_type": "stream",
     "text": [
      "Mounted at /content/drive/\n",
      "/content/drive/My Drive/AirBnB\n"
     ]
    }
   ],
   "source": [
    "from google.colab import drive\n",
    "drive.mount('/content/drive/')\n",
    "\n",
    "%cd /content/drive/My Drive/AirBnB"
   ]
  },
  {
   "cell_type": "markdown",
   "metadata": {
    "id": "Jz-dIMpUgUbp"
   },
   "source": [
    "# Importing Data"
   ]
  },
  {
   "cell_type": "code",
   "execution_count": 1,
   "metadata": {
    "id": "ZfU6BnjWHiAo"
   },
   "outputs": [
    {
     "name": "stderr",
     "output_type": "stream",
     "text": [
      "C:\\Users\\predator\\anaconda4\\lib\\site-packages\\scipy\\__init__.py:138: UserWarning: A NumPy version >=1.16.5 and <1.23.0 is required for this version of SciPy (detected version 1.24.2)\n",
      "  warnings.warn(f\"A NumPy version >={np_minversion} and <{np_maxversion} is required for this version of \"\n"
     ]
    }
   ],
   "source": [
    "import numpy as np\n",
    "import pandas as pd \n",
    "import seaborn as sns\n",
    "import matplotlib.pyplot as plt"
   ]
  },
  {
   "cell_type": "code",
   "execution_count": 2,
   "metadata": {
    "execution": {
     "iopub.execute_input": "2022-08-02T09:02:56.723958Z",
     "iopub.status.busy": "2022-08-02T09:02:56.723274Z",
     "iopub.status.idle": "2022-08-02T09:02:56.894511Z",
     "shell.execute_reply": "2022-08-02T09:02:56.893353Z",
     "shell.execute_reply.started": "2022-08-02T09:02:56.723893Z"
    },
    "id": "lsApugm4gUbr"
   },
   "outputs": [],
   "source": [
    "df =pd.read_csv('AB_NYC_2019.csv')"
   ]
  },
  {
   "cell_type": "code",
   "execution_count": 3,
   "metadata": {
    "colab": {
     "base_uri": "https://localhost:8080/",
     "height": 461
    },
    "execution": {
     "iopub.execute_input": "2022-08-02T09:02:56.896069Z",
     "iopub.status.busy": "2022-08-02T09:02:56.895727Z",
     "iopub.status.idle": "2022-08-02T09:02:56.915527Z",
     "shell.execute_reply": "2022-08-02T09:02:56.914521Z",
     "shell.execute_reply.started": "2022-08-02T09:02:56.896040Z"
    },
    "id": "U5i8cRM_gUbs",
    "outputId": "a6b9e3b2-225f-4b43-d293-ce17e83c479d"
   },
   "outputs": [
    {
     "data": {
      "text/html": [
       "<div>\n",
       "<style scoped>\n",
       "    .dataframe tbody tr th:only-of-type {\n",
       "        vertical-align: middle;\n",
       "    }\n",
       "\n",
       "    .dataframe tbody tr th {\n",
       "        vertical-align: top;\n",
       "    }\n",
       "\n",
       "    .dataframe thead th {\n",
       "        text-align: right;\n",
       "    }\n",
       "</style>\n",
       "<table border=\"1\" class=\"dataframe\">\n",
       "  <thead>\n",
       "    <tr style=\"text-align: right;\">\n",
       "      <th></th>\n",
       "      <th>id</th>\n",
       "      <th>name</th>\n",
       "      <th>host_id</th>\n",
       "      <th>host_name</th>\n",
       "      <th>neighbourhood_group</th>\n",
       "      <th>neighbourhood</th>\n",
       "      <th>latitude</th>\n",
       "      <th>longitude</th>\n",
       "      <th>room_type</th>\n",
       "      <th>price</th>\n",
       "      <th>minimum_nights</th>\n",
       "      <th>number_of_reviews</th>\n",
       "      <th>last_review</th>\n",
       "      <th>reviews_per_month</th>\n",
       "      <th>calculated_host_listings_count</th>\n",
       "      <th>availability_365</th>\n",
       "    </tr>\n",
       "  </thead>\n",
       "  <tbody>\n",
       "    <tr>\n",
       "      <th>0</th>\n",
       "      <td>2539</td>\n",
       "      <td>Clean &amp; quiet apt home by the park</td>\n",
       "      <td>2787</td>\n",
       "      <td>John</td>\n",
       "      <td>Brooklyn</td>\n",
       "      <td>Kensington</td>\n",
       "      <td>40.64749</td>\n",
       "      <td>-73.97237</td>\n",
       "      <td>Private room</td>\n",
       "      <td>149</td>\n",
       "      <td>1</td>\n",
       "      <td>9</td>\n",
       "      <td>2018-10-19</td>\n",
       "      <td>0.21</td>\n",
       "      <td>6</td>\n",
       "      <td>365</td>\n",
       "    </tr>\n",
       "    <tr>\n",
       "      <th>1</th>\n",
       "      <td>2595</td>\n",
       "      <td>Skylit Midtown Castle</td>\n",
       "      <td>2845</td>\n",
       "      <td>Jennifer</td>\n",
       "      <td>Manhattan</td>\n",
       "      <td>Midtown</td>\n",
       "      <td>40.75362</td>\n",
       "      <td>-73.98377</td>\n",
       "      <td>Entire home/apt</td>\n",
       "      <td>225</td>\n",
       "      <td>1</td>\n",
       "      <td>45</td>\n",
       "      <td>2019-05-21</td>\n",
       "      <td>0.38</td>\n",
       "      <td>2</td>\n",
       "      <td>355</td>\n",
       "    </tr>\n",
       "    <tr>\n",
       "      <th>2</th>\n",
       "      <td>3647</td>\n",
       "      <td>THE VILLAGE OF HARLEM....NEW YORK !</td>\n",
       "      <td>4632</td>\n",
       "      <td>Elisabeth</td>\n",
       "      <td>Manhattan</td>\n",
       "      <td>Harlem</td>\n",
       "      <td>40.80902</td>\n",
       "      <td>-73.94190</td>\n",
       "      <td>Private room</td>\n",
       "      <td>150</td>\n",
       "      <td>3</td>\n",
       "      <td>0</td>\n",
       "      <td>NaN</td>\n",
       "      <td>NaN</td>\n",
       "      <td>1</td>\n",
       "      <td>365</td>\n",
       "    </tr>\n",
       "    <tr>\n",
       "      <th>3</th>\n",
       "      <td>3831</td>\n",
       "      <td>Cozy Entire Floor of Brownstone</td>\n",
       "      <td>4869</td>\n",
       "      <td>LisaRoxanne</td>\n",
       "      <td>Brooklyn</td>\n",
       "      <td>Clinton Hill</td>\n",
       "      <td>40.68514</td>\n",
       "      <td>-73.95976</td>\n",
       "      <td>Entire home/apt</td>\n",
       "      <td>89</td>\n",
       "      <td>1</td>\n",
       "      <td>270</td>\n",
       "      <td>2019-07-05</td>\n",
       "      <td>4.64</td>\n",
       "      <td>1</td>\n",
       "      <td>194</td>\n",
       "    </tr>\n",
       "    <tr>\n",
       "      <th>4</th>\n",
       "      <td>5022</td>\n",
       "      <td>Entire Apt: Spacious Studio/Loft by central park</td>\n",
       "      <td>7192</td>\n",
       "      <td>Laura</td>\n",
       "      <td>Manhattan</td>\n",
       "      <td>East Harlem</td>\n",
       "      <td>40.79851</td>\n",
       "      <td>-73.94399</td>\n",
       "      <td>Entire home/apt</td>\n",
       "      <td>80</td>\n",
       "      <td>10</td>\n",
       "      <td>9</td>\n",
       "      <td>2018-11-19</td>\n",
       "      <td>0.10</td>\n",
       "      <td>1</td>\n",
       "      <td>0</td>\n",
       "    </tr>\n",
       "  </tbody>\n",
       "</table>\n",
       "</div>"
      ],
      "text/plain": [
       "     id                                              name  host_id  \\\n",
       "0  2539                Clean & quiet apt home by the park     2787   \n",
       "1  2595                             Skylit Midtown Castle     2845   \n",
       "2  3647               THE VILLAGE OF HARLEM....NEW YORK !     4632   \n",
       "3  3831                   Cozy Entire Floor of Brownstone     4869   \n",
       "4  5022  Entire Apt: Spacious Studio/Loft by central park     7192   \n",
       "\n",
       "     host_name neighbourhood_group neighbourhood  latitude  longitude  \\\n",
       "0         John            Brooklyn    Kensington  40.64749  -73.97237   \n",
       "1     Jennifer           Manhattan       Midtown  40.75362  -73.98377   \n",
       "2    Elisabeth           Manhattan        Harlem  40.80902  -73.94190   \n",
       "3  LisaRoxanne            Brooklyn  Clinton Hill  40.68514  -73.95976   \n",
       "4        Laura           Manhattan   East Harlem  40.79851  -73.94399   \n",
       "\n",
       "         room_type  price  minimum_nights  number_of_reviews last_review  \\\n",
       "0     Private room    149               1                  9  2018-10-19   \n",
       "1  Entire home/apt    225               1                 45  2019-05-21   \n",
       "2     Private room    150               3                  0         NaN   \n",
       "3  Entire home/apt     89               1                270  2019-07-05   \n",
       "4  Entire home/apt     80              10                  9  2018-11-19   \n",
       "\n",
       "   reviews_per_month  calculated_host_listings_count  availability_365  \n",
       "0               0.21                               6               365  \n",
       "1               0.38                               2               355  \n",
       "2                NaN                               1               365  \n",
       "3               4.64                               1               194  \n",
       "4               0.10                               1                 0  "
      ]
     },
     "execution_count": 3,
     "metadata": {},
     "output_type": "execute_result"
    }
   ],
   "source": [
    "df.head()"
   ]
  },
  {
   "cell_type": "markdown",
   "metadata": {
    "id": "6zCDbGaiu5hP"
   },
   "source": [
    "# Exploratory Data Analysis (EDA)"
   ]
  },
  {
   "cell_type": "code",
   "execution_count": 4,
   "metadata": {
    "colab": {
     "base_uri": "https://localhost:8080/"
    },
    "execution": {
     "iopub.execute_input": "2022-08-02T09:02:56.917587Z",
     "iopub.status.busy": "2022-08-02T09:02:56.917022Z",
     "iopub.status.idle": "2022-08-02T09:02:56.948796Z",
     "shell.execute_reply": "2022-08-02T09:02:56.947800Z",
     "shell.execute_reply.started": "2022-08-02T09:02:56.917555Z"
    },
    "id": "I2ovpIjLgUbs",
    "outputId": "e2213f16-888a-4fed-d281-f377346eea75"
   },
   "outputs": [
    {
     "name": "stdout",
     "output_type": "stream",
     "text": [
      "<class 'pandas.core.frame.DataFrame'>\n",
      "RangeIndex: 48895 entries, 0 to 48894\n",
      "Data columns (total 16 columns):\n",
      " #   Column                          Non-Null Count  Dtype  \n",
      "---  ------                          --------------  -----  \n",
      " 0   id                              48895 non-null  int64  \n",
      " 1   name                            48879 non-null  object \n",
      " 2   host_id                         48895 non-null  int64  \n",
      " 3   host_name                       48874 non-null  object \n",
      " 4   neighbourhood_group             48895 non-null  object \n",
      " 5   neighbourhood                   48895 non-null  object \n",
      " 6   latitude                        48895 non-null  float64\n",
      " 7   longitude                       48895 non-null  float64\n",
      " 8   room_type                       48895 non-null  object \n",
      " 9   price                           48895 non-null  int64  \n",
      " 10  minimum_nights                  48895 non-null  int64  \n",
      " 11  number_of_reviews               48895 non-null  int64  \n",
      " 12  last_review                     38843 non-null  object \n",
      " 13  reviews_per_month               38843 non-null  float64\n",
      " 14  calculated_host_listings_count  48895 non-null  int64  \n",
      " 15  availability_365                48895 non-null  int64  \n",
      "dtypes: float64(3), int64(7), object(6)\n",
      "memory usage: 6.0+ MB\n"
     ]
    }
   ],
   "source": [
    "df.info()"
   ]
  },
  {
   "cell_type": "code",
   "execution_count": 5,
   "metadata": {
    "colab": {
     "base_uri": "https://localhost:8080/"
    },
    "id": "0XsxTkQqvDVw",
    "outputId": "037a2a40-913e-4657-bb16-99777ee03f55"
   },
   "outputs": [
    {
     "data": {
      "text/plain": [
       "(48895, 16)"
      ]
     },
     "execution_count": 5,
     "metadata": {},
     "output_type": "execute_result"
    }
   ],
   "source": [
    "df.shape"
   ]
  },
  {
   "cell_type": "markdown",
   "metadata": {},
   "source": [
    "we have 48895 lines and 16 columns"
   ]
  },
  {
   "cell_type": "code",
   "execution_count": 6,
   "metadata": {
    "colab": {
     "base_uri": "https://localhost:8080/"
    },
    "execution": {
     "iopub.execute_input": "2022-08-02T09:02:56.950718Z",
     "iopub.status.busy": "2022-08-02T09:02:56.950129Z",
     "iopub.status.idle": "2022-08-02T09:02:57.014543Z",
     "shell.execute_reply": "2022-08-02T09:02:57.013597Z",
     "shell.execute_reply.started": "2022-08-02T09:02:56.950681Z"
    },
    "id": "Fb-gsYESgUbs",
    "outputId": "8581bf26-819d-4790-c0ee-3636a2319a29"
   },
   "outputs": [
    {
     "data": {
      "text/plain": [
       "<bound method NDFrame.describe of              id                                               name   host_id  \\\n",
       "0          2539                 Clean & quiet apt home by the park      2787   \n",
       "1          2595                              Skylit Midtown Castle      2845   \n",
       "2          3647                THE VILLAGE OF HARLEM....NEW YORK !      4632   \n",
       "3          3831                    Cozy Entire Floor of Brownstone      4869   \n",
       "4          5022   Entire Apt: Spacious Studio/Loft by central park      7192   \n",
       "...         ...                                                ...       ...   \n",
       "48890  36484665    Charming one bedroom - newly renovated rowhouse   8232441   \n",
       "48891  36485057      Affordable room in Bushwick/East Williamsburg   6570630   \n",
       "48892  36485431            Sunny Studio at Historical Neighborhood  23492952   \n",
       "48893  36485609               43rd St. Time Square-cozy single bed  30985759   \n",
       "48894  36487245  Trendy duplex in the very heart of Hell's Kitchen  68119814   \n",
       "\n",
       "           host_name neighbourhood_group       neighbourhood  latitude  \\\n",
       "0               John            Brooklyn          Kensington  40.64749   \n",
       "1           Jennifer           Manhattan             Midtown  40.75362   \n",
       "2          Elisabeth           Manhattan              Harlem  40.80902   \n",
       "3        LisaRoxanne            Brooklyn        Clinton Hill  40.68514   \n",
       "4              Laura           Manhattan         East Harlem  40.79851   \n",
       "...              ...                 ...                 ...       ...   \n",
       "48890        Sabrina            Brooklyn  Bedford-Stuyvesant  40.67853   \n",
       "48891        Marisol            Brooklyn            Bushwick  40.70184   \n",
       "48892  Ilgar & Aysel           Manhattan              Harlem  40.81475   \n",
       "48893            Taz           Manhattan      Hell's Kitchen  40.75751   \n",
       "48894     Christophe           Manhattan      Hell's Kitchen  40.76404   \n",
       "\n",
       "       longitude        room_type  price  minimum_nights  number_of_reviews  \\\n",
       "0      -73.97237     Private room    149               1                  9   \n",
       "1      -73.98377  Entire home/apt    225               1                 45   \n",
       "2      -73.94190     Private room    150               3                  0   \n",
       "3      -73.95976  Entire home/apt     89               1                270   \n",
       "4      -73.94399  Entire home/apt     80              10                  9   \n",
       "...          ...              ...    ...             ...                ...   \n",
       "48890  -73.94995     Private room     70               2                  0   \n",
       "48891  -73.93317     Private room     40               4                  0   \n",
       "48892  -73.94867  Entire home/apt    115              10                  0   \n",
       "48893  -73.99112      Shared room     55               1                  0   \n",
       "48894  -73.98933     Private room     90               7                  0   \n",
       "\n",
       "      last_review  reviews_per_month  calculated_host_listings_count  \\\n",
       "0      2018-10-19               0.21                               6   \n",
       "1      2019-05-21               0.38                               2   \n",
       "2             NaN                NaN                               1   \n",
       "3      2019-07-05               4.64                               1   \n",
       "4      2018-11-19               0.10                               1   \n",
       "...           ...                ...                             ...   \n",
       "48890         NaN                NaN                               2   \n",
       "48891         NaN                NaN                               2   \n",
       "48892         NaN                NaN                               1   \n",
       "48893         NaN                NaN                               6   \n",
       "48894         NaN                NaN                               1   \n",
       "\n",
       "       availability_365  \n",
       "0                   365  \n",
       "1                   355  \n",
       "2                   365  \n",
       "3                   194  \n",
       "4                     0  \n",
       "...                 ...  \n",
       "48890                 9  \n",
       "48891                36  \n",
       "48892                27  \n",
       "48893                 2  \n",
       "48894                23  \n",
       "\n",
       "[48895 rows x 16 columns]>"
      ]
     },
     "execution_count": 6,
     "metadata": {},
     "output_type": "execute_result"
    }
   ],
   "source": [
    "df.describe"
   ]
  },
  {
   "cell_type": "code",
   "execution_count": 7,
   "metadata": {
    "colab": {
     "base_uri": "https://localhost:8080/"
    },
    "execution": {
     "iopub.execute_input": "2022-08-02T09:02:57.016651Z",
     "iopub.status.busy": "2022-08-02T09:02:57.015904Z",
     "iopub.status.idle": "2022-08-02T09:02:57.023558Z",
     "shell.execute_reply": "2022-08-02T09:02:57.022678Z",
     "shell.execute_reply.started": "2022-08-02T09:02:57.016614Z"
    },
    "id": "5lp48fWUgUbt",
    "outputId": "ed43516a-c76b-4b20-ada1-c6ec2493e2b1"
   },
   "outputs": [
    {
     "data": {
      "text/plain": [
       "Index(['id', 'name', 'host_id', 'host_name', 'neighbourhood_group',\n",
       "       'neighbourhood', 'latitude', 'longitude', 'room_type', 'price',\n",
       "       'minimum_nights', 'number_of_reviews', 'last_review',\n",
       "       'reviews_per_month', 'calculated_host_listings_count',\n",
       "       'availability_365'],\n",
       "      dtype='object')"
      ]
     },
     "execution_count": 7,
     "metadata": {},
     "output_type": "execute_result"
    }
   ],
   "source": [
    "df.columns"
   ]
  },
  {
   "cell_type": "markdown",
   "metadata": {
    "id": "Bs5BmTsfvUDn"
   },
   "source": [
    "## Missing Value"
   ]
  },
  {
   "cell_type": "markdown",
   "metadata": {},
   "source": [
    "check the number of null values in each column and print them in descending order"
   ]
  },
  {
   "cell_type": "code",
   "execution_count": 8,
   "metadata": {
    "colab": {
     "base_uri": "https://localhost:8080/"
    },
    "execution": {
     "iopub.execute_input": "2022-08-02T09:02:57.039668Z",
     "iopub.status.busy": "2022-08-02T09:02:57.039329Z",
     "iopub.status.idle": "2022-08-02T09:02:57.062289Z",
     "shell.execute_reply": "2022-08-02T09:02:57.060824Z",
     "shell.execute_reply.started": "2022-08-02T09:02:57.039639Z"
    },
    "id": "qC_4lHw4gUbu",
    "outputId": "8deff34e-97d1-421d-ff71-29f17943ae3a"
   },
   "outputs": [
    {
     "data": {
      "text/plain": [
       "id                                    0\n",
       "name                                 16\n",
       "host_id                               0\n",
       "host_name                            21\n",
       "neighbourhood_group                   0\n",
       "neighbourhood                         0\n",
       "latitude                              0\n",
       "longitude                             0\n",
       "room_type                             0\n",
       "price                                 0\n",
       "minimum_nights                        0\n",
       "number_of_reviews                     0\n",
       "last_review                       10052\n",
       "reviews_per_month                 10052\n",
       "calculated_host_listings_count        0\n",
       "availability_365                      0\n",
       "dtype: int64"
      ]
     },
     "execution_count": 8,
     "metadata": {},
     "output_type": "execute_result"
    }
   ],
   "source": [
    "df.isna().sum()"
   ]
  },
  {
   "cell_type": "code",
   "execution_count": 9,
   "metadata": {
    "colab": {
     "base_uri": "https://localhost:8080/"
    },
    "id": "1q6DkmcWvZyI",
    "outputId": "66f7d098-dd48-492f-fdef-079d79e4a08b"
   },
   "outputs": [
    {
     "name": "stdout",
     "output_type": "stream",
     "text": [
      "last_review                       10052\n",
      "reviews_per_month                 10052\n",
      "host_name                            21\n",
      "name                                 16\n",
      "id                                    0\n",
      "host_id                               0\n",
      "neighbourhood_group                   0\n",
      "neighbourhood                         0\n",
      "latitude                              0\n",
      "longitude                             0\n",
      "room_type                             0\n",
      "price                                 0\n",
      "minimum_nights                        0\n",
      "number_of_reviews                     0\n",
      "calculated_host_listings_count        0\n",
      "availability_365                      0\n",
      "dtype: int64\n"
     ]
    }
   ],
   "source": [
    "# assuming the dataset is stored in a variable called \"data\"\n",
    "\n",
    "# count the number of null values in each column\n",
    "null_counts = df.isnull().sum()\n",
    "\n",
    "# sort the columns by the number of null values (in descending order)\n",
    "null_counts = null_counts.sort_values(ascending=False)\n",
    "\n",
    "# print the null value counts\n",
    "print(null_counts)\n"
   ]
  },
  {
   "cell_type": "markdown",
   "metadata": {},
   "source": [
    "Since we will be examining the factors that impact the listing price, columns such as \"name\" are not pertinent to our analysis."
   ]
  },
  {
   "cell_type": "code",
   "execution_count": 10,
   "metadata": {
    "execution": {
     "iopub.execute_input": "2022-08-02T09:02:57.025432Z",
     "iopub.status.busy": "2022-08-02T09:02:57.024756Z",
     "iopub.status.idle": "2022-08-02T09:02:57.037954Z",
     "shell.execute_reply": "2022-08-02T09:02:57.036881Z",
     "shell.execute_reply.started": "2022-08-02T09:02:57.025400Z"
    },
    "id": "m5Qob_0kgUbt"
   },
   "outputs": [],
   "source": [
    "df.drop(['id', 'name', 'host_id', 'host_name', 'latitude', 'longitude', 'last_review'], axis=1, inplace=True)"
   ]
  },
  {
   "cell_type": "markdown",
   "metadata": {
    "id": "Y_C5MmDowHwI"
   },
   "source": [
    "columns such as name, host_id, host_name, latitude, longitude are not pertinent to our analysis."
   ]
  },
  {
   "cell_type": "code",
   "execution_count": 11,
   "metadata": {
    "execution": {
     "iopub.execute_input": "2022-08-02T09:02:57.077100Z",
     "iopub.status.busy": "2022-08-02T09:02:57.076660Z",
     "iopub.status.idle": "2022-08-02T09:02:57.098849Z",
     "shell.execute_reply": "2022-08-02T09:02:57.097850Z",
     "shell.execute_reply.started": "2022-08-02T09:02:57.077050Z"
    },
    "id": "6zIJgsylgUbv"
   },
   "outputs": [],
   "source": [
    "# fills all missing values in the DataFrame df with the string '0'\n",
    "df.fillna('0', inplace=True)"
   ]
  },
  {
   "cell_type": "markdown",
   "metadata": {},
   "source": [
    "Therefore, we can safely fill those null values with 0."
   ]
  },
  {
   "cell_type": "code",
   "execution_count": 12,
   "metadata": {
    "colab": {
     "base_uri": "https://localhost:8080/"
    },
    "execution": {
     "iopub.execute_input": "2022-08-02T09:02:57.169716Z",
     "iopub.status.busy": "2022-08-02T09:02:57.169014Z",
     "iopub.status.idle": "2022-08-02T09:02:57.175831Z",
     "shell.execute_reply": "2022-08-02T09:02:57.174987Z",
     "shell.execute_reply.started": "2022-08-02T09:02:57.169681Z"
    },
    "id": "SOB-GGGCgUbw",
    "outputId": "0e3f9465-26b1-41ec-c0ae-6b306e11f0e4"
   },
   "outputs": [
    {
     "data": {
      "text/plain": [
       "(48895, 9)"
      ]
     },
     "execution_count": 12,
     "metadata": {},
     "output_type": "execute_result"
    }
   ],
   "source": [
    "df.shape"
   ]
  },
  {
   "cell_type": "markdown",
   "metadata": {},
   "source": [
    "now, we have 48895 lines and 9 columns"
   ]
  },
  {
   "cell_type": "markdown",
   "metadata": {
    "id": "PJM359FvneQ3"
   },
   "source": [
    "## Outliers"
   ]
  },
  {
   "cell_type": "code",
   "execution_count": 13,
   "metadata": {
    "colab": {
     "base_uri": "https://localhost:8080/",
     "height": 300
    },
    "execution": {
     "iopub.execute_input": "2022-08-02T09:02:57.177760Z",
     "iopub.status.busy": "2022-08-02T09:02:57.177085Z",
     "iopub.status.idle": "2022-08-02T09:02:57.215360Z",
     "shell.execute_reply": "2022-08-02T09:02:57.214256Z",
     "shell.execute_reply.started": "2022-08-02T09:02:57.177728Z"
    },
    "id": "-EVXq8GegUbw",
    "outputId": "eca1033b-b20d-4b03-d5ba-8d0c9c4f0c09"
   },
   "outputs": [
    {
     "data": {
      "text/html": [
       "<div>\n",
       "<style scoped>\n",
       "    .dataframe tbody tr th:only-of-type {\n",
       "        vertical-align: middle;\n",
       "    }\n",
       "\n",
       "    .dataframe tbody tr th {\n",
       "        vertical-align: top;\n",
       "    }\n",
       "\n",
       "    .dataframe thead th {\n",
       "        text-align: right;\n",
       "    }\n",
       "</style>\n",
       "<table border=\"1\" class=\"dataframe\">\n",
       "  <thead>\n",
       "    <tr style=\"text-align: right;\">\n",
       "      <th></th>\n",
       "      <th>price</th>\n",
       "      <th>minimum_nights</th>\n",
       "      <th>number_of_reviews</th>\n",
       "      <th>calculated_host_listings_count</th>\n",
       "      <th>availability_365</th>\n",
       "    </tr>\n",
       "  </thead>\n",
       "  <tbody>\n",
       "    <tr>\n",
       "      <th>count</th>\n",
       "      <td>48895.000000</td>\n",
       "      <td>48895.000000</td>\n",
       "      <td>48895.000000</td>\n",
       "      <td>48895.000000</td>\n",
       "      <td>48895.000000</td>\n",
       "    </tr>\n",
       "    <tr>\n",
       "      <th>mean</th>\n",
       "      <td>152.720687</td>\n",
       "      <td>7.029962</td>\n",
       "      <td>23.274466</td>\n",
       "      <td>7.143982</td>\n",
       "      <td>112.781327</td>\n",
       "    </tr>\n",
       "    <tr>\n",
       "      <th>std</th>\n",
       "      <td>240.154170</td>\n",
       "      <td>20.510550</td>\n",
       "      <td>44.550582</td>\n",
       "      <td>32.952519</td>\n",
       "      <td>131.622289</td>\n",
       "    </tr>\n",
       "    <tr>\n",
       "      <th>min</th>\n",
       "      <td>0.000000</td>\n",
       "      <td>1.000000</td>\n",
       "      <td>0.000000</td>\n",
       "      <td>1.000000</td>\n",
       "      <td>0.000000</td>\n",
       "    </tr>\n",
       "    <tr>\n",
       "      <th>25%</th>\n",
       "      <td>69.000000</td>\n",
       "      <td>1.000000</td>\n",
       "      <td>1.000000</td>\n",
       "      <td>1.000000</td>\n",
       "      <td>0.000000</td>\n",
       "    </tr>\n",
       "    <tr>\n",
       "      <th>50%</th>\n",
       "      <td>106.000000</td>\n",
       "      <td>3.000000</td>\n",
       "      <td>5.000000</td>\n",
       "      <td>1.000000</td>\n",
       "      <td>45.000000</td>\n",
       "    </tr>\n",
       "    <tr>\n",
       "      <th>75%</th>\n",
       "      <td>175.000000</td>\n",
       "      <td>5.000000</td>\n",
       "      <td>24.000000</td>\n",
       "      <td>2.000000</td>\n",
       "      <td>227.000000</td>\n",
       "    </tr>\n",
       "    <tr>\n",
       "      <th>max</th>\n",
       "      <td>10000.000000</td>\n",
       "      <td>1250.000000</td>\n",
       "      <td>629.000000</td>\n",
       "      <td>327.000000</td>\n",
       "      <td>365.000000</td>\n",
       "    </tr>\n",
       "  </tbody>\n",
       "</table>\n",
       "</div>"
      ],
      "text/plain": [
       "              price  minimum_nights  number_of_reviews  \\\n",
       "count  48895.000000    48895.000000       48895.000000   \n",
       "mean     152.720687        7.029962          23.274466   \n",
       "std      240.154170       20.510550          44.550582   \n",
       "min        0.000000        1.000000           0.000000   \n",
       "25%       69.000000        1.000000           1.000000   \n",
       "50%      106.000000        3.000000           5.000000   \n",
       "75%      175.000000        5.000000          24.000000   \n",
       "max    10000.000000     1250.000000         629.000000   \n",
       "\n",
       "       calculated_host_listings_count  availability_365  \n",
       "count                    48895.000000      48895.000000  \n",
       "mean                         7.143982        112.781327  \n",
       "std                         32.952519        131.622289  \n",
       "min                          1.000000          0.000000  \n",
       "25%                          1.000000          0.000000  \n",
       "50%                          1.000000         45.000000  \n",
       "75%                          2.000000        227.000000  \n",
       "max                        327.000000        365.000000  "
      ]
     },
     "execution_count": 13,
     "metadata": {},
     "output_type": "execute_result"
    }
   ],
   "source": [
    "df.describe()"
   ]
  },
  {
   "cell_type": "code",
   "execution_count": 14,
   "metadata": {
    "colab": {
     "base_uri": "https://localhost:8080/",
     "height": 377
    },
    "id": "tUwoqcHPw09c",
    "outputId": "3b19f8a3-ba8e-4c56-b8b7-3101616f86dc"
   },
   "outputs": [
    {
     "data": {
      "image/png": "[encoded data removed]",
      "text/plain": [
       "<Figure size 432x432 with 1 Axes>"
      ]
     },
     "metadata": {
      "needs_background": "light"
     },
     "output_type": "display_data"
    }
   ],
   "source": [
    "plt.figure(figsize=(6,6))\n",
    "sns.boxplot(y=df['price'])\n",
    "plt.title(\"Distribution of Price\")\n",
    "plt.show()"
   ]
  },
  {
   "cell_type": "code",
   "execution_count": 15,
   "metadata": {
    "colab": {
     "base_uri": "https://localhost:8080/",
     "height": 297
    },
    "execution": {
     "iopub.execute_input": "2022-08-02T09:02:57.219824Z",
     "iopub.status.busy": "2022-08-02T09:02:57.219243Z",
     "iopub.status.idle": "2022-08-02T09:02:58.671789Z",
     "shell.execute_reply": "2022-08-02T09:02:58.670660Z",
     "shell.execute_reply.started": "2022-08-02T09:02:57.219772Z"
    },
    "id": "0bO5-OyWgUbx",
    "outputId": "cc686bc8-7953-4900-ce10-1bb543f15ebf"
   },
   "outputs": [
    {
     "data": {
      "text/plain": [
       "<AxesSubplot:xlabel='price'>"
      ]
     },
     "execution_count": 15,
     "metadata": {},
     "output_type": "execute_result"
    },
    {
     "data": {
      "image/png": "[encoded data removed]",
      "text/plain": [
       "<Figure size 432x288 with 1 Axes>"
      ]
     },
     "metadata": {
      "needs_background": "light"
     },
     "output_type": "display_data"
    }
   ],
   "source": [
    "sns.rugplot(data=df, x='price', height=1)"
   ]
  },
  {
   "cell_type": "markdown",
   "metadata": {
    "id": "TyUaLIx_w4gg"
   },
   "source": [
    "There are so many outlier in the price. Let's drop them."
   ]
  },
  {
   "cell_type": "code",
   "execution_count": 16,
   "metadata": {
    "colab": {
     "base_uri": "https://localhost:8080/"
    },
    "execution": {
     "iopub.execute_input": "2022-08-02T09:02:58.674801Z",
     "iopub.status.busy": "2022-08-02T09:02:58.674341Z",
     "iopub.status.idle": "2022-08-02T09:02:58.684357Z",
     "shell.execute_reply": "2022-08-02T09:02:58.683338Z",
     "shell.execute_reply.started": "2022-08-02T09:02:58.674756Z"
    },
    "id": "8i8_SUZmgUbx",
    "outputId": "0a03f6a5-a020-4fb8-c95c-e849e8960bbe"
   },
   "outputs": [
    {
     "name": "stdout",
     "output_type": "stream",
     "text": [
      "799.0 30.0\n"
     ]
    }
   ],
   "source": [
    "p1 = df['price'].quantile(0.99)\n",
    "p2 = df['price'].quantile(0.01)\n",
    "print(p1, p2)"
   ]
  },
  {
   "cell_type": "markdown",
   "metadata": {},
   "source": [
    "The above code calculates two quantiles of the 'price' column in the DataFrame df using the quantile() method of pandas.\n",
    "\n",
    "The first line computes the 99th percentile of the 'price' column and assigns it to the variable p1. This means that 99% of the values in the 'price' column are less than or equal to p1.\n",
    "\n",
    "The second line computes the 1st percentile of the 'price' column and assigns it to the variable p2. This means that 1% of the values in the 'price' column are less than or equal to p2.\n",
    "\n",
    "Printing p1 and p2 allows the user to see the values of these two quantiles, which can be useful for various purposes such as identifying outliers, setting thresholds for further analysis, or creating price range categories."
   ]
  },
  {
   "cell_type": "code",
   "execution_count": 17,
   "metadata": {
    "execution": {
     "iopub.execute_input": "2022-08-02T09:02:58.686389Z",
     "iopub.status.busy": "2022-08-02T09:02:58.685770Z",
     "iopub.status.idle": "2022-08-02T09:02:58.698839Z",
     "shell.execute_reply": "2022-08-02T09:02:58.697605Z",
     "shell.execute_reply.started": "2022-08-02T09:02:58.686356Z"
    },
    "id": "ZbG35oaHgUbx"
   },
   "outputs": [],
   "source": [
    "df = df[(df['price']<p1) & (df['price']>p2)]"
   ]
  },
  {
   "cell_type": "markdown",
   "metadata": {},
   "source": [
    "The above code filters the DataFrame df to only include rows where the 'price' column is within the range defined by the variables p1 and p2."
   ]
  },
  {
   "cell_type": "code",
   "execution_count": 18,
   "metadata": {
    "colab": {
     "base_uri": "https://localhost:8080/",
     "height": 377
    },
    "id": "e_HQRiYnxH-Y",
    "outputId": "7fe2f59b-e3bf-472f-b851-77ef2360ff7a"
   },
   "outputs": [
    {
     "data": {
      "image/png": "[encoded data removed]",
      "text/plain": [
       "<Figure size 432x432 with 1 Axes>"
      ]
     },
     "metadata": {
      "needs_background": "light"
     },
     "output_type": "display_data"
    }
   ],
   "source": [
    "plt.figure(figsize=(6,6))\n",
    "sns.boxplot(y=df['price'])\n",
    "plt.title(\"Distribution of Price\")\n",
    "plt.show()"
   ]
  },
  {
   "cell_type": "markdown",
   "metadata": {
    "id": "ng1Qe7D-yDDY"
   },
   "source": [
    "we can see the minimum nights here"
   ]
  },
  {
   "cell_type": "code",
   "execution_count": 19,
   "metadata": {
    "colab": {
     "base_uri": "https://localhost:8080/",
     "height": 377
    },
    "id": "Vykk08zhyG2f",
    "outputId": "784da894-d50d-4440-9f5d-7bfcfd95cde0"
   },
   "outputs": [
    {
     "data": {
      "image/png": "[encoded data removed]",
      "text/plain": [
       "<Figure size 432x432 with 1 Axes>"
      ]
     },
     "metadata": {
      "needs_background": "light"
     },
     "output_type": "display_data"
    }
   ],
   "source": [
    "plt.figure(figsize=(6,6))\n",
    "sns.boxplot(y=df['minimum_nights'])\n",
    "plt.title(\"Distribution of Price\")\n",
    "plt.show()"
   ]
  },
  {
   "cell_type": "code",
   "execution_count": 20,
   "metadata": {
    "colab": {
     "base_uri": "https://localhost:8080/"
    },
    "execution": {
     "iopub.execute_input": "2022-08-02T09:03:00.142170Z",
     "iopub.status.busy": "2022-08-02T09:03:00.141781Z",
     "iopub.status.idle": "2022-08-02T09:03:00.152339Z",
     "shell.execute_reply": "2022-08-02T09:03:00.150965Z",
     "shell.execute_reply.started": "2022-08-02T09:03:00.142135Z"
    },
    "id": "nmOHEdsFgUbx",
    "outputId": "237017ba-cc4e-40f1-e99e-49d5979441bd"
   },
   "outputs": [
    {
     "name": "stdout",
     "output_type": "stream",
     "text": [
      "40.0\n"
     ]
    }
   ],
   "source": [
    "m1 = df['minimum_nights'].quantile(0.99)\n",
    "print(m1)"
   ]
  },
  {
   "cell_type": "code",
   "execution_count": 21,
   "metadata": {
    "execution": {
     "iopub.execute_input": "2022-08-02T09:03:00.154324Z",
     "iopub.status.busy": "2022-08-02T09:03:00.153955Z",
     "iopub.status.idle": "2022-08-02T09:03:00.168045Z",
     "shell.execute_reply": "2022-08-02T09:03:00.166996Z",
     "shell.execute_reply.started": "2022-08-02T09:03:00.154292Z"
    },
    "id": "TAEd31kwgUby"
   },
   "outputs": [],
   "source": [
    "df = df[(df['minimum_nights']<m1)]"
   ]
  },
  {
   "cell_type": "code",
   "execution_count": 22,
   "metadata": {
    "colab": {
     "base_uri": "https://localhost:8080/",
     "height": 377
    },
    "id": "VF3bqKsZx50Q",
    "outputId": "4febc846-80a2-49e3-b946-9c158909570f"
   },
   "outputs": [
    {
     "data": {
      "image/png": "[encoded data removed]",
      "text/plain": [
       "<Figure size 432x432 with 1 Axes>"
      ]
     },
     "metadata": {
      "needs_background": "light"
     },
     "output_type": "display_data"
    }
   ],
   "source": [
    "plt.figure(figsize=(6,6))\n",
    "sns.boxplot(y=df['minimum_nights'])\n",
    "plt.title(\"Distribution of Price\")\n",
    "plt.show()"
   ]
  },
  {
   "cell_type": "code",
   "execution_count": 23,
   "metadata": {
    "colab": {
     "base_uri": "https://localhost:8080/"
    },
    "execution": {
     "iopub.execute_input": "2022-08-02T09:03:00.173427Z",
     "iopub.status.busy": "2022-08-02T09:03:00.169209Z",
     "iopub.status.idle": "2022-08-02T09:03:00.183309Z",
     "shell.execute_reply": "2022-08-02T09:03:00.182012Z",
     "shell.execute_reply.started": "2022-08-02T09:03:00.173385Z"
    },
    "id": "5tLDYDi0gUby",
    "outputId": "c5597834-616b-4846-ff2e-eefbfc1b1738"
   },
   "outputs": [
    {
     "data": {
      "text/plain": [
       "0        0.21\n",
       "1        0.38\n",
       "2           0\n",
       "3        4.64\n",
       "4         0.1\n",
       "         ... \n",
       "48890       0\n",
       "48891       0\n",
       "48892       0\n",
       "48893       0\n",
       "48894       0\n",
       "Name: reviews_per_month, Length: 47262, dtype: object"
      ]
     },
     "execution_count": 23,
     "metadata": {},
     "output_type": "execute_result"
    }
   ],
   "source": [
    "df['reviews_per_month']"
   ]
  },
  {
   "cell_type": "code",
   "execution_count": 24,
   "metadata": {
    "execution": {
     "iopub.execute_input": "2022-08-02T09:03:00.185423Z",
     "iopub.status.busy": "2022-08-02T09:03:00.185020Z",
     "iopub.status.idle": "2022-08-02T09:03:00.204546Z",
     "shell.execute_reply": "2022-08-02T09:03:00.203346Z",
     "shell.execute_reply.started": "2022-08-02T09:03:00.185390Z"
    },
    "id": "uaXlgmhogUby"
   },
   "outputs": [],
   "source": [
    "# traiter les informations categorielle de la colonne reviews_per_month\n",
    "df['reviews_per_month'] = df['reviews_per_month'].apply(lambda s: 'No' if s == '0' else 'yes')"
   ]
  },
  {
   "cell_type": "code",
   "execution_count": 25,
   "metadata": {
    "execution": {
     "iopub.execute_input": "2022-08-02T09:03:00.218982Z",
     "iopub.status.busy": "2022-08-02T09:03:00.218565Z",
     "iopub.status.idle": "2022-08-02T09:03:00.238871Z",
     "shell.execute_reply": "2022-08-02T09:03:00.237941Z",
     "shell.execute_reply.started": "2022-08-02T09:03:00.218938Z"
    },
    "id": "F7w2jMUFgUby"
   },
   "outputs": [],
   "source": [
    "# creating a new column in the DataFrame df named 'is_zero'\n",
    "# takes each value in the 'availability_365' column, checks if it's equal to 0, and if so, \n",
    "#sets the corresponding value in the new 'is_zero' column to 'zero', otherwise it sets it to 'nonzero'.\n",
    "df['is_zero'] = df['availability_365'].apply(lambda s: 'zero' if s == 0 else 'nonzero')"
   ]
  },
  {
   "cell_type": "code",
   "execution_count": 26,
   "metadata": {
    "colab": {
     "base_uri": "https://localhost:8080/",
     "height": 206
    },
    "execution": {
     "iopub.execute_input": "2022-08-02T09:03:00.240789Z",
     "iopub.status.busy": "2022-08-02T09:03:00.240174Z",
     "iopub.status.idle": "2022-08-02T09:03:00.258961Z",
     "shell.execute_reply": "2022-08-02T09:03:00.257501Z",
     "shell.execute_reply.started": "2022-08-02T09:03:00.240756Z"
    },
    "id": "CsVzwx6IgUby",
    "outputId": "6595e105-209d-4fd5-aff4-9fd1bbd93a42"
   },
   "outputs": [
    {
     "data": {
      "text/html": [
       "<div>\n",
       "<style scoped>\n",
       "    .dataframe tbody tr th:only-of-type {\n",
       "        vertical-align: middle;\n",
       "    }\n",
       "\n",
       "    .dataframe tbody tr th {\n",
       "        vertical-align: top;\n",
       "    }\n",
       "\n",
       "    .dataframe thead th {\n",
       "        text-align: right;\n",
       "    }\n",
       "</style>\n",
       "<table border=\"1\" class=\"dataframe\">\n",
       "  <thead>\n",
       "    <tr style=\"text-align: right;\">\n",
       "      <th></th>\n",
       "      <th>neighbourhood_group</th>\n",
       "      <th>neighbourhood</th>\n",
       "      <th>room_type</th>\n",
       "      <th>price</th>\n",
       "      <th>minimum_nights</th>\n",
       "      <th>number_of_reviews</th>\n",
       "      <th>reviews_per_month</th>\n",
       "      <th>calculated_host_listings_count</th>\n",
       "      <th>availability_365</th>\n",
       "      <th>is_zero</th>\n",
       "    </tr>\n",
       "  </thead>\n",
       "  <tbody>\n",
       "    <tr>\n",
       "      <th>0</th>\n",
       "      <td>Brooklyn</td>\n",
       "      <td>Kensington</td>\n",
       "      <td>Private room</td>\n",
       "      <td>149</td>\n",
       "      <td>1</td>\n",
       "      <td>9</td>\n",
       "      <td>yes</td>\n",
       "      <td>6</td>\n",
       "      <td>365</td>\n",
       "      <td>nonzero</td>\n",
       "    </tr>\n",
       "    <tr>\n",
       "      <th>1</th>\n",
       "      <td>Manhattan</td>\n",
       "      <td>Midtown</td>\n",
       "      <td>Entire home/apt</td>\n",
       "      <td>225</td>\n",
       "      <td>1</td>\n",
       "      <td>45</td>\n",
       "      <td>yes</td>\n",
       "      <td>2</td>\n",
       "      <td>355</td>\n",
       "      <td>nonzero</td>\n",
       "    </tr>\n",
       "    <tr>\n",
       "      <th>2</th>\n",
       "      <td>Manhattan</td>\n",
       "      <td>Harlem</td>\n",
       "      <td>Private room</td>\n",
       "      <td>150</td>\n",
       "      <td>3</td>\n",
       "      <td>0</td>\n",
       "      <td>No</td>\n",
       "      <td>1</td>\n",
       "      <td>365</td>\n",
       "      <td>nonzero</td>\n",
       "    </tr>\n",
       "    <tr>\n",
       "      <th>3</th>\n",
       "      <td>Brooklyn</td>\n",
       "      <td>Clinton Hill</td>\n",
       "      <td>Entire home/apt</td>\n",
       "      <td>89</td>\n",
       "      <td>1</td>\n",
       "      <td>270</td>\n",
       "      <td>yes</td>\n",
       "      <td>1</td>\n",
       "      <td>194</td>\n",
       "      <td>nonzero</td>\n",
       "    </tr>\n",
       "    <tr>\n",
       "      <th>4</th>\n",
       "      <td>Manhattan</td>\n",
       "      <td>East Harlem</td>\n",
       "      <td>Entire home/apt</td>\n",
       "      <td>80</td>\n",
       "      <td>10</td>\n",
       "      <td>9</td>\n",
       "      <td>yes</td>\n",
       "      <td>1</td>\n",
       "      <td>0</td>\n",
       "      <td>zero</td>\n",
       "    </tr>\n",
       "  </tbody>\n",
       "</table>\n",
       "</div>"
      ],
      "text/plain": [
       "  neighbourhood_group neighbourhood        room_type  price  minimum_nights  \\\n",
       "0            Brooklyn    Kensington     Private room    149               1   \n",
       "1           Manhattan       Midtown  Entire home/apt    225               1   \n",
       "2           Manhattan        Harlem     Private room    150               3   \n",
       "3            Brooklyn  Clinton Hill  Entire home/apt     89               1   \n",
       "4           Manhattan   East Harlem  Entire home/apt     80              10   \n",
       "\n",
       "   number_of_reviews reviews_per_month  calculated_host_listings_count  \\\n",
       "0                  9               yes                               6   \n",
       "1                 45               yes                               2   \n",
       "2                  0                No                               1   \n",
       "3                270               yes                               1   \n",
       "4                  9               yes                               1   \n",
       "\n",
       "   availability_365  is_zero  \n",
       "0               365  nonzero  \n",
       "1               355  nonzero  \n",
       "2               365  nonzero  \n",
       "3               194  nonzero  \n",
       "4                 0     zero  "
      ]
     },
     "execution_count": 26,
     "metadata": {},
     "output_type": "execute_result"
    }
   ],
   "source": [
    "df.head()"
   ]
  },
  {
   "cell_type": "code",
   "execution_count": 27,
   "metadata": {
    "colab": {
     "base_uri": "https://localhost:8080/"
    },
    "execution": {
     "iopub.execute_input": "2022-08-02T09:03:00.261744Z",
     "iopub.status.busy": "2022-08-02T09:03:00.260971Z",
     "iopub.status.idle": "2022-08-02T09:03:00.270379Z",
     "shell.execute_reply": "2022-08-02T09:03:00.269086Z",
     "shell.execute_reply.started": "2022-08-02T09:03:00.261695Z"
    },
    "id": "nzwrOulzgUbz",
    "outputId": "7c6ed354-15ef-4425-f0bc-d6d4effab7fd"
   },
   "outputs": [
    {
     "data": {
      "text/plain": [
       "Index(['neighbourhood_group', 'neighbourhood', 'room_type', 'price',\n",
       "       'minimum_nights', 'number_of_reviews', 'reviews_per_month',\n",
       "       'calculated_host_listings_count', 'availability_365', 'is_zero'],\n",
       "      dtype='object')"
      ]
     },
     "execution_count": 27,
     "metadata": {},
     "output_type": "execute_result"
    }
   ],
   "source": [
    "df.columns"
   ]
  },
  {
   "cell_type": "code",
   "execution_count": 28,
   "metadata": {
    "colab": {
     "base_uri": "https://localhost:8080/"
    },
    "execution": {
     "iopub.execute_input": "2022-08-02T09:03:00.273745Z",
     "iopub.status.busy": "2022-08-02T09:03:00.272959Z",
     "iopub.status.idle": "2022-08-02T09:03:00.287623Z",
     "shell.execute_reply": "2022-08-02T09:03:00.286364Z",
     "shell.execute_reply.started": "2022-08-02T09:03:00.273681Z"
    },
    "id": "UXwf2hOggUbz",
    "outputId": "48a0cf2e-db28-4248-b010-1a509bcc3727"
   },
   "outputs": [
    {
     "data": {
      "text/plain": [
       "Williamsburg          3855\n",
       "Bedford-Stuyvesant    3602\n",
       "Harlem                2597\n",
       "Bushwick              2380\n",
       "Hell's Kitchen        1916\n",
       "                      ... \n",
       "Richmondtown             1\n",
       "Woodrow                  1\n",
       "New Dorp                 1\n",
       "Rossville                1\n",
       "Willowbrook              1\n",
       "Name: neighbourhood, Length: 220, dtype: int64"
      ]
     },
     "execution_count": 28,
     "metadata": {},
     "output_type": "execute_result"
    }
   ],
   "source": [
    "df['neighbourhood'].value_counts()"
   ]
  },
  {
   "cell_type": "code",
   "execution_count": 29,
   "metadata": {
    "execution": {
     "iopub.execute_input": "2022-08-02T09:03:00.290162Z",
     "iopub.status.busy": "2022-08-02T09:03:00.289364Z",
     "iopub.status.idle": "2022-08-02T09:03:00.301086Z",
     "shell.execute_reply": "2022-08-02T09:03:00.299972Z",
     "shell.execute_reply.started": "2022-08-02T09:03:00.290118Z"
    },
    "id": "37pHw6V-gUbz"
   },
   "outputs": [],
   "source": [
    "nb = df['neighbourhood'].value_counts()"
   ]
  },
  {
   "cell_type": "code",
   "execution_count": 30,
   "metadata": {
    "colab": {
     "base_uri": "https://localhost:8080/",
     "height": 285
    },
    "execution": {
     "iopub.execute_input": "2022-08-02T09:03:00.302535Z",
     "iopub.status.busy": "2022-08-02T09:03:00.302239Z",
     "iopub.status.idle": "2022-08-02T09:03:00.504787Z",
     "shell.execute_reply": "2022-08-02T09:03:00.503869Z",
     "shell.execute_reply.started": "2022-08-02T09:03:00.302508Z"
    },
    "id": "DhhdhNqQgUbz",
    "outputId": "29b74a4c-bf1f-4de1-d50f-ef9f7ab0f847"
   },
   "outputs": [
    {
     "data": {
      "text/plain": [
       "[<matplotlib.lines.Line2D at 0x1e433674d60>]"
      ]
     },
     "execution_count": 30,
     "metadata": {},
     "output_type": "execute_result"
    },
    {
     "data": {
      "image/png": "[encoded data removed]",
      "text/plain": [
       "<Figure size 432x288 with 1 Axes>"
      ]
     },
     "metadata": {
      "needs_background": "light"
     },
     "output_type": "display_data"
    }
   ],
   "source": [
    "plt.plot(range(len(nb)), nb)"
   ]
  },
  {
   "cell_type": "code",
   "execution_count": 31,
   "metadata": {
    "execution": {
     "iopub.execute_input": "2022-08-02T09:03:00.506964Z",
     "iopub.status.busy": "2022-08-02T09:03:00.505883Z",
     "iopub.status.idle": "2022-08-02T09:03:02.329310Z",
     "shell.execute_reply": "2022-08-02T09:03:02.328008Z",
     "shell.execute_reply.started": "2022-08-02T09:03:00.506930Z"
    },
    "id": "BWKkJU7LgUbz"
   },
   "outputs": [],
   "source": [
    "df['neighbourhood'] = df['neighbourhood'].apply(lambda s: s if str(s) in nb[:25] else 'others')"
   ]
  },
  {
   "cell_type": "code",
   "execution_count": 32,
   "metadata": {
    "colab": {
     "base_uri": "https://localhost:8080/"
    },
    "execution": {
     "iopub.execute_input": "2022-08-02T09:03:02.331821Z",
     "iopub.status.busy": "2022-08-02T09:03:02.331064Z",
     "iopub.status.idle": "2022-08-02T09:03:02.340406Z",
     "shell.execute_reply": "2022-08-02T09:03:02.339483Z",
     "shell.execute_reply.started": "2022-08-02T09:03:02.331774Z"
    },
    "id": "vFwVLFCpgUb0",
    "outputId": "151f34c7-858c-44d5-f564-d5e4a1175e5f"
   },
   "outputs": [
    {
     "data": {
      "text/plain": [
       "Williamsburg          3855\n",
       "Bedford-Stuyvesant    3602\n",
       "Harlem                2597\n",
       "Bushwick              2380\n",
       "Hell's Kitchen        1916\n",
       "                      ... \n",
       "Richmondtown             1\n",
       "Woodrow                  1\n",
       "New Dorp                 1\n",
       "Rossville                1\n",
       "Willowbrook              1\n",
       "Name: neighbourhood, Length: 220, dtype: int64"
      ]
     },
     "execution_count": 32,
     "metadata": {},
     "output_type": "execute_result"
    }
   ],
   "source": [
    "nb"
   ]
  },
  {
   "cell_type": "code",
   "execution_count": 33,
   "metadata": {
    "colab": {
     "base_uri": "https://localhost:8080/"
    },
    "execution": {
     "iopub.execute_input": "2022-08-02T09:03:02.342822Z",
     "iopub.status.busy": "2022-08-02T09:03:02.341702Z",
     "iopub.status.idle": "2022-08-02T09:03:02.357486Z",
     "shell.execute_reply": "2022-08-02T09:03:02.356501Z",
     "shell.execute_reply.started": "2022-08-02T09:03:02.342786Z"
    },
    "id": "OfOIg7dlgUb0",
    "outputId": "d8525b8b-cd44-4788-d313-c12c4ac87a30"
   },
   "outputs": [
    {
     "data": {
      "text/plain": [
       "Manhattan        20955\n",
       "Brooklyn         19488\n",
       "Queens            5458\n",
       "Bronx             1009\n",
       "Staten Island      352\n",
       "Name: neighbourhood_group, dtype: int64"
      ]
     },
     "execution_count": 33,
     "metadata": {},
     "output_type": "execute_result"
    }
   ],
   "source": [
    "df['neighbourhood_group'].value_counts()"
   ]
  },
  {
   "cell_type": "code",
   "execution_count": 34,
   "metadata": {
    "colab": {
     "base_uri": "https://localhost:8080/"
    },
    "execution": {
     "iopub.execute_input": "2022-08-02T09:03:02.359252Z",
     "iopub.status.busy": "2022-08-02T09:03:02.358571Z",
     "iopub.status.idle": "2022-08-02T09:03:02.372015Z",
     "shell.execute_reply": "2022-08-02T09:03:02.370712Z",
     "shell.execute_reply.started": "2022-08-02T09:03:02.359220Z"
    },
    "id": "DrofHFKxgUb0",
    "outputId": "c8b0246f-a3dc-4f14-a7bb-837154222a06"
   },
   "outputs": [
    {
     "data": {
      "text/plain": [
       "Entire home/apt    24666\n",
       "Private room       21703\n",
       "Shared room          893\n",
       "Name: room_type, dtype: int64"
      ]
     },
     "execution_count": 34,
     "metadata": {},
     "output_type": "execute_result"
    }
   ],
   "source": [
    "df['room_type'].value_counts()"
   ]
  },
  {
   "cell_type": "markdown",
   "metadata": {
    "id": "ElBJZBfxgUb0"
   },
   "source": [
    "## Data Correlation"
   ]
  },
  {
   "cell_type": "code",
   "execution_count": 35,
   "metadata": {
    "colab": {
     "base_uri": "https://localhost:8080/"
    },
    "execution": {
     "iopub.execute_input": "2022-08-02T09:03:02.374777Z",
     "iopub.status.busy": "2022-08-02T09:03:02.373770Z",
     "iopub.status.idle": "2022-08-02T09:03:02.721238Z",
     "shell.execute_reply": "2022-08-02T09:03:02.720121Z",
     "shell.execute_reply.started": "2022-08-02T09:03:02.374741Z"
    },
    "id": "T9ssUlyDgUb0",
    "outputId": "68efef4b-eed3-4597-ce0c-26a1dca43c3e"
   },
   "outputs": [
    {
     "data": {
      "text/plain": [
       "<AxesSubplot:>"
      ]
     },
     "execution_count": 35,
     "metadata": {},
     "output_type": "execute_result"
    },
    {
     "data": {
      "image/png": "[encoded data removed]",
      "text/plain": [
       "<Figure size 432x288 with 2 Axes>"
      ]
     },
     "metadata": {
      "needs_background": "light"
     },
     "output_type": "display_data"
    }
   ],
   "source": [
    "# data correlation\n",
    "sns.heatmap(data=df.corr(), annot=True)"
   ]
  },
  {
   "cell_type": "markdown",
   "metadata": {
    "id": "MG7aGz50gUb1"
   },
   "source": [
    "## Categorical data visualization"
   ]
  },
  {
   "cell_type": "code",
   "execution_count": 36,
   "metadata": {},
   "outputs": [
    {
     "data": {
      "text/plain": [
       "array(['Brooklyn', 'Manhattan', 'Queens', 'Staten Island', 'Bronx'],\n",
       "      dtype=object)"
      ]
     },
     "execution_count": 36,
     "metadata": {},
     "output_type": "execute_result"
    }
   ],
   "source": [
    "df['neighbourhood_group'].unique()"
   ]
  },
  {
   "cell_type": "code",
   "execution_count": 48,
   "metadata": {
    "colab": {
     "base_uri": "https://localhost:8080/",
     "height": 298
    },
    "execution": {
     "iopub.execute_input": "2022-08-02T09:03:17.617840Z",
     "iopub.status.busy": "2022-08-02T09:03:17.617443Z",
     "iopub.status.idle": "2022-08-02T09:03:17.871948Z",
     "shell.execute_reply": "2022-08-02T09:03:17.870655Z",
     "shell.execute_reply.started": "2022-08-02T09:03:17.617810Z"
    },
    "id": "vugDEn4_gUb1",
    "outputId": "4ab4967a-d514-4a5c-824d-1fceeeae90df"
   },
   "outputs": [
    {
     "data": {
      "text/plain": [
       "<Axes: xlabel='room_type', ylabel='price'>"
      ]
     },
     "execution_count": 48,
     "metadata": {},
     "output_type": "execute_result"
    },
    {
     "data": {
      "image/png": "[encoded data removed]",
      "text/plain": [
       "<Figure size 432x288 with 1 Axes>"
      ]
     },
     "metadata": {
      "needs_background": "light"
     },
     "output_type": "display_data"
    }
   ],
   "source": [
    "# visualize the distribution of the 'price' column \n",
    "# across different values of the 'room_type' column\n",
    "sns.boxplot(data=df, x='room_type', y='price')"
   ]
  },
  {
   "cell_type": "code",
   "execution_count": 43,
   "metadata": {},
   "outputs": [
    {
     "data": {
      "text/plain": [
       "Text(0.5, 1.0, 'Numbers in Each Room Types')"
      ]
     },
     "execution_count": 43,
     "metadata": {},
     "output_type": "execute_result"
    },
    {
     "data": {
      "image/png": "[encoded data removed]",
      "text/plain": [
       "<Figure size 432x432 with 1 Axes>"
      ]
     },
     "metadata": {},
     "output_type": "display_data"
    }
   ],
   "source": [
    "plt.figure(figsize=(6,6))\n",
    "numbers = df['room_type'].value_counts()\n",
    "plt.pie(numbers.values, labels=numbers.index, colors=['cyan', 'green', 'pink'], autopct='%1.1f%%', shadow=True,startangle=90)\n",
    "plt.title('Numbers in Each Room Types')"
   ]
  },
  {
   "cell_type": "code",
   "execution_count": 37,
   "metadata": {},
   "outputs": [
    {
     "data": {
      "text/html": [
       "<div>\n",
       "<style scoped>\n",
       "    .dataframe tbody tr th:only-of-type {\n",
       "        vertical-align: middle;\n",
       "    }\n",
       "\n",
       "    .dataframe tbody tr th {\n",
       "        vertical-align: top;\n",
       "    }\n",
       "\n",
       "    .dataframe thead th {\n",
       "        text-align: right;\n",
       "    }\n",
       "</style>\n",
       "<table border=\"1\" class=\"dataframe\">\n",
       "  <thead>\n",
       "    <tr style=\"text-align: right;\">\n",
       "      <th></th>\n",
       "      <th>count</th>\n",
       "      <th>mean</th>\n",
       "      <th>std</th>\n",
       "      <th>min</th>\n",
       "      <th>25%</th>\n",
       "      <th>50%</th>\n",
       "      <th>75%</th>\n",
       "      <th>max</th>\n",
       "    </tr>\n",
       "    <tr>\n",
       "      <th>neighbourhood_group</th>\n",
       "      <th></th>\n",
       "      <th></th>\n",
       "      <th></th>\n",
       "      <th></th>\n",
       "      <th></th>\n",
       "      <th></th>\n",
       "      <th></th>\n",
       "      <th></th>\n",
       "    </tr>\n",
       "  </thead>\n",
       "  <tbody>\n",
       "    <tr>\n",
       "      <th>Bronx</th>\n",
       "      <td>1009.0</td>\n",
       "      <td>87.756194</td>\n",
       "      <td>70.341288</td>\n",
       "      <td>32.0</td>\n",
       "      <td>50.00</td>\n",
       "      <td>70.0</td>\n",
       "      <td>100.00</td>\n",
       "      <td>680.0</td>\n",
       "    </tr>\n",
       "    <tr>\n",
       "      <th>Brooklyn</th>\n",
       "      <td>19488.0</td>\n",
       "      <td>117.488147</td>\n",
       "      <td>85.900570</td>\n",
       "      <td>31.0</td>\n",
       "      <td>60.00</td>\n",
       "      <td>94.0</td>\n",
       "      <td>150.00</td>\n",
       "      <td>795.0</td>\n",
       "    </tr>\n",
       "    <tr>\n",
       "      <th>Manhattan</th>\n",
       "      <td>20955.0</td>\n",
       "      <td>173.128323</td>\n",
       "      <td>115.189412</td>\n",
       "      <td>31.0</td>\n",
       "      <td>95.00</td>\n",
       "      <td>149.0</td>\n",
       "      <td>215.00</td>\n",
       "      <td>795.0</td>\n",
       "    </tr>\n",
       "    <tr>\n",
       "      <th>Queens</th>\n",
       "      <td>5458.0</td>\n",
       "      <td>96.124038</td>\n",
       "      <td>69.272127</td>\n",
       "      <td>31.0</td>\n",
       "      <td>53.25</td>\n",
       "      <td>75.0</td>\n",
       "      <td>113.75</td>\n",
       "      <td>750.0</td>\n",
       "    </tr>\n",
       "    <tr>\n",
       "      <th>Staten Island</th>\n",
       "      <td>352.0</td>\n",
       "      <td>97.303977</td>\n",
       "      <td>76.070489</td>\n",
       "      <td>31.0</td>\n",
       "      <td>50.75</td>\n",
       "      <td>75.0</td>\n",
       "      <td>110.00</td>\n",
       "      <td>700.0</td>\n",
       "    </tr>\n",
       "  </tbody>\n",
       "</table>\n",
       "</div>"
      ],
      "text/plain": [
       "                       count        mean         std   min    25%    50%  \\\n",
       "neighbourhood_group                                                        \n",
       "Bronx                 1009.0   87.756194   70.341288  32.0  50.00   70.0   \n",
       "Brooklyn             19488.0  117.488147   85.900570  31.0  60.00   94.0   \n",
       "Manhattan            20955.0  173.128323  115.189412  31.0  95.00  149.0   \n",
       "Queens                5458.0   96.124038   69.272127  31.0  53.25   75.0   \n",
       "Staten Island          352.0   97.303977   76.070489  31.0  50.75   75.0   \n",
       "\n",
       "                        75%    max  \n",
       "neighbourhood_group                 \n",
       "Bronx                100.00  680.0  \n",
       "Brooklyn             150.00  795.0  \n",
       "Manhattan            215.00  795.0  \n",
       "Queens               113.75  750.0  \n",
       "Staten Island        110.00  700.0  "
      ]
     },
     "execution_count": 37,
     "metadata": {},
     "output_type": "execute_result"
    }
   ],
   "source": [
    "n_group = df.groupby('neighbourhood_group').describe()\n",
    "n_group.xs('price',axis = 1)"
   ]
  },
  {
   "cell_type": "markdown",
   "metadata": {},
   "source": [
    "Bronx: With 1,009 listings, the average price in the Bronx is approximately $87.76, showcasing a standard deviation of 70.34. Prices range from 32 to 680, with the majority of listings falling between 50 and 100.\n",
    "\n",
    "Brooklyn: Home to 19,488 listings, Brooklyn has an average price of 117.49 and a standard deviation of 85.90. Prices in this neighborhood group span from 31 to 795, with most listings priced between 60 and 150.\n",
    "\n",
    "Manhattan: Featuring 20,955 listings, Manhattan boasts the highest average price of 73.13, accompanied by a standard deviation of 115.19. Prices range from 31 to 795, and the majority of listings are concentrated between 95 and 215.\n",
    "\n",
    "Queens: With 5,458 listings, Queens has an average price of 96.12 and a standard deviation of 69.27. Prices vary from 31 to 750, with most listings falling within the 53.25 to 113.75 range.\n",
    "\n",
    "Staten Island: The least represented neighborhood group with 352 listings, Staten Island has an average price of 97.30 and a standard deviation of 76.07. Prices in this area range from 31 to 700, and the majority of listings are priced between 50.75 and 110."
   ]
  },
  {
   "cell_type": "code",
   "execution_count": 38,
   "metadata": {},
   "outputs": [
    {
     "data": {
      "text/plain": [
       "Text(0.5, 1.0, 'Numbers in Each Neigbourhoods')"
      ]
     },
     "execution_count": 38,
     "metadata": {},
     "output_type": "execute_result"
    },
    {
     "data": {
      "image/png": "[encoded data removed]",
      "text/plain": [
       "<Figure size 432x432 with 1 Axes>"
      ]
     },
     "metadata": {},
     "output_type": "display_data"
    }
   ],
   "source": [
    "plt.figure(figsize=(6,6))\n",
    "numbers = df['neighbourhood_group'].value_counts()\n",
    "plt.pie(numbers.values, labels=numbers.index, colors=['b', 'r', 'g', 'cyan', 'gray'], autopct='%1.1f%%')\n",
    "plt.title('Numbers in Each Neigbourhoods')"
   ]
  },
  {
   "cell_type": "markdown",
   "metadata": {},
   "source": [
    "Manhattan has the most house. Brooklyn follows Manhattan with a big portion. Mostly the rooms are distributed in Brooklyn and Manhattan."
   ]
  },
  {
   "cell_type": "code",
   "execution_count": 49,
   "metadata": {
    "colab": {
     "base_uri": "https://localhost:8080/",
     "height": 298
    },
    "execution": {
     "iopub.execute_input": "2022-08-02T09:03:17.874975Z",
     "iopub.status.busy": "2022-08-02T09:03:17.873721Z",
     "iopub.status.idle": "2022-08-02T09:03:18.114962Z",
     "shell.execute_reply": "2022-08-02T09:03:18.113653Z",
     "shell.execute_reply.started": "2022-08-02T09:03:17.874896Z"
    },
    "id": "Nc2Y0UPXgUb1",
    "outputId": "24a52b7b-bfe2-455e-d68a-37a7a5b29c3a"
   },
   "outputs": [
    {
     "data": {
      "text/plain": [
       "<Axes: xlabel='neighbourhood_group', ylabel='price'>"
      ]
     },
     "execution_count": 49,
     "metadata": {},
     "output_type": "execute_result"
    },
    {
     "data": {
      "image/png": "[encoded data removed]",
      "text/plain": [
       "<Figure size 432x288 with 1 Axes>"
      ]
     },
     "metadata": {
      "needs_background": "light"
     },
     "output_type": "display_data"
    }
   ],
   "source": [
    "# visualize the distribution of the 'price' column \n",
    "# across different values of the 'neighbourhood_group' column\n",
    "sns.boxplot(data=df, x='neighbourhood_group', y='price')"
   ]
  },
  {
   "cell_type": "markdown",
   "metadata": {},
   "source": [
    "The data suggests that the average price of accommodations in Manhattan is higher than in other locations. We can further analyze to determine which specific room is the most expensive and which room type is the least expensive."
   ]
  },
  {
   "cell_type": "code",
   "execution_count": 39,
   "metadata": {},
   "outputs": [
    {
     "name": "stderr",
     "output_type": "stream",
     "text": [
      "C:\\Users\\predator\\anaconda4\\lib\\site-packages\\seaborn\\_decorators.py:36: FutureWarning: Pass the following variable as a keyword arg: x. From version 0.12, the only valid positional argument will be `data`, and passing other arguments without an explicit keyword will result in an error or misinterpretation.\n",
      "  warnings.warn(\n"
     ]
    },
    {
     "data": {
      "text/plain": [
       "<AxesSubplot:xlabel='neighbourhood_group', ylabel='count'>"
      ]
     },
     "execution_count": 39,
     "metadata": {},
     "output_type": "execute_result"
    },
    {
     "data": {
      "image/png": "[encoded data removed]",
      "text/plain": [
       "<Figure size 576x432 with 1 Axes>"
      ]
     },
     "metadata": {
      "needs_background": "light"
     },
     "output_type": "display_data"
    }
   ],
   "source": [
    "plt.figure(figsize=(8,6))\n",
    "sns.countplot(df['neighbourhood_group'],hue=df['room_type'])"
   ]
  },
  {
   "cell_type": "code",
   "execution_count": 40,
   "metadata": {
    "colab": {
     "base_uri": "https://localhost:8080/",
     "height": 298
    },
    "execution": {
     "iopub.execute_input": "2022-08-02T09:03:18.117020Z",
     "iopub.status.busy": "2022-08-02T09:03:18.116527Z",
     "iopub.status.idle": "2022-08-02T09:03:18.296427Z",
     "shell.execute_reply": "2022-08-02T09:03:18.295458Z",
     "shell.execute_reply.started": "2022-08-02T09:03:18.116985Z"
    },
    "id": "wfgunYQVgUb2",
    "outputId": "88e4ebc0-27d7-4926-ba96-a0d81d71a702"
   },
   "outputs": [
    {
     "data": {
      "text/plain": [
       "<AxesSubplot:xlabel='is_zero', ylabel='price'>"
      ]
     },
     "execution_count": 40,
     "metadata": {},
     "output_type": "execute_result"
    },
    {
     "data": {
      "image/png": "[encoded data removed]",
      "text/plain": [
       "<Figure size 432x288 with 1 Axes>"
      ]
     },
     "metadata": {
      "needs_background": "light"
     },
     "output_type": "display_data"
    }
   ],
   "source": [
    "# visualize the distribution of the 'price' column \n",
    "# across different values of the 'is_zero' column\n",
    "sns.boxplot(data=df, x='is_zero', y='price')"
   ]
  },
  {
   "cell_type": "code",
   "execution_count": 41,
   "metadata": {
    "colab": {
     "base_uri": "https://localhost:8080/",
     "height": 298
    },
    "execution": {
     "iopub.execute_input": "2022-08-02T09:03:18.299074Z",
     "iopub.status.busy": "2022-08-02T09:03:18.298244Z",
     "iopub.status.idle": "2022-08-02T09:03:18.470810Z",
     "shell.execute_reply": "2022-08-02T09:03:18.469398Z",
     "shell.execute_reply.started": "2022-08-02T09:03:18.299024Z"
    },
    "id": "lhfYONcLgUb2",
    "outputId": "5b3e44ce-e93d-4f0b-8881-13a092206175"
   },
   "outputs": [
    {
     "data": {
      "text/plain": [
       "<AxesSubplot:xlabel='reviews_per_month', ylabel='price'>"
      ]
     },
     "execution_count": 41,
     "metadata": {},
     "output_type": "execute_result"
    },
    {
     "data": {
      "image/png": "[encoded data removed]",
      "text/plain": [
       "<Figure size 432x288 with 1 Axes>"
      ]
     },
     "metadata": {
      "needs_background": "light"
     },
     "output_type": "display_data"
    }
   ],
   "source": [
    "# visualize the distribution of the 'price' column\n",
    "# across different values of the 'reviews_per_month' column\n",
    "sns.boxplot(data=df, x='reviews_per_month', y='price')"
   ]
  },
  {
   "cell_type": "markdown",
   "metadata": {
    "id": "PbZmkn4-gUb2"
   },
   "source": [
    "# Data Preprocessing"
   ]
  },
  {
   "cell_type": "markdown",
   "metadata": {
    "id": "KNBxNz9yDaPZ"
   },
   "source": [
    "## Reduce dataset"
   ]
  },
  {
   "cell_type": "code",
   "execution_count": 53,
   "metadata": {
    "id": "ZjBq26VclGcf"
   },
   "outputs": [],
   "source": [
    "# code randomly samples 10,000 rows from the DataFrame df using the sample() method \n",
    "# and assigns the result to a new DataFrame also named df.\n",
    "df = df.sample(n=10000, random_state=42)"
   ]
  },
  {
   "cell_type": "markdown",
   "metadata": {
    "id": "JQpjDKqEDgyI"
   },
   "source": [
    "## Preprocessing"
   ]
  },
  {
   "cell_type": "code",
   "execution_count": 54,
   "metadata": {
    "colab": {
     "base_uri": "https://localhost:8080/",
     "height": 206
    },
    "execution": {
     "iopub.execute_input": "2022-08-02T09:03:19.076841Z",
     "iopub.status.busy": "2022-08-02T09:03:19.076101Z",
     "iopub.status.idle": "2022-08-02T09:03:19.093379Z",
     "shell.execute_reply": "2022-08-02T09:03:19.091995Z",
     "shell.execute_reply.started": "2022-08-02T09:03:19.076793Z"
    },
    "id": "lgpYyLwWgUb2",
    "outputId": "0911f652-1e1c-4265-a666-3c56ff70921a"
   },
   "outputs": [
    {
     "data": {
      "text/html": [
       "\n",
       "  <div id=\"df-4f804ef7-a993-435a-bccc-6fd4afbf24ba\">\n",
       "    <div class=\"colab-df-container\">\n",
       "      <div>\n",
       "<style scoped>\n",
       "    .dataframe tbody tr th:only-of-type {\n",
       "        vertical-align: middle;\n",
       "    }\n",
       "\n",
       "    .dataframe tbody tr th {\n",
       "        vertical-align: top;\n",
       "    }\n",
       "\n",
       "    .dataframe thead th {\n",
       "        text-align: right;\n",
       "    }\n",
       "</style>\n",
       "<table border=\"1\" class=\"dataframe\">\n",
       "  <thead>\n",
       "    <tr style=\"text-align: right;\">\n",
       "      <th></th>\n",
       "      <th>neighbourhood_group</th>\n",
       "      <th>neighbourhood</th>\n",
       "      <th>room_type</th>\n",
       "      <th>price</th>\n",
       "      <th>minimum_nights</th>\n",
       "      <th>number_of_reviews</th>\n",
       "      <th>reviews_per_month</th>\n",
       "      <th>calculated_host_listings_count</th>\n",
       "      <th>availability_365</th>\n",
       "      <th>is_zero</th>\n",
       "    </tr>\n",
       "  </thead>\n",
       "  <tbody>\n",
       "    <tr>\n",
       "      <th>5431</th>\n",
       "      <td>Manhattan</td>\n",
       "      <td>Financial District</td>\n",
       "      <td>Entire home/apt</td>\n",
       "      <td>275</td>\n",
       "      <td>3</td>\n",
       "      <td>9</td>\n",
       "      <td>yes</td>\n",
       "      <td>1</td>\n",
       "      <td>0</td>\n",
       "      <td>zero</td>\n",
       "    </tr>\n",
       "    <tr>\n",
       "      <th>8197</th>\n",
       "      <td>Manhattan</td>\n",
       "      <td>Upper East Side</td>\n",
       "      <td>Entire home/apt</td>\n",
       "      <td>175</td>\n",
       "      <td>3</td>\n",
       "      <td>0</td>\n",
       "      <td>No</td>\n",
       "      <td>1</td>\n",
       "      <td>0</td>\n",
       "      <td>zero</td>\n",
       "    </tr>\n",
       "    <tr>\n",
       "      <th>23318</th>\n",
       "      <td>Brooklyn</td>\n",
       "      <td>others</td>\n",
       "      <td>Entire home/apt</td>\n",
       "      <td>105</td>\n",
       "      <td>2</td>\n",
       "      <td>22</td>\n",
       "      <td>yes</td>\n",
       "      <td>1</td>\n",
       "      <td>0</td>\n",
       "      <td>zero</td>\n",
       "    </tr>\n",
       "    <tr>\n",
       "      <th>31398</th>\n",
       "      <td>Brooklyn</td>\n",
       "      <td>Bushwick</td>\n",
       "      <td>Private room</td>\n",
       "      <td>35</td>\n",
       "      <td>14</td>\n",
       "      <td>4</td>\n",
       "      <td>yes</td>\n",
       "      <td>1</td>\n",
       "      <td>0</td>\n",
       "      <td>zero</td>\n",
       "    </tr>\n",
       "    <tr>\n",
       "      <th>19113</th>\n",
       "      <td>Queens</td>\n",
       "      <td>others</td>\n",
       "      <td>Private room</td>\n",
       "      <td>43</td>\n",
       "      <td>3</td>\n",
       "      <td>69</td>\n",
       "      <td>yes</td>\n",
       "      <td>1</td>\n",
       "      <td>283</td>\n",
       "      <td>nonzero</td>\n",
       "    </tr>\n",
       "  </tbody>\n",
       "</table>\n",
       "</div>\n",
       "      <button class=\"colab-df-convert\" onclick=\"convertToInteractive('df-4f804ef7-a993-435a-bccc-6fd4afbf24ba')\"\n",
       "              title=\"Convert this dataframe to an interactive table.\"\n",
       "              style=\"display:none;\">\n",
       "        \n",
       "  <svg xmlns=\"http://www.w3.org/2000/svg\" height=\"24px\"viewBox=\"0 0 24 24\"\n",
       "       width=\"24px\">\n",
       "    <path d=\"M0 0h24v24H0V0z\" fill=\"none\"/>\n",
       "    <path d=\"M18.56 5.44l.94 2.06.94-2.06 2.06-.94-2.06-.94-.94-2.06-.94 2.06-2.06.94zm-11 1L8.5 8.5l.94-2.06 2.06-.94-2.06-.94L8.5 2.5l-.94 2.06-2.06.94zm10 10l.94 2.06.94-2.06 2.06-.94-2.06-.94-.94-2.06-.94 2.06-2.06.94z\"/><path d=\"M17.41 7.96l-1.37-1.37c-.4-.4-.92-.59-1.43-.59-.52 0-1.04.2-1.43.59L10.3 9.45l-7.72 7.72c-.78.78-.78 2.05 0 2.83L4 21.41c.39.39.9.59 1.41.59.51 0 1.02-.2 1.41-.59l7.78-7.78 2.81-2.81c.8-.78.8-2.07 0-2.86zM5.41 20L4 18.59l7.72-7.72 1.47 1.35L5.41 20z\"/>\n",
       "  </svg>\n",
       "      </button>\n",
       "      \n",
       "  <style>\n",
       "    .colab-df-container {\n",
       "      display:flex;\n",
       "      flex-wrap:wrap;\n",
       "      gap: 12px;\n",
       "    }\n",
       "\n",
       "    .colab-df-convert {\n",
       "      background-color: #E8F0FE;\n",
       "      border: none;\n",
       "      border-radius: 50%;\n",
       "      cursor: pointer;\n",
       "      display: none;\n",
       "      fill: #1967D2;\n",
       "      height: 32px;\n",
       "      padding: 0 0 0 0;\n",
       "      width: 32px;\n",
       "    }\n",
       "\n",
       "    .colab-df-convert:hover {\n",
       "      background-color: #E2EBFA;\n",
       "      box-shadow: 0px 1px 2px rgba(60, 64, 67, 0.3), 0px 1px 3px 1px rgba(60, 64, 67, 0.15);\n",
       "      fill: #174EA6;\n",
       "    }\n",
       "\n",
       "    [theme=dark] .colab-df-convert {\n",
       "      background-color: #3B4455;\n",
       "      fill: #D2E3FC;\n",
       "    }\n",
       "\n",
       "    [theme=dark] .colab-df-convert:hover {\n",
       "      background-color: #434B5C;\n",
       "      box-shadow: 0px 1px 3px 1px rgba(0, 0, 0, 0.15);\n",
       "      filter: drop-shadow(0px 1px 2px rgba(0, 0, 0, 0.3));\n",
       "      fill: #FFFFFF;\n",
       "    }\n",
       "  </style>\n",
       "\n",
       "      <script>\n",
       "        const buttonEl =\n",
       "          document.querySelector('#df-4f804ef7-a993-435a-bccc-6fd4afbf24ba button.colab-df-convert');\n",
       "        buttonEl.style.display =\n",
       "          google.colab.kernel.accessAllowed ? 'block' : 'none';\n",
       "\n",
       "        async function convertToInteractive(key) {\n",
       "          const element = document.querySelector('#df-4f804ef7-a993-435a-bccc-6fd4afbf24ba');\n",
       "          const dataTable =\n",
       "            await google.colab.kernel.invokeFunction('convertToInteractive',\n",
       "                                                     [key], {});\n",
       "          if (!dataTable) return;\n",
       "\n",
       "          const docLinkHtml = 'Like what you see? Visit the ' +\n",
       "            '<a target=\"_blank\" href=https://colab.research.google.com/notebooks/data_table.ipynb>data table notebook</a>'\n",
       "            + ' to learn more about interactive tables.';\n",
       "          element.innerHTML = '';\n",
       "          dataTable['output_type'] = 'display_data';\n",
       "          await google.colab.output.renderOutput(dataTable, element);\n",
       "          const docLink = document.createElement('div');\n",
       "          docLink.innerHTML = docLinkHtml;\n",
       "          element.appendChild(docLink);\n",
       "        }\n",
       "      </script>\n",
       "    </div>\n",
       "  </div>\n",
       "  "
      ],
      "text/plain": [
       "      neighbourhood_group       neighbourhood        room_type  price  \\\n",
       "5431            Manhattan  Financial District  Entire home/apt    275   \n",
       "8197            Manhattan     Upper East Side  Entire home/apt    175   \n",
       "23318            Brooklyn              others  Entire home/apt    105   \n",
       "31398            Brooklyn            Bushwick     Private room     35   \n",
       "19113              Queens              others     Private room     43   \n",
       "\n",
       "       minimum_nights  number_of_reviews reviews_per_month  \\\n",
       "5431                3                  9               yes   \n",
       "8197                3                  0                No   \n",
       "23318               2                 22               yes   \n",
       "31398              14                  4               yes   \n",
       "19113               3                 69               yes   \n",
       "\n",
       "       calculated_host_listings_count  availability_365  is_zero  \n",
       "5431                                1                 0     zero  \n",
       "8197                                1                 0     zero  \n",
       "23318                               1                 0     zero  \n",
       "31398                               1                 0     zero  \n",
       "19113                               1               283  nonzero  "
      ]
     },
     "execution_count": 54,
     "metadata": {},
     "output_type": "execute_result"
    }
   ],
   "source": [
    "df.head()"
   ]
  },
  {
   "cell_type": "code",
   "execution_count": 55,
   "metadata": {
    "colab": {
     "base_uri": "https://localhost:8080/"
    },
    "execution": {
     "iopub.execute_input": "2022-08-02T09:03:19.094981Z",
     "iopub.status.busy": "2022-08-02T09:03:19.094636Z",
     "iopub.status.idle": "2022-08-02T09:03:19.115862Z",
     "shell.execute_reply": "2022-08-02T09:03:19.114912Z",
     "shell.execute_reply.started": "2022-08-02T09:03:19.094936Z"
    },
    "id": "GqMj9EVRgUb2",
    "outputId": "f7990887-d51a-43cb-94c1-4ef0f27febff"
   },
   "outputs": [
    {
     "data": {
      "text/plain": [
       "neighbourhood_group               0\n",
       "neighbourhood                     0\n",
       "room_type                         0\n",
       "price                             0\n",
       "minimum_nights                    0\n",
       "number_of_reviews                 0\n",
       "reviews_per_month                 0\n",
       "calculated_host_listings_count    0\n",
       "availability_365                  0\n",
       "is_zero                           0\n",
       "dtype: int64"
      ]
     },
     "execution_count": 55,
     "metadata": {},
     "output_type": "execute_result"
    }
   ],
   "source": [
    "df.isna().sum()"
   ]
  },
  {
   "cell_type": "code",
   "execution_count": 56,
   "metadata": {
    "execution": {
     "iopub.execute_input": "2022-08-02T09:03:19.117823Z",
     "iopub.status.busy": "2022-08-02T09:03:19.117064Z",
     "iopub.status.idle": "2022-08-02T09:03:19.132779Z",
     "shell.execute_reply": "2022-08-02T09:03:19.131792Z",
     "shell.execute_reply.started": "2022-08-02T09:03:19.117789Z"
    },
    "id": "tqlBbI57gUb3"
   },
   "outputs": [],
   "source": [
    "X_num = df[['minimum_nights', 'number_of_reviews', 'calculated_host_listings_count', 'availability_365']]\n",
    "X_cat = df.drop(['minimum_nights', 'minimum_nights', 'number_of_reviews', 'calculated_host_listings_count', 'availability_365', 'price'], axis=1)"
   ]
  },
  {
   "cell_type": "code",
   "execution_count": 57,
   "metadata": {
    "execution": {
     "iopub.execute_input": "2022-08-02T09:03:19.134997Z",
     "iopub.status.busy": "2022-08-02T09:03:19.134534Z",
     "iopub.status.idle": "2022-08-02T09:03:19.141095Z",
     "shell.execute_reply": "2022-08-02T09:03:19.139490Z",
     "shell.execute_reply.started": "2022-08-02T09:03:19.134958Z"
    },
    "id": "uZBAu-psgUb3"
   },
   "outputs": [],
   "source": [
    "from sklearn.preprocessing import LabelEncoder, StandardScaler"
   ]
  },
  {
   "cell_type": "code",
   "execution_count": 58,
   "metadata": {
    "execution": {
     "iopub.execute_input": "2022-08-02T09:03:19.143449Z",
     "iopub.status.busy": "2022-08-02T09:03:19.142843Z",
     "iopub.status.idle": "2022-08-02T09:03:19.214578Z",
     "shell.execute_reply": "2022-08-02T09:03:19.213390Z",
     "shell.execute_reply.started": "2022-08-02T09:03:19.143415Z"
    },
    "id": "CNjAFpaIgUb3"
   },
   "outputs": [],
   "source": [
    "le = LabelEncoder()\n",
    "for i in X_cat.columns:\n",
    "  X_cat[i] = le.fit_transform(X_cat[i])"
   ]
  },
  {
   "cell_type": "code",
   "execution_count": 59,
   "metadata": {
    "execution": {
     "iopub.execute_input": "2022-08-02T09:03:19.216550Z",
     "iopub.status.busy": "2022-08-02T09:03:19.215857Z",
     "iopub.status.idle": "2022-08-02T09:03:19.230351Z",
     "shell.execute_reply": "2022-08-02T09:03:19.229270Z",
     "shell.execute_reply.started": "2022-08-02T09:03:19.216512Z"
    },
    "id": "jMcN1z7IgUb3"
   },
   "outputs": [],
   "source": [
    "scaler = StandardScaler()\n",
    "scaler.fit(X_num)\n",
    "X_scaled = scaler.transform(X_num)\n",
    "X_scaled = pd.DataFrame(X_scaled, index=X_num.index, columns=X_num.columns)\n",
    "X = pd.concat([X_scaled, X_cat], axis=1)\n",
    "y=df['price']"
   ]
  },
  {
   "cell_type": "code",
   "execution_count": 60,
   "metadata": {
    "colab": {
     "base_uri": "https://localhost:8080/",
     "height": 206
    },
    "execution": {
     "iopub.execute_input": "2022-08-02T09:03:19.233443Z",
     "iopub.status.busy": "2022-08-02T09:03:19.233110Z",
     "iopub.status.idle": "2022-08-02T09:03:19.249212Z",
     "shell.execute_reply": "2022-08-02T09:03:19.247978Z",
     "shell.execute_reply.started": "2022-08-02T09:03:19.233413Z"
    },
    "id": "TkA93hc3gUb3",
    "outputId": "18a6d9c1-936d-4b43-a81e-c82de3c2608c"
   },
   "outputs": [
    {
     "data": {
      "text/html": [
       "\n",
       "  <div id=\"df-74a3da2f-3754-4565-8ad4-2e0dae16069b\">\n",
       "    <div class=\"colab-df-container\">\n",
       "      <div>\n",
       "<style scoped>\n",
       "    .dataframe tbody tr th:only-of-type {\n",
       "        vertical-align: middle;\n",
       "    }\n",
       "\n",
       "    .dataframe tbody tr th {\n",
       "        vertical-align: top;\n",
       "    }\n",
       "\n",
       "    .dataframe thead th {\n",
       "        text-align: right;\n",
       "    }\n",
       "</style>\n",
       "<table border=\"1\" class=\"dataframe\">\n",
       "  <thead>\n",
       "    <tr style=\"text-align: right;\">\n",
       "      <th></th>\n",
       "      <th>minimum_nights</th>\n",
       "      <th>number_of_reviews</th>\n",
       "      <th>calculated_host_listings_count</th>\n",
       "      <th>availability_365</th>\n",
       "      <th>neighbourhood_group</th>\n",
       "      <th>neighbourhood</th>\n",
       "      <th>room_type</th>\n",
       "      <th>reviews_per_month</th>\n",
       "      <th>is_zero</th>\n",
       "    </tr>\n",
       "  </thead>\n",
       "  <tbody>\n",
       "    <tr>\n",
       "      <th>5431</th>\n",
       "      <td>-0.313973</td>\n",
       "      <td>-0.334785</td>\n",
       "      <td>-0.182844</td>\n",
       "      <td>-0.858443</td>\n",
       "      <td>2</td>\n",
       "      <td>9</td>\n",
       "      <td>0</td>\n",
       "      <td>1</td>\n",
       "      <td>1</td>\n",
       "    </tr>\n",
       "    <tr>\n",
       "      <th>8197</th>\n",
       "      <td>-0.313973</td>\n",
       "      <td>-0.535346</td>\n",
       "      <td>-0.182844</td>\n",
       "      <td>-0.858443</td>\n",
       "      <td>2</td>\n",
       "      <td>20</td>\n",
       "      <td>0</td>\n",
       "      <td>0</td>\n",
       "      <td>1</td>\n",
       "    </tr>\n",
       "    <tr>\n",
       "      <th>23318</th>\n",
       "      <td>-0.435119</td>\n",
       "      <td>-0.045086</td>\n",
       "      <td>-0.182844</td>\n",
       "      <td>-0.858443</td>\n",
       "      <td>1</td>\n",
       "      <td>25</td>\n",
       "      <td>0</td>\n",
       "      <td>1</td>\n",
       "      <td>1</td>\n",
       "    </tr>\n",
       "    <tr>\n",
       "      <th>31398</th>\n",
       "      <td>1.018629</td>\n",
       "      <td>-0.446207</td>\n",
       "      <td>-0.182844</td>\n",
       "      <td>-0.858443</td>\n",
       "      <td>1</td>\n",
       "      <td>2</td>\n",
       "      <td>1</td>\n",
       "      <td>1</td>\n",
       "      <td>1</td>\n",
       "    </tr>\n",
       "    <tr>\n",
       "      <th>19113</th>\n",
       "      <td>-0.313973</td>\n",
       "      <td>1.002287</td>\n",
       "      <td>-0.182844</td>\n",
       "      <td>1.300122</td>\n",
       "      <td>3</td>\n",
       "      <td>25</td>\n",
       "      <td>1</td>\n",
       "      <td>1</td>\n",
       "      <td>0</td>\n",
       "    </tr>\n",
       "  </tbody>\n",
       "</table>\n",
       "</div>\n",
       "      <button class=\"colab-df-convert\" onclick=\"convertToInteractive('df-74a3da2f-3754-4565-8ad4-2e0dae16069b')\"\n",
       "              title=\"Convert this dataframe to an interactive table.\"\n",
       "              style=\"display:none;\">\n",
       "        \n",
       "  <svg xmlns=\"http://www.w3.org/2000/svg\" height=\"24px\"viewBox=\"0 0 24 24\"\n",
       "       width=\"24px\">\n",
       "    <path d=\"M0 0h24v24H0V0z\" fill=\"none\"/>\n",
       "    <path d=\"M18.56 5.44l.94 2.06.94-2.06 2.06-.94-2.06-.94-.94-2.06-.94 2.06-2.06.94zm-11 1L8.5 8.5l.94-2.06 2.06-.94-2.06-.94L8.5 2.5l-.94 2.06-2.06.94zm10 10l.94 2.06.94-2.06 2.06-.94-2.06-.94-.94-2.06-.94 2.06-2.06.94z\"/><path d=\"M17.41 7.96l-1.37-1.37c-.4-.4-.92-.59-1.43-.59-.52 0-1.04.2-1.43.59L10.3 9.45l-7.72 7.72c-.78.78-.78 2.05 0 2.83L4 21.41c.39.39.9.59 1.41.59.51 0 1.02-.2 1.41-.59l7.78-7.78 2.81-2.81c.8-.78.8-2.07 0-2.86zM5.41 20L4 18.59l7.72-7.72 1.47 1.35L5.41 20z\"/>\n",
       "  </svg>\n",
       "      </button>\n",
       "      \n",
       "  <style>\n",
       "    .colab-df-container {\n",
       "      display:flex;\n",
       "      flex-wrap:wrap;\n",
       "      gap: 12px;\n",
       "    }\n",
       "\n",
       "    .colab-df-convert {\n",
       "      background-color: #E8F0FE;\n",
       "      border: none;\n",
       "      border-radius: 50%;\n",
       "      cursor: pointer;\n",
       "      display: none;\n",
       "      fill: #1967D2;\n",
       "      height: 32px;\n",
       "      padding: 0 0 0 0;\n",
       "      width: 32px;\n",
       "    }\n",
       "\n",
       "    .colab-df-convert:hover {\n",
       "      background-color: #E2EBFA;\n",
       "      box-shadow: 0px 1px 2px rgba(60, 64, 67, 0.3), 0px 1px 3px 1px rgba(60, 64, 67, 0.15);\n",
       "      fill: #174EA6;\n",
       "    }\n",
       "\n",
       "    [theme=dark] .colab-df-convert {\n",
       "      background-color: #3B4455;\n",
       "      fill: #D2E3FC;\n",
       "    }\n",
       "\n",
       "    [theme=dark] .colab-df-convert:hover {\n",
       "      background-color: #434B5C;\n",
       "      box-shadow: 0px 1px 3px 1px rgba(0, 0, 0, 0.15);\n",
       "      filter: drop-shadow(0px 1px 2px rgba(0, 0, 0, 0.3));\n",
       "      fill: #FFFFFF;\n",
       "    }\n",
       "  </style>\n",
       "\n",
       "      <script>\n",
       "        const buttonEl =\n",
       "          document.querySelector('#df-74a3da2f-3754-4565-8ad4-2e0dae16069b button.colab-df-convert');\n",
       "        buttonEl.style.display =\n",
       "          google.colab.kernel.accessAllowed ? 'block' : 'none';\n",
       "\n",
       "        async function convertToInteractive(key) {\n",
       "          const element = document.querySelector('#df-74a3da2f-3754-4565-8ad4-2e0dae16069b');\n",
       "          const dataTable =\n",
       "            await google.colab.kernel.invokeFunction('convertToInteractive',\n",
       "                                                     [key], {});\n",
       "          if (!dataTable) return;\n",
       "\n",
       "          const docLinkHtml = 'Like what you see? Visit the ' +\n",
       "            '<a target=\"_blank\" href=https://colab.research.google.com/notebooks/data_table.ipynb>data table notebook</a>'\n",
       "            + ' to learn more about interactive tables.';\n",
       "          element.innerHTML = '';\n",
       "          dataTable['output_type'] = 'display_data';\n",
       "          await google.colab.output.renderOutput(dataTable, element);\n",
       "          const docLink = document.createElement('div');\n",
       "          docLink.innerHTML = docLinkHtml;\n",
       "          element.appendChild(docLink);\n",
       "        }\n",
       "      </script>\n",
       "    </div>\n",
       "  </div>\n",
       "  "
      ],
      "text/plain": [
       "       minimum_nights  number_of_reviews  calculated_host_listings_count  \\\n",
       "5431        -0.313973          -0.334785                       -0.182844   \n",
       "8197        -0.313973          -0.535346                       -0.182844   \n",
       "23318       -0.435119          -0.045086                       -0.182844   \n",
       "31398        1.018629          -0.446207                       -0.182844   \n",
       "19113       -0.313973           1.002287                       -0.182844   \n",
       "\n",
       "       availability_365  neighbourhood_group  neighbourhood  room_type  \\\n",
       "5431          -0.858443                    2              9          0   \n",
       "8197          -0.858443                    2             20          0   \n",
       "23318         -0.858443                    1             25          0   \n",
       "31398         -0.858443                    1              2          1   \n",
       "19113          1.300122                    3             25          1   \n",
       "\n",
       "       reviews_per_month  is_zero  \n",
       "5431                   1        1  \n",
       "8197                   0        1  \n",
       "23318                  1        1  \n",
       "31398                  1        1  \n",
       "19113                  1        0  "
      ]
     },
     "execution_count": 60,
     "metadata": {},
     "output_type": "execute_result"
    }
   ],
   "source": [
    "X.head()"
   ]
  },
  {
   "cell_type": "code",
   "execution_count": 61,
   "metadata": {
    "colab": {
     "base_uri": "https://localhost:8080/"
    },
    "id": "gugOfgPLkcSt",
    "outputId": "363a9418-cbbe-48fe-e901-eba8312963d2"
   },
   "outputs": [
    {
     "data": {
      "text/plain": [
       "(10000, 9)"
      ]
     },
     "execution_count": 61,
     "metadata": {},
     "output_type": "execute_result"
    }
   ],
   "source": [
    "X.shape"
   ]
  },
  {
   "cell_type": "markdown",
   "metadata": {
    "id": "wOrg_K9ugUb3"
   },
   "source": [
    "# Models\n"
   ]
  },
  {
   "cell_type": "code",
   "execution_count": 62,
   "metadata": {
    "execution": {
     "iopub.execute_input": "2022-08-02T09:03:19.251562Z",
     "iopub.status.busy": "2022-08-02T09:03:19.250736Z",
     "iopub.status.idle": "2022-08-02T09:03:19.255908Z",
     "shell.execute_reply": "2022-08-02T09:03:19.255116Z",
     "shell.execute_reply.started": "2022-08-02T09:03:19.251524Z"
    },
    "id": "zX9dCSoPgUb3"
   },
   "outputs": [],
   "source": [
    "from sklearn.model_selection import train_test_split"
   ]
  },
  {
   "cell_type": "code",
   "execution_count": 63,
   "metadata": {
    "execution": {
     "iopub.execute_input": "2022-08-02T09:03:19.258225Z",
     "iopub.status.busy": "2022-08-02T09:03:19.257283Z",
     "iopub.status.idle": "2022-08-02T09:03:19.280873Z",
     "shell.execute_reply": "2022-08-02T09:03:19.279734Z",
     "shell.execute_reply.started": "2022-08-02T09:03:19.258190Z"
    },
    "id": "kMrty4FBgUb4"
   },
   "outputs": [],
   "source": [
    "X_train, X_test, y_train, y_test = train_test_split(X, y, test_size=0.3, random_state=1)"
   ]
  },
  {
   "cell_type": "code",
   "execution_count": 64,
   "metadata": {
    "execution": {
     "iopub.execute_input": "2022-08-02T09:03:19.284322Z",
     "iopub.status.busy": "2022-08-02T09:03:19.283897Z",
     "iopub.status.idle": "2022-08-02T09:03:19.289754Z",
     "shell.execute_reply": "2022-08-02T09:03:19.288745Z",
     "shell.execute_reply.started": "2022-08-02T09:03:19.284287Z"
    },
    "id": "SJGn1mExgUb4"
   },
   "outputs": [],
   "source": [
    "from sklearn.ensemble import RandomForestRegressor, GradientBoostingRegressor\n",
    "from xgboost import XGBRegressor\n",
    "import lightgbm as lgb\n",
    "from sklearn.metrics import mean_absolute_error, mean_squared_error\n",
    "from math import sqrt"
   ]
  },
  {
   "cell_type": "markdown",
   "metadata": {
    "id": "pkjsza8WDvZh"
   },
   "source": [
    "## Decision tree"
   ]
  },
  {
   "cell_type": "markdown",
   "metadata": {
    "id": "nGE49vcwD1XQ"
   },
   "source": [
    "### Simple decision tree"
   ]
  },
  {
   "cell_type": "code",
   "execution_count": 65,
   "metadata": {
    "colab": {
     "base_uri": "https://localhost:8080/"
    },
    "id": "_o5G3iyMhw6G",
    "outputId": "53853c7e-ad8a-4d06-c8e2-d884b90c2855"
   },
   "outputs": [
    {
     "name": "stdout",
     "output_type": "stream",
     "text": [
      "Erreur quadratique moyenne :  12711.1952758402\n",
      "Coefficient de détermination (R²) :  -0.1687403742900384\n",
      "Score de variance expliquée :  -0.16640605432493172\n",
      "Erreur maximale :  665.0\n",
      "Erreur absolue moyenne :  66.9982646945647\n"
     ]
    }
   ],
   "source": [
    "from sklearn.tree import DecisionTreeRegressor\n",
    "from sklearn.metrics import mean_squared_error, r2_score, explained_variance_score, max_error, mean_absolute_error\n",
    "\n",
    "# Créer un modèle d'arbre de décision\n",
    "dt = DecisionTreeRegressor()\n",
    "\n",
    "# Entraîner le modèle sur les données d'apprentissage\n",
    "dt.fit(X_train, y_train)\n",
    "\n",
    "# Faire des prédictions sur les données de test\n",
    "y_pred = dt.predict(X_test)\n",
    "\n",
    "# Calculer les métriques de performance\n",
    "mse = mean_squared_error(y_test, y_pred)\n",
    "r2 = r2_score(y_test, y_pred)\n",
    "evs = explained_variance_score(y_test, y_pred)\n",
    "me = max_error(y_test, y_pred)\n",
    "mae = mean_absolute_error(y_test, y_pred)\n",
    "\n",
    "# Afficher les résultats\n",
    "print(\"Erreur quadratique moyenne : \", mse)\n",
    "print(\"Coefficient de détermination (R²) : \", r2)\n",
    "print(\"Score de variance expliquée : \", evs)\n",
    "print(\"Erreur maximale : \", me)\n",
    "print(\"Erreur absolue moyenne : \", mae)"
   ]
  },
  {
   "cell_type": "markdown",
   "metadata": {
    "id": "FYhhKK41FNbx"
   },
   "source": [
    "### Decision tree with GridSearch"
   ]
  },
  {
   "cell_type": "code",
   "execution_count": 66,
   "metadata": {
    "colab": {
     "base_uri": "https://localhost:8080/"
    },
    "id": "lJvtLoJkFQhA",
    "outputId": "606ffa44-5b35-49ee-8ba1-e68da09a6b7e"
   },
   "outputs": [
    {
     "name": "stdout",
     "output_type": "stream",
     "text": [
      "Erreur quadratique moyenne :  7030.188468943191\n",
      "Coefficient de détermination (R²) :  0.3536040534174647\n",
      "Score de variance expliquée :  0.3536391129923788\n",
      "Erreur maximale :  642.8356164383562\n",
      "Erreur absolue moyenne :  51.4052767498826\n"
     ]
    }
   ],
   "source": [
    "from sklearn.tree import DecisionTreeRegressor\n",
    "from sklearn.metrics import mean_squared_error, r2_score, explained_variance_score, max_error, mean_absolute_error\n",
    "from sklearn.model_selection import GridSearchCV\n",
    "\n",
    "# Créer un modèle d'arbre de décision\n",
    "dt = DecisionTreeRegressor()\n",
    "\n",
    "# Définir les hyperparamètres à tester\n",
    "param_grid = {\n",
    "    'max_depth': [3, 4, 5, None],\n",
    "    'min_samples_split': [2, 5, 10],\n",
    "    'min_samples_leaf': [1, 2, 4]\n",
    "}\n",
    "\n",
    "# Utiliser GridSearchCV pour trouver les meilleurs hyperparamètres\n",
    "dt_gs = GridSearchCV(dt, param_grid, scoring='neg_mean_squared_error', cv=5)\n",
    "dt_gs.fit(X_train, y_train)\n",
    "\n",
    "# Utiliser les meilleurs hyperparamètres pour entraîner le modèle\n",
    "dt_best = dt_gs.best_estimator_\n",
    "dt_best.fit(X_train, y_train)\n",
    "\n",
    "# Faire des prédictions sur les données de test\n",
    "y_pred = dt_best.predict(X_test)\n",
    "\n",
    "# Calculer les métriques de performance\n",
    "mse = mean_squared_error(y_test, y_pred)\n",
    "r2 = r2_score(y_test, y_pred)\n",
    "evs = explained_variance_score(y_test, y_pred)\n",
    "me = max_error(y_test, y_pred)\n",
    "mae = mean_absolute_error(y_test, y_pred)\n",
    "\n",
    "# Afficher les résultats\n",
    "print(\"Erreur quadratique moyenne : \", mse)\n",
    "print(\"Coefficient de détermination (R²) : \", r2)\n",
    "print(\"Score de variance expliquée : \", evs)\n",
    "print(\"Erreur maximale : \", me)\n",
    "print(\"Erreur absolue moyenne : \", mae)\n"
   ]
  },
  {
   "cell_type": "markdown",
   "metadata": {
    "id": "sin58_UIFQxC"
   },
   "source": [
    "### Decision tree with Kfold and GridSearch"
   ]
  },
  {
   "cell_type": "code",
   "execution_count": 67,
   "metadata": {
    "colab": {
     "base_uri": "https://localhost:8080/"
    },
    "id": "ks-LGftZIf5J",
    "outputId": "854ace64-ea83-4929-a883-0db063caad41"
   },
   "outputs": [
    {
     "name": "stdout",
     "output_type": "stream",
     "text": [
      "Erreur quadratique moyenne :  7040.810980927625\n",
      "Coefficient de détermination (R²) :  0.3526273585934788\n",
      "Score de variance expliquée :  0.35265890510540565\n",
      "Erreur maximale :  642.8356164383562\n",
      "Erreur absolue moyenne :  51.45831536776878\n"
     ]
    }
   ],
   "source": [
    "from sklearn.tree import DecisionTreeRegressor\n",
    "from sklearn.metrics import mean_squared_error, r2_score, explained_variance_score, max_error, mean_absolute_error\n",
    "from sklearn.model_selection import GridSearchCV, KFold\n",
    "\n",
    "# Créer un modèle d'arbre de décision\n",
    "dt = DecisionTreeRegressor()\n",
    "\n",
    "# Définir les hyperparamètres à tester\n",
    "param_grid = {\n",
    "    'max_depth': [3, 4, 5, None],\n",
    "    'min_samples_split': [2, 5, 10],\n",
    "    'min_samples_leaf': [1, 2, 4]\n",
    "}\n",
    "\n",
    "# Utiliser GridSearchCV avec une validation croisée KFold pour trouver les meilleurs hyperparamètres\n",
    "cv = KFold(n_splits=5, shuffle=True, random_state=42)\n",
    "dt_gs = GridSearchCV(dt, param_grid, scoring='neg_mean_squared_error', cv=cv)\n",
    "dt_gs.fit(X_train, y_train)\n",
    "\n",
    "# Utiliser les meilleurs hyperparamètres pour entraîner le modèle\n",
    "dt_best = dt_gs.best_estimator_\n",
    "dt_best.fit(X_train, y_train)\n",
    "\n",
    "# Faire des prédictions sur les données de test\n",
    "y_pred = dt_best.predict(X_test)\n",
    "\n",
    "# Calculer les métriques de performance\n",
    "mse = mean_squared_error(y_test, y_pred)\n",
    "r2 = r2_score(y_test, y_pred)\n",
    "evs = explained_variance_score(y_test, y_pred)\n",
    "me = max_error(y_test, y_pred)\n",
    "mae = mean_absolute_error(y_test, y_pred)\n",
    "\n",
    "# Afficher les résultats\n",
    "print(\"Erreur quadratique moyenne : \", mse)\n",
    "print(\"Coefficient de détermination (R²) : \", r2)\n",
    "print(\"Score de variance expliquée : \", evs)\n",
    "print(\"Erreur maximale : \", me)\n",
    "print(\"Erreur absolue moyenne : \", mae)\n"
   ]
  },
  {
   "cell_type": "markdown",
   "metadata": {
    "id": "eP6kJ540ESHX"
   },
   "source": [
    "## Random Forest"
   ]
  },
  {
   "cell_type": "markdown",
   "metadata": {
    "id": "2_T9dk7bD7xI"
   },
   "source": [
    "### Simple Random Forest"
   ]
  },
  {
   "cell_type": "code",
   "execution_count": 68,
   "metadata": {
    "colab": {
     "base_uri": "https://localhost:8080/"
    },
    "id": "59AwOZW1lur-",
    "outputId": "7e6bc44c-0814-4ce4-a064-fa4855e846d1"
   },
   "outputs": [
    {
     "name": "stdout",
     "output_type": "stream",
     "text": [
      "Erreur quadratique moyenne :  6497.048120534112\n",
      "Coefficient de détermination (R²) :  0.4026240422404719\n",
      "Score de variance expliquée :  0.40381053179767024\n",
      "Erreur maximale :  640.91\n",
      "Erreur absolue moyenne :  51.07977130266481\n"
     ]
    }
   ],
   "source": [
    "from sklearn.ensemble import RandomForestRegressor\n",
    "from sklearn.metrics import mean_squared_error, r2_score, explained_variance_score, max_error, mean_absolute_error\n",
    "\n",
    "# Créer un modèle de forêt aléatoire avec 100 arbres\n",
    "rf = RandomForestRegressor()\n",
    "\n",
    "# Entraîner le modèle sur les données d'apprentissage\n",
    "rf.fit(X_train, y_train)\n",
    "\n",
    "# Faire des prédictions sur les données de test\n",
    "y_pred = rf.predict(X_test)\n",
    "\n",
    "# Calculer les métriques de performance\n",
    "mse = mean_squared_error(y_test, y_pred)\n",
    "r2 = r2_score(y_test, y_pred)\n",
    "evs = explained_variance_score(y_test, y_pred)\n",
    "me = max_error(y_test, y_pred)\n",
    "mae = mean_absolute_error(y_test, y_pred)\n",
    "\n",
    "# Afficher les résultats\n",
    "print(\"Erreur quadratique moyenne : \", mse)\n",
    "print(\"Coefficient de détermination (R²) : \", r2)\n",
    "print(\"Score de variance expliquée : \", evs)\n",
    "print(\"Erreur maximale : \", me)\n",
    "print(\"Erreur absolue moyenne : \", mae)\n"
   ]
  },
  {
   "cell_type": "markdown",
   "metadata": {
    "id": "a-WYofzuD-_o"
   },
   "source": [
    "### Random Forest with GridSearch"
   ]
  },
  {
   "cell_type": "code",
   "execution_count": 71,
   "metadata": {
    "colab": {
     "base_uri": "https://localhost:8080/"
    },
    "id": "8m1PfaoHm9-C",
    "outputId": "0359b20c-8179-4076-c6b3-02f9241735f9"
   },
   "outputs": [
    {
     "name": "stdout",
     "output_type": "stream",
     "text": [
      "Meilleurs hyperparamètres :  {'max_depth': 10, 'min_samples_leaf': 4, 'min_samples_split': 10, 'n_estimators': 200}\n",
      "Erreur quadratique moyenne :  6078.592218044534\n",
      "Coefficient de détermination (R²) :  0.44109928374896323\n",
      "Score de variance expliquée :  0.44109946116412735\n",
      "Erreur maximale :  641.6568373712605\n",
      "Erreur absolue moyenne :  47.944824175526385\n"
     ]
    }
   ],
   "source": [
    "from sklearn.ensemble import RandomForestRegressor\n",
    "from sklearn.metrics import mean_squared_error, r2_score, explained_variance_score, max_error, mean_absolute_error\n",
    "from sklearn.model_selection import train_test_split\n",
    "\n",
    "# Diviser les données en ensembles d'apprentissage et de test\n",
    "X_train, X_test, y_train, y_test = train_test_split(X, y, test_size=0.2, random_state=1)\n",
    "\n",
    "# Définir les hyperparamètres à tester avec la grille de recherche\n",
    "param_grid = {\n",
    "    'n_estimators': [50, 100, 200],\n",
    "    'max_depth': [None, 10, 20],\n",
    "    'min_samples_split': [2, 5, 10],\n",
    "    'min_samples_leaf': [1, 2, 4]\n",
    "}\n",
    "\n",
    "# Créer un modèle de forêt aléatoire\n",
    "rf = RandomForestRegressor(random_state=1)\n",
    "\n",
    "# Entraîner le modèle sur les données d'apprentissage\n",
    "rf.fit(X_train, y_train)\n",
    "\n",
    "# Faire des prédictions sur les données de test\n",
    "y_pred = rf.predict(X_test)\n",
    "\n",
    "# Calculer les métriques de performance\n",
    "mse = mean_squared_error(y_test, y_pred)\n",
    "r2 = r2_score(y_test, y_pred)\n",
    "evs = explained_variance_score(y_test, y_pred)\n",
    "me = max_error(y_test, y_pred)\n",
    "mae = mean_absolute_error(y_test, y_pred)\n",
    "\n",
    "# Afficher les résultats\n",
    "print(\"Erreur quadratique moyenne : \", mse)\n",
    "print(\"Coefficient de détermination (R²) : \", r2)\n",
    "print(\"Score de variance expliquée : \", evs)\n",
    "print(\"Erreur maximale : \", me)\n",
    "print(\"Erreur absolue moyenne : \", mae)"
   ]
  },
  {
   "cell_type": "markdown",
   "metadata": {
    "id": "Cf2L945dvqsB"
   },
   "source": [
    "### Random forest with Kfold and Grid search"
   ]
  },
  {
   "cell_type": "code",
   "execution_count": 72,
   "metadata": {
    "colab": {
     "base_uri": "https://localhost:8080/"
    },
    "id": "J1xDp3fLJV-v",
    "outputId": "7ef3676d-5c9b-469c-d9a6-f07587472fc2"
   },
   "outputs": [
    {
     "name": "stdout",
     "output_type": "stream",
     "text": [
      "Meilleurs hyperparamètres :  {'max_depth': 10, 'min_samples_leaf': 4, 'min_samples_split': 10, 'n_estimators': 200}\n",
      "Erreur quadratique moyenne :  6078.592218044534\n",
      "Coefficient de détermination (R²) :  0.44109928374896323\n",
      "Score de variance expliquée :  0.44109946116412735\n",
      "Erreur maximale :  641.6568373712605\n",
      "Erreur absolue moyenne :  47.944824175526385\n"
     ]
    }
   ],
   "source": [
    "from sklearn.model_selection import GridSearchCV, KFold\n",
    "from sklearn.ensemble import RandomForestRegressor\n",
    "from sklearn.metrics import mean_squared_error, r2_score, explained_variance_score, max_error, mean_absolute_error\n",
    "\n",
    "# Définir les hyperparamètres à tester avec la grille de recherche\n",
    "param_grid = {\n",
    "    'n_estimators': [50, 100, 200],\n",
    "    'max_depth': [None, 10, 20],\n",
    "    'min_samples_split': [2, 5, 10],\n",
    "    'min_samples_leaf': [1, 2, 4]\n",
    "}\n",
    "\n",
    "# Créer un modèle de forêt aléatoire\n",
    "rf = RandomForestRegressor(random_state=1)\n",
    "\n",
    "# Définir la validation croisée KFold\n",
    "cv = KFold(n_splits=5, shuffle=True, random_state=42)\n",
    "\n",
    "# Créer un objet GridSearchCV pour faire la recherche de grille avec validation croisée\n",
    "grid_search = GridSearchCV(rf, param_grid, scoring='neg_mean_squared_error', cv=cv)\n",
    "\n",
    "# Entraîner le modèle sur les données avec la recherche de grille avec validation croisée\n",
    "grid_search.fit(X_train, y_train)\n",
    "\n",
    "# Afficher les meilleurs hyperparamètres trouvés\n",
    "print(\"Meilleurs hyperparamètres : \", grid_search.best_params_)\n",
    "\n",
    "# Entraîner le modèle de forêt aléatoire sur les données avec les meilleurs hyperparamètres trouvés\n",
    "best_rf = RandomForestRegressor(random_state=1, **grid_search.best_params_)\n",
    "best_rf.fit(X_train, y_train)\n",
    "\n",
    "predictions = best_rf.predict(X_test)\n",
    "\n",
    "# Calculer les métriques de performance avec le meilleur modèle\n",
    "mse = mean_squared_error(y_test, predictions)\n",
    "r2 = r2_score(y_test, predictions)\n",
    "evs = explained_variance_score(y_test, predictions)\n",
    "me = max_error(y_test, predictions)\n",
    "mae = mean_absolute_error(y_test, predictions)\n",
    "\n",
    "# Afficher les résultats avec le meilleur modèle\n",
    "print(\"Erreur quadratique moyenne : \", mse)\n",
    "print(\"Coefficient de détermination (R²) : \", r2)\n",
    "print(\"Score de variance expliquée : \", evs)\n",
    "print(\"Erreur maximale : \", me)\n",
    "print(\"Erreur absolue moyenne : \", mae)\n"
   ]
  },
  {
   "cell_type": "markdown",
   "metadata": {
    "id": "DxvrocmVENGg"
   },
   "source": [
    "## AdaBoost"
   ]
  },
  {
   "cell_type": "markdown",
   "metadata": {
    "id": "3BKdzHEXEZQv"
   },
   "source": [
    "### Simple AdaBoost"
   ]
  },
  {
   "cell_type": "code",
   "execution_count": 73,
   "metadata": {
    "colab": {
     "base_uri": "https://localhost:8080/"
    },
    "id": "3yRKMSTbmN0X",
    "outputId": "dba64f98-1da7-44c4-8a7f-7b1e97ac1b20"
   },
   "outputs": [
    {
     "name": "stdout",
     "output_type": "stream",
     "text": [
      "Erreur quadratique moyenne :  8457.166285060772\n",
      "Coefficient de détermination (R²) :  0.22239950886273518\n",
      "Score de variance expliquée :  0.2888191773584421\n",
      "Erreur maximale :  630.7982885085574\n",
      "Erreur absolue moyenne :  64.18933140017215\n"
     ]
    }
   ],
   "source": [
    "from sklearn.ensemble import AdaBoostRegressor\n",
    "from sklearn.metrics import mean_squared_error, r2_score, explained_variance_score, max_error, mean_absolute_error\n",
    "\n",
    "# Créer un modèle Adaboost avec 100 arbres de décision\n",
    "ada = AdaBoostRegressor()\n",
    "\n",
    "# Entraîner le modèle sur les données d'apprentissage\n",
    "ada.fit(X_train, y_train)\n",
    "\n",
    "# Faire des prédictions sur les données de test\n",
    "y_pred = ada.predict(X_test)\n",
    "\n",
    "# Calculer les métriques de performance\n",
    "mse = mean_squared_error(y_test, y_pred)\n",
    "r2 = r2_score(y_test, y_pred)\n",
    "evs = explained_variance_score(y_test, y_pred)\n",
    "me = max_error(y_test, y_pred)\n",
    "mae = mean_absolute_error(y_test, y_pred)\n",
    "\n",
    "# Afficher les résultats\n",
    "print(\"Erreur quadratique moyenne : \", mse)\n",
    "print(\"Coefficient de détermination (R²) : \", r2)\n",
    "print(\"Score de variance expliquée : \", evs)\n",
    "print(\"Erreur maximale : \", me)\n",
    "print(\"Erreur absolue moyenne : \", mae)\n"
   ]
  },
  {
   "cell_type": "markdown",
   "metadata": {
    "id": "ZYVNyDLOJo8f"
   },
   "source": [
    "### AdaBoodt with GridSearch"
   ]
  },
  {
   "cell_type": "code",
   "execution_count": 74,
   "metadata": {
    "colab": {
     "base_uri": "https://localhost:8080/"
    },
    "id": "LC4RTEjfJr4v",
    "outputId": "011cff60-e622-4b61-fd22-87a0d5d67e3a"
   },
   "outputs": [
    {
     "name": "stdout",
     "output_type": "stream",
     "text": [
      "Meilleurs hyperparamètres :  {'learning_rate': 0.1, 'n_estimators': 50}\n",
      "Erreur quadratique moyenne :  7951.110698894279\n",
      "Coefficient de détermination (R²) :  0.2689291689264066\n",
      "Score de variance expliquée :  0.32529313340611776\n",
      "Erreur maximale :  625.3353751914242\n",
      "Erreur absolue moyenne :  62.936655854479355\n"
     ]
    }
   ],
   "source": [
    "from sklearn.ensemble import AdaBoostRegressor\n",
    "from sklearn.model_selection import GridSearchCV\n",
    "from sklearn.metrics import mean_squared_error, r2_score, explained_variance_score, max_error, mean_absolute_error\n",
    "\n",
    "# Définir les hyperparamètres à tester avec la grille de recherche\n",
    "param_grid = {\n",
    "    'n_estimators': [50, 100, 200],\n",
    "    'learning_rate': [0.1, 0.5, 1.0]\n",
    "}\n",
    "\n",
    "# Créer un modèle AdaBoost\n",
    "ada = AdaBoostRegressor()\n",
    "\n",
    "# Créer un objet GridSearchCV pour faire la recherche de grille sans validation croisée\n",
    "grid_search = GridSearchCV(ada, param_grid, scoring='neg_mean_squared_error')\n",
    "\n",
    "# Entraîner le modèle sur les données avec la recherche de grille sans validation croisée\n",
    "grid_search.fit(X_train, y_train)\n",
    "\n",
    "# Afficher les meilleurs hyperparamètres trouvés\n",
    "print(\"Meilleurs hyperparamètres : \", grid_search.best_params_)\n",
    "\n",
    "# Entraîner le modèle AdaBoost sur les données avec les meilleurs hyperparamètres trouvés\n",
    "best_ada = AdaBoostRegressor(**grid_search.best_params_)\n",
    "best_ada.fit(X_train, y_train)\n",
    "\n",
    "predictions = best_ada.predict(X_test)\n",
    "\n",
    "# Calculer les métriques de performance avec le meilleur modèle\n",
    "mse = mean_squared_error(y_test, predictions)\n",
    "r2 = r2_score(y_test, predictions)\n",
    "evs = explained_variance_score(y_test, predictions)\n",
    "me = max_error(y_test, predictions)\n",
    "mae = mean_absolute_error(y_test, predictions)\n",
    "\n",
    "# Afficher les résultats avec le meilleur modèle\n",
    "print(\"Erreur quadratique moyenne : \", mse)\n",
    "print(\"Coefficient de détermination (R²) : \", r2)\n",
    "print(\"Score de variance expliquée : \", evs)\n",
    "print(\"Erreur maximale : \", me)\n",
    "print(\"Erreur absolue moyenne : \", mae)\n"
   ]
  },
  {
   "cell_type": "markdown",
   "metadata": {
    "id": "YOTZW3gRJcpv"
   },
   "source": [
    "### AdaBoost with KFold and GridSearch"
   ]
  },
  {
   "cell_type": "code",
   "execution_count": 75,
   "metadata": {
    "colab": {
     "base_uri": "https://localhost:8080/"
    },
    "id": "qr5Cj9VoJmMA",
    "outputId": "84c85bf8-8ded-4c3d-fc07-7728d9456e97"
   },
   "outputs": [
    {
     "name": "stdout",
     "output_type": "stream",
     "text": [
      "Meilleurs hyperparamètres :  {'learning_rate': 0.1, 'n_estimators': 50}\n",
      "Erreur quadratique moyenne :  7895.007280488384\n",
      "Coefficient de détermination (R²) :  0.27408763977070916\n",
      "Score de variance expliquée :  0.325529996534778\n",
      "Erreur maximale :  628.6034236804564\n",
      "Erreur absolue moyenne :  62.42698562935926\n"
     ]
    }
   ],
   "source": [
    "from sklearn.ensemble import AdaBoostRegressor\n",
    "from sklearn.model_selection import GridSearchCV, KFold\n",
    "from sklearn.metrics import mean_squared_error, r2_score, explained_variance_score, max_error, mean_absolute_error\n",
    "\n",
    "# Définir les hyperparamètres à tester avec la grille de recherche\n",
    "param_grid = {\n",
    "    'n_estimators': [50, 100, 200],\n",
    "    'learning_rate': [0.1, 0.5, 1.0]\n",
    "}\n",
    "\n",
    "# Créer un modèle AdaBoost\n",
    "ada = AdaBoostRegressor()\n",
    "\n",
    "# Définir la validation croisée KFold\n",
    "cv = KFold(n_splits=5, shuffle=True, random_state=42)\n",
    "\n",
    "# Créer un objet GridSearchCV pour faire la recherche de grille avec validation croisée\n",
    "grid_search = GridSearchCV(ada, param_grid, scoring='neg_mean_squared_error', cv=cv)\n",
    "\n",
    "# Entraîner le modèle sur les données avec la recherche de grille avec validation croisée\n",
    "grid_search.fit(X_train, y_train)\n",
    "\n",
    "# Afficher les meilleurs hyperparamètres trouvés\n",
    "print(\"Meilleurs hyperparamètres : \", grid_search.best_params_)\n",
    "\n",
    "# Entraîner le modèle AdaBoost sur les données avec les meilleurs hyperparamètres trouvés\n",
    "best_ada = AdaBoostRegressor(**grid_search.best_params_)\n",
    "best_ada.fit(X_train, y_train)\n",
    "\n",
    "predictions = best_ada.predict(X_test)\n",
    "\n",
    "# Calculer les métriques de performance avec le meilleur modèle\n",
    "mse = mean_squared_error(y_test, predictions)\n",
    "r2 = r2_score(y_test, predictions)\n",
    "evs = explained_variance_score(y_test, predictions)\n",
    "me = max_error(y_test, predictions)\n",
    "mae = mean_absolute_error(y_test, predictions)\n",
    "\n",
    "# Afficher les résultats avec le meilleur modèle\n",
    "print(\"Erreur quadratique moyenne : \", mse)\n",
    "print(\"Coefficient de détermination (R²) : \", r2)\n",
    "print(\"Score de variance expliquée : \", evs)\n",
    "print(\"Erreur maximale : \", me)\n",
    "print(\"Erreur absolue moyenne : \", mae)\n"
   ]
  },
  {
   "cell_type": "markdown",
   "metadata": {
    "id": "8ZhvrExNEe8H"
   },
   "source": [
    "## XGBoost"
   ]
  },
  {
   "cell_type": "markdown",
   "metadata": {
    "id": "98bd8M27Eg_X"
   },
   "source": [
    "### Simple XGBoost"
   ]
  },
  {
   "cell_type": "code",
   "execution_count": 76,
   "metadata": {
    "colab": {
     "base_uri": "https://localhost:8080/"
    },
    "id": "w_KHOBDhmbUu",
    "outputId": "050921a9-41fb-490e-a57d-9f8650f434cc"
   },
   "outputs": [
    {
     "name": "stdout",
     "output_type": "stream",
     "text": [
      "Erreur quadratique moyenne :  6143.192398517417\n",
      "Coefficient de détermination (R²) :  0.43515957174968456\n",
      "Score de variance expliquée :  0.4366007168009327\n",
      "Erreur maximale :  642.7522048950195\n",
      "Erreur absolue moyenne :  47.404398782730105\n"
     ]
    }
   ],
   "source": [
    "import xgboost as xgb\n",
    "from sklearn.metrics import mean_squared_error, r2_score, explained_variance_score, max_error, mean_absolute_error\n",
    "\n",
    "# Convertir les données en format spécifique pour XGBoost\n",
    "dtrain = xgb.DMatrix(X_train, label=y_train)\n",
    "dtest = xgb.DMatrix(X_test, label=y_test)\n",
    "\n",
    "# Définir les paramètres du modèle\n",
    "params = {'objective':'reg:squarederror', 'eval_metric':'rmse', 'seed':1}\n",
    "\n",
    "# Entraîner le modèle sur les données d'apprentissage\n",
    "xgb_model = xgb.train(params, dtrain)\n",
    "\n",
    "# Faire des prédictions sur les données de test\n",
    "y_pred = xgb_model.predict(dtest)\n",
    "\n",
    "# Calculer les métriques de performance\n",
    "mse = mean_squared_error(y_test, y_pred)\n",
    "r2 = r2_score(y_test, y_pred)\n",
    "evs = explained_variance_score(y_test, y_pred)\n",
    "me = max_error(y_test, y_pred)\n",
    "mae = mean_absolute_error(y_test, y_pred)\n",
    "\n",
    "# Afficher les résultats\n",
    "print(\"Erreur quadratique moyenne : \", mse)\n",
    "print(\"Coefficient de détermination (R²) : \", r2)\n",
    "print(\"Score de variance expliquée : \", evs)\n",
    "print(\"Erreur maximale : \", me)\n",
    "print(\"Erreur absolue moyenne : \", mae)\n"
   ]
  },
  {
   "cell_type": "markdown",
   "metadata": {
    "id": "y7oy_wGWKAhQ"
   },
   "source": [
    "### XGBoost with GridSearch"
   ]
  },
  {
   "cell_type": "code",
   "execution_count": 77,
   "metadata": {
    "colab": {
     "base_uri": "https://localhost:8080/"
    },
    "id": "CCbg_aTQKE33",
    "outputId": "7bb89f2d-8422-46fa-d543-698e3d63ba69"
   },
   "outputs": [
    {
     "name": "stdout",
     "output_type": "stream",
     "text": [
      "Meilleurs hyperparamètres :  {'learning_rate': 0.1, 'max_depth': 4, 'n_estimators': 200}\n",
      "Erreur quadratique moyenne :  5902.883455206422\n",
      "Coefficient de détermination (R²) :  0.4572549576088223\n",
      "Score de variance expliquée :  0.4572685534691625\n",
      "Erreur maximale :  632.6454010009766\n",
      "Erreur absolue moyenne :  47.31676564534505\n"
     ]
    }
   ],
   "source": [
    "import xgboost as xgb\n",
    "from sklearn.model_selection import GridSearchCV\n",
    "from sklearn.metrics import mean_squared_error, r2_score, explained_variance_score, max_error, mean_absolute_error\n",
    "\n",
    "# Convertir les données en format spécifique pour XGBoost\n",
    "dtrain = xgb.DMatrix(X_train, label=y_train)\n",
    "dtest = xgb.DMatrix(X_test, label=y_test)\n",
    "\n",
    "# Définir les paramètres à tester avec la grille de recherche\n",
    "param_grid = {\n",
    "    'max_depth': [3, 4, 5],\n",
    "    'learning_rate': [0.1, 0.01, 0.001],\n",
    "    'n_estimators': [50, 100, 200]\n",
    "}\n",
    "\n",
    "# Créer un objet XGBoost avec les paramètres par défaut\n",
    "xgb_model = xgb.XGBRegressor(objective='reg:squarederror', seed=1)\n",
    "\n",
    "# Créer un objet GridSearchCV pour faire la recherche de grille sans validation croisée\n",
    "grid_search = GridSearchCV(xgb_model, param_grid, scoring='neg_mean_squared_error')\n",
    "\n",
    "# Entraîner le modèle sur les données avec la recherche de grille sans validation croisée\n",
    "grid_search.fit(X_train, y_train)\n",
    "\n",
    "# Afficher les meilleurs hyperparamètres trouvés\n",
    "print(\"Meilleurs hyperparamètres : \", grid_search.best_params_)\n",
    "\n",
    "# Entraîner le modèle XGBoost sur les données avec les meilleurs hyperparamètres trouvés\n",
    "best_xgb = xgb.XGBRegressor(objective='reg:squarederror', seed=1, **grid_search.best_params_)\n",
    "best_xgb.fit(X_train, y_train)\n",
    "\n",
    "predictions = best_xgb.predict(X_test)\n",
    "\n",
    "# Calculer les métriques de performance avec le meilleur modèle\n",
    "mse = mean_squared_error(y_test, predictions)\n",
    "r2 = r2_score(y_test, predictions)\n",
    "evs = explained_variance_score(y_test, predictions)\n",
    "me = max_error(y_test, predictions)\n",
    "mae = mean_absolute_error(y_test, predictions)\n",
    "\n",
    "# Afficher les résultats avec le meilleur modèle\n",
    "print(\"Erreur quadratique moyenne : \", mse)\n",
    "print(\"Coefficient de détermination (R²) : \", r2)\n",
    "print(\"Score de variance expliquée : \", evs)\n",
    "print(\"Erreur maximale : \", me)\n",
    "print(\"Erreur absolue moyenne : \", mae)\n"
   ]
  },
  {
   "cell_type": "markdown",
   "metadata": {
    "id": "-AqiXkyqKNxZ"
   },
   "source": [
    "### XGBoost with KFold and GridSearch"
   ]
  },
  {
   "cell_type": "code",
   "execution_count": 78,
   "metadata": {
    "colab": {
     "base_uri": "https://localhost:8080/"
    },
    "id": "GDQa73ZuKNh_",
    "outputId": "063bdc66-eb4f-4d1e-b80e-cfbeb436e72d"
   },
   "outputs": [
    {
     "name": "stdout",
     "output_type": "stream",
     "text": [
      "Meilleurs hyperparamètres :  {'learning_rate': 0.1, 'max_depth': 4, 'n_estimators': 200}\n",
      "Erreur quadratique moyenne :  5902.883455206422\n",
      "Coefficient de détermination (R²) :  0.4572549576088223\n",
      "Score de variance expliquée :  0.4572685534691625\n",
      "Erreur maximale :  632.6454010009766\n",
      "Erreur absolue moyenne :  47.31676564534505\n"
     ]
    }
   ],
   "source": [
    "import xgboost as xgb\n",
    "from sklearn.model_selection import GridSearchCV, KFold\n",
    "from sklearn.metrics import mean_squared_error, r2_score, explained_variance_score, max_error, mean_absolute_error\n",
    "\n",
    "# Convertir les données en format spécifique pour XGBoost\n",
    "dtrain = xgb.DMatrix(X_train, label=y_train)\n",
    "dtest = xgb.DMatrix(X_test, label=y_test)\n",
    "\n",
    "# Définir les paramètres à tester avec la grille de recherche\n",
    "param_grid = {\n",
    "    'max_depth': [3, 4, 5],\n",
    "    'learning_rate': [0.1, 0.01, 0.001],\n",
    "    'n_estimators': [50, 100, 200]\n",
    "}\n",
    "\n",
    "# Créer un objet XGBoost avec les paramètres par défaut\n",
    "xgb_model = xgb.XGBRegressor(objective='reg:squarederror', seed=1)\n",
    "\n",
    "# Définir la validation croisée KFold\n",
    "cv = KFold(n_splits=5, shuffle=True, random_state=42)\n",
    "\n",
    "# Créer un objet GridSearchCV pour faire la recherche de grille avec validation croisée\n",
    "grid_search = GridSearchCV(xgb_model, param_grid, scoring='neg_mean_squared_error', cv=cv)\n",
    "\n",
    "# Entraîner le modèle sur les données avec la recherche de grille avec validation croisée\n",
    "grid_search.fit(X_train, y_train)\n",
    "\n",
    "# Afficher les meilleurs hyperparamètres trouvés\n",
    "print(\"Meilleurs hyperparamètres : \", grid_search.best_params_)\n",
    "\n",
    "# Entraîner le modèle XGBoost sur les données avec les meilleurs hyperparamètres trouvés\n",
    "best_xgb = xgb.XGBRegressor(objective='reg:squarederror', seed=1, **grid_search.best_params_)\n",
    "best_xgb.fit(X_train, y_train)\n",
    "\n",
    "predictions = best_xgb.predict(X_test)\n",
    "\n",
    "# Calculer les métriques de performance avec le meilleur modèle\n",
    "mse = mean_squared_error(y_test, predictions)\n",
    "r2 = r2_score(y_test, predictions)\n",
    "evs = explained_variance_score(y_test, predictions)\n",
    "me = max_error(y_test, predictions)\n",
    "mae = mean_absolute_error(y_test, predictions)\n",
    "\n",
    "# Afficher les résultats avec le meilleur modèle\n",
    "print(\"Erreur quadratique moyenne : \", mse)\n",
    "print(\"Coefficient de détermination (R²) : \", r2)\n",
    "print(\"Score de variance expliquée : \", evs)\n",
    "print(\"Erreur maximale : \", me)\n",
    "print(\"Erreur absolue moyenne : \", mae)\n"
   ]
  },
  {
   "cell_type": "markdown",
   "metadata": {
    "id": "OfbmWK_DgUb4"
   },
   "source": [
    "## Gradient Boosting"
   ]
  },
  {
   "cell_type": "markdown",
   "metadata": {
    "id": "JKtLFoMHEpCf"
   },
   "source": [
    "### Simple Gradient Boosting"
   ]
  },
  {
   "cell_type": "code",
   "execution_count": 79,
   "metadata": {
    "colab": {
     "base_uri": "https://localhost:8080/"
    },
    "id": "d0xvllDd0VkZ",
    "outputId": "e5b2990d-aeab-4a84-a4df-c24eebf39239"
   },
   "outputs": [
    {
     "name": "stdout",
     "output_type": "stream",
     "text": [
      "Erreur quadratique moyenne :  6261.87756168091\n",
      "Coefficient de détermination (R²) :  0.42847760416890834\n",
      "Score de variance expliquée :  0.42853086452947364\n",
      "Erreur maximale :  649.8447512701152\n",
      "Erreur absolue moyenne :  48.342658779729284\n"
     ]
    }
   ],
   "source": [
    "from sklearn.ensemble import GradientBoostingRegressor\n",
    "from sklearn.metrics import mean_squared_error, r2_score, explained_variance_score, max_error, mean_absolute_error\n",
    "from sklearn.model_selection import train_test_split\n",
    "\n",
    "# Diviser les données en ensembles d'apprentissage et de test\n",
    "X_train, X_test, y_train, y_test = train_test_split(X, y, test_size=0.2, random_state=1)\n",
    "\n",
    "# Définir le modèle de Gradient Boosting Regressor avec des hyperparamètres par défaut\n",
    "gbr = GradientBoostingRegressor(random_state=1)\n",
    "\n",
    "# Entraîner le modèle sur les données d'apprentissage\n",
    "gbr.fit(X_train, y_train)\n",
    "\n",
    "# Faire des prédictions sur les données de test\n",
    "y_pred = gbr.predict(X_test)\n",
    "\n",
    "# Calculer les métriques de performance\n",
    "mse = mean_squared_error(y_test, y_pred)\n",
    "r2 = r2_score(y_test, y_pred)\n",
    "evs = explained_variance_score(y_test, y_pred)\n",
    "me = max_error(y_test, y_pred)\n",
    "mae = mean_absolute_error(y_test, y_pred)\n",
    "\n",
    "# Afficher les résultats\n",
    "print(\"Erreur quadratique moyenne : \", mse)\n",
    "print(\"Coefficient de détermination (R²) : \", r2)\n",
    "print(\"Score de variance expliquée : \", evs)\n",
    "print(\"Erreur maximale : \", me)\n",
    "print(\"Erreur absolue moyenne : \", mae)\n"
   ]
  },
  {
   "cell_type": "markdown",
   "metadata": {
    "id": "43RL-l4NK8OX"
   },
   "source": [
    "### Gradient Boosting with GridSearch"
   ]
  },
  {
   "cell_type": "code",
   "execution_count": 81,
   "metadata": {
    "colab": {
     "base_uri": "https://localhost:8080/"
    },
    "id": "QA3tHlZzLA8o",
    "outputId": "7cad7030-f32c-4aa3-d59b-5db835745961"
   },
   "outputs": [
    {
     "name": "stdout",
     "output_type": "stream",
     "text": [
      "Meilleurs hyperparamètres :  {'learning_rate': 0.1, 'max_depth': 4, 'min_samples_leaf': 2, 'min_samples_split': 10, 'n_estimators': 200}\n",
      "Erreur quadratique moyenne :  6131.375387633395\n",
      "Coefficient de détermination (R²) :  0.44038855490822315\n",
      "Score de variance expliquée :  0.4404194897679884\n",
      "Erreur maximale :  631.5544896834217\n",
      "Erreur absolue moyenne :  47.55539378523403\n"
     ]
    }
   ],
   "source": [
    "from sklearn.ensemble import GradientBoostingRegressor\n",
    "from sklearn.metrics import mean_squared_error, r2_score, explained_variance_score, max_error, mean_absolute_error\n",
    "from sklearn.model_selection import GridSearchCV, train_test_split\n",
    "\n",
    "# Diviser les données en ensembles d'apprentissage et de test\n",
    "X_train, X_test, y_train, y_test = train_test_split(X, y, test_size=0.2, random_state=1)\n",
    "\n",
    "# Définir les hyperparamètres à tester avec la grille de recherche\n",
    "param_grid = {\n",
    "    'learning_rate': [0.1, 0.01, 0.001],\n",
    "    'n_estimators': [50, 100, 200],\n",
    "    'max_depth': [3, 4, 5],\n",
    "    'min_samples_split': [2, 5, 10],\n",
    "    'min_samples_leaf': [1, 2, 4]\n",
    "}\n",
    "\n",
    "# Créer un objet GradientBoostingRegressor avec les hyperparamètres par défaut\n",
    "gbr = GradientBoostingRegressor(random_state=1)\n",
    "\n",
    "# Créer un objet GridSearchCV pour faire la recherche de grille sans validation croisée\n",
    "grid_search = GridSearchCV(gbr, param_grid, scoring='neg_mean_squared_error')\n",
    "\n",
    "# Entraîner le modèle sur les données avec la recherche de grille sans validation croisée\n",
    "grid_search.fit(X_train, y_train)\n",
    "\n",
    "# Afficher les meilleurs hyperparamètres trouvés\n",
    "print(\"Meilleurs hyperparamètres : \", grid_search.best_params_)\n",
    "\n",
    "# Entraîner le modèle Gradient Boosting Regressor sur les données avec les meilleurs hyperparamètres trouvés\n",
    "best_gbr = GradientBoostingRegressor(random_state=1, **grid_search.best_params_)\n",
    "best_gbr.fit(X_train, y_train)\n",
    "\n",
    "predictions = best_gbr.predict(X_test)\n",
    "\n",
    "# Calculer les métriques de performance avec le meilleur modèle\n",
    "mse = mean_squared_error(y_test, predictions)\n",
    "r2 = r2_score(y_test, predictions)\n",
    "evs = explained_variance_score(y_test, predictions)\n",
    "me = max_error(y_test, predictions)\n",
    "mae = mean_absolute_error(y_test, predictions)\n",
    "\n",
    "# Afficher les résultats avec le meilleur modèle\n",
    "print(\"Erreur quadratique moyenne : \", mse)\n",
    "print(\"Coefficient de détermination (R²) : \", r2)\n",
    "print(\"Score de variance expliquée : \", evs)\n",
    "print(\"Erreur maximale : \", me)\n",
    "print(\"Erreur absolue moyenne : \", mae)\n"
   ]
  },
  {
   "cell_type": "markdown",
   "metadata": {
    "id": "1BrVGVTOKv--"
   },
   "source": [
    "### Gradient Boosting with KFold and GridSearch"
   ]
  },
  {
   "cell_type": "code",
   "execution_count": 80,
   "metadata": {
    "colab": {
     "base_uri": "https://localhost:8080/"
    },
    "id": "h2l-lGarKzSu",
    "outputId": "5b8004be-ce5c-4bde-8f5b-32564d28aa7e"
   },
   "outputs": [
    {
     "name": "stdout",
     "output_type": "stream",
     "text": [
      "Meilleurs hyperparamètres :  {'learning_rate': 0.1, 'max_depth': 4, 'min_samples_leaf': 2, 'min_samples_split': 5, 'n_estimators': 200}\n",
      "Erreur quadratique moyenne :  6141.606096445135\n",
      "Coefficient de détermination (R²) :  0.43945479675764587\n",
      "Score de variance expliquée :  0.4394972697281002\n",
      "Erreur maximale :  633.2533683975986\n",
      "Erreur absolue moyenne :  47.463144406011835\n"
     ]
    }
   ],
   "source": [
    "from sklearn.ensemble import GradientBoostingRegressor\n",
    "from sklearn.metrics import mean_squared_error, r2_score, explained_variance_score, max_error, mean_absolute_error\n",
    "from sklearn.model_selection import GridSearchCV, KFold, train_test_split\n",
    "\n",
    "# Diviser les données en ensembles d'apprentissage et de test\n",
    "X_train, X_test, y_train, y_test = train_test_split(X, y, test_size=0.2, random_state=1)\n",
    "\n",
    "# Définir les hyperparamètres à tester avec la grille de recherche\n",
    "param_grid = {\n",
    "    'learning_rate': [0.1, 0.01, 0.001],\n",
    "    'n_estimators': [50, 100, 200],\n",
    "    'max_depth': [3, 4, 5],\n",
    "    'min_samples_split': [2, 5, 10],\n",
    "    'min_samples_leaf': [1, 2, 4]\n",
    "}\n",
    "\n",
    "# Créer un objet GradientBoostingRegressor avec les hyperparamètres par défaut\n",
    "gbr = GradientBoostingRegressor(random_state=1)\n",
    "\n",
    "# Définir la validation croisée KFold\n",
    "cv = KFold(n_splits=5, shuffle=True, random_state=42)\n",
    "\n",
    "# Créer un objet GridSearchCV pour faire la recherche de grille avec validation croisée\n",
    "grid_search = GridSearchCV(gbr, param_grid, scoring='neg_mean_squared_error', cv=cv)\n",
    "\n",
    "# Entraîner le modèle sur les données avec la recherche de grille avec validation croisée\n",
    "grid_search.fit(X_train, y_train)\n",
    "\n",
    "# Afficher les meilleurs hyperparamètres trouvés\n",
    "print(\"Meilleurs hyperparamètres : \", grid_search.best_params_)\n",
    "\n",
    "# Entraîner le modèle Gradient Boosting Regressor sur les données avec les meilleurs hyperparamètres trouvés\n",
    "best_gbr = GradientBoostingRegressor(random_state=1, **grid_search.best_params_)\n",
    "best_gbr.fit(X_train, y_train)\n",
    "\n",
    "predictions = best_gbr.predict(X_test)\n",
    "\n",
    "# Calculer les métriques de performance avec le meilleur modèle\n",
    "mse = mean_squared_error(y_test, predictions)\n",
    "r2 = r2_score(y_test, predictions)\n",
    "evs = explained_variance_score(y_test, predictions)\n",
    "me = max_error(y_test, predictions)\n",
    "mae = mean_absolute_error(y_test, predictions)\n",
    "\n",
    "# Afficher les résultats avec le meilleur modèle\n",
    "print(\"Erreur quadratique moyenne : \", mse)\n",
    "print(\"Coefficient de détermination (R²) : \", r2)\n",
    "print(\"Score de variance expliquée : \", evs)\n",
    "print(\"Erreur maximale : \", me)\n",
    "print(\"Erreur absolue moyenne : \", mae)\n"
   ]
  },
  {
   "cell_type": "markdown",
   "metadata": {
    "id": "hxN1pQHIEtE4"
   },
   "source": [
    "### Simple LGBM"
   ]
  },
  {
   "cell_type": "code",
   "execution_count": 84,
   "metadata": {
    "colab": {
     "base_uri": "https://localhost:8080/"
    },
    "id": "q7zQjl870iZY",
    "outputId": "19d0d5ca-2b89-4acd-8977-7b824df324f6"
   },
   "outputs": [
    {
     "name": "stdout",
     "output_type": "stream",
     "text": [
      "Erreur quadratique moyenne :  6088.698464147912\n",
      "Coefficient de détermination (R²) :  0.44428368337678037\n",
      "Score de variance expliquée :  0.4442875295841836\n",
      "Erreur maximale :  636.913646881294\n",
      "Erreur absolue moyenne :  46.856258502529776\n"
     ]
    }
   ],
   "source": [
    "from lightgbm import LGBMRegressor\n",
    "from sklearn.metrics import mean_squared_error, r2_score, explained_variance_score, max_error, mean_absolute_error\n",
    "from sklearn.model_selection import train_test_split\n",
    "\n",
    "# Diviser les données en ensembles d'apprentissage et de test\n",
    "X_train, X_test, y_train, y_test = train_test_split(X, y, test_size=0.2, random_state=1)\n",
    "\n",
    "# Définir le modèle de LGBM Regressor avec des hyperparamètres par défaut\n",
    "lgbm = LGBMRegressor(random_state=1)\n",
    "\n",
    "# Entraîner le modèle sur les données d'apprentissage\n",
    "lgbm.fit(X_train, y_train)\n",
    "\n",
    "# Faire des prédictions sur les données de test\n",
    "y_pred = lgbm.predict(X_test)\n",
    "\n",
    "# Calculer les métriques de performance\n",
    "mse = mean_squared_error(y_test, y_pred)\n",
    "r2 = r2_score(y_test, y_pred)\n",
    "evs = explained_variance_score(y_test, y_pred)\n",
    "me = max_error(y_test, y_pred)\n",
    "mae = mean_absolute_error(y_test, y_pred)\n",
    "\n",
    "# Afficher les résultats\n",
    "print(\"Erreur quadratique moyenne : \", mse)\n",
    "print(\"Coefficient de détermination (R²) : \", r2)\n",
    "print(\"Score de variance expliquée : \", evs)\n",
    "print(\"Erreur maximale : \", me)\n",
    "print(\"Erreur absolue moyenne : \", mae)\n"
   ]
  },
  {
   "cell_type": "markdown",
   "metadata": {
    "id": "uk6foY37LO6a"
   },
   "source": [
    "### LGBM with GridSearch"
   ]
  },
  {
   "cell_type": "code",
   "execution_count": 82,
   "metadata": {
    "colab": {
     "base_uri": "https://localhost:8080/"
    },
    "id": "sh9LrqxZLOav",
    "outputId": "a4ecd6da-5c4b-4f72-fc85-6b1cd4d3b8e1"
   },
   "outputs": [
    {
     "name": "stdout",
     "output_type": "stream",
     "text": [
      "Meilleurs hyperparamètres :  {'learning_rate': 0.1, 'max_depth': 4, 'min_child_samples': 1, 'n_estimators': 200, 'reg_alpha': 0.1, 'reg_lambda': 1.0}\n",
      "Erreur quadratique moyenne :  6090.671928271078\n",
      "Coefficient de détermination (R²) :  0.4441035650444354\n",
      "Score de variance expliquée :  0.4441537389683149\n",
      "Erreur maximale :  632.9770971218413\n",
      "Erreur absolue moyenne :  47.366223765322054\n"
     ]
    }
   ],
   "source": [
    "from lightgbm import LGBMRegressor\n",
    "from sklearn.metrics import mean_squared_error, r2_score, explained_variance_score, max_error, mean_absolute_error\n",
    "from sklearn.model_selection import GridSearchCV, train_test_split\n",
    "\n",
    "# Diviser les données en ensembles d'apprentissage et de test\n",
    "X_train, X_test, y_train, y_test = train_test_split(X, y, test_size=0.2, random_state=1)\n",
    "\n",
    "# Définir les hyperparamètres à tester avec la grille de recherche\n",
    "param_grid = {\n",
    "    'learning_rate': [0.1, 0.01, 0.001],\n",
    "    'n_estimators': [50, 100, 200],\n",
    "    'max_depth': [3, 4, 5],\n",
    "    'min_child_samples': [1, 5, 10],\n",
    "    'reg_alpha': [0.0, 0.1, 1.0],\n",
    "    'reg_lambda': [0.0, 0.1, 1.0],\n",
    "}\n",
    "\n",
    "# Créer un objet LGBMRegressor avec les hyperparamètres par défaut\n",
    "lgbm = LGBMRegressor(random_state=1)\n",
    "\n",
    "# Créer un objet GridSearchCV pour faire la recherche de grille sans validation croisée\n",
    "grid_search = GridSearchCV(lgbm, param_grid, scoring='neg_mean_squared_error')\n",
    "\n",
    "# Entraîner le modèle sur les données avec la recherche de grille sans validation croisée\n",
    "grid_search.fit(X_train, y_train)\n",
    "\n",
    "# Afficher les meilleurs hyperparamètres trouvés\n",
    "print(\"Meilleurs hyperparamètres : \", grid_search.best_params_)\n",
    "\n",
    "# Entraîner le modèle LGBMRegressor sur les données avec les meilleurs hyperparamètres trouvés\n",
    "best_lgbm = LGBMRegressor(random_state=1, **grid_search.best_params_)\n",
    "best_lgbm.fit(X_train, y_train)\n",
    "\n",
    "predictions = best_lgbm.predict(X_test)\n",
    "\n",
    "# Calculer les métriques de performance avec le meilleur modèle\n",
    "mse = mean_squared_error(y_test, predictions)\n",
    "r2 = r2_score(y_test, predictions)\n",
    "evs = explained_variance_score(y_test, predictions)\n",
    "me = max_error(y_test, predictions)\n",
    "mae = mean_absolute_error(y_test, predictions)\n",
    "\n",
    "# Afficher les résultats avec le meilleur modèle\n",
    "print(\"Erreur quadratique moyenne : \", mse)\n",
    "print(\"Coefficient de détermination (R²) : \", r2)\n",
    "print(\"Score de variance expliquée : \", evs)\n",
    "print(\"Erreur maximale : \", me)\n",
    "print(\"Erreur absolue moyenne : \", mae)\n"
   ]
  },
  {
   "cell_type": "markdown",
   "metadata": {
    "id": "7dmBNCoTLa__"
   },
   "source": [
    "### LGBM with KFold and GridSearch\n"
   ]
  },
  {
   "cell_type": "code",
   "execution_count": 83,
   "metadata": {
    "colab": {
     "base_uri": "https://localhost:8080/"
    },
    "id": "W87-z-BiLfI-",
    "outputId": "44883f78-d7aa-4eba-af20-11ae15c03c3b"
   },
   "outputs": [
    {
     "name": "stdout",
     "output_type": "stream",
     "text": [
      "Meilleurs hyperparamètres :  {'learning_rate': 0.1, 'max_depth': 4, 'min_child_samples': 1, 'n_estimators': 200, 'reg_alpha': 1.0, 'reg_lambda': 1.0}\n",
      "Erreur quadratique moyenne :  4987.844126828547\n",
      "Coefficient de détermination (R²) :  0.5447588047965808\n",
      "Score de variance expliquée :  0.5447705483140342\n",
      "Erreur maximale :  550.4631510153426\n",
      "Erreur absolue moyenne :  43.43103542130416\n"
     ]
    }
   ],
   "source": [
    "from lightgbm import LGBMRegressor\n",
    "from sklearn.metrics import mean_squared_error, r2_score, explained_variance_score, max_error, mean_absolute_error\n",
    "from sklearn.model_selection import GridSearchCV, KFold\n",
    "\n",
    "# Définir les hyperparamètres à tester avec la grille de recherche\n",
    "param_grid = {\n",
    "    'learning_rate': [0.1, 0.01, 0.001],\n",
    "    'n_estimators': [50, 100, 200],\n",
    "    'max_depth': [3, 4, 5],\n",
    "    'min_child_samples': [1, 5, 10],\n",
    "    'reg_alpha': [0.0, 0.1, 1.0],\n",
    "    'reg_lambda': [0.0, 0.1, 1.0],\n",
    "}\n",
    "\n",
    "# Créer un objet LGBMRegressor avec les hyperparamètres par défaut\n",
    "lgbm = LGBMRegressor(random_state=1)\n",
    "\n",
    "# Créer un objet GridSearchCV pour faire la recherche de grille avec validation croisée KFold\n",
    "grid_search = GridSearchCV(lgbm, param_grid, scoring='neg_mean_squared_error', cv=KFold(n_splits=5, shuffle=True, random_state=1))\n",
    "\n",
    "# Entraîner le modèle sur les données avec la recherche de grille et validation croisée KFold\n",
    "grid_search.fit(X, y)\n",
    "\n",
    "# Afficher les meilleurs hyperparamètres trouvés\n",
    "print(\"Meilleurs hyperparamètres : \", grid_search.best_params_)\n",
    "\n",
    "# Entraîner le modèle LGBMRegressor sur les données avec les meilleurs hyperparamètres trouvés\n",
    "best_lgbm = LGBMRegressor(random_state=1, **grid_search.best_params_)\n",
    "best_lgbm.fit(X, y)\n",
    "\n",
    "# Faire des prédictions sur les données de test\n",
    "predictions = best_lgbm.predict(X_test)\n",
    "\n",
    "# Calculer les métriques de performance avec le meilleur modèle\n",
    "mse = mean_squared_error(y_test, predictions)\n",
    "r2 = r2_score(y_test, predictions)\n",
    "evs = explained_variance_score(y_test, predictions)\n",
    "me = max_error(y_test, predictions)\n",
    "mae = mean_absolute_error(y_test, predictions)\n",
    "\n",
    "# Afficher les résultats avec le meilleur modèle\n",
    "print(\"Erreur quadratique moyenne : \", mse)\n",
    "print(\"Coefficient de détermination (R²) : \", r2)\n",
    "print(\"Score de variance expliquée : \", evs)\n",
    "print(\"Erreur maximale : \", me)\n",
    "print(\"Erreur absolue moyenne : \", mae)\n"
   ]
  }
 ],
 "metadata": {
  "colab": {
   "provenance": []
  },
  "kernelspec": {
   "display_name": "Python 3",
   "language": "python",
   "name": "python3"
  },
  "language_info": {
   "codemirror_mode": {
    "name": "ipython",
    "version": 3
   },
   "file_extension": ".py",
   "mimetype": "text/x-python",
   "name": "python",
   "nbconvert_exporter": "python",
   "pygments_lexer": "ipython3",
   "version": "3.8.8"
  }
 },
 "nbformat": 4,
 "nbformat_minor": 1
}
