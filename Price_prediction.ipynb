{
  "nbformat": 4,
  "nbformat_minor": 0,
  "metadata": {
    "colab": {
      "provenance": [],
      "collapsed_sections": [
        "ze4aSw0EOzgm",
        "gEEdIvvXPJNQ",
        "vopJfRU1R25m",
        "DtxexA89Ra8W",
        "m6oSLHXQSLX2",
        "iJrP8_oASklu",
        "KWjk4DrodGdy"
      ]
    },
    "kernelspec": {
      "name": "python3",
      "display_name": "Python 3"
    },
    "language_info": {
      "name": "python"
    },
    "gpuClass": "standard"
  },
  "cells": [
    {
      "cell_type": "markdown",
      "source": [
        "# Importing Data and Packages"
      ],
      "metadata": {
        "id": "5iETXqHAvBl8"
      }
    },
    {
      "cell_type": "code",
      "source": [
        "import numpy as np\n",
        "import pandas as pd\n",
        "import matplotlib.pyplot as plt\n",
        "from mlxtend.plotting import category_scatter\n",
        "%matplotlib inline\n",
        "import seaborn as sns\n",
        "sns.set_style(\"whitegrid\")"
      ],
      "metadata": {
        "id": "zbVLK4VzuxRn"
      },
      "execution_count": null,
      "outputs": []
    },
    {
      "cell_type": "code",
      "source": [
        "import pandas as pd\n",
        "\n",
        "# Reimport Data\n",
        "df = pd.read_csv('AB_NYC_2019.csv', parse_dates = ['last_review'])"
      ],
      "metadata": {
        "id": "8zXgE9m3ucjO"
      },
      "execution_count": null,
      "outputs": []
    },
    {
      "cell_type": "code",
      "source": [
        "df.head()"
      ],
      "metadata": {
        "id": "CGAUnuWHvJ9F",
        "colab": {
          "base_uri": "https://localhost:8080/"
        },
        "outputId": "28c803f6-2181-4b47-8958-0f8ee5359af3"
      },
      "execution_count": null,
      "outputs": [
        {
          "output_type": "execute_result",
          "data": {
            "text/plain": [
              "     id                                              name  host_id  \\\n",
              "0  2539                Clean & quiet apt home by the park     2787   \n",
              "1  2595                             Skylit Midtown Castle     2845   \n",
              "2  3647               THE VILLAGE OF HARLEM....NEW YORK !     4632   \n",
              "3  3831                   Cozy Entire Floor of Brownstone     4869   \n",
              "4  5022  Entire Apt: Spacious Studio/Loft by central park     7192   \n",
              "\n",
              "     host_name neighbourhood_group neighbourhood  latitude  longitude  \\\n",
              "0         John            Brooklyn    Kensington  40.64749  -73.97237   \n",
              "1     Jennifer           Manhattan       Midtown  40.75362  -73.98377   \n",
              "2    Elisabeth           Manhattan        Harlem  40.80902  -73.94190   \n",
              "3  LisaRoxanne            Brooklyn  Clinton Hill  40.68514  -73.95976   \n",
              "4        Laura           Manhattan   East Harlem  40.79851  -73.94399   \n",
              "\n",
              "         room_type  price  minimum_nights  number_of_reviews last_review  \\\n",
              "0     Private room    149               1                  9  2018-10-19   \n",
              "1  Entire home/apt    225               1                 45  2019-05-21   \n",
              "2     Private room    150               3                  0         NaT   \n",
              "3  Entire home/apt     89               1                270  2019-07-05   \n",
              "4  Entire home/apt     80              10                  9  2018-11-19   \n",
              "\n",
              "   reviews_per_month  calculated_host_listings_count  availability_365  \n",
              "0               0.21                               6               365  \n",
              "1               0.38                               2               355  \n",
              "2                NaN                               1               365  \n",
              "3               4.64                               1               194  \n",
              "4               0.10                               1                 0  "
            ],
            "text/html": [
              "\n",
              "  <div id=\"df-ee2ef6cf-1172-498f-9e4e-4a9423a9820f\">\n",
              "    <div class=\"colab-df-container\">\n",
              "      <div>\n",
              "<style scoped>\n",
              "    .dataframe tbody tr th:only-of-type {\n",
              "        vertical-align: middle;\n",
              "    }\n",
              "\n",
              "    .dataframe tbody tr th {\n",
              "        vertical-align: top;\n",
              "    }\n",
              "\n",
              "    .dataframe thead th {\n",
              "        text-align: right;\n",
              "    }\n",
              "</style>\n",
              "<table border=\"1\" class=\"dataframe\">\n",
              "  <thead>\n",
              "    <tr style=\"text-align: right;\">\n",
              "      <th></th>\n",
              "      <th>id</th>\n",
              "      <th>name</th>\n",
              "      <th>host_id</th>\n",
              "      <th>host_name</th>\n",
              "      <th>neighbourhood_group</th>\n",
              "      <th>neighbourhood</th>\n",
              "      <th>latitude</th>\n",
              "      <th>longitude</th>\n",
              "      <th>room_type</th>\n",
              "      <th>price</th>\n",
              "      <th>minimum_nights</th>\n",
              "      <th>number_of_reviews</th>\n",
              "      <th>last_review</th>\n",
              "      <th>reviews_per_month</th>\n",
              "      <th>calculated_host_listings_count</th>\n",
              "      <th>availability_365</th>\n",
              "    </tr>\n",
              "  </thead>\n",
              "  <tbody>\n",
              "    <tr>\n",
              "      <th>0</th>\n",
              "      <td>2539</td>\n",
              "      <td>Clean &amp; quiet apt home by the park</td>\n",
              "      <td>2787</td>\n",
              "      <td>John</td>\n",
              "      <td>Brooklyn</td>\n",
              "      <td>Kensington</td>\n",
              "      <td>40.64749</td>\n",
              "      <td>-73.97237</td>\n",
              "      <td>Private room</td>\n",
              "      <td>149</td>\n",
              "      <td>1</td>\n",
              "      <td>9</td>\n",
              "      <td>2018-10-19</td>\n",
              "      <td>0.21</td>\n",
              "      <td>6</td>\n",
              "      <td>365</td>\n",
              "    </tr>\n",
              "    <tr>\n",
              "      <th>1</th>\n",
              "      <td>2595</td>\n",
              "      <td>Skylit Midtown Castle</td>\n",
              "      <td>2845</td>\n",
              "      <td>Jennifer</td>\n",
              "      <td>Manhattan</td>\n",
              "      <td>Midtown</td>\n",
              "      <td>40.75362</td>\n",
              "      <td>-73.98377</td>\n",
              "      <td>Entire home/apt</td>\n",
              "      <td>225</td>\n",
              "      <td>1</td>\n",
              "      <td>45</td>\n",
              "      <td>2019-05-21</td>\n",
              "      <td>0.38</td>\n",
              "      <td>2</td>\n",
              "      <td>355</td>\n",
              "    </tr>\n",
              "    <tr>\n",
              "      <th>2</th>\n",
              "      <td>3647</td>\n",
              "      <td>THE VILLAGE OF HARLEM....NEW YORK !</td>\n",
              "      <td>4632</td>\n",
              "      <td>Elisabeth</td>\n",
              "      <td>Manhattan</td>\n",
              "      <td>Harlem</td>\n",
              "      <td>40.80902</td>\n",
              "      <td>-73.94190</td>\n",
              "      <td>Private room</td>\n",
              "      <td>150</td>\n",
              "      <td>3</td>\n",
              "      <td>0</td>\n",
              "      <td>NaT</td>\n",
              "      <td>NaN</td>\n",
              "      <td>1</td>\n",
              "      <td>365</td>\n",
              "    </tr>\n",
              "    <tr>\n",
              "      <th>3</th>\n",
              "      <td>3831</td>\n",
              "      <td>Cozy Entire Floor of Brownstone</td>\n",
              "      <td>4869</td>\n",
              "      <td>LisaRoxanne</td>\n",
              "      <td>Brooklyn</td>\n",
              "      <td>Clinton Hill</td>\n",
              "      <td>40.68514</td>\n",
              "      <td>-73.95976</td>\n",
              "      <td>Entire home/apt</td>\n",
              "      <td>89</td>\n",
              "      <td>1</td>\n",
              "      <td>270</td>\n",
              "      <td>2019-07-05</td>\n",
              "      <td>4.64</td>\n",
              "      <td>1</td>\n",
              "      <td>194</td>\n",
              "    </tr>\n",
              "    <tr>\n",
              "      <th>4</th>\n",
              "      <td>5022</td>\n",
              "      <td>Entire Apt: Spacious Studio/Loft by central park</td>\n",
              "      <td>7192</td>\n",
              "      <td>Laura</td>\n",
              "      <td>Manhattan</td>\n",
              "      <td>East Harlem</td>\n",
              "      <td>40.79851</td>\n",
              "      <td>-73.94399</td>\n",
              "      <td>Entire home/apt</td>\n",
              "      <td>80</td>\n",
              "      <td>10</td>\n",
              "      <td>9</td>\n",
              "      <td>2018-11-19</td>\n",
              "      <td>0.10</td>\n",
              "      <td>1</td>\n",
              "      <td>0</td>\n",
              "    </tr>\n",
              "  </tbody>\n",
              "</table>\n",
              "</div>\n",
              "      <button class=\"colab-df-convert\" onclick=\"convertToInteractive('df-ee2ef6cf-1172-498f-9e4e-4a9423a9820f')\"\n",
              "              title=\"Convert this dataframe to an interactive table.\"\n",
              "              style=\"display:none;\">\n",
              "        \n",
              "  <svg xmlns=\"http://www.w3.org/2000/svg\" height=\"24px\"viewBox=\"0 0 24 24\"\n",
              "       width=\"24px\">\n",
              "    <path d=\"M0 0h24v24H0V0z\" fill=\"none\"/>\n",
              "    <path d=\"M18.56 5.44l.94 2.06.94-2.06 2.06-.94-2.06-.94-.94-2.06-.94 2.06-2.06.94zm-11 1L8.5 8.5l.94-2.06 2.06-.94-2.06-.94L8.5 2.5l-.94 2.06-2.06.94zm10 10l.94 2.06.94-2.06 2.06-.94-2.06-.94-.94-2.06-.94 2.06-2.06.94z\"/><path d=\"M17.41 7.96l-1.37-1.37c-.4-.4-.92-.59-1.43-.59-.52 0-1.04.2-1.43.59L10.3 9.45l-7.72 7.72c-.78.78-.78 2.05 0 2.83L4 21.41c.39.39.9.59 1.41.59.51 0 1.02-.2 1.41-.59l7.78-7.78 2.81-2.81c.8-.78.8-2.07 0-2.86zM5.41 20L4 18.59l7.72-7.72 1.47 1.35L5.41 20z\"/>\n",
              "  </svg>\n",
              "      </button>\n",
              "      \n",
              "  <style>\n",
              "    .colab-df-container {\n",
              "      display:flex;\n",
              "      flex-wrap:wrap;\n",
              "      gap: 12px;\n",
              "    }\n",
              "\n",
              "    .colab-df-convert {\n",
              "      background-color: #E8F0FE;\n",
              "      border: none;\n",
              "      border-radius: 50%;\n",
              "      cursor: pointer;\n",
              "      display: none;\n",
              "      fill: #1967D2;\n",
              "      height: 32px;\n",
              "      padding: 0 0 0 0;\n",
              "      width: 32px;\n",
              "    }\n",
              "\n",
              "    .colab-df-convert:hover {\n",
              "      background-color: #E2EBFA;\n",
              "      box-shadow: 0px 1px 2px rgba(60, 64, 67, 0.3), 0px 1px 3px 1px rgba(60, 64, 67, 0.15);\n",
              "      fill: #174EA6;\n",
              "    }\n",
              "\n",
              "    [theme=dark] .colab-df-convert {\n",
              "      background-color: #3B4455;\n",
              "      fill: #D2E3FC;\n",
              "    }\n",
              "\n",
              "    [theme=dark] .colab-df-convert:hover {\n",
              "      background-color: #434B5C;\n",
              "      box-shadow: 0px 1px 3px 1px rgba(0, 0, 0, 0.15);\n",
              "      filter: drop-shadow(0px 1px 2px rgba(0, 0, 0, 0.3));\n",
              "      fill: #FFFFFF;\n",
              "    }\n",
              "  </style>\n",
              "\n",
              "      <script>\n",
              "        const buttonEl =\n",
              "          document.querySelector('#df-ee2ef6cf-1172-498f-9e4e-4a9423a9820f button.colab-df-convert');\n",
              "        buttonEl.style.display =\n",
              "          google.colab.kernel.accessAllowed ? 'block' : 'none';\n",
              "\n",
              "        async function convertToInteractive(key) {\n",
              "          const element = document.querySelector('#df-ee2ef6cf-1172-498f-9e4e-4a9423a9820f');\n",
              "          const dataTable =\n",
              "            await google.colab.kernel.invokeFunction('convertToInteractive',\n",
              "                                                     [key], {});\n",
              "          if (!dataTable) return;\n",
              "\n",
              "          const docLinkHtml = 'Like what you see? Visit the ' +\n",
              "            '<a target=\"_blank\" href=https://colab.research.google.com/notebooks/data_table.ipynb>data table notebook</a>'\n",
              "            + ' to learn more about interactive tables.';\n",
              "          element.innerHTML = '';\n",
              "          dataTable['output_type'] = 'display_data';\n",
              "          await google.colab.output.renderOutput(dataTable, element);\n",
              "          const docLink = document.createElement('div');\n",
              "          docLink.innerHTML = docLinkHtml;\n",
              "          element.appendChild(docLink);\n",
              "        }\n",
              "      </script>\n",
              "    </div>\n",
              "  </div>\n",
              "  "
            ]
          },
          "metadata": {},
          "execution_count": 4
        }
      ]
    },
    {
      "cell_type": "markdown",
      "source": [
        "# Data Visualization and Exploratory Data Analysis (EDA)"
      ],
      "metadata": {
        "id": "DqFiVXXrvQ6m"
      }
    },
    {
      "cell_type": "code",
      "source": [
        "df.columns"
      ],
      "metadata": {
        "id": "w_ksG5qtu6_l",
        "colab": {
          "base_uri": "https://localhost:8080/"
        },
        "outputId": "6a31a121-d579-446b-b945-ebffd4b26072"
      },
      "execution_count": null,
      "outputs": [
        {
          "output_type": "execute_result",
          "data": {
            "text/plain": [
              "Index(['id', 'name', 'host_id', 'host_name', 'neighbourhood_group',\n",
              "       'neighbourhood', 'latitude', 'longitude', 'room_type', 'price',\n",
              "       'minimum_nights', 'number_of_reviews', 'last_review',\n",
              "       'reviews_per_month', 'calculated_host_listings_count',\n",
              "       'availability_365'],\n",
              "      dtype='object')"
            ]
          },
          "metadata": {},
          "execution_count": 5
        }
      ]
    },
    {
      "cell_type": "code",
      "source": [
        "df.describe()"
      ],
      "metadata": {
        "id": "VQ54ImR54KUH",
        "colab": {
          "base_uri": "https://localhost:8080/"
        },
        "outputId": "63655b33-638a-481f-cca7-7a15bea20a41"
      },
      "execution_count": null,
      "outputs": [
        {
          "output_type": "execute_result",
          "data": {
            "text/plain": [
              "                 id       host_id      latitude     longitude         price  \\\n",
              "count  4.889500e+04  4.889500e+04  48895.000000  48895.000000  48895.000000   \n",
              "mean   1.901714e+07  6.762001e+07     40.728949    -73.952170    152.720687   \n",
              "std    1.098311e+07  7.861097e+07      0.054530      0.046157    240.154170   \n",
              "min    2.539000e+03  2.438000e+03     40.499790    -74.244420      0.000000   \n",
              "25%    9.471945e+06  7.822033e+06     40.690100    -73.983070     69.000000   \n",
              "50%    1.967728e+07  3.079382e+07     40.723070    -73.955680    106.000000   \n",
              "75%    2.915218e+07  1.074344e+08     40.763115    -73.936275    175.000000   \n",
              "max    3.648724e+07  2.743213e+08     40.913060    -73.712990  10000.000000   \n",
              "\n",
              "       minimum_nights  number_of_reviews  reviews_per_month  \\\n",
              "count    48895.000000       48895.000000       38843.000000   \n",
              "mean         7.029962          23.274466           1.373221   \n",
              "std         20.510550          44.550582           1.680442   \n",
              "min          1.000000           0.000000           0.010000   \n",
              "25%          1.000000           1.000000           0.190000   \n",
              "50%          3.000000           5.000000           0.720000   \n",
              "75%          5.000000          24.000000           2.020000   \n",
              "max       1250.000000         629.000000          58.500000   \n",
              "\n",
              "       calculated_host_listings_count  availability_365  \n",
              "count                    48895.000000      48895.000000  \n",
              "mean                         7.143982        112.781327  \n",
              "std                         32.952519        131.622289  \n",
              "min                          1.000000          0.000000  \n",
              "25%                          1.000000          0.000000  \n",
              "50%                          1.000000         45.000000  \n",
              "75%                          2.000000        227.000000  \n",
              "max                        327.000000        365.000000  "
            ],
            "text/html": [
              "\n",
              "  <div id=\"df-5d93a5d6-97aa-4634-9016-e285bf7c08ba\">\n",
              "    <div class=\"colab-df-container\">\n",
              "      <div>\n",
              "<style scoped>\n",
              "    .dataframe tbody tr th:only-of-type {\n",
              "        vertical-align: middle;\n",
              "    }\n",
              "\n",
              "    .dataframe tbody tr th {\n",
              "        vertical-align: top;\n",
              "    }\n",
              "\n",
              "    .dataframe thead th {\n",
              "        text-align: right;\n",
              "    }\n",
              "</style>\n",
              "<table border=\"1\" class=\"dataframe\">\n",
              "  <thead>\n",
              "    <tr style=\"text-align: right;\">\n",
              "      <th></th>\n",
              "      <th>id</th>\n",
              "      <th>host_id</th>\n",
              "      <th>latitude</th>\n",
              "      <th>longitude</th>\n",
              "      <th>price</th>\n",
              "      <th>minimum_nights</th>\n",
              "      <th>number_of_reviews</th>\n",
              "      <th>reviews_per_month</th>\n",
              "      <th>calculated_host_listings_count</th>\n",
              "      <th>availability_365</th>\n",
              "    </tr>\n",
              "  </thead>\n",
              "  <tbody>\n",
              "    <tr>\n",
              "      <th>count</th>\n",
              "      <td>4.889500e+04</td>\n",
              "      <td>4.889500e+04</td>\n",
              "      <td>48895.000000</td>\n",
              "      <td>48895.000000</td>\n",
              "      <td>48895.000000</td>\n",
              "      <td>48895.000000</td>\n",
              "      <td>48895.000000</td>\n",
              "      <td>38843.000000</td>\n",
              "      <td>48895.000000</td>\n",
              "      <td>48895.000000</td>\n",
              "    </tr>\n",
              "    <tr>\n",
              "      <th>mean</th>\n",
              "      <td>1.901714e+07</td>\n",
              "      <td>6.762001e+07</td>\n",
              "      <td>40.728949</td>\n",
              "      <td>-73.952170</td>\n",
              "      <td>152.720687</td>\n",
              "      <td>7.029962</td>\n",
              "      <td>23.274466</td>\n",
              "      <td>1.373221</td>\n",
              "      <td>7.143982</td>\n",
              "      <td>112.781327</td>\n",
              "    </tr>\n",
              "    <tr>\n",
              "      <th>std</th>\n",
              "      <td>1.098311e+07</td>\n",
              "      <td>7.861097e+07</td>\n",
              "      <td>0.054530</td>\n",
              "      <td>0.046157</td>\n",
              "      <td>240.154170</td>\n",
              "      <td>20.510550</td>\n",
              "      <td>44.550582</td>\n",
              "      <td>1.680442</td>\n",
              "      <td>32.952519</td>\n",
              "      <td>131.622289</td>\n",
              "    </tr>\n",
              "    <tr>\n",
              "      <th>min</th>\n",
              "      <td>2.539000e+03</td>\n",
              "      <td>2.438000e+03</td>\n",
              "      <td>40.499790</td>\n",
              "      <td>-74.244420</td>\n",
              "      <td>0.000000</td>\n",
              "      <td>1.000000</td>\n",
              "      <td>0.000000</td>\n",
              "      <td>0.010000</td>\n",
              "      <td>1.000000</td>\n",
              "      <td>0.000000</td>\n",
              "    </tr>\n",
              "    <tr>\n",
              "      <th>25%</th>\n",
              "      <td>9.471945e+06</td>\n",
              "      <td>7.822033e+06</td>\n",
              "      <td>40.690100</td>\n",
              "      <td>-73.983070</td>\n",
              "      <td>69.000000</td>\n",
              "      <td>1.000000</td>\n",
              "      <td>1.000000</td>\n",
              "      <td>0.190000</td>\n",
              "      <td>1.000000</td>\n",
              "      <td>0.000000</td>\n",
              "    </tr>\n",
              "    <tr>\n",
              "      <th>50%</th>\n",
              "      <td>1.967728e+07</td>\n",
              "      <td>3.079382e+07</td>\n",
              "      <td>40.723070</td>\n",
              "      <td>-73.955680</td>\n",
              "      <td>106.000000</td>\n",
              "      <td>3.000000</td>\n",
              "      <td>5.000000</td>\n",
              "      <td>0.720000</td>\n",
              "      <td>1.000000</td>\n",
              "      <td>45.000000</td>\n",
              "    </tr>\n",
              "    <tr>\n",
              "      <th>75%</th>\n",
              "      <td>2.915218e+07</td>\n",
              "      <td>1.074344e+08</td>\n",
              "      <td>40.763115</td>\n",
              "      <td>-73.936275</td>\n",
              "      <td>175.000000</td>\n",
              "      <td>5.000000</td>\n",
              "      <td>24.000000</td>\n",
              "      <td>2.020000</td>\n",
              "      <td>2.000000</td>\n",
              "      <td>227.000000</td>\n",
              "    </tr>\n",
              "    <tr>\n",
              "      <th>max</th>\n",
              "      <td>3.648724e+07</td>\n",
              "      <td>2.743213e+08</td>\n",
              "      <td>40.913060</td>\n",
              "      <td>-73.712990</td>\n",
              "      <td>10000.000000</td>\n",
              "      <td>1250.000000</td>\n",
              "      <td>629.000000</td>\n",
              "      <td>58.500000</td>\n",
              "      <td>327.000000</td>\n",
              "      <td>365.000000</td>\n",
              "    </tr>\n",
              "  </tbody>\n",
              "</table>\n",
              "</div>\n",
              "      <button class=\"colab-df-convert\" onclick=\"convertToInteractive('df-5d93a5d6-97aa-4634-9016-e285bf7c08ba')\"\n",
              "              title=\"Convert this dataframe to an interactive table.\"\n",
              "              style=\"display:none;\">\n",
              "        \n",
              "  <svg xmlns=\"http://www.w3.org/2000/svg\" height=\"24px\"viewBox=\"0 0 24 24\"\n",
              "       width=\"24px\">\n",
              "    <path d=\"M0 0h24v24H0V0z\" fill=\"none\"/>\n",
              "    <path d=\"M18.56 5.44l.94 2.06.94-2.06 2.06-.94-2.06-.94-.94-2.06-.94 2.06-2.06.94zm-11 1L8.5 8.5l.94-2.06 2.06-.94-2.06-.94L8.5 2.5l-.94 2.06-2.06.94zm10 10l.94 2.06.94-2.06 2.06-.94-2.06-.94-.94-2.06-.94 2.06-2.06.94z\"/><path d=\"M17.41 7.96l-1.37-1.37c-.4-.4-.92-.59-1.43-.59-.52 0-1.04.2-1.43.59L10.3 9.45l-7.72 7.72c-.78.78-.78 2.05 0 2.83L4 21.41c.39.39.9.59 1.41.59.51 0 1.02-.2 1.41-.59l7.78-7.78 2.81-2.81c.8-.78.8-2.07 0-2.86zM5.41 20L4 18.59l7.72-7.72 1.47 1.35L5.41 20z\"/>\n",
              "  </svg>\n",
              "      </button>\n",
              "      \n",
              "  <style>\n",
              "    .colab-df-container {\n",
              "      display:flex;\n",
              "      flex-wrap:wrap;\n",
              "      gap: 12px;\n",
              "    }\n",
              "\n",
              "    .colab-df-convert {\n",
              "      background-color: #E8F0FE;\n",
              "      border: none;\n",
              "      border-radius: 50%;\n",
              "      cursor: pointer;\n",
              "      display: none;\n",
              "      fill: #1967D2;\n",
              "      height: 32px;\n",
              "      padding: 0 0 0 0;\n",
              "      width: 32px;\n",
              "    }\n",
              "\n",
              "    .colab-df-convert:hover {\n",
              "      background-color: #E2EBFA;\n",
              "      box-shadow: 0px 1px 2px rgba(60, 64, 67, 0.3), 0px 1px 3px 1px rgba(60, 64, 67, 0.15);\n",
              "      fill: #174EA6;\n",
              "    }\n",
              "\n",
              "    [theme=dark] .colab-df-convert {\n",
              "      background-color: #3B4455;\n",
              "      fill: #D2E3FC;\n",
              "    }\n",
              "\n",
              "    [theme=dark] .colab-df-convert:hover {\n",
              "      background-color: #434B5C;\n",
              "      box-shadow: 0px 1px 3px 1px rgba(0, 0, 0, 0.15);\n",
              "      filter: drop-shadow(0px 1px 2px rgba(0, 0, 0, 0.3));\n",
              "      fill: #FFFFFF;\n",
              "    }\n",
              "  </style>\n",
              "\n",
              "      <script>\n",
              "        const buttonEl =\n",
              "          document.querySelector('#df-5d93a5d6-97aa-4634-9016-e285bf7c08ba button.colab-df-convert');\n",
              "        buttonEl.style.display =\n",
              "          google.colab.kernel.accessAllowed ? 'block' : 'none';\n",
              "\n",
              "        async function convertToInteractive(key) {\n",
              "          const element = document.querySelector('#df-5d93a5d6-97aa-4634-9016-e285bf7c08ba');\n",
              "          const dataTable =\n",
              "            await google.colab.kernel.invokeFunction('convertToInteractive',\n",
              "                                                     [key], {});\n",
              "          if (!dataTable) return;\n",
              "\n",
              "          const docLinkHtml = 'Like what you see? Visit the ' +\n",
              "            '<a target=\"_blank\" href=https://colab.research.google.com/notebooks/data_table.ipynb>data table notebook</a>'\n",
              "            + ' to learn more about interactive tables.';\n",
              "          element.innerHTML = '';\n",
              "          dataTable['output_type'] = 'display_data';\n",
              "          await google.colab.output.renderOutput(dataTable, element);\n",
              "          const docLink = document.createElement('div');\n",
              "          docLink.innerHTML = docLinkHtml;\n",
              "          element.appendChild(docLink);\n",
              "        }\n",
              "      </script>\n",
              "    </div>\n",
              "  </div>\n",
              "  "
            ]
          },
          "metadata": {},
          "execution_count": 6
        }
      ]
    },
    {
      "cell_type": "code",
      "source": [
        "df.shape"
      ],
      "metadata": {
        "id": "w3vwgJB7u2pt",
        "colab": {
          "base_uri": "https://localhost:8080/"
        },
        "outputId": "6fcde922-3cf7-4537-a0d0-f08be620b231"
      },
      "execution_count": null,
      "outputs": [
        {
          "output_type": "execute_result",
          "data": {
            "text/plain": [
              "(48895, 16)"
            ]
          },
          "metadata": {},
          "execution_count": 7
        }
      ]
    },
    {
      "cell_type": "code",
      "source": [
        "df.info"
      ],
      "metadata": {
        "id": "cOCoEOxEvNBM",
        "colab": {
          "base_uri": "https://localhost:8080/"
        },
        "outputId": "30e17c75-b866-4354-d1fb-b87f6cb34100"
      },
      "execution_count": null,
      "outputs": [
        {
          "output_type": "execute_result",
          "data": {
            "text/plain": [
              "<bound method DataFrame.info of              id                                               name   host_id  \\\n",
              "0          2539                 Clean & quiet apt home by the park      2787   \n",
              "1          2595                              Skylit Midtown Castle      2845   \n",
              "2          3647                THE VILLAGE OF HARLEM....NEW YORK !      4632   \n",
              "3          3831                    Cozy Entire Floor of Brownstone      4869   \n",
              "4          5022   Entire Apt: Spacious Studio/Loft by central park      7192   \n",
              "...         ...                                                ...       ...   \n",
              "48890  36484665    Charming one bedroom - newly renovated rowhouse   8232441   \n",
              "48891  36485057      Affordable room in Bushwick/East Williamsburg   6570630   \n",
              "48892  36485431            Sunny Studio at Historical Neighborhood  23492952   \n",
              "48893  36485609               43rd St. Time Square-cozy single bed  30985759   \n",
              "48894  36487245  Trendy duplex in the very heart of Hell's Kitchen  68119814   \n",
              "\n",
              "           host_name neighbourhood_group       neighbourhood  latitude  \\\n",
              "0               John            Brooklyn          Kensington  40.64749   \n",
              "1           Jennifer           Manhattan             Midtown  40.75362   \n",
              "2          Elisabeth           Manhattan              Harlem  40.80902   \n",
              "3        LisaRoxanne            Brooklyn        Clinton Hill  40.68514   \n",
              "4              Laura           Manhattan         East Harlem  40.79851   \n",
              "...              ...                 ...                 ...       ...   \n",
              "48890        Sabrina            Brooklyn  Bedford-Stuyvesant  40.67853   \n",
              "48891        Marisol            Brooklyn            Bushwick  40.70184   \n",
              "48892  Ilgar & Aysel           Manhattan              Harlem  40.81475   \n",
              "48893            Taz           Manhattan      Hell's Kitchen  40.75751   \n",
              "48894     Christophe           Manhattan      Hell's Kitchen  40.76404   \n",
              "\n",
              "       longitude        room_type  price  minimum_nights  number_of_reviews  \\\n",
              "0      -73.97237     Private room    149               1                  9   \n",
              "1      -73.98377  Entire home/apt    225               1                 45   \n",
              "2      -73.94190     Private room    150               3                  0   \n",
              "3      -73.95976  Entire home/apt     89               1                270   \n",
              "4      -73.94399  Entire home/apt     80              10                  9   \n",
              "...          ...              ...    ...             ...                ...   \n",
              "48890  -73.94995     Private room     70               2                  0   \n",
              "48891  -73.93317     Private room     40               4                  0   \n",
              "48892  -73.94867  Entire home/apt    115              10                  0   \n",
              "48893  -73.99112      Shared room     55               1                  0   \n",
              "48894  -73.98933     Private room     90               7                  0   \n",
              "\n",
              "      last_review  reviews_per_month  calculated_host_listings_count  \\\n",
              "0      2018-10-19               0.21                               6   \n",
              "1      2019-05-21               0.38                               2   \n",
              "2             NaT                NaN                               1   \n",
              "3      2019-07-05               4.64                               1   \n",
              "4      2018-11-19               0.10                               1   \n",
              "...           ...                ...                             ...   \n",
              "48890         NaT                NaN                               2   \n",
              "48891         NaT                NaN                               2   \n",
              "48892         NaT                NaN                               1   \n",
              "48893         NaT                NaN                               6   \n",
              "48894         NaT                NaN                               1   \n",
              "\n",
              "       availability_365  \n",
              "0                   365  \n",
              "1                   355  \n",
              "2                   365  \n",
              "3                   194  \n",
              "4                     0  \n",
              "...                 ...  \n",
              "48890                 9  \n",
              "48891                36  \n",
              "48892                27  \n",
              "48893                 2  \n",
              "48894                23  \n",
              "\n",
              "[48895 rows x 16 columns]>"
            ]
          },
          "metadata": {},
          "execution_count": 8
        }
      ]
    },
    {
      "cell_type": "markdown",
      "source": [
        "## Missing Data"
      ],
      "metadata": {
        "id": "ze4aSw0EOzgm"
      }
    },
    {
      "cell_type": "markdown",
      "source": [
        "### check the number of null values in each column and print them in descending order:"
      ],
      "metadata": {
        "id": "_O9Ub-SXvulc"
      }
    },
    {
      "cell_type": "code",
      "source": [
        "# assuming the dataset is stored in a variable called \"data\"\n",
        "\n",
        "# count the number of null values in each column\n",
        "null_counts = df.isnull().sum()\n",
        "\n",
        "# sort the columns by the number of null values (in descending order)\n",
        "null_counts = null_counts.sort_values(ascending=False)\n",
        "\n",
        "# print the null value counts\n",
        "print(null_counts)\n"
      ],
      "metadata": {
        "id": "BuNWQ5dwwMyN",
        "colab": {
          "base_uri": "https://localhost:8080/"
        },
        "outputId": "987c1ca1-92db-4650-d9a0-48ea28922163"
      },
      "execution_count": null,
      "outputs": [
        {
          "output_type": "stream",
          "name": "stdout",
          "text": [
            "last_review                       10052\n",
            "reviews_per_month                 10052\n",
            "host_name                            21\n",
            "name                                 16\n",
            "id                                    0\n",
            "host_id                               0\n",
            "neighbourhood_group                   0\n",
            "neighbourhood                         0\n",
            "latitude                              0\n",
            "longitude                             0\n",
            "room_type                             0\n",
            "price                                 0\n",
            "minimum_nights                        0\n",
            "number_of_reviews                     0\n",
            "calculated_host_listings_count        0\n",
            "availability_365                      0\n",
            "dtype: int64\n"
          ]
        }
      ]
    },
    {
      "cell_type": "markdown",
      "source": [
        "Since we will be examining the factors that impact the listing price, columns such as \"name\" are not pertinent to our analysis."
      ],
      "metadata": {
        "id": "0QL8EG-Hwd51"
      }
    },
    {
      "cell_type": "code",
      "source": [
        "df.drop(['host_name','last_review','name' ],axis = 1, inplace = True)"
      ],
      "metadata": {
        "id": "meimH3LQwdkU"
      },
      "execution_count": null,
      "outputs": []
    },
    {
      "cell_type": "markdown",
      "source": [
        "The null values in the 'reviews_per_month' column correspond to the listings where 'number_of_reviews' is zero. Therefore, we can safely fill those null values with 0."
      ],
      "metadata": {
        "id": "7Ww_TTlBwuel"
      }
    },
    {
      "cell_type": "code",
      "source": [
        "df[df['number_of_reviews']==0].shape"
      ],
      "metadata": {
        "id": "PcjCuMHIwoa1",
        "colab": {
          "base_uri": "https://localhost:8080/"
        },
        "outputId": "2a8f5fbb-3fdd-43f1-dd10-c12821c2e3d0"
      },
      "execution_count": null,
      "outputs": [
        {
          "output_type": "execute_result",
          "data": {
            "text/plain": [
              "(10052, 13)"
            ]
          },
          "metadata": {},
          "execution_count": 11
        }
      ]
    },
    {
      "cell_type": "code",
      "source": [
        "df.fillna('0', inplace=True)"
      ],
      "metadata": {
        "id": "ZLqXs0ycwodt"
      },
      "execution_count": null,
      "outputs": []
    },
    {
      "cell_type": "markdown",
      "source": [
        "Examining the different categories provides us with insight into how to approach our analysis."
      ],
      "metadata": {
        "id": "LBDIgupgw-40"
      }
    },
    {
      "cell_type": "markdown",
      "source": [
        "## Outliers"
      ],
      "metadata": {
        "id": "gEEdIvvXPJNQ"
      }
    },
    {
      "cell_type": "code",
      "source": [
        "plt.figure(figsize=(6,6))\n",
        "sns.boxplot(y=df['price'])\n",
        "plt.title(\"Distribution of Price\")\n",
        "plt.show()"
      ],
      "metadata": {
        "id": "cMw6pbcP3z7H",
        "colab": {
          "base_uri": "https://localhost:8080/"
        },
        "outputId": "c1226e8f-9f0c-480f-940d-1dd378342d5d"
      },
      "execution_count": null,
      "outputs": [
        {
          "output_type": "display_data",
          "data": {
            "text/plain": [
              "<Figure size 432x432 with 1 Axes>"
            ],
            "image/png": "[encoded data removed]"
          },
          "metadata": {}
        }
      ]
    },
    {
      "cell_type": "markdown",
      "source": [
        "There are so many outlier in the price. Let's drop them."
      ],
      "metadata": {
        "id": "reDhpnBL35zn"
      }
    },
    {
      "cell_type": "code",
      "source": [
        "def remove_outliers(df, column_name):\n",
        "    # calculer le premier et le troisième quartile de la colonne\n",
        "    Q1 = df[column_name].quantile(0.01)\n",
        "    Q3 = df[column_name].quantile(0.99)\n",
        "    \n",
        "    # calculer l'écart interquartile (IQR)\n",
        "    IQR = Q3 - Q1\n",
        "    \n",
        "    # déterminer les limites inférieure et supérieure pour les valeurs aberrantes\n",
        "    lower_limit = Q1 - 1.5 * IQR\n",
        "    upper_limit = Q3 + 1.5 * IQR\n",
        "    \n",
        "    # filtrer le DataFrame pour inclure uniquement les valeurs dans la plage acceptable\n",
        "    filtered_df = df[(df[column_name] > lower_limit) & (df[column_name] < upper_limit)]\n",
        "    \n",
        "    # retourner le DataFrame filtré\n",
        "    return filtered_df\n",
        "\n",
        "# Supprimer les valeurs aberrantes dans la colonne 'price'\n",
        "data = remove_outliers(df, 'price')"
      ],
      "metadata": {
        "id": "J0x2GoH43Evg"
      },
      "execution_count": null,
      "outputs": []
    },
    {
      "cell_type": "code",
      "source": [
        "plt.figure(figsize=(6,6))\n",
        "sns.boxplot(y=data['price'])\n",
        "plt.title(\"Distribution of Price\")\n",
        "plt.show()"
      ],
      "metadata": {
        "id": "LiL4KeZzQizH",
        "colab": {
          "base_uri": "https://localhost:8080/"
        },
        "outputId": "51a19f48-7b57-4e10-ee60-81137297310d"
      },
      "execution_count": null,
      "outputs": [
        {
          "output_type": "display_data",
          "data": {
            "text/plain": [
              "<Figure size 432x432 with 1 Axes>"
            ],
            "image/png": "[encoded data removed]"
          },
          "metadata": {}
        }
      ]
    },
    {
      "cell_type": "code",
      "source": [],
      "metadata": {
        "id": "oj81AlmC-deB"
      },
      "execution_count": null,
      "outputs": []
    },
    {
      "cell_type": "markdown",
      "source": [
        "Je pense que cette fonctionne supprime beaucoup de données donc, on va supprimer les outiliers differement"
      ],
      "metadata": {
        "id": "f6tKvtua-eXQ"
      }
    },
    {
      "cell_type": "code",
      "source": [
        "p1 = df['price'].quantile(0.99)\n",
        "p2 = df['price'].quantile(0.01)\n",
        "df = df[(df['price']<p1) & (df['price']>p2)]"
      ],
      "metadata": {
        "id": "sRZNYsjs-ZfB"
      },
      "execution_count": null,
      "outputs": []
    },
    {
      "cell_type": "code",
      "source": [
        "m1 = df['minimum_nights'].quantile(0.99)\n",
        "print(m1)"
      ],
      "metadata": {
        "colab": {
          "base_uri": "https://localhost:8080/"
        },
        "id": "QJyR5wEs_Dr3",
        "outputId": "a5b0ea63-fcef-4919-8a3e-a2886d137804"
      },
      "execution_count": null,
      "outputs": [
        {
          "output_type": "stream",
          "name": "stdout",
          "text": [
            "40.0\n"
          ]
        }
      ]
    },
    {
      "cell_type": "code",
      "source": [
        "df = df[(df['minimum_nights']<m1)]\n",
        "df['price'].describe()"
      ],
      "metadata": {
        "colab": {
          "base_uri": "https://localhost:8080/"
        },
        "id": "nunW7P6v_N84",
        "outputId": "7cad7e4f-dc02-4b59-b130-cacccfc743d5"
      },
      "execution_count": null,
      "outputs": [
        {
          "output_type": "execute_result",
          "data": {
            "text/plain": [
              "count    47262.000000\n",
              "mean       138.905569\n",
              "std        103.036567\n",
              "min         31.000000\n",
              "25%         70.000000\n",
              "50%        108.000000\n",
              "75%        175.000000\n",
              "max        795.000000\n",
              "Name: price, dtype: float64"
            ]
          },
          "metadata": {},
          "execution_count": 18
        }
      ]
    },
    {
      "cell_type": "code",
      "source": [
        "plt.figure(figsize=(6,6))\n",
        "sns.boxplot(y=df['price'])\n",
        "plt.title(\"Distribution of Price\")\n",
        "plt.show()"
      ],
      "metadata": {
        "colab": {
          "base_uri": "https://localhost:8080/"
        },
        "id": "O21NUXBd_sgg",
        "outputId": "04c35d9e-fb93-4a34-9a8f-91372fdf018e"
      },
      "execution_count": null,
      "outputs": [
        {
          "output_type": "display_data",
          "data": {
            "text/plain": [
              "<Figure size 432x432 with 1 Axes>"
            ],
            "image/png": "[encoded data removed]"
          },
          "metadata": {}
        }
      ]
    },
    {
      "cell_type": "markdown",
      "source": [
        "### neighbourhoods"
      ],
      "metadata": {
        "id": "rAMowFCHyx7m"
      }
    },
    {
      "cell_type": "code",
      "source": [
        "df['neighbourhood_group'].unique()"
      ],
      "metadata": {
        "id": "VTKdKFpKw3WV",
        "colab": {
          "base_uri": "https://localhost:8080/"
        },
        "outputId": "153a2e36-f315-44ed-d81a-95d971a18f28"
      },
      "execution_count": null,
      "outputs": [
        {
          "output_type": "execute_result",
          "data": {
            "text/plain": [
              "array(['Brooklyn', 'Manhattan', 'Queens', 'Staten Island', 'Bronx'],\n",
              "      dtype=object)"
            ]
          },
          "metadata": {},
          "execution_count": 20
        }
      ]
    },
    {
      "cell_type": "code",
      "source": [
        "df['room_type'].unique()"
      ],
      "metadata": {
        "id": "DCEq3Vaww3Y1",
        "colab": {
          "base_uri": "https://localhost:8080/"
        },
        "outputId": "7e5dc2d2-4644-45df-c612-8eac676e433d"
      },
      "execution_count": null,
      "outputs": [
        {
          "output_type": "execute_result",
          "data": {
            "text/plain": [
              "array(['Private room', 'Entire home/apt', 'Shared room'], dtype=object)"
            ]
          },
          "metadata": {},
          "execution_count": 21
        }
      ]
    },
    {
      "cell_type": "code",
      "source": [
        "n_group = df.groupby('neighbourhood_group').describe()\n",
        "n_group.xs('price',axis = 1)"
      ],
      "metadata": {
        "id": "3U8aXVhTw3bV",
        "colab": {
          "base_uri": "https://localhost:8080/"
        },
        "outputId": "e1cf8e81-57ca-4b2e-c529-94279c6bf14b"
      },
      "execution_count": null,
      "outputs": [
        {
          "output_type": "execute_result",
          "data": {
            "text/plain": [
              "                       count        mean         std   min    25%    50%  \\\n",
              "neighbourhood_group                                                        \n",
              "Bronx                 1009.0   87.756194   70.341288  32.0  50.00   70.0   \n",
              "Brooklyn             19488.0  117.488147   85.900570  31.0  60.00   94.0   \n",
              "Manhattan            20955.0  173.128323  115.189412  31.0  95.00  149.0   \n",
              "Queens                5458.0   96.124038   69.272127  31.0  53.25   75.0   \n",
              "Staten Island          352.0   97.303977   76.070489  31.0  50.75   75.0   \n",
              "\n",
              "                        75%    max  \n",
              "neighbourhood_group                 \n",
              "Bronx                100.00  680.0  \n",
              "Brooklyn             150.00  795.0  \n",
              "Manhattan            215.00  795.0  \n",
              "Queens               113.75  750.0  \n",
              "Staten Island        110.00  700.0  "
            ],
            "text/html": [
              "\n",
              "  <div id=\"df-e17b3744-8ea8-4bfa-9735-0de88149213b\">\n",
              "    <div class=\"colab-df-container\">\n",
              "      <div>\n",
              "<style scoped>\n",
              "    .dataframe tbody tr th:only-of-type {\n",
              "        vertical-align: middle;\n",
              "    }\n",
              "\n",
              "    .dataframe tbody tr th {\n",
              "        vertical-align: top;\n",
              "    }\n",
              "\n",
              "    .dataframe thead th {\n",
              "        text-align: right;\n",
              "    }\n",
              "</style>\n",
              "<table border=\"1\" class=\"dataframe\">\n",
              "  <thead>\n",
              "    <tr style=\"text-align: right;\">\n",
              "      <th></th>\n",
              "      <th>count</th>\n",
              "      <th>mean</th>\n",
              "      <th>std</th>\n",
              "      <th>min</th>\n",
              "      <th>25%</th>\n",
              "      <th>50%</th>\n",
              "      <th>75%</th>\n",
              "      <th>max</th>\n",
              "    </tr>\n",
              "    <tr>\n",
              "      <th>neighbourhood_group</th>\n",
              "      <th></th>\n",
              "      <th></th>\n",
              "      <th></th>\n",
              "      <th></th>\n",
              "      <th></th>\n",
              "      <th></th>\n",
              "      <th></th>\n",
              "      <th></th>\n",
              "    </tr>\n",
              "  </thead>\n",
              "  <tbody>\n",
              "    <tr>\n",
              "      <th>Bronx</th>\n",
              "      <td>1009.0</td>\n",
              "      <td>87.756194</td>\n",
              "      <td>70.341288</td>\n",
              "      <td>32.0</td>\n",
              "      <td>50.00</td>\n",
              "      <td>70.0</td>\n",
              "      <td>100.00</td>\n",
              "      <td>680.0</td>\n",
              "    </tr>\n",
              "    <tr>\n",
              "      <th>Brooklyn</th>\n",
              "      <td>19488.0</td>\n",
              "      <td>117.488147</td>\n",
              "      <td>85.900570</td>\n",
              "      <td>31.0</td>\n",
              "      <td>60.00</td>\n",
              "      <td>94.0</td>\n",
              "      <td>150.00</td>\n",
              "      <td>795.0</td>\n",
              "    </tr>\n",
              "    <tr>\n",
              "      <th>Manhattan</th>\n",
              "      <td>20955.0</td>\n",
              "      <td>173.128323</td>\n",
              "      <td>115.189412</td>\n",
              "      <td>31.0</td>\n",
              "      <td>95.00</td>\n",
              "      <td>149.0</td>\n",
              "      <td>215.00</td>\n",
              "      <td>795.0</td>\n",
              "    </tr>\n",
              "    <tr>\n",
              "      <th>Queens</th>\n",
              "      <td>5458.0</td>\n",
              "      <td>96.124038</td>\n",
              "      <td>69.272127</td>\n",
              "      <td>31.0</td>\n",
              "      <td>53.25</td>\n",
              "      <td>75.0</td>\n",
              "      <td>113.75</td>\n",
              "      <td>750.0</td>\n",
              "    </tr>\n",
              "    <tr>\n",
              "      <th>Staten Island</th>\n",
              "      <td>352.0</td>\n",
              "      <td>97.303977</td>\n",
              "      <td>76.070489</td>\n",
              "      <td>31.0</td>\n",
              "      <td>50.75</td>\n",
              "      <td>75.0</td>\n",
              "      <td>110.00</td>\n",
              "      <td>700.0</td>\n",
              "    </tr>\n",
              "  </tbody>\n",
              "</table>\n",
              "</div>\n",
              "      <button class=\"colab-df-convert\" onclick=\"convertToInteractive('df-e17b3744-8ea8-4bfa-9735-0de88149213b')\"\n",
              "              title=\"Convert this dataframe to an interactive table.\"\n",
              "              style=\"display:none;\">\n",
              "        \n",
              "  <svg xmlns=\"http://www.w3.org/2000/svg\" height=\"24px\"viewBox=\"0 0 24 24\"\n",
              "       width=\"24px\">\n",
              "    <path d=\"M0 0h24v24H0V0z\" fill=\"none\"/>\n",
              "    <path d=\"M18.56 5.44l.94 2.06.94-2.06 2.06-.94-2.06-.94-.94-2.06-.94 2.06-2.06.94zm-11 1L8.5 8.5l.94-2.06 2.06-.94-2.06-.94L8.5 2.5l-.94 2.06-2.06.94zm10 10l.94 2.06.94-2.06 2.06-.94-2.06-.94-.94-2.06-.94 2.06-2.06.94z\"/><path d=\"M17.41 7.96l-1.37-1.37c-.4-.4-.92-.59-1.43-.59-.52 0-1.04.2-1.43.59L10.3 9.45l-7.72 7.72c-.78.78-.78 2.05 0 2.83L4 21.41c.39.39.9.59 1.41.59.51 0 1.02-.2 1.41-.59l7.78-7.78 2.81-2.81c.8-.78.8-2.07 0-2.86zM5.41 20L4 18.59l7.72-7.72 1.47 1.35L5.41 20z\"/>\n",
              "  </svg>\n",
              "      </button>\n",
              "      \n",
              "  <style>\n",
              "    .colab-df-container {\n",
              "      display:flex;\n",
              "      flex-wrap:wrap;\n",
              "      gap: 12px;\n",
              "    }\n",
              "\n",
              "    .colab-df-convert {\n",
              "      background-color: #E8F0FE;\n",
              "      border: none;\n",
              "      border-radius: 50%;\n",
              "      cursor: pointer;\n",
              "      display: none;\n",
              "      fill: #1967D2;\n",
              "      height: 32px;\n",
              "      padding: 0 0 0 0;\n",
              "      width: 32px;\n",
              "    }\n",
              "\n",
              "    .colab-df-convert:hover {\n",
              "      background-color: #E2EBFA;\n",
              "      box-shadow: 0px 1px 2px rgba(60, 64, 67, 0.3), 0px 1px 3px 1px rgba(60, 64, 67, 0.15);\n",
              "      fill: #174EA6;\n",
              "    }\n",
              "\n",
              "    [theme=dark] .colab-df-convert {\n",
              "      background-color: #3B4455;\n",
              "      fill: #D2E3FC;\n",
              "    }\n",
              "\n",
              "    [theme=dark] .colab-df-convert:hover {\n",
              "      background-color: #434B5C;\n",
              "      box-shadow: 0px 1px 3px 1px rgba(0, 0, 0, 0.15);\n",
              "      filter: drop-shadow(0px 1px 2px rgba(0, 0, 0, 0.3));\n",
              "      fill: #FFFFFF;\n",
              "    }\n",
              "  </style>\n",
              "\n",
              "      <script>\n",
              "        const buttonEl =\n",
              "          document.querySelector('#df-e17b3744-8ea8-4bfa-9735-0de88149213b button.colab-df-convert');\n",
              "        buttonEl.style.display =\n",
              "          google.colab.kernel.accessAllowed ? 'block' : 'none';\n",
              "\n",
              "        async function convertToInteractive(key) {\n",
              "          const element = document.querySelector('#df-e17b3744-8ea8-4bfa-9735-0de88149213b');\n",
              "          const dataTable =\n",
              "            await google.colab.kernel.invokeFunction('convertToInteractive',\n",
              "                                                     [key], {});\n",
              "          if (!dataTable) return;\n",
              "\n",
              "          const docLinkHtml = 'Like what you see? Visit the ' +\n",
              "            '<a target=\"_blank\" href=https://colab.research.google.com/notebooks/data_table.ipynb>data table notebook</a>'\n",
              "            + ' to learn more about interactive tables.';\n",
              "          element.innerHTML = '';\n",
              "          dataTable['output_type'] = 'display_data';\n",
              "          await google.colab.output.renderOutput(dataTable, element);\n",
              "          const docLink = document.createElement('div');\n",
              "          docLink.innerHTML = docLinkHtml;\n",
              "          element.appendChild(docLink);\n",
              "        }\n",
              "      </script>\n",
              "    </div>\n",
              "  </div>\n",
              "  "
            ]
          },
          "metadata": {},
          "execution_count": 22
        }
      ]
    },
    {
      "cell_type": "markdown",
      "source": [
        "The prices in the dataset vary widely, ranging from as low as 10 to as high as 10000. However, the mean price is below 200."
      ],
      "metadata": {
        "id": "jDYOsi2qxWGu"
      }
    },
    {
      "cell_type": "code",
      "source": [
        "plt.figure(figsize=(6,6))\n",
        "numbers = df['neighbourhood_group'].value_counts()\n",
        "plt.pie(numbers.values, labels=numbers.index, colors=['b', 'r', 'g', 'cyan', 'gray'], autopct='%1.1f%%')\n",
        "plt.title('Numbers in Each Neigbourhoods')"
      ],
      "metadata": {
        "id": "1G0phvAiQ7_o",
        "colab": {
          "base_uri": "https://localhost:8080/"
        },
        "outputId": "c68bc351-3fc8-4e83-f9c6-4cd03b04e3b0"
      },
      "execution_count": null,
      "outputs": [
        {
          "output_type": "execute_result",
          "data": {
            "text/plain": [
              "Text(0.5, 1.0, 'Numbers in Each Neigbourhoods')"
            ]
          },
          "metadata": {},
          "execution_count": 23
        },
        {
          "output_type": "display_data",
          "data": {
            "text/plain": [
              "<Figure size 432x432 with 1 Axes>"
            ],
            "image/png": "[encoded data removed]"
          },
          "metadata": {}
        }
      ]
    },
    {
      "cell_type": "markdown",
      "source": [
        "Manhattan has the most house. Brooklyn follows Manhattan with a big portion. Mostly the rooms are distributed in Brooklyn and Manhattan"
      ],
      "metadata": {
        "id": "yaijO5RHRSh5"
      }
    },
    {
      "cell_type": "code",
      "source": [
        "plt.figure(figsize=(8,6))\n",
        "sns.countplot(df['neighbourhood_group'],hue=df['room_type'])"
      ],
      "metadata": {
        "id": "pUsCmKT9xNJE",
        "colab": {
          "base_uri": "https://localhost:8080/"
        },
        "outputId": "95685b78-75c4-4887-ff2e-312816786e7a"
      },
      "execution_count": null,
      "outputs": [
        {
          "output_type": "stream",
          "name": "stderr",
          "text": [
            "/usr/local/lib/python3.9/dist-packages/seaborn/_decorators.py:36: FutureWarning: Pass the following variable as a keyword arg: x. From version 0.12, the only valid positional argument will be `data`, and passing other arguments without an explicit keyword will result in an error or misinterpretation.\n",
            "  warnings.warn(\n"
          ]
        },
        {
          "output_type": "execute_result",
          "data": {
            "text/plain": [
              "<AxesSubplot:xlabel='neighbourhood_group', ylabel='count'>"
            ]
          },
          "metadata": {},
          "execution_count": 24
        },
        {
          "output_type": "display_data",
          "data": {
            "text/plain": [
              "<Figure size 576x432 with 1 Axes>"
            ],
            "image/png": "[encoded data removed]"
          },
          "metadata": {}
        }
      ]
    },
    {
      "cell_type": "markdown",
      "source": [
        "Based on the plot, we can observe that Brooklyn and Manhattan are the most in-demand neighborhoods with a higher number of listings. Brooklyn has a relatively even distribution between \"private room\" and \"entire home\" listings, while Manhattan has a greater number of home/apartment listings. However, for less popular areas like Staten Island and the Bronx, there are no noticeable differences between them."
      ],
      "metadata": {
        "id": "3RFHwysMxlt-"
      }
    },
    {
      "cell_type": "markdown",
      "source": [
        "## Price Distribution in Each Neighbourhood"
      ],
      "metadata": {
        "id": "vopJfRU1R25m"
      }
    },
    {
      "cell_type": "code",
      "source": [
        "plt.figure(figsize=(15,6))\n",
        "sns.boxplot(data=df, x='neighbourhood_group', y='price', palette='GnBu_d')\n",
        "plt.title('Density and distribution of prices for each neighbourhood group', fontsize=15)\n",
        "plt.xlabel('Neighbourhood group')\n",
        "plt.ylabel(\"Price\")"
      ],
      "metadata": {
        "id": "yh2Vdcy9R5pl",
        "colab": {
          "base_uri": "https://localhost:8080/"
        },
        "outputId": "013cca35-9ef4-4099-8f67-d1884954c599"
      },
      "execution_count": null,
      "outputs": [
        {
          "output_type": "execute_result",
          "data": {
            "text/plain": [
              "Text(0, 0.5, 'Price')"
            ]
          },
          "metadata": {},
          "execution_count": 25
        },
        {
          "output_type": "display_data",
          "data": {
            "text/plain": [
              "<Figure size 1080x432 with 1 Axes>"
            ],
            "image/png": "[encoded data removed]"
          },
          "metadata": {}
        }
      ]
    },
    {
      "cell_type": "markdown",
      "source": [
        "The data suggests that the average price of accommodations in Manhattan is higher than in other locations. We can further analyze to determine which specific room is the most expensive and which room type is the least expensive."
      ],
      "metadata": {
        "id": "ba6I6LhjSDRg"
      }
    },
    {
      "cell_type": "code",
      "source": [
        "df1 =df[df['price']<500]\n",
        "plt.figure(figsize= (10,8))\n",
        "plt.scatter(df1.longitude, df1.latitude, c = df1.price, alpha = 0.7, cmap ='jet',edgecolor = 'black')\n",
        "cbar = plt.colorbar()\n",
        "cbar.set_label('Price')"
      ],
      "metadata": {
        "id": "CmBfZnJ4xdJ-",
        "colab": {
          "base_uri": "https://localhost:8080/"
        },
        "outputId": "1cfb8628-97f2-41f3-b207-d6cc43cf8223"
      },
      "execution_count": null,
      "outputs": [
        {
          "output_type": "display_data",
          "data": {
            "text/plain": [
              "<Figure size 720x576 with 2 Axes>"
            ],
            "image/png": "[encoded data removed]"
          },
          "metadata": {}
        }
      ]
    },
    {
      "cell_type": "markdown",
      "source": [
        "Manhattan tend to be more expensive than those in other areas."
      ],
      "metadata": {
        "id": "wOTneyMtyLWG"
      }
    },
    {
      "cell_type": "markdown",
      "source": [
        "## Room Type Distribution"
      ],
      "metadata": {
        "id": "DtxexA89Ra8W"
      }
    },
    {
      "cell_type": "code",
      "source": [
        "plt.figure(figsize=(6,6))\n",
        "numbers = df['room_type'].value_counts()\n",
        "plt.pie(numbers.values, labels=numbers.index, colors=['cyan', 'green', 'pink'], autopct='%1.1f%%', shadow=True,startangle=90)\n",
        "plt.title('Numbers in Each Room Types')"
      ],
      "metadata": {
        "id": "x6hFkHxMReUW",
        "colab": {
          "base_uri": "https://localhost:8080/"
        },
        "outputId": "f3bd0ca2-ed49-4f8c-f1cb-8e7e9f6bb243"
      },
      "execution_count": null,
      "outputs": [
        {
          "output_type": "execute_result",
          "data": {
            "text/plain": [
              "Text(0.5, 1.0, 'Numbers in Each Room Types')"
            ]
          },
          "metadata": {},
          "execution_count": 27
        },
        {
          "output_type": "display_data",
          "data": {
            "text/plain": [
              "<Figure size 432x432 with 1 Axes>"
            ],
            "image/png": "[encoded data removed]"
          },
          "metadata": {}
        }
      ]
    },
    {
      "cell_type": "markdown",
      "source": [
        "There are mostly entire home and private room. There is also a small portion in shared rooms."
      ],
      "metadata": {
        "id": "jBcZcijvReju"
      }
    },
    {
      "cell_type": "code",
      "source": [
        "plt.figure(figsize=(8, 6))\n",
        "sns.barplot(data=df, x='room_type', y='price')"
      ],
      "metadata": {
        "id": "dOzNZUAOxNLU",
        "colab": {
          "base_uri": "https://localhost:8080/"
        },
        "outputId": "5629d14a-e44a-4b02-e44f-953400976591"
      },
      "execution_count": null,
      "outputs": [
        {
          "output_type": "execute_result",
          "data": {
            "text/plain": [
              "<AxesSubplot:xlabel='room_type', ylabel='price'>"
            ]
          },
          "metadata": {},
          "execution_count": 28
        },
        {
          "output_type": "display_data",
          "data": {
            "text/plain": [
              "<Figure size 576x432 with 1 Axes>"
            ],
            "image/png": "[encoded data removed]"
          },
          "metadata": {}
        }
      ]
    },
    {
      "cell_type": "markdown",
      "source": [
        "Consistent with expectations, home/apartment listings are more costly than private/shared room listings."
      ],
      "metadata": {
        "id": "4iomPhhqxxQ2"
      }
    },
    {
      "cell_type": "markdown",
      "source": [
        "## Price Distribution in Each Room Type"
      ],
      "metadata": {
        "id": "m6oSLHXQSLX2"
      }
    },
    {
      "cell_type": "code",
      "source": [
        "plt.figure(figsize=(15,6))\n",
        "sns.boxplot(data=df, x='room_type', y='price', palette='GnBu_d')\n",
        "plt.title('Density and distribution of prices for each Room Type', fontsize=15)\n",
        "plt.xlabel('Room Type')\n",
        "plt.ylabel(\"Price\")"
      ],
      "metadata": {
        "id": "ncn0EoKUSKm3",
        "colab": {
          "base_uri": "https://localhost:8080/"
        },
        "outputId": "955f25d4-7518-4925-aa50-cf7ac6e630e8"
      },
      "execution_count": null,
      "outputs": [
        {
          "output_type": "execute_result",
          "data": {
            "text/plain": [
              "Text(0, 0.5, 'Price')"
            ]
          },
          "metadata": {},
          "execution_count": 29
        },
        {
          "output_type": "display_data",
          "data": {
            "text/plain": [
              "<Figure size 1080x432 with 1 Axes>"
            ],
            "image/png": "[encoded data removed]"
          },
          "metadata": {}
        }
      ]
    },
    {
      "cell_type": "markdown",
      "source": [
        "The fact that entire homes tend to be more expensive than other types of accommodations, and private rooms are typically more expensive than shared rooms, is not surprising. This may help explain why Manhattan has higher overall prices compared to other locations, as it has a larger number of entire home listings than other areas."
      ],
      "metadata": {
        "id": "0HrHXhFMSX3u"
      }
    },
    {
      "cell_type": "code",
      "source": [],
      "metadata": {
        "id": "76TxdjZISkE2"
      },
      "execution_count": null,
      "outputs": []
    },
    {
      "cell_type": "markdown",
      "source": [
        "## Most Expensive and The Cheapest Neighbourhoods"
      ],
      "metadata": {
        "id": "iJrP8_oASklu"
      }
    },
    {
      "cell_type": "code",
      "source": [
        "a = df.groupby('neighbourhood')['price'].mean().sort_values(ascending=True).head(20)\n",
        "d = df.groupby('neighbourhood')['price'].mean().sort_values(ascending=False).head(20)"
      ],
      "metadata": {
        "id": "d7BWUC8ISl22"
      },
      "execution_count": null,
      "outputs": []
    },
    {
      "cell_type": "code",
      "source": [
        "fig = plt.figure(figsize=(20,10))\n",
        "\n",
        "ax1 = fig.add_subplot(121)\n",
        "sns.barplot(y=a.index, x=a.values, ax=ax1)\n",
        "ax1.set_title('The cheapest 20 neighbourhood')\n",
        "\n",
        "ax2 = fig.add_subplot(122)\n",
        "sns.barplot(y=d.index, x=d.values, ax=ax2)\n",
        "ax2.set_title('The most expensive 20 neighbourhood')\n",
        "plt.show()"
      ],
      "metadata": {
        "id": "0uQIod3ySl54",
        "colab": {
          "base_uri": "https://localhost:8080/"
        },
        "outputId": "3ed19f6a-88b3-487d-b36a-22e6fcc0024b"
      },
      "execution_count": null,
      "outputs": [
        {
          "output_type": "display_data",
          "data": {
            "text/plain": [
              "<Figure size 1440x720 with 2 Axes>"
            ],
            "image/png": "[encoded data removed]"
          },
          "metadata": {}
        }
      ]
    },
    {
      "cell_type": "markdown",
      "source": [
        "## Correlation"
      ],
      "metadata": {
        "id": "IMHSdI_zTbGP"
      }
    },
    {
      "cell_type": "code",
      "source": [
        "corr = df.corr()\n",
        "mask = np.triu(np.ones_like(corr, dtype=np.bool))\n",
        "f, ax = plt.subplots(figsize=(11, 9))\n",
        "cmap = sns.diverging_palette(220, 10, as_cmap=True)\n",
        "sns.heatmap(corr, mask=mask, cmap=cmap, center=0,\n",
        "            square=True, linewidths=.5, cbar_kws={\"shrink\": .5})"
      ],
      "metadata": {
        "id": "0dXCmNWkTfHv",
        "colab": {
          "base_uri": "https://localhost:8080/"
        },
        "outputId": "c53679c0-a73c-40f4-9d1b-3df3d526f3d6"
      },
      "execution_count": null,
      "outputs": [
        {
          "output_type": "stream",
          "name": "stderr",
          "text": [
            "<ipython-input-32-42f062fa9719>:2: DeprecationWarning: `np.bool` is a deprecated alias for the builtin `bool`. To silence this warning, use `bool` by itself. Doing this will not modify any behavior and is safe. If you specifically wanted the numpy scalar type, use `np.bool_` here.\n",
            "Deprecated in NumPy 1.20; for more details and guidance: https://numpy.org/devdocs/release/1.20.0-notes.html#deprecations\n",
            "  mask = np.triu(np.ones_like(corr, dtype=np.bool))\n"
          ]
        },
        {
          "output_type": "execute_result",
          "data": {
            "text/plain": [
              "<AxesSubplot:>"
            ]
          },
          "metadata": {},
          "execution_count": 32
        },
        {
          "output_type": "display_data",
          "data": {
            "text/plain": [
              "<Figure size 792x648 with 2 Axes>"
            ],
            "image/png": "[encoded data removed]"
          },
          "metadata": {}
        }
      ]
    },
    {
      "cell_type": "code",
      "source": [
        "# calculer la matrice de corrélation\n",
        "corrmat = df.corr()\n",
        "\n",
        "# afficher une heatmap avec seaborn\n",
        "import seaborn as sns\n",
        "import matplotlib.pyplot as plt\n",
        "plt.subplots(figsize=(12,9))\n",
        "sns.heatmap(corrmat, annot=True, fmt=\".2%\")\n"
      ],
      "metadata": {
        "id": "VW0Q1AzA0Kc2",
        "colab": {
          "base_uri": "https://localhost:8080/"
        },
        "outputId": "8d39cf77-dea4-406b-ed89-b09e1b7c5cec"
      },
      "execution_count": null,
      "outputs": [
        {
          "output_type": "execute_result",
          "data": {
            "text/plain": [
              "<AxesSubplot:>"
            ]
          },
          "metadata": {},
          "execution_count": 33
        },
        {
          "output_type": "display_data",
          "data": {
            "text/plain": [
              "<Figure size 864x648 with 2 Axes>"
            ],
            "image/png": "[encoded data removed]"
          },
          "metadata": {}
        }
      ]
    },
    {
      "cell_type": "markdown",
      "source": [
        "Nous pouvons voir que les variables:\n",
        "\n",
        "id et host_id sont corrélés de 58.83%\n",
        "\n",
        "\n",
        "number_of_reviews et review_per_month sont corrélés de 32.59%"
      ],
      "metadata": {
        "id": "egcBN-rK1ET_"
      }
    },
    {
      "cell_type": "markdown",
      "source": [
        "## Dropping Unnecessary Columns"
      ],
      "metadata": {
        "id": "fyml3jEcUTSW"
      }
    },
    {
      "cell_type": "code",
      "source": [
        "#data = data[data.price > 0]\n",
        "#data.columns"
      ],
      "metadata": {
        "id": "XNaOIrJdUUCA"
      },
      "execution_count": null,
      "outputs": []
    },
    {
      "cell_type": "markdown",
      "source": [
        "We will not need host_id, reviews_per_month. Because these columns does not affect price."
      ],
      "metadata": {
        "id": "29G-6HcTUmZ3"
      }
    },
    {
      "cell_type": "code",
      "source": [
        "df.drop(columns=['host_id', 'reviews_per_month', 'id', 'longitude', 'latitude'], inplace=True)"
      ],
      "metadata": {
        "id": "hErpF7NjUV6U"
      },
      "execution_count": null,
      "outputs": []
    },
    {
      "cell_type": "markdown",
      "source": [],
      "metadata": {
        "id": "P9oCpezlW9xw"
      }
    },
    {
      "cell_type": "markdown",
      "source": [
        "# Preprocessing"
      ],
      "metadata": {
        "id": "AAfXLu49W92b"
      }
    },
    {
      "cell_type": "markdown",
      "source": [
        "## ENCODING categorical variables"
      ],
      "metadata": {
        "id": "bMezMyaaU8tw"
      }
    },
    {
      "cell_type": "code",
      "source": [
        "def find_categorical_columns(df):\n",
        "    \"\"\"\n",
        "    Cette fonction prend en entrée un dataframe et retourne une liste de toutes les colonnes qui sont catégorielles.\n",
        "    \"\"\"\n",
        "    categorical_columns = []\n",
        "    for col in df.columns:\n",
        "        if df[col].dtype == 'object':\n",
        "            categorical_columns.append(col)\n",
        "    return categorical_columns\n",
        "\n",
        "# Trouver les colonnes catégorielles\n",
        "categorical_columns = find_categorical_columns(df)\n",
        "\n",
        "# Afficher les colonnes catégorielles\n",
        "print(categorical_columns)"
      ],
      "metadata": {
        "id": "9u1SjTgoU71W",
        "colab": {
          "base_uri": "https://localhost:8080/"
        },
        "outputId": "8b2afc36-c991-4262-8803-fe82e6cffa82"
      },
      "execution_count": null,
      "outputs": [
        {
          "output_type": "stream",
          "name": "stdout",
          "text": [
            "['neighbourhood_group', 'neighbourhood', 'room_type']\n"
          ]
        }
      ]
    },
    {
      "cell_type": "markdown",
      "source": [
        "From the above observation, it can be inferred that the following columns: neighbourhood_group, neighbourhood, room type, are categorical. We need to encode them so that they can be used for training."
      ],
      "metadata": {
        "id": "LQI_K9pmVZX_"
      }
    },
    {
      "cell_type": "code",
      "source": [
        "from sklearn.preprocessing import LabelEncoder\n",
        "\n",
        "categorical = df.select_dtypes(include=['object']).columns\n",
        "\n",
        "for i in categorical:\n",
        "  df[i] = LabelEncoder().fit_transform(df[i])\n",
        "\n",
        "\n",
        "df.dtypes"
      ],
      "metadata": {
        "id": "LCI2z7yDWjgw",
        "colab": {
          "base_uri": "https://localhost:8080/"
        },
        "outputId": "9850dedc-6c70-4906-8f9f-eeb897e9cd72"
      },
      "execution_count": null,
      "outputs": [
        {
          "output_type": "execute_result",
          "data": {
            "text/plain": [
              "neighbourhood_group               int64\n",
              "neighbourhood                     int64\n",
              "room_type                         int64\n",
              "price                             int64\n",
              "minimum_nights                    int64\n",
              "number_of_reviews                 int64\n",
              "calculated_host_listings_count    int64\n",
              "availability_365                  int64\n",
              "dtype: object"
            ]
          },
          "metadata": {},
          "execution_count": 37
        }
      ]
    },
    {
      "cell_type": "code",
      "source": [
        "df = df.reset_index(drop=True)\n",
        "\n",
        "df.head()"
      ],
      "metadata": {
        "colab": {
          "base_uri": "https://localhost:8080/",
          "height": 206
        },
        "id": "5LWKHGHeDgoa",
        "outputId": "c2d52b17-a58a-4942-ef8d-83b16a5e791a"
      },
      "execution_count": null,
      "outputs": [
        {
          "output_type": "execute_result",
          "data": {
            "text/plain": [
              "   neighbourhood_group  neighbourhood  room_type  price  minimum_nights  \\\n",
              "0                    1            107          1    149               1   \n",
              "1                    2            126          0    225               1   \n",
              "2                    2             93          1    150               3   \n",
              "3                    1             41          0     89               1   \n",
              "4                    2             61          0     80              10   \n",
              "\n",
              "   number_of_reviews  calculated_host_listings_count  availability_365  \n",
              "0                  9                               6               365  \n",
              "1                 45                               2               355  \n",
              "2                  0                               1               365  \n",
              "3                270                               1               194  \n",
              "4                  9                               1                 0  "
            ],
            "text/html": [
              "\n",
              "  <div id=\"df-66956b1e-7d61-4cdc-933f-e5a5cb866534\">\n",
              "    <div class=\"colab-df-container\">\n",
              "      <div>\n",
              "<style scoped>\n",
              "    .dataframe tbody tr th:only-of-type {\n",
              "        vertical-align: middle;\n",
              "    }\n",
              "\n",
              "    .dataframe tbody tr th {\n",
              "        vertical-align: top;\n",
              "    }\n",
              "\n",
              "    .dataframe thead th {\n",
              "        text-align: right;\n",
              "    }\n",
              "</style>\n",
              "<table border=\"1\" class=\"dataframe\">\n",
              "  <thead>\n",
              "    <tr style=\"text-align: right;\">\n",
              "      <th></th>\n",
              "      <th>neighbourhood_group</th>\n",
              "      <th>neighbourhood</th>\n",
              "      <th>room_type</th>\n",
              "      <th>price</th>\n",
              "      <th>minimum_nights</th>\n",
              "      <th>number_of_reviews</th>\n",
              "      <th>calculated_host_listings_count</th>\n",
              "      <th>availability_365</th>\n",
              "    </tr>\n",
              "  </thead>\n",
              "  <tbody>\n",
              "    <tr>\n",
              "      <th>0</th>\n",
              "      <td>1</td>\n",
              "      <td>107</td>\n",
              "      <td>1</td>\n",
              "      <td>149</td>\n",
              "      <td>1</td>\n",
              "      <td>9</td>\n",
              "      <td>6</td>\n",
              "      <td>365</td>\n",
              "    </tr>\n",
              "    <tr>\n",
              "      <th>1</th>\n",
              "      <td>2</td>\n",
              "      <td>126</td>\n",
              "      <td>0</td>\n",
              "      <td>225</td>\n",
              "      <td>1</td>\n",
              "      <td>45</td>\n",
              "      <td>2</td>\n",
              "      <td>355</td>\n",
              "    </tr>\n",
              "    <tr>\n",
              "      <th>2</th>\n",
              "      <td>2</td>\n",
              "      <td>93</td>\n",
              "      <td>1</td>\n",
              "      <td>150</td>\n",
              "      <td>3</td>\n",
              "      <td>0</td>\n",
              "      <td>1</td>\n",
              "      <td>365</td>\n",
              "    </tr>\n",
              "    <tr>\n",
              "      <th>3</th>\n",
              "      <td>1</td>\n",
              "      <td>41</td>\n",
              "      <td>0</td>\n",
              "      <td>89</td>\n",
              "      <td>1</td>\n",
              "      <td>270</td>\n",
              "      <td>1</td>\n",
              "      <td>194</td>\n",
              "    </tr>\n",
              "    <tr>\n",
              "      <th>4</th>\n",
              "      <td>2</td>\n",
              "      <td>61</td>\n",
              "      <td>0</td>\n",
              "      <td>80</td>\n",
              "      <td>10</td>\n",
              "      <td>9</td>\n",
              "      <td>1</td>\n",
              "      <td>0</td>\n",
              "    </tr>\n",
              "  </tbody>\n",
              "</table>\n",
              "</div>\n",
              "      <button class=\"colab-df-convert\" onclick=\"convertToInteractive('df-66956b1e-7d61-4cdc-933f-e5a5cb866534')\"\n",
              "              title=\"Convert this dataframe to an interactive table.\"\n",
              "              style=\"display:none;\">\n",
              "        \n",
              "  <svg xmlns=\"http://www.w3.org/2000/svg\" height=\"24px\"viewBox=\"0 0 24 24\"\n",
              "       width=\"24px\">\n",
              "    <path d=\"M0 0h24v24H0V0z\" fill=\"none\"/>\n",
              "    <path d=\"M18.56 5.44l.94 2.06.94-2.06 2.06-.94-2.06-.94-.94-2.06-.94 2.06-2.06.94zm-11 1L8.5 8.5l.94-2.06 2.06-.94-2.06-.94L8.5 2.5l-.94 2.06-2.06.94zm10 10l.94 2.06.94-2.06 2.06-.94-2.06-.94-.94-2.06-.94 2.06-2.06.94z\"/><path d=\"M17.41 7.96l-1.37-1.37c-.4-.4-.92-.59-1.43-.59-.52 0-1.04.2-1.43.59L10.3 9.45l-7.72 7.72c-.78.78-.78 2.05 0 2.83L4 21.41c.39.39.9.59 1.41.59.51 0 1.02-.2 1.41-.59l7.78-7.78 2.81-2.81c.8-.78.8-2.07 0-2.86zM5.41 20L4 18.59l7.72-7.72 1.47 1.35L5.41 20z\"/>\n",
              "  </svg>\n",
              "      </button>\n",
              "      \n",
              "  <style>\n",
              "    .colab-df-container {\n",
              "      display:flex;\n",
              "      flex-wrap:wrap;\n",
              "      gap: 12px;\n",
              "    }\n",
              "\n",
              "    .colab-df-convert {\n",
              "      background-color: #E8F0FE;\n",
              "      border: none;\n",
              "      border-radius: 50%;\n",
              "      cursor: pointer;\n",
              "      display: none;\n",
              "      fill: #1967D2;\n",
              "      height: 32px;\n",
              "      padding: 0 0 0 0;\n",
              "      width: 32px;\n",
              "    }\n",
              "\n",
              "    .colab-df-convert:hover {\n",
              "      background-color: #E2EBFA;\n",
              "      box-shadow: 0px 1px 2px rgba(60, 64, 67, 0.3), 0px 1px 3px 1px rgba(60, 64, 67, 0.15);\n",
              "      fill: #174EA6;\n",
              "    }\n",
              "\n",
              "    [theme=dark] .colab-df-convert {\n",
              "      background-color: #3B4455;\n",
              "      fill: #D2E3FC;\n",
              "    }\n",
              "\n",
              "    [theme=dark] .colab-df-convert:hover {\n",
              "      background-color: #434B5C;\n",
              "      box-shadow: 0px 1px 3px 1px rgba(0, 0, 0, 0.15);\n",
              "      filter: drop-shadow(0px 1px 2px rgba(0, 0, 0, 0.3));\n",
              "      fill: #FFFFFF;\n",
              "    }\n",
              "  </style>\n",
              "\n",
              "      <script>\n",
              "        const buttonEl =\n",
              "          document.querySelector('#df-66956b1e-7d61-4cdc-933f-e5a5cb866534 button.colab-df-convert');\n",
              "        buttonEl.style.display =\n",
              "          google.colab.kernel.accessAllowed ? 'block' : 'none';\n",
              "\n",
              "        async function convertToInteractive(key) {\n",
              "          const element = document.querySelector('#df-66956b1e-7d61-4cdc-933f-e5a5cb866534');\n",
              "          const dataTable =\n",
              "            await google.colab.kernel.invokeFunction('convertToInteractive',\n",
              "                                                     [key], {});\n",
              "          if (!dataTable) return;\n",
              "\n",
              "          const docLinkHtml = 'Like what you see? Visit the ' +\n",
              "            '<a target=\"_blank\" href=https://colab.research.google.com/notebooks/data_table.ipynb>data table notebook</a>'\n",
              "            + ' to learn more about interactive tables.';\n",
              "          element.innerHTML = '';\n",
              "          dataTable['output_type'] = 'display_data';\n",
              "          await google.colab.output.renderOutput(dataTable, element);\n",
              "          const docLink = document.createElement('div');\n",
              "          docLink.innerHTML = docLinkHtml;\n",
              "          element.appendChild(docLink);\n",
              "        }\n",
              "      </script>\n",
              "    </div>\n",
              "  </div>\n",
              "  "
            ]
          },
          "metadata": {},
          "execution_count": 38
        }
      ]
    },
    {
      "cell_type": "markdown",
      "source": [
        "# reduire la dataset aléatoirement"
      ],
      "metadata": {
        "id": "9mBn2Kzvzgkn"
      }
    },
    {
      "cell_type": "markdown",
      "source": [
        "entrainer et tester les algorithmes de machine learning avec Cross validation et Grid Search prend beaucoup de temps, donc, on va diminuer la taille de la dataset."
      ],
      "metadata": {
        "id": "Q1wMzUGa0xXH"
      }
    },
    {
      "cell_type": "code",
      "source": [
        "# Sélectionner un sous-ensemble de données aléatoire\n",
        "data = df.sample(n=10000, random_state=42)\n",
        "data.shape"
      ],
      "metadata": {
        "id": "NQ52bwGyzzB9",
        "colab": {
          "base_uri": "https://localhost:8080/"
        },
        "outputId": "f691b0aa-5081-4923-f7db-922106df116f"
      },
      "execution_count": null,
      "outputs": [
        {
          "output_type": "execute_result",
          "data": {
            "text/plain": [
              "(10000, 8)"
            ]
          },
          "metadata": {},
          "execution_count": 39
        }
      ]
    },
    {
      "cell_type": "markdown",
      "source": [
        "# Spliting the dataset"
      ],
      "metadata": {
        "id": "iSsulFUNXCZY"
      }
    },
    {
      "cell_type": "markdown",
      "source": [
        "First, we need to identify the training data and the target column. Then, we will scale the data and split it into training and test sets with a ratio of 80% for training and 20% for testing."
      ],
      "metadata": {
        "id": "EYRrv5ZCWkMZ"
      }
    },
    {
      "cell_type": "code",
      "source": [
        "from sklearn.preprocessing import StandardScaler\n",
        "from sklearn.model_selection import train_test_split\n",
        "from sklearn.metrics import mean_squared_error, mean_absolute_error, r2_score\n",
        "\n",
        "X = data.drop(columns=['price'])\n",
        "y = data['price']\n",
        "\n",
        "columns = X.columns\n",
        "scaler = StandardScaler()\n",
        "X[columns] = scaler.fit_transform(X[columns])\n",
        "\n",
        "X.head()"
      ],
      "metadata": {
        "colab": {
          "base_uri": "https://localhost:8080/",
          "height": 206
        },
        "id": "EY413tROD_eT",
        "outputId": "ddd81e0f-ff25-4c11-cd5c-77b19d006f71"
      },
      "execution_count": null,
      "outputs": [
        {
          "output_type": "execute_result",
          "data": {
            "text/plain": [
              "       neighbourhood_group  neighbourhood  room_type  minimum_nights  \\\n",
              "5223              0.445709      -0.481775  -0.930845       -0.313973   \n",
              "7920              0.445709       1.377009  -0.930845       -0.313973   \n",
              "22589            -0.918150       0.996471  -0.930845       -0.435119   \n",
              "30378            -0.918150      -1.140399   0.936447        1.018629   \n",
              "18553             1.809569       1.611187   0.936447       -0.313973   \n",
              "\n",
              "       number_of_reviews  calculated_host_listings_count  availability_365  \n",
              "5223           -0.334785                       -0.182844         -0.858443  \n",
              "7920           -0.535346                       -0.182844         -0.858443  \n",
              "22589          -0.045086                       -0.182844         -0.858443  \n",
              "30378          -0.446207                       -0.182844         -0.858443  \n",
              "18553           1.002287                       -0.182844          1.300122  "
            ],
            "text/html": [
              "\n",
              "  <div id=\"df-75ad65a5-f4f2-4f88-91ce-147b1f3f777e\">\n",
              "    <div class=\"colab-df-container\">\n",
              "      <div>\n",
              "<style scoped>\n",
              "    .dataframe tbody tr th:only-of-type {\n",
              "        vertical-align: middle;\n",
              "    }\n",
              "\n",
              "    .dataframe tbody tr th {\n",
              "        vertical-align: top;\n",
              "    }\n",
              "\n",
              "    .dataframe thead th {\n",
              "        text-align: right;\n",
              "    }\n",
              "</style>\n",
              "<table border=\"1\" class=\"dataframe\">\n",
              "  <thead>\n",
              "    <tr style=\"text-align: right;\">\n",
              "      <th></th>\n",
              "      <th>neighbourhood_group</th>\n",
              "      <th>neighbourhood</th>\n",
              "      <th>room_type</th>\n",
              "      <th>minimum_nights</th>\n",
              "      <th>number_of_reviews</th>\n",
              "      <th>calculated_host_listings_count</th>\n",
              "      <th>availability_365</th>\n",
              "    </tr>\n",
              "  </thead>\n",
              "  <tbody>\n",
              "    <tr>\n",
              "      <th>5223</th>\n",
              "      <td>0.445709</td>\n",
              "      <td>-0.481775</td>\n",
              "      <td>-0.930845</td>\n",
              "      <td>-0.313973</td>\n",
              "      <td>-0.334785</td>\n",
              "      <td>-0.182844</td>\n",
              "      <td>-0.858443</td>\n",
              "    </tr>\n",
              "    <tr>\n",
              "      <th>7920</th>\n",
              "      <td>0.445709</td>\n",
              "      <td>1.377009</td>\n",
              "      <td>-0.930845</td>\n",
              "      <td>-0.313973</td>\n",
              "      <td>-0.535346</td>\n",
              "      <td>-0.182844</td>\n",
              "      <td>-0.858443</td>\n",
              "    </tr>\n",
              "    <tr>\n",
              "      <th>22589</th>\n",
              "      <td>-0.918150</td>\n",
              "      <td>0.996471</td>\n",
              "      <td>-0.930845</td>\n",
              "      <td>-0.435119</td>\n",
              "      <td>-0.045086</td>\n",
              "      <td>-0.182844</td>\n",
              "      <td>-0.858443</td>\n",
              "    </tr>\n",
              "    <tr>\n",
              "      <th>30378</th>\n",
              "      <td>-0.918150</td>\n",
              "      <td>-1.140399</td>\n",
              "      <td>0.936447</td>\n",
              "      <td>1.018629</td>\n",
              "      <td>-0.446207</td>\n",
              "      <td>-0.182844</td>\n",
              "      <td>-0.858443</td>\n",
              "    </tr>\n",
              "    <tr>\n",
              "      <th>18553</th>\n",
              "      <td>1.809569</td>\n",
              "      <td>1.611187</td>\n",
              "      <td>0.936447</td>\n",
              "      <td>-0.313973</td>\n",
              "      <td>1.002287</td>\n",
              "      <td>-0.182844</td>\n",
              "      <td>1.300122</td>\n",
              "    </tr>\n",
              "  </tbody>\n",
              "</table>\n",
              "</div>\n",
              "      <button class=\"colab-df-convert\" onclick=\"convertToInteractive('df-75ad65a5-f4f2-4f88-91ce-147b1f3f777e')\"\n",
              "              title=\"Convert this dataframe to an interactive table.\"\n",
              "              style=\"display:none;\">\n",
              "        \n",
              "  <svg xmlns=\"http://www.w3.org/2000/svg\" height=\"24px\"viewBox=\"0 0 24 24\"\n",
              "       width=\"24px\">\n",
              "    <path d=\"M0 0h24v24H0V0z\" fill=\"none\"/>\n",
              "    <path d=\"M18.56 5.44l.94 2.06.94-2.06 2.06-.94-2.06-.94-.94-2.06-.94 2.06-2.06.94zm-11 1L8.5 8.5l.94-2.06 2.06-.94-2.06-.94L8.5 2.5l-.94 2.06-2.06.94zm10 10l.94 2.06.94-2.06 2.06-.94-2.06-.94-.94-2.06-.94 2.06-2.06.94z\"/><path d=\"M17.41 7.96l-1.37-1.37c-.4-.4-.92-.59-1.43-.59-.52 0-1.04.2-1.43.59L10.3 9.45l-7.72 7.72c-.78.78-.78 2.05 0 2.83L4 21.41c.39.39.9.59 1.41.59.51 0 1.02-.2 1.41-.59l7.78-7.78 2.81-2.81c.8-.78.8-2.07 0-2.86zM5.41 20L4 18.59l7.72-7.72 1.47 1.35L5.41 20z\"/>\n",
              "  </svg>\n",
              "      </button>\n",
              "      \n",
              "  <style>\n",
              "    .colab-df-container {\n",
              "      display:flex;\n",
              "      flex-wrap:wrap;\n",
              "      gap: 12px;\n",
              "    }\n",
              "\n",
              "    .colab-df-convert {\n",
              "      background-color: #E8F0FE;\n",
              "      border: none;\n",
              "      border-radius: 50%;\n",
              "      cursor: pointer;\n",
              "      display: none;\n",
              "      fill: #1967D2;\n",
              "      height: 32px;\n",
              "      padding: 0 0 0 0;\n",
              "      width: 32px;\n",
              "    }\n",
              "\n",
              "    .colab-df-convert:hover {\n",
              "      background-color: #E2EBFA;\n",
              "      box-shadow: 0px 1px 2px rgba(60, 64, 67, 0.3), 0px 1px 3px 1px rgba(60, 64, 67, 0.15);\n",
              "      fill: #174EA6;\n",
              "    }\n",
              "\n",
              "    [theme=dark] .colab-df-convert {\n",
              "      background-color: #3B4455;\n",
              "      fill: #D2E3FC;\n",
              "    }\n",
              "\n",
              "    [theme=dark] .colab-df-convert:hover {\n",
              "      background-color: #434B5C;\n",
              "      box-shadow: 0px 1px 3px 1px rgba(0, 0, 0, 0.15);\n",
              "      filter: drop-shadow(0px 1px 2px rgba(0, 0, 0, 0.3));\n",
              "      fill: #FFFFFF;\n",
              "    }\n",
              "  </style>\n",
              "\n",
              "      <script>\n",
              "        const buttonEl =\n",
              "          document.querySelector('#df-75ad65a5-f4f2-4f88-91ce-147b1f3f777e button.colab-df-convert');\n",
              "        buttonEl.style.display =\n",
              "          google.colab.kernel.accessAllowed ? 'block' : 'none';\n",
              "\n",
              "        async function convertToInteractive(key) {\n",
              "          const element = document.querySelector('#df-75ad65a5-f4f2-4f88-91ce-147b1f3f777e');\n",
              "          const dataTable =\n",
              "            await google.colab.kernel.invokeFunction('convertToInteractive',\n",
              "                                                     [key], {});\n",
              "          if (!dataTable) return;\n",
              "\n",
              "          const docLinkHtml = 'Like what you see? Visit the ' +\n",
              "            '<a target=\"_blank\" href=https://colab.research.google.com/notebooks/data_table.ipynb>data table notebook</a>'\n",
              "            + ' to learn more about interactive tables.';\n",
              "          element.innerHTML = '';\n",
              "          dataTable['output_type'] = 'display_data';\n",
              "          await google.colab.output.renderOutput(dataTable, element);\n",
              "          const docLink = document.createElement('div');\n",
              "          docLink.innerHTML = docLinkHtml;\n",
              "          element.appendChild(docLink);\n",
              "        }\n",
              "      </script>\n",
              "    </div>\n",
              "  </div>\n",
              "  "
            ]
          },
          "metadata": {},
          "execution_count": 40
        }
      ]
    },
    {
      "cell_type": "code",
      "source": [
        "X_train, X_test, y_train, y_test = train_test_split(X, y, test_size=0.2, random_state=42)\n",
        "\n",
        "print(f\"There are {X_train.shape[0]} traning data\")\n",
        "print(f\"There are {X_test.shape[0]} test data\")"
      ],
      "metadata": {
        "id": "a9gjSALpV0aR",
        "colab": {
          "base_uri": "https://localhost:8080/"
        },
        "outputId": "13328322-508a-487c-a002-52f6cef78f6c"
      },
      "execution_count": null,
      "outputs": [
        {
          "output_type": "stream",
          "name": "stdout",
          "text": [
            "There are 8000 traning data\n",
            "There are 2000 test data\n"
          ]
        }
      ]
    },
    {
      "cell_type": "code",
      "source": [],
      "metadata": {
        "id": "5mALfNq6zfit"
      },
      "execution_count": null,
      "outputs": []
    },
    {
      "cell_type": "markdown",
      "source": [
        "# Models"
      ],
      "metadata": {
        "id": "K00qm2NZXG6n"
      }
    },
    {
      "cell_type": "markdown",
      "source": [
        "### Decision tree sans cross validation et hyperparametres"
      ],
      "metadata": {
        "id": "QANIXJrQbb4i"
      }
    },
    {
      "cell_type": "code",
      "source": [
        "from sklearn import tree\n",
        "from sklearn import metrics\n",
        "\n",
        "tree_model = tree.DecisionTreeRegressor(random_state=1)\n",
        "tree_model.fit(X_train, y_train) # x -> features, y->target (price)\n",
        "tree_model_prediction = tree_model.predict(X_test)\n",
        "\n",
        "tree_mse = metrics.mean_squared_error(y_test, tree_model_prediction)\n",
        "tree_mae = metrics.mean_absolute_error(y_test, tree_model_prediction)\n",
        "tree_rmse = np.sqrt(tree_mse)\n",
        "tree_r2 = metrics.r2_score(y_test, tree_model_prediction)\n",
        "\n",
        "print(\"Mean Squared Error: {}\".format(tree_mse))\n",
        "print(\"Mean Absolute Error: {}\".format(tree_mae))\n",
        "print(\"Root Mean Absolute Error: {}\".format(tree_rmse))\n",
        "print(\"R2 score: {}\".format(tree_r2))"
      ],
      "metadata": {
        "colab": {
          "base_uri": "https://localhost:8080/"
        },
        "id": "QD8QqqOdXHx0",
        "outputId": "20888e31-17e3-4853-9c54-0f839ea8294e"
      },
      "execution_count": null,
      "outputs": [
        {
          "output_type": "stream",
          "name": "stdout",
          "text": [
            "Mean Squared Error: 9989.036690124069\n",
            "Mean Absolute Error: 61.126162820512825\n",
            "Root Mean Absolute Error: 99.94516841810848\n",
            "R2 score: -0.06402491974363689\n"
          ]
        }
      ]
    },
    {
      "cell_type": "code",
      "source": [
        "from sklearn.tree import DecisionTreeRegressor\n",
        "from sklearn.metrics import mean_squared_error, r2_score, explained_variance_score, max_error, mean_absolute_error\n",
        "\n",
        "# Créer un modèle d'arbre de décision\n",
        "dt = DecisionTreeRegressor()\n",
        "\n",
        "# Entraîner le modèle sur les données d'apprentissage\n",
        "dt.fit(X_train, y_train)\n",
        "\n",
        "# Faire des prédictions sur les données de test\n",
        "y_pred = dt.predict(X_test)\n",
        "\n",
        "# Calculer les métriques de performance\n",
        "mse = mean_squared_error(y_test, y_pred)\n",
        "r2 = r2_score(y_test, y_pred)\n",
        "evs = explained_variance_score(y_test, y_pred)\n",
        "me = max_error(y_test, y_pred)\n",
        "mae = mean_absolute_error(y_test, y_pred)\n",
        "\n",
        "# Afficher les résultats\n",
        "print(\"Erreur quadratique moyenne : \", mse)\n",
        "print(\"Coefficient de détermination (R²) : \", r2)\n",
        "print(\"Score de variance expliquée : \", evs)\n",
        "print(\"Erreur maximale : \", me)\n",
        "print(\"Erreur absolue moyenne : \", mae)"
      ],
      "metadata": {
        "colab": {
          "base_uri": "https://localhost:8080/"
        },
        "id": "AxmUJBewt7jP",
        "outputId": "a9df22bf-b3c5-4f74-f897-84ed1cb59a98"
      },
      "execution_count": null,
      "outputs": [
        {
          "output_type": "stream",
          "name": "stdout",
          "text": [
            "Erreur quadratique moyenne :  9800.578190124068\n",
            "Coefficient de détermination (R²) :  -0.043950457454819736\n",
            "Score de variance expliquée :  -0.04213498393507975\n",
            "Erreur maximale :  660.0\n",
            "Erreur absolue moyenne :  60.922162820512824\n"
          ]
        }
      ]
    },
    {
      "cell_type": "code",
      "source": [
        "from sklearn.tree import DecisionTreeRegressor\n",
        "from sklearn.metrics import mean_squared_error, r2_score, explained_variance_score, max_error, mean_absolute_error\n",
        "\n",
        "# Créer un modèle d'arbre de décision\n",
        "dt = DecisionTreeRegressor()\n",
        "\n",
        "# Entraîner le modèle sur les données d'apprentissage\n",
        "dt.fit(X_train, y_train)\n",
        "\n",
        "# Faire des prédictions sur les données de test\n",
        "y_pred = dt.predict(X_test)\n",
        "\n",
        "# Calculer les métriques de performance\n",
        "mse = mean_squared_error(y_test, y_pred)\n",
        "r2 = r2_score(y_test, y_pred)\n",
        "evs = explained_variance_score(y_test, y_pred)\n",
        "me = max_error(y_test, y_pred)\n",
        "mae = mean_absolute_error(y_test, y_pred)\n",
        "\n",
        "# Afficher les résultats\n",
        "print(\"Erreur quadratique moyenne : \", mse)\n",
        "print(\"Coefficient de détermination (R²) : \", r2)\n",
        "print(\"Score de variance expliquée : \", evs)\n",
        "print(\"Erreur maximale : \", me)\n",
        "print(\"Erreur absolue moyenne : \", mae)\n"
      ],
      "metadata": {
        "colab": {
          "base_uri": "https://localhost:8080/"
        },
        "id": "_4z4BLWAoZLv",
        "outputId": "eb941a10-e0a4-4040-d789-3471ffcc9581"
      },
      "execution_count": null,
      "outputs": [
        {
          "output_type": "stream",
          "name": "stdout",
          "text": [
            "Erreur quadratique moyenne :  9440.74469012407\n",
            "Coefficient de détermination (R²) :  -0.005621254866435166\n",
            "Score de variance expliquée :  -0.004300394869246604\n",
            "Erreur maximale :  660.0\n",
            "Erreur absolue moyenne :  60.59816282051282\n"
          ]
        }
      ]
    },
    {
      "cell_type": "code",
      "source": [
        "prediction_dictionaries = {'Decision Tree Normal': tree_model_prediction}"
      ],
      "metadata": {
        "id": "Z5TH8v4_Yow5"
      },
      "execution_count": null,
      "outputs": []
    },
    {
      "cell_type": "code",
      "source": [
        "prediction_list = pd.DataFrame({'Actual Values': np.array(y_test).flatten(), 'Decision Tree Normal': tree_model_prediction.flatten()}).head(20)\n",
        "prediction_list.set_index('Actual Values', inplace=True)\n",
        "prediction_list"
      ],
      "metadata": {
        "colab": {
          "base_uri": "https://localhost:8080/",
          "height": 708
        },
        "id": "nrrAp7zPXUdw",
        "outputId": "c09ddde7-27f0-49cf-c07a-ea111a98061d"
      },
      "execution_count": null,
      "outputs": [
        {
          "output_type": "execute_result",
          "data": {
            "text/plain": [
              "               Decision Tree Normal\n",
              "Actual Values                      \n",
              "30                             34.0\n",
              "80                             65.0\n",
              "197                           100.0\n",
              "42                             42.0\n",
              "100                           120.0\n",
              "299                           125.0\n",
              "80                             75.0\n",
              "75                             44.0\n",
              "250                           275.0\n",
              "60                             60.0\n",
              "41                             75.0\n",
              "170                           300.0\n",
              "206                            57.0\n",
              "120                           189.0\n",
              "160                           199.0\n",
              "90                            170.0\n",
              "217                           114.0\n",
              "250                           113.0\n",
              "69                             50.0\n",
              "280                            75.0"
            ],
            "text/html": [
              "\n",
              "  <div id=\"df-60027826-9286-4988-8d22-8ba3817e4f64\">\n",
              "    <div class=\"colab-df-container\">\n",
              "      <div>\n",
              "<style scoped>\n",
              "    .dataframe tbody tr th:only-of-type {\n",
              "        vertical-align: middle;\n",
              "    }\n",
              "\n",
              "    .dataframe tbody tr th {\n",
              "        vertical-align: top;\n",
              "    }\n",
              "\n",
              "    .dataframe thead th {\n",
              "        text-align: right;\n",
              "    }\n",
              "</style>\n",
              "<table border=\"1\" class=\"dataframe\">\n",
              "  <thead>\n",
              "    <tr style=\"text-align: right;\">\n",
              "      <th></th>\n",
              "      <th>Decision Tree Normal</th>\n",
              "    </tr>\n",
              "    <tr>\n",
              "      <th>Actual Values</th>\n",
              "      <th></th>\n",
              "    </tr>\n",
              "  </thead>\n",
              "  <tbody>\n",
              "    <tr>\n",
              "      <th>30</th>\n",
              "      <td>34.0</td>\n",
              "    </tr>\n",
              "    <tr>\n",
              "      <th>80</th>\n",
              "      <td>65.0</td>\n",
              "    </tr>\n",
              "    <tr>\n",
              "      <th>197</th>\n",
              "      <td>100.0</td>\n",
              "    </tr>\n",
              "    <tr>\n",
              "      <th>42</th>\n",
              "      <td>42.0</td>\n",
              "    </tr>\n",
              "    <tr>\n",
              "      <th>100</th>\n",
              "      <td>120.0</td>\n",
              "    </tr>\n",
              "    <tr>\n",
              "      <th>299</th>\n",
              "      <td>125.0</td>\n",
              "    </tr>\n",
              "    <tr>\n",
              "      <th>80</th>\n",
              "      <td>75.0</td>\n",
              "    </tr>\n",
              "    <tr>\n",
              "      <th>75</th>\n",
              "      <td>44.0</td>\n",
              "    </tr>\n",
              "    <tr>\n",
              "      <th>250</th>\n",
              "      <td>275.0</td>\n",
              "    </tr>\n",
              "    <tr>\n",
              "      <th>60</th>\n",
              "      <td>60.0</td>\n",
              "    </tr>\n",
              "    <tr>\n",
              "      <th>41</th>\n",
              "      <td>75.0</td>\n",
              "    </tr>\n",
              "    <tr>\n",
              "      <th>170</th>\n",
              "      <td>300.0</td>\n",
              "    </tr>\n",
              "    <tr>\n",
              "      <th>206</th>\n",
              "      <td>57.0</td>\n",
              "    </tr>\n",
              "    <tr>\n",
              "      <th>120</th>\n",
              "      <td>189.0</td>\n",
              "    </tr>\n",
              "    <tr>\n",
              "      <th>160</th>\n",
              "      <td>199.0</td>\n",
              "    </tr>\n",
              "    <tr>\n",
              "      <th>90</th>\n",
              "      <td>170.0</td>\n",
              "    </tr>\n",
              "    <tr>\n",
              "      <th>217</th>\n",
              "      <td>114.0</td>\n",
              "    </tr>\n",
              "    <tr>\n",
              "      <th>250</th>\n",
              "      <td>113.0</td>\n",
              "    </tr>\n",
              "    <tr>\n",
              "      <th>69</th>\n",
              "      <td>50.0</td>\n",
              "    </tr>\n",
              "    <tr>\n",
              "      <th>280</th>\n",
              "      <td>75.0</td>\n",
              "    </tr>\n",
              "  </tbody>\n",
              "</table>\n",
              "</div>\n",
              "      <button class=\"colab-df-convert\" onclick=\"convertToInteractive('df-60027826-9286-4988-8d22-8ba3817e4f64')\"\n",
              "              title=\"Convert this dataframe to an interactive table.\"\n",
              "              style=\"display:none;\">\n",
              "        \n",
              "  <svg xmlns=\"http://www.w3.org/2000/svg\" height=\"24px\"viewBox=\"0 0 24 24\"\n",
              "       width=\"24px\">\n",
              "    <path d=\"M0 0h24v24H0V0z\" fill=\"none\"/>\n",
              "    <path d=\"M18.56 5.44l.94 2.06.94-2.06 2.06-.94-2.06-.94-.94-2.06-.94 2.06-2.06.94zm-11 1L8.5 8.5l.94-2.06 2.06-.94-2.06-.94L8.5 2.5l-.94 2.06-2.06.94zm10 10l.94 2.06.94-2.06 2.06-.94-2.06-.94-.94-2.06-.94 2.06-2.06.94z\"/><path d=\"M17.41 7.96l-1.37-1.37c-.4-.4-.92-.59-1.43-.59-.52 0-1.04.2-1.43.59L10.3 9.45l-7.72 7.72c-.78.78-.78 2.05 0 2.83L4 21.41c.39.39.9.59 1.41.59.51 0 1.02-.2 1.41-.59l7.78-7.78 2.81-2.81c.8-.78.8-2.07 0-2.86zM5.41 20L4 18.59l7.72-7.72 1.47 1.35L5.41 20z\"/>\n",
              "  </svg>\n",
              "      </button>\n",
              "      \n",
              "  <style>\n",
              "    .colab-df-container {\n",
              "      display:flex;\n",
              "      flex-wrap:wrap;\n",
              "      gap: 12px;\n",
              "    }\n",
              "\n",
              "    .colab-df-convert {\n",
              "      background-color: #E8F0FE;\n",
              "      border: none;\n",
              "      border-radius: 50%;\n",
              "      cursor: pointer;\n",
              "      display: none;\n",
              "      fill: #1967D2;\n",
              "      height: 32px;\n",
              "      padding: 0 0 0 0;\n",
              "      width: 32px;\n",
              "    }\n",
              "\n",
              "    .colab-df-convert:hover {\n",
              "      background-color: #E2EBFA;\n",
              "      box-shadow: 0px 1px 2px rgba(60, 64, 67, 0.3), 0px 1px 3px 1px rgba(60, 64, 67, 0.15);\n",
              "      fill: #174EA6;\n",
              "    }\n",
              "\n",
              "    [theme=dark] .colab-df-convert {\n",
              "      background-color: #3B4455;\n",
              "      fill: #D2E3FC;\n",
              "    }\n",
              "\n",
              "    [theme=dark] .colab-df-convert:hover {\n",
              "      background-color: #434B5C;\n",
              "      box-shadow: 0px 1px 3px 1px rgba(0, 0, 0, 0.15);\n",
              "      filter: drop-shadow(0px 1px 2px rgba(0, 0, 0, 0.3));\n",
              "      fill: #FFFFFF;\n",
              "    }\n",
              "  </style>\n",
              "\n",
              "      <script>\n",
              "        const buttonEl =\n",
              "          document.querySelector('#df-60027826-9286-4988-8d22-8ba3817e4f64 button.colab-df-convert');\n",
              "        buttonEl.style.display =\n",
              "          google.colab.kernel.accessAllowed ? 'block' : 'none';\n",
              "\n",
              "        async function convertToInteractive(key) {\n",
              "          const element = document.querySelector('#df-60027826-9286-4988-8d22-8ba3817e4f64');\n",
              "          const dataTable =\n",
              "            await google.colab.kernel.invokeFunction('convertToInteractive',\n",
              "                                                     [key], {});\n",
              "          if (!dataTable) return;\n",
              "\n",
              "          const docLinkHtml = 'Like what you see? Visit the ' +\n",
              "            '<a target=\"_blank\" href=https://colab.research.google.com/notebooks/data_table.ipynb>data table notebook</a>'\n",
              "            + ' to learn more about interactive tables.';\n",
              "          element.innerHTML = '';\n",
              "          dataTable['output_type'] = 'display_data';\n",
              "          await google.colab.output.renderOutput(dataTable, element);\n",
              "          const docLink = document.createElement('div');\n",
              "          docLink.innerHTML = docLinkHtml;\n",
              "          element.appendChild(docLink);\n",
              "        }\n",
              "      </script>\n",
              "    </div>\n",
              "  </div>\n",
              "  "
            ]
          },
          "metadata": {},
          "execution_count": 41
        }
      ]
    },
    {
      "cell_type": "markdown",
      "source": [
        "### Decision tree with k-fold et hyperparameters"
      ],
      "metadata": {
        "id": "0WOBhOBebhUS"
      }
    },
    {
      "cell_type": "markdown",
      "source": [
        "### Perform hyperparameter tuning and cross-validation."
      ],
      "metadata": {
        "id": "K3bs2bluZfvx"
      }
    },
    {
      "cell_type": "markdown",
      "source": [
        "The Decision Tree Regressor uses the following parameters:\n",
        "\n",
        "max_depth: This determines the maximum depth of the decision tree. If set to \n",
        "\n",
        "None, nodes will be expanded until all leaves are pure or until they contain less than the minimum number of samples required to split (min_samples_split).\n",
        "\n",
        "min_samples_leaf: This sets the minimum number of samples required to be at a leaf node.\n",
        "\n",
        "min_samples_split: This determines the minimum number of samples required to split an internal node.\n",
        "\n",
        "We will perform the following steps:\n",
        "\n",
        "Utilize grid search to fit the Decision Tree Regressor model using the parameters mentioned above.\n",
        "Use 5-fold cross-validation during each iteration of grid search."
      ],
      "metadata": {
        "id": "Vyi3wfraZoGs"
      }
    },
    {
      "cell_type": "code",
      "source": [
        "from sklearn.model_selection import GridSearchCV\n",
        "\n",
        "parameters = {\n",
        "    'max_depth': [1, 2, 3, 4, 5, 6, 7, 8],\n",
        "    'min_samples_leaf': [1, 2, 3, 4, 5],\n",
        "    'min_samples_split': [2, 3, 4, 5],\n",
        "}\n",
        "tree_grid = GridSearchCV(tree_model, parameters, refit = True, verbose = 1, n_jobs=-1, cv=5, scoring=\"neg_mean_squared_error\") \n",
        "tree_grid.fit(X, y)"
      ],
      "metadata": {
        "colab": {
          "base_uri": "https://localhost:8080/",
          "height": 135
        },
        "id": "-6DDkWTfXU_B",
        "outputId": "cfd8eb4a-ffb6-4aeb-bdc5-63eedc857e4d"
      },
      "execution_count": null,
      "outputs": [
        {
          "output_type": "stream",
          "name": "stdout",
          "text": [
            "Fitting 5 folds for each of 160 candidates, totalling 800 fits\n"
          ]
        },
        {
          "output_type": "execute_result",
          "data": {
            "text/plain": [
              "GridSearchCV(cv=5, estimator=DecisionTreeRegressor(), n_jobs=-1,\n",
              "             param_grid={'max_depth': [1, 2, 3, 4, 5, 6, 7, 8],\n",
              "                         'min_samples_leaf': [1, 2, 3, 4, 5],\n",
              "                         'min_samples_split': [2, 3, 4, 5]},\n",
              "             scoring='neg_mean_squared_error', verbose=1)"
            ],
            "text/html": [
              "<style>#sk-container-id-1 {color: black;background-color: white;}#sk-container-id-1 pre{padding: 0;}#sk-container-id-1 div.sk-toggleable {background-color: white;}#sk-container-id-1 label.sk-toggleable__label {cursor: pointer;display: block;width: 100%;margin-bottom: 0;padding: 0.3em;box-sizing: border-box;text-align: center;}#sk-container-id-1 label.sk-toggleable__label-arrow:before {content: \"▸\";float: left;margin-right: 0.25em;color: #696969;}#sk-container-id-1 label.sk-toggleable__label-arrow:hover:before {color: black;}#sk-container-id-1 div.sk-estimator:hover label.sk-toggleable__label-arrow:before {color: black;}#sk-container-id-1 div.sk-toggleable__content {max-height: 0;max-width: 0;overflow: hidden;text-align: left;background-color: #f0f8ff;}#sk-container-id-1 div.sk-toggleable__content pre {margin: 0.2em;color: black;border-radius: 0.25em;background-color: #f0f8ff;}#sk-container-id-1 input.sk-toggleable__control:checked~div.sk-toggleable__content {max-height: 200px;max-width: 100%;overflow: auto;}#sk-container-id-1 input.sk-toggleable__control:checked~label.sk-toggleable__label-arrow:before {content: \"▾\";}#sk-container-id-1 div.sk-estimator input.sk-toggleable__control:checked~label.sk-toggleable__label {background-color: #d4ebff;}#sk-container-id-1 div.sk-label input.sk-toggleable__control:checked~label.sk-toggleable__label {background-color: #d4ebff;}#sk-container-id-1 input.sk-hidden--visually {border: 0;clip: rect(1px 1px 1px 1px);clip: rect(1px, 1px, 1px, 1px);height: 1px;margin: -1px;overflow: hidden;padding: 0;position: absolute;width: 1px;}#sk-container-id-1 div.sk-estimator {font-family: monospace;background-color: #f0f8ff;border: 1px dotted black;border-radius: 0.25em;box-sizing: border-box;margin-bottom: 0.5em;}#sk-container-id-1 div.sk-estimator:hover {background-color: #d4ebff;}#sk-container-id-1 div.sk-parallel-item::after {content: \"\";width: 100%;border-bottom: 1px solid gray;flex-grow: 1;}#sk-container-id-1 div.sk-label:hover label.sk-toggleable__label {background-color: #d4ebff;}#sk-container-id-1 div.sk-serial::before {content: \"\";position: absolute;border-left: 1px solid gray;box-sizing: border-box;top: 0;bottom: 0;left: 50%;z-index: 0;}#sk-container-id-1 div.sk-serial {display: flex;flex-direction: column;align-items: center;background-color: white;padding-right: 0.2em;padding-left: 0.2em;position: relative;}#sk-container-id-1 div.sk-item {position: relative;z-index: 1;}#sk-container-id-1 div.sk-parallel {display: flex;align-items: stretch;justify-content: center;background-color: white;position: relative;}#sk-container-id-1 div.sk-item::before, #sk-container-id-1 div.sk-parallel-item::before {content: \"\";position: absolute;border-left: 1px solid gray;box-sizing: border-box;top: 0;bottom: 0;left: 50%;z-index: -1;}#sk-container-id-1 div.sk-parallel-item {display: flex;flex-direction: column;z-index: 1;position: relative;background-color: white;}#sk-container-id-1 div.sk-parallel-item:first-child::after {align-self: flex-end;width: 50%;}#sk-container-id-1 div.sk-parallel-item:last-child::after {align-self: flex-start;width: 50%;}#sk-container-id-1 div.sk-parallel-item:only-child::after {width: 0;}#sk-container-id-1 div.sk-dashed-wrapped {border: 1px dashed gray;margin: 0 0.4em 0.5em 0.4em;box-sizing: border-box;padding-bottom: 0.4em;background-color: white;}#sk-container-id-1 div.sk-label label {font-family: monospace;font-weight: bold;display: inline-block;line-height: 1.2em;}#sk-container-id-1 div.sk-label-container {text-align: center;}#sk-container-id-1 div.sk-container {/* jupyter's `normalize.less` sets `[hidden] { display: none; }` but bootstrap.min.css set `[hidden] { display: none !important; }` so we also need the `!important` here to be able to override the default hidden behavior on the sphinx rendered scikit-learn.org. See: https://github.com/scikit-learn/scikit-learn/issues/21755 */display: inline-block !important;position: relative;}#sk-container-id-1 div.sk-text-repr-fallback {display: none;}</style><div id=\"sk-container-id-1\" class=\"sk-top-container\"><div class=\"sk-text-repr-fallback\"><pre>GridSearchCV(cv=5, estimator=DecisionTreeRegressor(), n_jobs=-1,\n",
              "             param_grid={&#x27;max_depth&#x27;: [1, 2, 3, 4, 5, 6, 7, 8],\n",
              "                         &#x27;min_samples_leaf&#x27;: [1, 2, 3, 4, 5],\n",
              "                         &#x27;min_samples_split&#x27;: [2, 3, 4, 5]},\n",
              "             scoring=&#x27;neg_mean_squared_error&#x27;, verbose=1)</pre><b>In a Jupyter environment, please rerun this cell to show the HTML representation or trust the notebook. <br />On GitHub, the HTML representation is unable to render, please try loading this page with nbviewer.org.</b></div><div class=\"sk-container\" hidden><div class=\"sk-item sk-dashed-wrapped\"><div class=\"sk-label-container\"><div class=\"sk-label sk-toggleable\"><input class=\"sk-toggleable__control sk-hidden--visually\" id=\"sk-estimator-id-1\" type=\"checkbox\" ><label for=\"sk-estimator-id-1\" class=\"sk-toggleable__label sk-toggleable__label-arrow\">GridSearchCV</label><div class=\"sk-toggleable__content\"><pre>GridSearchCV(cv=5, estimator=DecisionTreeRegressor(), n_jobs=-1,\n",
              "             param_grid={&#x27;max_depth&#x27;: [1, 2, 3, 4, 5, 6, 7, 8],\n",
              "                         &#x27;min_samples_leaf&#x27;: [1, 2, 3, 4, 5],\n",
              "                         &#x27;min_samples_split&#x27;: [2, 3, 4, 5]},\n",
              "             scoring=&#x27;neg_mean_squared_error&#x27;, verbose=1)</pre></div></div></div><div class=\"sk-parallel\"><div class=\"sk-parallel-item\"><div class=\"sk-item\"><div class=\"sk-label-container\"><div class=\"sk-label sk-toggleable\"><input class=\"sk-toggleable__control sk-hidden--visually\" id=\"sk-estimator-id-2\" type=\"checkbox\" ><label for=\"sk-estimator-id-2\" class=\"sk-toggleable__label sk-toggleable__label-arrow\">estimator: DecisionTreeRegressor</label><div class=\"sk-toggleable__content\"><pre>DecisionTreeRegressor()</pre></div></div></div><div class=\"sk-serial\"><div class=\"sk-item\"><div class=\"sk-estimator sk-toggleable\"><input class=\"sk-toggleable__control sk-hidden--visually\" id=\"sk-estimator-id-3\" type=\"checkbox\" ><label for=\"sk-estimator-id-3\" class=\"sk-toggleable__label sk-toggleable__label-arrow\">DecisionTreeRegressor</label><div class=\"sk-toggleable__content\"><pre>DecisionTreeRegressor()</pre></div></div></div></div></div></div></div></div></div></div>"
            ]
          },
          "metadata": {},
          "execution_count": 49
        }
      ]
    },
    {
      "cell_type": "code",
      "source": [
        "print(f\"Best parameters are {tree_grid.best_params_}\") \n",
        "print(\"Best MSE is {}\".format(tree_grid.best_score_ * -1))"
      ],
      "metadata": {
        "id": "sc9evbkiaASg",
        "colab": {
          "base_uri": "https://localhost:8080/"
        },
        "outputId": "43ec1d65-de07-46e3-b052-dd63e102c3ff"
      },
      "execution_count": null,
      "outputs": [
        {
          "output_type": "stream",
          "name": "stdout",
          "text": [
            "Best parameters are {'max_depth': 8, 'min_samples_leaf': 5, 'min_samples_split': 2}\n",
            "Best MSE is 6670.07807449041\n"
          ]
        }
      ]
    },
    {
      "cell_type": "code",
      "source": [
        "tree_model_best = tree.DecisionTreeRegressor(max_depth = 7, min_samples_leaf = 4, min_samples_split = 4)\n",
        "tree_model_best.fit(X_train, y_train) \n",
        "tree_model_prediction_best = tree_model_best.predict(X_test)\n",
        "\n",
        "tree_mse_best = metrics.mean_squared_error(y_test, tree_model_prediction_best)\n",
        "tree_mae_best = metrics.mean_absolute_error(y_test, tree_model_prediction_best)\n",
        "tree_rmse_best = np.sqrt(tree_mse_best)\n",
        "tree_r2_best = metrics.r2_score(y_test, tree_model_prediction_best)\n",
        "\n",
        "print(\"Mean Squared Error: {}\".format(tree_mse_best))\n",
        "print(\"Mean Absolute Error: {}\".format(tree_mae_best))\n",
        "print(\"Root Mean Absolute Error: {}\".format(tree_rmse_best))\n",
        "print(\"R2 score: {}\".format(tree_r2_best))"
      ],
      "metadata": {
        "id": "8CooLpymaDth",
        "colab": {
          "base_uri": "https://localhost:8080/"
        },
        "outputId": "f81f73d8-2771-4a41-c6c7-b66b946776f1"
      },
      "execution_count": null,
      "outputs": [
        {
          "output_type": "stream",
          "name": "stdout",
          "text": [
            "Mean Squared Error: 7355.743991843466\n",
            "Mean Absolute Error: 51.62042798585298\n",
            "Root Mean Absolute Error: 85.76563409573478\n",
            "R2 score: 0.3580831121725746\n"
          ]
        }
      ]
    },
    {
      "cell_type": "markdown",
      "source": [
        "There is a significant improvement in the R2 score, which increased from 0.15 to 0.53."
      ],
      "metadata": {
        "id": "2uaX8krOacJK"
      }
    },
    {
      "cell_type": "code",
      "source": [
        "prediction_dictionaries['Decision Tree-kfold-hyper'] = tree_model_prediction_best\n",
        "prediction_list['Decision Tree-kfold-hyper'] = np.array(tree_model_prediction_best[:20])\n",
        "prediction_list"
      ],
      "metadata": {
        "id": "zWO9XswtaEKn",
        "colab": {
          "base_uri": "https://localhost:8080/",
          "height": 708
        },
        "outputId": "d5a136f0-7bf5-4b9f-d9b1-87984d778219"
      },
      "execution_count": null,
      "outputs": [
        {
          "output_type": "execute_result",
          "data": {
            "text/plain": [
              "               Decision Tree Normal  Decision Tree-kfold-hyper\n",
              "Actual Values                                                 \n",
              "30                             34.0                  38.156250\n",
              "80                             65.0                  73.844444\n",
              "197                           100.0                 133.000000\n",
              "42                             42.0                  63.482143\n",
              "100                           120.0                  70.342520\n",
              "299                           125.0                 218.000000\n",
              "80                             75.0                  73.430769\n",
              "75                             44.0                  54.473913\n",
              "250                           275.0                 196.423208\n",
              "60                             60.0                  62.083333\n",
              "41                             75.0                  60.023346\n",
              "170                           300.0                 150.181818\n",
              "206                            57.0                  50.500000\n",
              "120                           189.0                 182.509804\n",
              "160                           199.0                 183.834532\n",
              "90                            170.0                 100.939759\n",
              "217                           114.0                 199.960000\n",
              "250                           113.0                 182.285714\n",
              "69                             50.0                  54.473913\n",
              "280                            75.0                 122.275862"
            ],
            "text/html": [
              "\n",
              "  <div id=\"df-55b2177e-e09a-4723-abff-495c89b9553c\">\n",
              "    <div class=\"colab-df-container\">\n",
              "      <div>\n",
              "<style scoped>\n",
              "    .dataframe tbody tr th:only-of-type {\n",
              "        vertical-align: middle;\n",
              "    }\n",
              "\n",
              "    .dataframe tbody tr th {\n",
              "        vertical-align: top;\n",
              "    }\n",
              "\n",
              "    .dataframe thead th {\n",
              "        text-align: right;\n",
              "    }\n",
              "</style>\n",
              "<table border=\"1\" class=\"dataframe\">\n",
              "  <thead>\n",
              "    <tr style=\"text-align: right;\">\n",
              "      <th></th>\n",
              "      <th>Decision Tree Normal</th>\n",
              "      <th>Decision Tree-kfold-hyper</th>\n",
              "    </tr>\n",
              "    <tr>\n",
              "      <th>Actual Values</th>\n",
              "      <th></th>\n",
              "      <th></th>\n",
              "    </tr>\n",
              "  </thead>\n",
              "  <tbody>\n",
              "    <tr>\n",
              "      <th>30</th>\n",
              "      <td>34.0</td>\n",
              "      <td>38.156250</td>\n",
              "    </tr>\n",
              "    <tr>\n",
              "      <th>80</th>\n",
              "      <td>65.0</td>\n",
              "      <td>73.844444</td>\n",
              "    </tr>\n",
              "    <tr>\n",
              "      <th>197</th>\n",
              "      <td>100.0</td>\n",
              "      <td>133.000000</td>\n",
              "    </tr>\n",
              "    <tr>\n",
              "      <th>42</th>\n",
              "      <td>42.0</td>\n",
              "      <td>63.482143</td>\n",
              "    </tr>\n",
              "    <tr>\n",
              "      <th>100</th>\n",
              "      <td>120.0</td>\n",
              "      <td>70.342520</td>\n",
              "    </tr>\n",
              "    <tr>\n",
              "      <th>299</th>\n",
              "      <td>125.0</td>\n",
              "      <td>218.000000</td>\n",
              "    </tr>\n",
              "    <tr>\n",
              "      <th>80</th>\n",
              "      <td>75.0</td>\n",
              "      <td>73.430769</td>\n",
              "    </tr>\n",
              "    <tr>\n",
              "      <th>75</th>\n",
              "      <td>44.0</td>\n",
              "      <td>54.473913</td>\n",
              "    </tr>\n",
              "    <tr>\n",
              "      <th>250</th>\n",
              "      <td>275.0</td>\n",
              "      <td>196.423208</td>\n",
              "    </tr>\n",
              "    <tr>\n",
              "      <th>60</th>\n",
              "      <td>60.0</td>\n",
              "      <td>62.083333</td>\n",
              "    </tr>\n",
              "    <tr>\n",
              "      <th>41</th>\n",
              "      <td>75.0</td>\n",
              "      <td>60.023346</td>\n",
              "    </tr>\n",
              "    <tr>\n",
              "      <th>170</th>\n",
              "      <td>300.0</td>\n",
              "      <td>150.181818</td>\n",
              "    </tr>\n",
              "    <tr>\n",
              "      <th>206</th>\n",
              "      <td>57.0</td>\n",
              "      <td>50.500000</td>\n",
              "    </tr>\n",
              "    <tr>\n",
              "      <th>120</th>\n",
              "      <td>189.0</td>\n",
              "      <td>182.509804</td>\n",
              "    </tr>\n",
              "    <tr>\n",
              "      <th>160</th>\n",
              "      <td>199.0</td>\n",
              "      <td>183.834532</td>\n",
              "    </tr>\n",
              "    <tr>\n",
              "      <th>90</th>\n",
              "      <td>170.0</td>\n",
              "      <td>100.939759</td>\n",
              "    </tr>\n",
              "    <tr>\n",
              "      <th>217</th>\n",
              "      <td>114.0</td>\n",
              "      <td>199.960000</td>\n",
              "    </tr>\n",
              "    <tr>\n",
              "      <th>250</th>\n",
              "      <td>113.0</td>\n",
              "      <td>182.285714</td>\n",
              "    </tr>\n",
              "    <tr>\n",
              "      <th>69</th>\n",
              "      <td>50.0</td>\n",
              "      <td>54.473913</td>\n",
              "    </tr>\n",
              "    <tr>\n",
              "      <th>280</th>\n",
              "      <td>75.0</td>\n",
              "      <td>122.275862</td>\n",
              "    </tr>\n",
              "  </tbody>\n",
              "</table>\n",
              "</div>\n",
              "      <button class=\"colab-df-convert\" onclick=\"convertToInteractive('df-55b2177e-e09a-4723-abff-495c89b9553c')\"\n",
              "              title=\"Convert this dataframe to an interactive table.\"\n",
              "              style=\"display:none;\">\n",
              "        \n",
              "  <svg xmlns=\"http://www.w3.org/2000/svg\" height=\"24px\"viewBox=\"0 0 24 24\"\n",
              "       width=\"24px\">\n",
              "    <path d=\"M0 0h24v24H0V0z\" fill=\"none\"/>\n",
              "    <path d=\"M18.56 5.44l.94 2.06.94-2.06 2.06-.94-2.06-.94-.94-2.06-.94 2.06-2.06.94zm-11 1L8.5 8.5l.94-2.06 2.06-.94-2.06-.94L8.5 2.5l-.94 2.06-2.06.94zm10 10l.94 2.06.94-2.06 2.06-.94-2.06-.94-.94-2.06-.94 2.06-2.06.94z\"/><path d=\"M17.41 7.96l-1.37-1.37c-.4-.4-.92-.59-1.43-.59-.52 0-1.04.2-1.43.59L10.3 9.45l-7.72 7.72c-.78.78-.78 2.05 0 2.83L4 21.41c.39.39.9.59 1.41.59.51 0 1.02-.2 1.41-.59l7.78-7.78 2.81-2.81c.8-.78.8-2.07 0-2.86zM5.41 20L4 18.59l7.72-7.72 1.47 1.35L5.41 20z\"/>\n",
              "  </svg>\n",
              "      </button>\n",
              "      \n",
              "  <style>\n",
              "    .colab-df-container {\n",
              "      display:flex;\n",
              "      flex-wrap:wrap;\n",
              "      gap: 12px;\n",
              "    }\n",
              "\n",
              "    .colab-df-convert {\n",
              "      background-color: #E8F0FE;\n",
              "      border: none;\n",
              "      border-radius: 50%;\n",
              "      cursor: pointer;\n",
              "      display: none;\n",
              "      fill: #1967D2;\n",
              "      height: 32px;\n",
              "      padding: 0 0 0 0;\n",
              "      width: 32px;\n",
              "    }\n",
              "\n",
              "    .colab-df-convert:hover {\n",
              "      background-color: #E2EBFA;\n",
              "      box-shadow: 0px 1px 2px rgba(60, 64, 67, 0.3), 0px 1px 3px 1px rgba(60, 64, 67, 0.15);\n",
              "      fill: #174EA6;\n",
              "    }\n",
              "\n",
              "    [theme=dark] .colab-df-convert {\n",
              "      background-color: #3B4455;\n",
              "      fill: #D2E3FC;\n",
              "    }\n",
              "\n",
              "    [theme=dark] .colab-df-convert:hover {\n",
              "      background-color: #434B5C;\n",
              "      box-shadow: 0px 1px 3px 1px rgba(0, 0, 0, 0.15);\n",
              "      filter: drop-shadow(0px 1px 2px rgba(0, 0, 0, 0.3));\n",
              "      fill: #FFFFFF;\n",
              "    }\n",
              "  </style>\n",
              "\n",
              "      <script>\n",
              "        const buttonEl =\n",
              "          document.querySelector('#df-55b2177e-e09a-4723-abff-495c89b9553c button.colab-df-convert');\n",
              "        buttonEl.style.display =\n",
              "          google.colab.kernel.accessAllowed ? 'block' : 'none';\n",
              "\n",
              "        async function convertToInteractive(key) {\n",
              "          const element = document.querySelector('#df-55b2177e-e09a-4723-abff-495c89b9553c');\n",
              "          const dataTable =\n",
              "            await google.colab.kernel.invokeFunction('convertToInteractive',\n",
              "                                                     [key], {});\n",
              "          if (!dataTable) return;\n",
              "\n",
              "          const docLinkHtml = 'Like what you see? Visit the ' +\n",
              "            '<a target=\"_blank\" href=https://colab.research.google.com/notebooks/data_table.ipynb>data table notebook</a>'\n",
              "            + ' to learn more about interactive tables.';\n",
              "          element.innerHTML = '';\n",
              "          dataTable['output_type'] = 'display_data';\n",
              "          await google.colab.output.renderOutput(dataTable, element);\n",
              "          const docLink = document.createElement('div');\n",
              "          docLink.innerHTML = docLinkHtml;\n",
              "          element.appendChild(docLink);\n",
              "        }\n",
              "      </script>\n",
              "    </div>\n",
              "  </div>\n",
              "  "
            ]
          },
          "metadata": {},
          "execution_count": 45
        }
      ]
    },
    {
      "cell_type": "code",
      "source": [
        "##"
      ],
      "metadata": {
        "id": "MqmMFiDrawnr"
      },
      "execution_count": null,
      "outputs": []
    },
    {
      "cell_type": "markdown",
      "source": [
        "## RANDOM FOREST"
      ],
      "metadata": {
        "id": "0JwagQ-Pbtnx"
      }
    },
    {
      "cell_type": "markdown",
      "source": [
        "## Without cross validation and Hyperparameteres"
      ],
      "metadata": {
        "id": "1dYk59B0bwwB"
      }
    },
    {
      "cell_type": "code",
      "source": [
        "from sklearn.ensemble import RandomForestRegressor\n",
        "forest_model = RandomForestRegressor(random_state=42) #n_estimators is 100 by default\n",
        "forest_model.fit(X_train, y_train)\n",
        "forest_model_prediction = forest_model.predict(X_test)\n",
        "\n",
        "forest_mse = metrics.mean_squared_error(y_test, forest_model_prediction)\n",
        "forest_mae = metrics.mean_absolute_error(y_test, forest_model_prediction)\n",
        "forest_rmse = np.sqrt(forest_mse)\n",
        "forest_r2 = metrics.r2_score(y_test, forest_model_prediction)\n",
        "\n",
        "print(\"Mean Squared Error: {}\".format(forest_mse))\n",
        "print(\"Mean Absolute Error: {}\".format(forest_mae))\n",
        "print(\"Root Mean Absolute Error: {}\".format(forest_rmse))\n",
        "print(\"R2 score: {}\".format(forest_r2))"
      ],
      "metadata": {
        "id": "KJKBBq14buRT",
        "colab": {
          "base_uri": "https://localhost:8080/"
        },
        "outputId": "f80dfc00-b31b-4609-9bf4-ece06edd8d7e"
      },
      "execution_count": null,
      "outputs": [
        {
          "output_type": "stream",
          "name": "stdout",
          "text": [
            "Mean Squared Error: 5517.434072165515\n",
            "Mean Absolute Error: 47.8867509144724\n",
            "Root Mean Absolute Error: 74.27943236297324\n",
            "R2 score: 0.4122869373749589\n"
          ]
        }
      ]
    },
    {
      "cell_type": "markdown",
      "source": [
        "## With kfold and hyperparameters"
      ],
      "metadata": {
        "id": "j9WV6JdhcVLp"
      }
    },
    {
      "cell_type": "code",
      "source": [
        "from sklearn.ensemble import RandomForestRegressor\n",
        "from sklearn.model_selection import GridSearchCV\n",
        "from sklearn import metrics\n",
        "import numpy as np\n",
        "\n",
        "# Define the hyperparameters to search over\n",
        "parameters = {\n",
        "    'n_estimators': [50, 100, 200],\n",
        "    'max_depth': [5, 10, 15],\n",
        "    'min_samples_split': [2, 5, 10],\n",
        "    'min_samples_leaf': [1, 2, 4],\n",
        "    'max_features': ['auto', 'sqrt', 'log2']\n",
        "}\n",
        "\n",
        "# Create a Random Forest model\n",
        "rf_model = RandomForestRegressor(random_state=42)\n",
        "\n",
        "# Use GridSearchCV to search for the best hyperparameters\n",
        "rf_grid = GridSearchCV(estimator=rf_model, param_grid=parameters, cv=5, n_jobs=-1, verbose=1, scoring='neg_mean_squared_error')\n",
        "rf_grid.fit(X_train, y_train)\n",
        "\n",
        "# Print the best hyperparameters and corresponding mean squared error\n",
        "print(f\"Best parameters are {rf_grid.best_params_}\")\n",
        "print(\"Best MSE is {}\".format(rf_grid.best_score_ * -1))\n",
        "\n",
        "# Train a new Random Forest model using the best hyperparameters\n",
        "rf_model_best = RandomForestRegressor(n_estimators=300, max_depth=20, min_samples_split=2, min_samples_leaf=1, max_features='sqrt', random_state=42)\n",
        "rf_model_best.fit(X_train, y_train)\n",
        "\n",
        "# Evaluate the performance of the new model on the test set\n",
        "rf_prediction_best = rf_model_best.predict(X_test)\n",
        "rf_mse_best = metrics.mean_squared_error(y_test, rf_prediction_best)\n",
        "rf_mae_best = metrics.mean_absolute_error(y_test, rf_prediction_best)\n",
        "rf_rmse_best = np.sqrt(rf_mse_best)\n",
        "rf_r2_best = metrics.r2_score(y_test, rf_prediction_best)\n",
        "\n",
        "# Print the performance metrics for the new model\n",
        "print(\"Mean Squared Error: {}\".format(rf_mse_best))\n",
        "print(\"Mean Absolute Error: {}\".format(rf_mae_best))\n",
        "print(\"Root Mean Absolute Error: {}\".format(rf_rmse_best))\n",
        "print(\"R2 score: {}\".format(rf_r2_best))\n"
      ],
      "metadata": {
        "id": "ju3vMB9EcT1i",
        "colab": {
          "base_uri": "https://localhost:8080/",
          "height": 414
        },
        "outputId": "19b89fbb-a369-4b81-c71c-5d88c644bf80"
      },
      "execution_count": null,
      "outputs": [
        {
          "output_type": "stream",
          "name": "stdout",
          "text": [
            "Fitting 5 folds for each of 243 candidates, totalling 1215 fits\n"
          ]
        },
        {
          "output_type": "error",
          "ename": "KeyboardInterrupt",
          "evalue": "ignored",
          "traceback": [
            "\u001b[0;31m---------------------------------------------------------------------------\u001b[0m",
            "\u001b[0;31mKeyboardInterrupt\u001b[0m                         Traceback (most recent call last)",
            "\u001b[0;32m<ipython-input-47-9791163f25e8>\u001b[0m in \u001b[0;36m<module>\u001b[0;34m\u001b[0m\n\u001b[1;32m     18\u001b[0m \u001b[0;31m# Use GridSearchCV to search for the best hyperparameters\u001b[0m\u001b[0;34m\u001b[0m\u001b[0;34m\u001b[0m\u001b[0m\n\u001b[1;32m     19\u001b[0m \u001b[0mrf_grid\u001b[0m \u001b[0;34m=\u001b[0m \u001b[0mGridSearchCV\u001b[0m\u001b[0;34m(\u001b[0m\u001b[0mestimator\u001b[0m\u001b[0;34m=\u001b[0m\u001b[0mrf_model\u001b[0m\u001b[0;34m,\u001b[0m \u001b[0mparam_grid\u001b[0m\u001b[0;34m=\u001b[0m\u001b[0mparameters\u001b[0m\u001b[0;34m,\u001b[0m \u001b[0mcv\u001b[0m\u001b[0;34m=\u001b[0m\u001b[0;36m5\u001b[0m\u001b[0;34m,\u001b[0m \u001b[0mn_jobs\u001b[0m\u001b[0;34m=\u001b[0m\u001b[0;34m-\u001b[0m\u001b[0;36m1\u001b[0m\u001b[0;34m,\u001b[0m \u001b[0mverbose\u001b[0m\u001b[0;34m=\u001b[0m\u001b[0;36m1\u001b[0m\u001b[0;34m,\u001b[0m \u001b[0mscoring\u001b[0m\u001b[0;34m=\u001b[0m\u001b[0;34m'neg_mean_squared_error'\u001b[0m\u001b[0;34m)\u001b[0m\u001b[0;34m\u001b[0m\u001b[0;34m\u001b[0m\u001b[0m\n\u001b[0;32m---> 20\u001b[0;31m \u001b[0mrf_grid\u001b[0m\u001b[0;34m.\u001b[0m\u001b[0mfit\u001b[0m\u001b[0;34m(\u001b[0m\u001b[0mX_train\u001b[0m\u001b[0;34m,\u001b[0m \u001b[0my_train\u001b[0m\u001b[0;34m)\u001b[0m\u001b[0;34m\u001b[0m\u001b[0;34m\u001b[0m\u001b[0m\n\u001b[0m\u001b[1;32m     21\u001b[0m \u001b[0;34m\u001b[0m\u001b[0m\n\u001b[1;32m     22\u001b[0m \u001b[0;31m# Print the best hyperparameters and corresponding mean squared error\u001b[0m\u001b[0;34m\u001b[0m\u001b[0;34m\u001b[0m\u001b[0m\n",
            "\u001b[0;32m/usr/local/lib/python3.9/dist-packages/sklearn/model_selection/_search.py\u001b[0m in \u001b[0;36mfit\u001b[0;34m(self, X, y, groups, **fit_params)\u001b[0m\n\u001b[1;32m    872\u001b[0m                 \u001b[0;32mreturn\u001b[0m \u001b[0mresults\u001b[0m\u001b[0;34m\u001b[0m\u001b[0;34m\u001b[0m\u001b[0m\n\u001b[1;32m    873\u001b[0m \u001b[0;34m\u001b[0m\u001b[0m\n\u001b[0;32m--> 874\u001b[0;31m             \u001b[0mself\u001b[0m\u001b[0;34m.\u001b[0m\u001b[0m_run_search\u001b[0m\u001b[0;34m(\u001b[0m\u001b[0mevaluate_candidates\u001b[0m\u001b[0;34m)\u001b[0m\u001b[0;34m\u001b[0m\u001b[0;34m\u001b[0m\u001b[0m\n\u001b[0m\u001b[1;32m    875\u001b[0m \u001b[0;34m\u001b[0m\u001b[0m\n\u001b[1;32m    876\u001b[0m             \u001b[0;31m# multimetric is determined here because in the case of a callable\u001b[0m\u001b[0;34m\u001b[0m\u001b[0;34m\u001b[0m\u001b[0m\n",
            "\u001b[0;32m/usr/local/lib/python3.9/dist-packages/sklearn/model_selection/_search.py\u001b[0m in \u001b[0;36m_run_search\u001b[0;34m(self, evaluate_candidates)\u001b[0m\n\u001b[1;32m   1386\u001b[0m     \u001b[0;32mdef\u001b[0m \u001b[0m_run_search\u001b[0m\u001b[0;34m(\u001b[0m\u001b[0mself\u001b[0m\u001b[0;34m,\u001b[0m \u001b[0mevaluate_candidates\u001b[0m\u001b[0;34m)\u001b[0m\u001b[0;34m:\u001b[0m\u001b[0;34m\u001b[0m\u001b[0;34m\u001b[0m\u001b[0m\n\u001b[1;32m   1387\u001b[0m         \u001b[0;34m\"\"\"Search all candidates in param_grid\"\"\"\u001b[0m\u001b[0;34m\u001b[0m\u001b[0;34m\u001b[0m\u001b[0m\n\u001b[0;32m-> 1388\u001b[0;31m         \u001b[0mevaluate_candidates\u001b[0m\u001b[0;34m(\u001b[0m\u001b[0mParameterGrid\u001b[0m\u001b[0;34m(\u001b[0m\u001b[0mself\u001b[0m\u001b[0;34m.\u001b[0m\u001b[0mparam_grid\u001b[0m\u001b[0;34m)\u001b[0m\u001b[0;34m)\u001b[0m\u001b[0;34m\u001b[0m\u001b[0;34m\u001b[0m\u001b[0m\n\u001b[0m\u001b[1;32m   1389\u001b[0m \u001b[0;34m\u001b[0m\u001b[0m\n\u001b[1;32m   1390\u001b[0m \u001b[0;34m\u001b[0m\u001b[0m\n",
            "\u001b[0;32m/usr/local/lib/python3.9/dist-packages/sklearn/model_selection/_search.py\u001b[0m in \u001b[0;36mevaluate_candidates\u001b[0;34m(candidate_params, cv, more_results)\u001b[0m\n\u001b[1;32m    819\u001b[0m                     )\n\u001b[1;32m    820\u001b[0m \u001b[0;34m\u001b[0m\u001b[0m\n\u001b[0;32m--> 821\u001b[0;31m                 out = parallel(\n\u001b[0m\u001b[1;32m    822\u001b[0m                     delayed(_fit_and_score)(\n\u001b[1;32m    823\u001b[0m                         \u001b[0mclone\u001b[0m\u001b[0;34m(\u001b[0m\u001b[0mbase_estimator\u001b[0m\u001b[0;34m)\u001b[0m\u001b[0;34m,\u001b[0m\u001b[0;34m\u001b[0m\u001b[0;34m\u001b[0m\u001b[0m\n",
            "\u001b[0;32m/usr/local/lib/python3.9/dist-packages/sklearn/utils/parallel.py\u001b[0m in \u001b[0;36m__call__\u001b[0;34m(self, iterable)\u001b[0m\n\u001b[1;32m     61\u001b[0m             \u001b[0;32mfor\u001b[0m \u001b[0mdelayed_func\u001b[0m\u001b[0;34m,\u001b[0m \u001b[0margs\u001b[0m\u001b[0;34m,\u001b[0m \u001b[0mkwargs\u001b[0m \u001b[0;32min\u001b[0m \u001b[0miterable\u001b[0m\u001b[0;34m\u001b[0m\u001b[0;34m\u001b[0m\u001b[0m\n\u001b[1;32m     62\u001b[0m         )\n\u001b[0;32m---> 63\u001b[0;31m         \u001b[0;32mreturn\u001b[0m \u001b[0msuper\u001b[0m\u001b[0;34m(\u001b[0m\u001b[0;34m)\u001b[0m\u001b[0;34m.\u001b[0m\u001b[0m__call__\u001b[0m\u001b[0;34m(\u001b[0m\u001b[0miterable_with_config\u001b[0m\u001b[0;34m)\u001b[0m\u001b[0;34m\u001b[0m\u001b[0;34m\u001b[0m\u001b[0m\n\u001b[0m\u001b[1;32m     64\u001b[0m \u001b[0;34m\u001b[0m\u001b[0m\n\u001b[1;32m     65\u001b[0m \u001b[0;34m\u001b[0m\u001b[0m\n",
            "\u001b[0;32m/usr/local/lib/python3.9/dist-packages/joblib/parallel.py\u001b[0m in \u001b[0;36m__call__\u001b[0;34m(self, iterable)\u001b[0m\n\u001b[1;32m   1059\u001b[0m \u001b[0;34m\u001b[0m\u001b[0m\n\u001b[1;32m   1060\u001b[0m             \u001b[0;32mwith\u001b[0m \u001b[0mself\u001b[0m\u001b[0;34m.\u001b[0m\u001b[0m_backend\u001b[0m\u001b[0;34m.\u001b[0m\u001b[0mretrieval_context\u001b[0m\u001b[0;34m(\u001b[0m\u001b[0;34m)\u001b[0m\u001b[0;34m:\u001b[0m\u001b[0;34m\u001b[0m\u001b[0;34m\u001b[0m\u001b[0m\n\u001b[0;32m-> 1061\u001b[0;31m                 \u001b[0mself\u001b[0m\u001b[0;34m.\u001b[0m\u001b[0mretrieve\u001b[0m\u001b[0;34m(\u001b[0m\u001b[0;34m)\u001b[0m\u001b[0;34m\u001b[0m\u001b[0;34m\u001b[0m\u001b[0m\n\u001b[0m\u001b[1;32m   1062\u001b[0m             \u001b[0;31m# Make sure that we get a last message telling us we are done\u001b[0m\u001b[0;34m\u001b[0m\u001b[0;34m\u001b[0m\u001b[0m\n\u001b[1;32m   1063\u001b[0m             \u001b[0melapsed_time\u001b[0m \u001b[0;34m=\u001b[0m \u001b[0mtime\u001b[0m\u001b[0;34m.\u001b[0m\u001b[0mtime\u001b[0m\u001b[0;34m(\u001b[0m\u001b[0;34m)\u001b[0m \u001b[0;34m-\u001b[0m \u001b[0mself\u001b[0m\u001b[0;34m.\u001b[0m\u001b[0m_start_time\u001b[0m\u001b[0;34m\u001b[0m\u001b[0;34m\u001b[0m\u001b[0m\n",
            "\u001b[0;32m/usr/local/lib/python3.9/dist-packages/joblib/parallel.py\u001b[0m in \u001b[0;36mretrieve\u001b[0;34m(self)\u001b[0m\n\u001b[1;32m    936\u001b[0m             \u001b[0;32mtry\u001b[0m\u001b[0;34m:\u001b[0m\u001b[0;34m\u001b[0m\u001b[0;34m\u001b[0m\u001b[0m\n\u001b[1;32m    937\u001b[0m                 \u001b[0;32mif\u001b[0m \u001b[0mgetattr\u001b[0m\u001b[0;34m(\u001b[0m\u001b[0mself\u001b[0m\u001b[0;34m.\u001b[0m\u001b[0m_backend\u001b[0m\u001b[0;34m,\u001b[0m \u001b[0;34m'supports_timeout'\u001b[0m\u001b[0;34m,\u001b[0m \u001b[0;32mFalse\u001b[0m\u001b[0;34m)\u001b[0m\u001b[0;34m:\u001b[0m\u001b[0;34m\u001b[0m\u001b[0;34m\u001b[0m\u001b[0m\n\u001b[0;32m--> 938\u001b[0;31m                     \u001b[0mself\u001b[0m\u001b[0;34m.\u001b[0m\u001b[0m_output\u001b[0m\u001b[0;34m.\u001b[0m\u001b[0mextend\u001b[0m\u001b[0;34m(\u001b[0m\u001b[0mjob\u001b[0m\u001b[0;34m.\u001b[0m\u001b[0mget\u001b[0m\u001b[0;34m(\u001b[0m\u001b[0mtimeout\u001b[0m\u001b[0;34m=\u001b[0m\u001b[0mself\u001b[0m\u001b[0;34m.\u001b[0m\u001b[0mtimeout\u001b[0m\u001b[0;34m)\u001b[0m\u001b[0;34m)\u001b[0m\u001b[0;34m\u001b[0m\u001b[0;34m\u001b[0m\u001b[0m\n\u001b[0m\u001b[1;32m    939\u001b[0m                 \u001b[0;32melse\u001b[0m\u001b[0;34m:\u001b[0m\u001b[0;34m\u001b[0m\u001b[0;34m\u001b[0m\u001b[0m\n\u001b[1;32m    940\u001b[0m                     \u001b[0mself\u001b[0m\u001b[0;34m.\u001b[0m\u001b[0m_output\u001b[0m\u001b[0;34m.\u001b[0m\u001b[0mextend\u001b[0m\u001b[0;34m(\u001b[0m\u001b[0mjob\u001b[0m\u001b[0;34m.\u001b[0m\u001b[0mget\u001b[0m\u001b[0;34m(\u001b[0m\u001b[0;34m)\u001b[0m\u001b[0;34m)\u001b[0m\u001b[0;34m\u001b[0m\u001b[0;34m\u001b[0m\u001b[0m\n",
            "\u001b[0;32m/usr/local/lib/python3.9/dist-packages/joblib/_parallel_backends.py\u001b[0m in \u001b[0;36mwrap_future_result\u001b[0;34m(future, timeout)\u001b[0m\n\u001b[1;32m    540\u001b[0m         AsyncResults.get from multiprocessing.\"\"\"\n\u001b[1;32m    541\u001b[0m         \u001b[0;32mtry\u001b[0m\u001b[0;34m:\u001b[0m\u001b[0;34m\u001b[0m\u001b[0;34m\u001b[0m\u001b[0m\n\u001b[0;32m--> 542\u001b[0;31m             \u001b[0;32mreturn\u001b[0m \u001b[0mfuture\u001b[0m\u001b[0;34m.\u001b[0m\u001b[0mresult\u001b[0m\u001b[0;34m(\u001b[0m\u001b[0mtimeout\u001b[0m\u001b[0;34m=\u001b[0m\u001b[0mtimeout\u001b[0m\u001b[0;34m)\u001b[0m\u001b[0;34m\u001b[0m\u001b[0;34m\u001b[0m\u001b[0m\n\u001b[0m\u001b[1;32m    543\u001b[0m         \u001b[0;32mexcept\u001b[0m \u001b[0mCfTimeoutError\u001b[0m \u001b[0;32mas\u001b[0m \u001b[0me\u001b[0m\u001b[0;34m:\u001b[0m\u001b[0;34m\u001b[0m\u001b[0;34m\u001b[0m\u001b[0m\n\u001b[1;32m    544\u001b[0m             \u001b[0;32mraise\u001b[0m \u001b[0mTimeoutError\u001b[0m \u001b[0;32mfrom\u001b[0m \u001b[0me\u001b[0m\u001b[0;34m\u001b[0m\u001b[0;34m\u001b[0m\u001b[0m\n",
            "\u001b[0;32m/usr/lib/python3.9/concurrent/futures/_base.py\u001b[0m in \u001b[0;36mresult\u001b[0;34m(self, timeout)\u001b[0m\n\u001b[1;32m    439\u001b[0m                     \u001b[0;32mreturn\u001b[0m \u001b[0mself\u001b[0m\u001b[0;34m.\u001b[0m\u001b[0m__get_result\u001b[0m\u001b[0;34m(\u001b[0m\u001b[0;34m)\u001b[0m\u001b[0;34m\u001b[0m\u001b[0;34m\u001b[0m\u001b[0m\n\u001b[1;32m    440\u001b[0m \u001b[0;34m\u001b[0m\u001b[0m\n\u001b[0;32m--> 441\u001b[0;31m                 \u001b[0mself\u001b[0m\u001b[0;34m.\u001b[0m\u001b[0m_condition\u001b[0m\u001b[0;34m.\u001b[0m\u001b[0mwait\u001b[0m\u001b[0;34m(\u001b[0m\u001b[0mtimeout\u001b[0m\u001b[0;34m)\u001b[0m\u001b[0;34m\u001b[0m\u001b[0;34m\u001b[0m\u001b[0m\n\u001b[0m\u001b[1;32m    442\u001b[0m \u001b[0;34m\u001b[0m\u001b[0m\n\u001b[1;32m    443\u001b[0m                 \u001b[0;32mif\u001b[0m \u001b[0mself\u001b[0m\u001b[0;34m.\u001b[0m\u001b[0m_state\u001b[0m \u001b[0;32min\u001b[0m \u001b[0;34m[\u001b[0m\u001b[0mCANCELLED\u001b[0m\u001b[0;34m,\u001b[0m \u001b[0mCANCELLED_AND_NOTIFIED\u001b[0m\u001b[0;34m]\u001b[0m\u001b[0;34m:\u001b[0m\u001b[0;34m\u001b[0m\u001b[0;34m\u001b[0m\u001b[0m\n",
            "\u001b[0;32m/usr/lib/python3.9/threading.py\u001b[0m in \u001b[0;36mwait\u001b[0;34m(self, timeout)\u001b[0m\n\u001b[1;32m    310\u001b[0m         \u001b[0;32mtry\u001b[0m\u001b[0;34m:\u001b[0m    \u001b[0;31m# restore state no matter what (e.g., KeyboardInterrupt)\u001b[0m\u001b[0;34m\u001b[0m\u001b[0;34m\u001b[0m\u001b[0m\n\u001b[1;32m    311\u001b[0m             \u001b[0;32mif\u001b[0m \u001b[0mtimeout\u001b[0m \u001b[0;32mis\u001b[0m \u001b[0;32mNone\u001b[0m\u001b[0;34m:\u001b[0m\u001b[0;34m\u001b[0m\u001b[0;34m\u001b[0m\u001b[0m\n\u001b[0;32m--> 312\u001b[0;31m                 \u001b[0mwaiter\u001b[0m\u001b[0;34m.\u001b[0m\u001b[0macquire\u001b[0m\u001b[0;34m(\u001b[0m\u001b[0;34m)\u001b[0m\u001b[0;34m\u001b[0m\u001b[0;34m\u001b[0m\u001b[0m\n\u001b[0m\u001b[1;32m    313\u001b[0m                 \u001b[0mgotit\u001b[0m \u001b[0;34m=\u001b[0m \u001b[0;32mTrue\u001b[0m\u001b[0;34m\u001b[0m\u001b[0;34m\u001b[0m\u001b[0m\n\u001b[1;32m    314\u001b[0m             \u001b[0;32melse\u001b[0m\u001b[0;34m:\u001b[0m\u001b[0;34m\u001b[0m\u001b[0;34m\u001b[0m\u001b[0m\n",
            "\u001b[0;31mKeyboardInterrupt\u001b[0m: "
          ]
        }
      ]
    },
    {
      "cell_type": "code",
      "source": [
        "# modèle plus rapide\n",
        "\n",
        "from sklearn.ensemble import RandomForestRegressor\n",
        "from sklearn.model_selection import GridSearchCV\n",
        "from sklearn import metrics\n",
        "\n",
        "# Define the hyperparameters to search over\n",
        "parameters = {\n",
        "    'n_estimators': [100, 200, 300],\n",
        "    'max_depth': [10, 15, 20],\n",
        "    'min_samples_split': [2, 5],\n",
        "    'min_samples_leaf': [1, 2],\n",
        "    'max_features': ['sqrt', 'log2']\n",
        "}\n",
        "\n",
        "# Create a Random Forest model\n",
        "rf_model = RandomForestRegressor(random_state=42)\n",
        "\n",
        "# Use GridSearchCV to search for the best hyperparameters\n",
        "rf_grid = GridSearchCV(estimator=rf_model, param_grid=parameters, cv=5, n_jobs=-1, verbose=1, scoring='neg_mean_squared_error')\n",
        "rf_grid.fit(X_train, y_train)\n",
        "\n",
        "# Print the best hyperparameters and corresponding mean squared error\n",
        "print(f\"Best parameters are {rf_grid.best_params_}\")\n",
        "print(\"Best MSE is {}\".format(rf_grid.best_score_ * -1))\n",
        "\n",
        "# Train a new Random Forest model using the best hyperparameters\n",
        "rf_model_best = RandomForestRegressor(n_estimators=200, max_depth=15, min_samples_split=2, min_samples_leaf=1, max_features='sqrt', random_state=42)\n",
        "rf_model_best.fit(X_train, y_train)\n",
        "\n",
        "# Evaluate the performance of the new model on the test set\n",
        "rf_prediction_best = rf_model_best.predict(X_test)\n",
        "rf_mse_best = metrics.mean_squared_error(y_test, rf_prediction_best)\n",
        "rf_mae_best = metrics.mean_absolute_error(y_test, rf_prediction_best)\n",
        "rf_rmse_best = np.sqrt(rf_mse_best)\n",
        "rf_r2_best = metrics.r2_score(y_test, rf_prediction_best)\n",
        "\n",
        "# Print the performance metrics for the new model\n",
        "print(\"Mean Squared Error: {}\".format(rf_mse_best))\n",
        "print(\"Mean Absolute Error: {}\".format(rf_mae_best))\n",
        "print(\"Root Mean Absolute Error: {}\".format(rf_rmse_best))\n",
        "print(\"R2 score: {}\".format(rf_r2_best))\n"
      ],
      "metadata": {
        "id": "pMoVQUb9cT7f"
      },
      "execution_count": null,
      "outputs": []
    },
    {
      "cell_type": "markdown",
      "source": [
        "## XGBoost"
      ],
      "metadata": {
        "id": "gUAGHObJc4DJ"
      }
    },
    {
      "cell_type": "code",
      "source": [
        "import xgboost as xgb\n",
        "from sklearn.metrics import mean_squared_error, mean_absolute_error, r2_score\n",
        "\n",
        "# Créer le modèle\n",
        "xgb_model = xgb.XGBRegressor(objective='reg:squarederror', random_state=42)\n",
        "\n",
        "# Entraîner le modèle\n",
        "xgb_model.fit(X_train, y_train)\n",
        "\n",
        "# Faire des prédictions sur les données de test\n",
        "xgb_predictions = xgb_model.predict(X_test)\n",
        "\n",
        "# Calculer les métriques d'évaluation\n",
        "xgb_mse = mean_squared_error(y_test, xgb_predictions)\n",
        "xgb_mae = mean_absolute_error(y_test, xgb_predictions)\n",
        "xgb_rmse = np.sqrt(xgb_mse)\n",
        "xgb_r2 = r2_score(y_test, xgb_predictions)\n",
        "\n",
        "# Afficher les résultats\n",
        "print(\"Mean Squared Error: {:.2f}\".format(xgb_mse))\n",
        "print(\"Mean Absolute Error: {:.2f}\".format(xgb_mae))\n",
        "print(\"Root Mean Absolute Error: {:.2f}\".format(xgb_rmse))\n",
        "print(\"R2 Score: {:.2f}\".format(xgb_r2))\n"
      ],
      "metadata": {
        "id": "ozGpDhScCxvD",
        "colab": {
          "base_uri": "https://localhost:8080/"
        },
        "outputId": "fd736b21-fb12-4e10-b22b-63f5e1d64fc1"
      },
      "execution_count": null,
      "outputs": [
        {
          "output_type": "stream",
          "name": "stdout",
          "text": [
            "Mean Squared Error: 5403.70\n",
            "Mean Absolute Error: 47.31\n",
            "Root Mean Absolute Error: 73.51\n",
            "R2 Score: 0.42\n"
          ]
        }
      ]
    },
    {
      "cell_type": "code",
      "source": [
        "import xgboost as xgb\n",
        "from sklearn.model_selection import GridSearchCV\n",
        "from sklearn import metrics\n",
        "import numpy as np\n",
        "\n",
        "# Define the hyperparameters to search over\n",
        "parameters = {\n",
        "    'learning_rate': [0.01, 0.1, 0.3],\n",
        "    'max_depth': [3, 5, 7],\n",
        "    'subsample': [0.5, 0.7, 0.9],\n",
        "    'colsample_bytree': [0.5, 0.7, 0.9],\n",
        "    'n_estimators': [50, 100, 200]\n",
        "}\n",
        "\n",
        "# Create an XGBoost model\n",
        "xgb_model = xgb.XGBRegressor(random_state=42)\n",
        "\n",
        "# Use GridSearchCV to search for the best hyperparameters\n",
        "xgb_grid = GridSearchCV(estimator=xgb_model, param_grid=parameters, cv=5, n_jobs=-1, verbose=1, scoring='neg_mean_squared_error')\n",
        "xgb_grid.fit(X_train, y_train)\n",
        "\n",
        "# Print the best hyperparameters and corresponding mean squared error\n",
        "print(f\"Best parameters are {xgb_grid.best_params_}\")\n",
        "print(\"Best MSE is {}\".format(xgb_grid.best_score_ * -1))\n",
        "\n",
        "# Train a new XGBoost model using the best hyperparameters\n",
        "xgb_model_best = xgb.XGBRegressor(learning_rate=0.1, max_depth=5, subsample=0.9, colsample_bytree=0.5, n_estimators=500, random_state=42)\n",
        "xgb_model_best.fit(X_train, y_train)\n",
        "\n",
        "# Evaluate the performance of the new model on the test set\n",
        "xgb_prediction_best = xgb_model_best.predict(X_test)\n",
        "xgb_mse_best = metrics.mean_squared_error(y_test, xgb_prediction_best)\n",
        "xgb_mae_best = metrics.mean_absolute_error(y_test, xgb_prediction_best)\n",
        "xgb_rmse_best = np.sqrt(xgb_mse_best)\n",
        "xgb_r2_best = metrics.r2_score(y_test, xgb_prediction_best)\n",
        "\n",
        "# Print the performance metrics for the new model\n",
        "print(\"Mean Squared Error: {}\".format(xgb_mse_best))\n",
        "print(\"Mean Absolute Error: {}\".format(xgb_mae_best))\n",
        "print(\"Root Mean Absolute Error: {}\".format(xgb_rmse_best))\n",
        "print(\"R2 score: {}\".format(xgb_r2_best))\n"
      ],
      "metadata": {
        "id": "JVq7xfHzc6Od"
      },
      "execution_count": null,
      "outputs": []
    },
    {
      "cell_type": "code",
      "source": [
        "# modèle plus rapide\n",
        "import xgboost as xgb\n",
        "from sklearn.model_selection import GridSearchCV\n",
        "from sklearn import metrics\n",
        "\n",
        "# Créer le modèle XGBoost\n",
        "xgb_model = xgb.XGBRegressor(random_state=42)\n",
        "\n",
        "# Définir l'espace de recherche des hyperparamètres\n",
        "parameters = {\n",
        "    'learning_rate': [0.1, 0.3],\n",
        "    'max_depth': [3, 5, 7],\n",
        "    'n_estimators': [100, 200]\n",
        "}\n",
        "\n",
        "# Utiliser GridSearchCV pour trouver les meilleurs hyperparamètres\n",
        "xgb_grid = GridSearchCV(estimator=xgb_model, param_grid=parameters, cv=5, n_jobs=-1, verbose=1, scoring='neg_mean_squared_error')\n",
        "xgb_grid.fit(X_train, y_train)\n",
        "\n",
        "# Afficher les meilleurs hyperparamètres et la meilleure MSE\n",
        "print(f\"Best parameters are {xgb_grid.best_params_}\")\n",
        "print(\"Best MSE is {}\".format(xgb_grid.best_score_ * -1))\n",
        "\n",
        "# Créer un nouveau modèle XGBoost avec les meilleurs hyperparamètres\n",
        "xgb_model_best = xgb.XGBRegressor(learning_rate=0.1, max_depth=5, n_estimators=100, random_state=42)\n",
        "\n",
        "# Entraîner le modèle sur les données d'entraînement\n",
        "xgb_model_best.fit(X_train, y_train)\n",
        "\n",
        "# Faire des prédictions sur les données de test\n",
        "xgb_prediction_best = xgb_model_best.predict(X_test)\n",
        "\n",
        "# Calculer les métriques d'évaluation\n",
        "xgb_mse_best = metrics.mean_squared_error(y_test, xgb_prediction_best)\n",
        "xgb_mae_best = metrics.mean_absolute_error(y_test, xgb_prediction_best)\n",
        "xgb_rmse_best = np.sqrt(xgb_mse_best)\n",
        "xgb_r2_best = metrics.r2_score(y_test, xgb_prediction_best)\n",
        "\n",
        "# Afficher les résultats\n",
        "print(\"Mean Squared Error: {}\".format(xgb_mse_best))\n",
        "print(\"Mean Absolute Error: {}\".format(xgb_mae_best))\n",
        "print(\"Root Mean Absolute Error: {}\".format(xgb_rmse_best))\n",
        "print(\"R2 score: {}\".format(xgb_r2_best))\n"
      ],
      "metadata": {
        "id": "MdtpHAr4dEMy"
      },
      "execution_count": null,
      "outputs": []
    },
    {
      "cell_type": "markdown",
      "source": [
        "# Adaboost"
      ],
      "metadata": {
        "id": "KWjk4DrodGdy"
      }
    },
    {
      "cell_type": "code",
      "source": [
        "from sklearn.ensemble import AdaBoostRegressor\n",
        "from sklearn.tree import DecisionTreeRegressor\n",
        "from sklearn.metrics import mean_squared_error, mean_absolute_error, r2_score\n",
        "\n",
        "# Créer le modèle\n",
        "base_estimator = DecisionTreeRegressor(max_depth=4, random_state=42)\n",
        "adaboost_model = AdaBoostRegressor(base_estimator=base_estimator, n_estimators=100, random_state=42)\n",
        "\n",
        "# Entraîner le modèle\n",
        "adaboost_model.fit(X_train, y_train)\n",
        "\n",
        "# Faire des prédictions sur les données de test\n",
        "adaboost_predictions = adaboost_model.predict(X_test)\n",
        "\n",
        "# Calculer les métriques d'évaluation\n",
        "adaboost_mse = mean_squared_error(y_test, adaboost_predictions)\n",
        "adaboost_mae = mean_absolute_error(y_test, adaboost_predictions)\n",
        "adaboost_rmse = np.sqrt(adaboost_mse)\n",
        "adaboost_r2 = r2_score(y_test, adaboost_predictions)\n",
        "\n",
        "# Afficher les résultats\n",
        "print(\"Mean Squared Error: {:.2f}\".format(adaboost_mse))\n",
        "print(\"Mean Absolute Error: {:.2f}\".format(adaboost_mae))\n",
        "print(\"Root Mean Absolute Error: {:.2f}\".format(adaboost_rmse))\n",
        "print(\"R2 Score: {:.2f}\".format(adaboost_r2))\n"
      ],
      "metadata": {
        "id": "zSfTQ57uC8py"
      },
      "execution_count": null,
      "outputs": []
    },
    {
      "cell_type": "code",
      "source": [
        "from sklearn.ensemble import AdaBoostRegressor\n",
        "from sklearn.tree import DecisionTreeRegressor\n",
        "from sklearn.model_selection import GridSearchCV\n",
        "from sklearn import metrics\n",
        "import numpy as np\n",
        "\n",
        "# Create a Decision Tree model to be used as the base estimator for AdaBoost\n",
        "base_estimator = DecisionTreeRegressor()\n",
        "\n",
        "# Define the hyperparameters to search over\n",
        "parameters = {\n",
        "    'base_estimator__max_depth': [1, 2, 3, 4, 5],\n",
        "    'n_estimators': [50, 100, 200],\n",
        "    'learning_rate': [0.01, 0.1, 0.3]\n",
        "}\n",
        "\n",
        "# Create an AdaBoost model\n",
        "ada_model = AdaBoostRegressor(base_estimator=base_estimator, random_state=42)\n",
        "\n",
        "# Use GridSearchCV to search for the best hyperparameters\n",
        "ada_grid = GridSearchCV(estimator=ada_model, param_grid=parameters, cv=5, n_jobs=-1, verbose=1, scoring='neg_mean_squared_error')\n",
        "ada_grid.fit(X_train, y_train)\n",
        "\n",
        "# Print the best hyperparameters and corresponding mean squared error\n",
        "print(f\"Best parameters are {ada_grid.best_params_}\")\n",
        "print(\"Best MSE is {}\".format(ada_grid.best_score_ * -1))\n",
        "\n",
        "# Train a new AdaBoost model using the best hyperparameters\n",
        "ada_model_best = AdaBoostRegressor(base_estimator=base_estimator(max_depth=5), n_estimators=300, learning_rate=0.1, random_state=42)\n",
        "ada_model_best.fit(X_train, y_train)\n",
        "\n",
        "# Evaluate the performance of the new model on the test set\n",
        "ada_prediction_best = ada_model_best.predict(X_test)\n",
        "ada_mse_best = metrics.mean_squared_error(y_test, ada_prediction_best)\n",
        "ada_mae_best = metrics.mean_absolute_error(y_test, ada_prediction_best)\n",
        "ada_rmse_best = np.sqrt(ada_mse_best)\n",
        "ada_r2_best = metrics.r2_score(y_test, ada_prediction_best)\n",
        "\n",
        "# Print the performance metrics for the new model\n",
        "print(\"Mean Squared Error: {}\".format(ada_mse_best))\n",
        "print(\"Mean Absolute Error: {}\".format(ada_mae_best))\n",
        "print(\"Root Mean Absolute Error: {}\".format(ada_rmse_best))\n",
        "print(\"R2 score: {}\".format(ada_r2_best))\n"
      ],
      "metadata": {
        "id": "JJLJWGC4dH1R"
      },
      "execution_count": null,
      "outputs": []
    },
    {
      "cell_type": "code",
      "source": [
        "# modèle plus rapide\n",
        "\n",
        "from sklearn.ensemble import AdaBoostRegressor\n",
        "from sklearn.tree import DecisionTreeRegressor\n",
        "from sklearn.model_selection import GridSearchCV\n",
        "from sklearn import metrics\n",
        "\n",
        "# Create a Decision Tree model to be used as the base estimator for AdaBoost\n",
        "base_estimator = DecisionTreeRegressor()\n",
        "\n",
        "# Define the hyperparameters to search over\n",
        "parameters = {\n",
        "    'base_estimator__max_depth': [3, 4, 5],\n",
        "    'n_estimators': [100, 200, 300],\n",
        "    'learning_rate': [0.1, 0.3, 0.5]\n",
        "}\n",
        "\n",
        "# Create an AdaBoost model\n",
        "ada_model = AdaBoostRegressor(base_estimator=base_estimator, random_state=42)\n",
        "\n",
        "# Use GridSearchCV to search for the best hyperparameters\n",
        "ada_grid = GridSearchCV(estimator=ada_model, param_grid=parameters, cv=5, n_jobs=-1, verbose=1, scoring='neg_mean_squared_error')\n",
        "ada_grid.fit(X_train, y_train)\n",
        "\n",
        "# Print the best hyperparameters and corresponding mean squared error\n",
        "print(f\"Best parameters are {ada_grid.best_params_}\")\n",
        "print(\"Best MSE is {}\".format(ada_grid.best_score_ * -1))\n",
        "\n",
        "# Train a new AdaBoost model using the best hyperparameters\n",
        "ada_model_best = AdaBoostRegressor(base_estimator=DecisionTreeRegressor(max_depth=5), n_estimators=200, learning_rate=0.1, random_state=42)\n",
        "ada_model_best.fit(X_train, y_train)\n",
        "\n",
        "# Evaluate the performance of the new model on the test set\n",
        "ada_prediction_best = ada_model_best.predict(X_test)\n",
        "ada_mse_best = metrics.mean_squared_error(y_test, ada_prediction_best)\n",
        "ada_mae_best = metrics.mean_absolute_error(y_test, ada_prediction_best)\n",
        "ada_rmse_best = np.sqrt(ada_mse_best)\n",
        "ada_r2_best = metrics.r2_score(y_test, ada_prediction_best)\n",
        "\n",
        "# Print the performance metrics for the new model\n",
        "print(\"Mean Squared Error: {}\".format(ada_mse_best))\n",
        "print(\"Mean Absolute Error: {}\".format(ada_mae_best))\n",
        "print(\"Root Mean Absolute Error: {}\".format(ada_rmse_best))\n",
        "print(\"R2 score: {}\".format(ada_r2_best))\n"
      ],
      "metadata": {
        "id": "qSn7oCvsD-3U"
      },
      "execution_count": null,
      "outputs": []
    },
    {
      "cell_type": "code",
      "source": [],
      "metadata": {
        "id": "O22yLrtBJHvM"
      },
      "execution_count": null,
      "outputs": []
    }
  ]
}